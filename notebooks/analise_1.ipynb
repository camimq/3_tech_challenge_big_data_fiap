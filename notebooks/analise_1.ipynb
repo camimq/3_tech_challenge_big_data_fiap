{
  "cells": [
    {
      "cell_type": "markdown",
      "metadata": {},
      "source": [
        "# Importando bibliotecas"
      ]
    },
    {
      "cell_type": "code",
      "execution_count": 1,
      "metadata": {
        "colab": {
          "base_uri": "https://localhost:8080/"
        },
        "id": "_C-wKWHzPPUo",
        "outputId": "e2ac9335-a910-40cc-db3f-8098b01f219a"
      },
      "outputs": [],
      "source": [
        "import pandas as pd\n",
        "import plotly.express as px\n",
        "import matplotlib.pyplot as plt \n",
        "import numpy as np"
      ]
    },
    {
      "cell_type": "markdown",
      "metadata": {},
      "source": [
        "# Cria DataFrame com os dados PNAD & ajusta tabela"
      ]
    },
    {
      "cell_type": "code",
      "execution_count": 2,
      "metadata": {
        "colab": {
          "base_uri": "https://localhost:8080/"
        },
        "id": "WeBKyZyMPMa3",
        "outputId": "e04b1767-4ccf-4504-b518-69db3e3c6779"
      },
      "outputs": [
        {
          "name": "stderr",
          "output_type": "stream",
          "text": [
            "C:\\Users\\cqueiroz\\AppData\\Local\\Temp\\ipykernel_34708\\3168470788.py:2: DtypeWarning: Columns (5,25,30) have mixed types. Specify dtype option on import or set low_memory=False.\n",
            "  df = pd.read_csv(r'C:\\Users\\cqueiroz\\OneDrive - Capgemini\\Documents\\2. docsCamila\\repos2\\3_tech_challenge_big_data_fiap\\bases\\base_tratada_pnad.csv')\n"
          ]
        },
        {
          "data": {
            "text/html": [
              "<div>\n",
              "<style scoped>\n",
              "    .dataframe tbody tr th:only-of-type {\n",
              "        vertical-align: middle;\n",
              "    }\n",
              "\n",
              "    .dataframe tbody tr th {\n",
              "        vertical-align: top;\n",
              "    }\n",
              "\n",
              "    .dataframe thead th {\n",
              "        text-align: right;\n",
              "    }\n",
              "</style>\n",
              "<table border=\"1\" class=\"dataframe\">\n",
              "  <thead>\n",
              "    <tr style=\"text-align: right;\">\n",
              "      <th></th>\n",
              "      <th>ANOMES</th>\n",
              "      <th>ANO_PESQUISA</th>\n",
              "      <th>MES_PESQUISA</th>\n",
              "      <th>SEMANA_MES</th>\n",
              "      <th>UF</th>\n",
              "      <th>CAPITAL</th>\n",
              "      <th>REGIAO_METROPOLITANA</th>\n",
              "      <th>SITU_DOMICILIO</th>\n",
              "      <th>TIPO_AREA</th>\n",
              "      <th>IDADE_MORADOR</th>\n",
              "      <th>...</th>\n",
              "      <th>SE_TEVE_PERDA_PALADAR</th>\n",
              "      <th>SE_TEVE_DOR_MUSCULAR</th>\n",
              "      <th>SE_TEVE_DIARREIA</th>\n",
              "      <th>FOI_AO_MEDICO</th>\n",
              "      <th>FOI_SEDADO_ENTUBADO</th>\n",
              "      <th>TEM_PLANO_SAUDE</th>\n",
              "      <th>QUAL_RESULTADO</th>\n",
              "      <th>MEDIDA_RESTRICAO</th>\n",
              "      <th>TRABALHO_REMOTO</th>\n",
              "      <th>AUXILIO_EMERGENCIAL_COVID</th>\n",
              "    </tr>\n",
              "  </thead>\n",
              "  <tbody>\n",
              "    <tr>\n",
              "      <th>0</th>\n",
              "      <td>202007</td>\n",
              "      <td>2020</td>\n",
              "      <td>7</td>\n",
              "      <td>3</td>\n",
              "      <td>Santa Catarina</td>\n",
              "      <td>NaN</td>\n",
              "      <td>NaN</td>\n",
              "      <td>Urbana</td>\n",
              "      <td>Resto da UF  (Unidade da Federação, excluindo ...</td>\n",
              "      <td>33</td>\n",
              "      <td>...</td>\n",
              "      <td>Não</td>\n",
              "      <td>Não</td>\n",
              "      <td>Não</td>\n",
              "      <td>Não aplicável</td>\n",
              "      <td>Não aplicável</td>\n",
              "      <td>Não</td>\n",
              "      <td>Não aplicável</td>\n",
              "      <td>Ignorado</td>\n",
              "      <td>Não aplicável</td>\n",
              "      <td>Não</td>\n",
              "    </tr>\n",
              "    <tr>\n",
              "      <th>1</th>\n",
              "      <td>202007</td>\n",
              "      <td>2020</td>\n",
              "      <td>7</td>\n",
              "      <td>3</td>\n",
              "      <td>Santa Catarina</td>\n",
              "      <td>NaN</td>\n",
              "      <td>NaN</td>\n",
              "      <td>Urbana</td>\n",
              "      <td>Resto da UF  (Unidade da Federação, excluindo ...</td>\n",
              "      <td>70</td>\n",
              "      <td>...</td>\n",
              "      <td>Ignorado</td>\n",
              "      <td>Ignorado</td>\n",
              "      <td>Ignorado</td>\n",
              "      <td>Não aplicável</td>\n",
              "      <td>Não aplicável</td>\n",
              "      <td>Ignorado</td>\n",
              "      <td>Não aplicável</td>\n",
              "      <td>Ignorado</td>\n",
              "      <td>Não aplicável</td>\n",
              "      <td>Não</td>\n",
              "    </tr>\n",
              "    <tr>\n",
              "      <th>2</th>\n",
              "      <td>202007</td>\n",
              "      <td>2020</td>\n",
              "      <td>7</td>\n",
              "      <td>2</td>\n",
              "      <td>Espírito Santo</td>\n",
              "      <td>NaN</td>\n",
              "      <td>NaN</td>\n",
              "      <td>Urbana</td>\n",
              "      <td>Resto da UF  (Unidade da Federação, excluindo ...</td>\n",
              "      <td>63</td>\n",
              "      <td>...</td>\n",
              "      <td>Não</td>\n",
              "      <td>Não</td>\n",
              "      <td>Não</td>\n",
              "      <td>Não aplicável</td>\n",
              "      <td>Não aplicável</td>\n",
              "      <td>Ignorado</td>\n",
              "      <td>Não aplicável</td>\n",
              "      <td>Ignorado</td>\n",
              "      <td>Não aplicável</td>\n",
              "      <td>Sim</td>\n",
              "    </tr>\n",
              "    <tr>\n",
              "      <th>3</th>\n",
              "      <td>202007</td>\n",
              "      <td>2020</td>\n",
              "      <td>7</td>\n",
              "      <td>3</td>\n",
              "      <td>Minas Gerais</td>\n",
              "      <td>NaN</td>\n",
              "      <td>NaN</td>\n",
              "      <td>Urbana</td>\n",
              "      <td>Resto da UF  (Unidade da Federação, excluindo ...</td>\n",
              "      <td>82</td>\n",
              "      <td>...</td>\n",
              "      <td>Ignorado</td>\n",
              "      <td>Ignorado</td>\n",
              "      <td>Ignorado</td>\n",
              "      <td>Não aplicável</td>\n",
              "      <td>Não aplicável</td>\n",
              "      <td>Ignorado</td>\n",
              "      <td>Não aplicável</td>\n",
              "      <td>Ignorado</td>\n",
              "      <td>Não aplicável</td>\n",
              "      <td>Não</td>\n",
              "    </tr>\n",
              "    <tr>\n",
              "      <th>4</th>\n",
              "      <td>202007</td>\n",
              "      <td>2020</td>\n",
              "      <td>7</td>\n",
              "      <td>4</td>\n",
              "      <td>Ceará</td>\n",
              "      <td>NaN</td>\n",
              "      <td>NaN</td>\n",
              "      <td>Urbana</td>\n",
              "      <td>Resto da UF  (Unidade da Federação, excluindo ...</td>\n",
              "      <td>12</td>\n",
              "      <td>...</td>\n",
              "      <td>Ignorado</td>\n",
              "      <td>Ignorado</td>\n",
              "      <td>Ignorado</td>\n",
              "      <td>Não aplicável</td>\n",
              "      <td>Não aplicável</td>\n",
              "      <td>Ignorado</td>\n",
              "      <td>Não aplicável</td>\n",
              "      <td>Ignorado</td>\n",
              "      <td>Não aplicável</td>\n",
              "      <td>Sim</td>\n",
              "    </tr>\n",
              "  </tbody>\n",
              "</table>\n",
              "<p>5 rows × 33 columns</p>\n",
              "</div>"
            ],
            "text/plain": [
              "   ANOMES  ANO_PESQUISA  MES_PESQUISA  SEMANA_MES              UF CAPITAL  \\\n",
              "0  202007          2020             7           3  Santa Catarina     NaN   \n",
              "1  202007          2020             7           3  Santa Catarina     NaN   \n",
              "2  202007          2020             7           2  Espírito Santo     NaN   \n",
              "3  202007          2020             7           3    Minas Gerais     NaN   \n",
              "4  202007          2020             7           4           Ceará     NaN   \n",
              "\n",
              "  REGIAO_METROPOLITANA SITU_DOMICILIO  \\\n",
              "0                  NaN         Urbana   \n",
              "1                  NaN         Urbana   \n",
              "2                  NaN         Urbana   \n",
              "3                  NaN         Urbana   \n",
              "4                  NaN         Urbana   \n",
              "\n",
              "                                           TIPO_AREA  IDADE_MORADOR  ...  \\\n",
              "0  Resto da UF  (Unidade da Federação, excluindo ...             33  ...   \n",
              "1  Resto da UF  (Unidade da Federação, excluindo ...             70  ...   \n",
              "2  Resto da UF  (Unidade da Federação, excluindo ...             63  ...   \n",
              "3  Resto da UF  (Unidade da Federação, excluindo ...             82  ...   \n",
              "4  Resto da UF  (Unidade da Federação, excluindo ...             12  ...   \n",
              "\n",
              "  SE_TEVE_PERDA_PALADAR SE_TEVE_DOR_MUSCULAR SE_TEVE_DIARREIA  FOI_AO_MEDICO  \\\n",
              "0                  Não                  Não              Não   Não aplicável   \n",
              "1              Ignorado             Ignorado         Ignorado  Não aplicável   \n",
              "2                  Não                  Não              Não   Não aplicável   \n",
              "3              Ignorado             Ignorado         Ignorado  Não aplicável   \n",
              "4              Ignorado             Ignorado         Ignorado  Não aplicável   \n",
              "\n",
              "  FOI_SEDADO_ENTUBADO TEM_PLANO_SAUDE QUAL_RESULTADO MEDIDA_RESTRICAO  \\\n",
              "0       Não aplicável            Não   Não aplicável         Ignorado   \n",
              "1       Não aplicável        Ignorado  Não aplicável         Ignorado   \n",
              "2       Não aplicável        Ignorado  Não aplicável         Ignorado   \n",
              "3       Não aplicável        Ignorado  Não aplicável         Ignorado   \n",
              "4       Não aplicável        Ignorado  Não aplicável         Ignorado   \n",
              "\n",
              "  TRABALHO_REMOTO AUXILIO_EMERGENCIAL_COVID  \n",
              "0   Não aplicável                       Não  \n",
              "1   Não aplicável                       Não  \n",
              "2   Não aplicável                       Sim  \n",
              "3   Não aplicável                       Não  \n",
              "4   Não aplicável                       Sim  \n",
              "\n",
              "[5 rows x 33 columns]"
            ]
          },
          "execution_count": 2,
          "metadata": {},
          "output_type": "execute_result"
        }
      ],
      "source": [
        "# Carregar o arquivo CSV como um DataFrame pandas\n",
        "df = pd.read_csv(r'C:\\Users\\cqueiroz\\OneDrive - Capgemini\\Documents\\2. docsCamila\\repos2\\3_tech_challenge_big_data_fiap\\bases\\base_tratada_pnad.csv')\n",
        "df.head()"
      ]
    },
    {
      "cell_type": "code",
      "execution_count": 3,
      "metadata": {
        "id": "p6cIuDlSfg-R"
      },
      "outputs": [],
      "source": [
        "# Substituir valores nulos nas colunas CAPITAL e REGIAO_METROPOLITANA por \"Não Informado\"\n",
        "df['CAPITAL'].fillna('Não Informado', inplace=True)\n",
        "df['REGIAO_METROPOLITANA'].fillna('Não Informado', inplace=True)\n",
        "\n",
        "# Substituir valores nulos nas colunas MEDIDA_RESTRICAO e SE_TEVE_DIARREIA por \"Ignorado\"\n",
        "df['MEDIDA_RESTRICAO'].fillna('Ignorado', inplace=True)\n",
        "df['SE_TEVE_DIARREIA'].fillna('Ignorado', inplace=True)\n",
        "\n",
        "# Dicionário de mapeamento de estados para regiões\n",
        "mapeamento_regioes = {\n",
        "    'Norte': ['Acre', 'Amapá', 'Amazonas', 'Pará', 'Rondônia', 'Roraima', 'Tocantins'],\n",
        "    'Nordeste': ['Alagoas', 'Bahia', 'Ceará', 'Maranhão', 'Paraíba', 'Pernambuco', 'Piauí', 'Rio Grande do Norte', 'Sergipe'],\n",
        "    'Centro-Oeste': ['Distrito Federal', 'Goiás', 'Mato Grosso', 'Mato Grosso do Sul'],\n",
        "    'Sudeste': ['Espírito Santo', 'Minas Gerais', 'Rio de Janeiro', 'São Paulo'],\n",
        "    'Sul': ['Paraná', 'Rio Grande do Sul', 'Santa Catarina']\n",
        "}\n",
        "\n",
        "# Função para mapear estados para regiões\n",
        "def mapear_regiao(uf):\n",
        "    for regiao, estados in mapeamento_regioes.items():\n",
        "        if uf in estados:\n",
        "            return regiao\n",
        "    return 'Região não especificada'  # Para casos em que a coluna UF está vazia ou não especificada\n",
        "\n",
        "# Criar coluna 'REGIAO' usando a função de mapeamento\n",
        "df['REGIAO'] = df['UF'].apply(mapear_regiao)\n",
        "\n",
        "# Definir as faixas etárias\n",
        "faixas_etarias = [0, 12, 17, 35, 59, 150]  # Faixas etárias para criança, adolescente, jovem, adulto e idoso\n",
        "labels_faixas_etarias = ['Criança', 'Adolescente', 'Jovem', 'Adulto', 'Idoso']\n",
        "\n",
        "# Criar a coluna de faixa etária usando a função pd.cut()\n",
        "df['FAIXA_ETARIA'] = pd.cut(df['IDADE_MORADOR'], bins=faixas_etarias, labels=labels_faixas_etarias, right=False)\n",
        "\n",
        "# Agora você tem uma nova coluna 'FAIXA_ETARIA' no DataFrame 'dados'\n"
      ]
    },
    {
      "cell_type": "code",
      "execution_count": 4,
      "metadata": {
        "colab": {
          "base_uri": "https://localhost:8080/"
        },
        "id": "ZhxAmx7df4Jr",
        "outputId": "8742c53e-0720-4836-e840-11eba85464a3"
      },
      "outputs": [
        {
          "name": "stdout",
          "output_type": "stream",
          "text": [
            "Valores únicos na coluna 'ANOMES':\n",
            "[202007 202006 202005]\n",
            "\n",
            "Valores únicos na coluna 'ANO_PESQUISA':\n",
            "[2020]\n",
            "\n",
            "Valores únicos na coluna 'MES_PESQUISA':\n",
            "[7 6 5]\n",
            "\n",
            "Valores únicos na coluna 'SEMANA_MES':\n",
            "[3 2 4 1]\n",
            "\n",
            "Valores únicos na coluna 'UF':\n",
            "['Santa Catarina' 'Espírito Santo' 'Minas Gerais' 'Ceará' 'Rondônia'\n",
            " 'Mato Grosso do Sul' 'Pernambuco' 'Pará' 'Maranhão' 'Alagoas' 'Amapá'\n",
            " 'Tocantins' 'Rio de Janeiro' 'São Paulo' 'Paraná' 'Rio Grande do Sul'\n",
            " 'Mato Grosso' 'Roraima' 'Rio Grande do Norte' 'Goiás' 'Paraíba'\n",
            " 'Amazonas' 'Sergipe' 'Bahia' 'Acre' 'Piauí' 'Distrito Federal']\n",
            "\n",
            "Valores únicos na coluna 'CAPITAL':\n",
            "['Não Informado' 'Município de Natal (RN)' 'Município de Belém (PA)'\n",
            " 'Município de Manaus (AM)' 'Município de Palmas (TO)'\n",
            " 'Município de Recife (PE)' 'Município de Aracaju (SE)'\n",
            " 'Município de Cuiabá (MT)' 'Município de Macapá (AP)'\n",
            " 'Município de Maceió (AL)' 'Município de Curitiba (PR)'\n",
            " 'Município de Goiânia (GO)' 'Município de Salvador (BA)'\n",
            " 'Município de Teresina (PI)' 'Município de Vitória (ES)'\n",
            " 'Município de Boa Vista (RR)' 'Município de Brasília (DF)'\n",
            " 'Município de Fortaleza (CE)' 'Município de Rio Branco (AC)'\n",
            " 'Município de São Luís (MA)' 'Município de São Paulo (SP)'\n",
            " 'Município de Porto Velho (RO)' 'Município de Campo Grande (MS)'\n",
            " 'Município de João Pessoa (PB)' 'Município de Porto Alegre (RS)'\n",
            " 'Município de Belo Horizonte (MG)' 'Município de Florianópolis (SC)'\n",
            " 'Município de Rio de Janeiro (RJ)']\n",
            "\n",
            "Valores únicos na coluna 'REGIAO_METROPOLITANA':\n",
            "['Não Informado' 'Região Metropolitana de Florianópolis (SC)'\n",
            " 'Região Metropolitana de Grande Vitória (ES)'\n",
            " 'Região Metropolitana de Belém (PA)'\n",
            " 'Região Metropolitana de Grande SãoLuís (MA)'\n",
            " 'Região Metropolitana de Macapá (AP)'\n",
            " 'Região Metropolitana de São Paulo (SP)'\n",
            " 'Região Metropolitana de Vale do Rio Cuiabá (MT)'\n",
            " 'Região Metropolitana de Fortaleza (CE)'\n",
            " 'Região Metropolitana de Rio de Janeiro (RJ)'\n",
            " 'Região Metropolitana de Recife (PE)'\n",
            " 'Região Metropolitana de João Pessoa (PB)'\n",
            " 'Região Metropolitana de Manaus (AM)'\n",
            " 'Região Metropolitana de Natal (RN)'\n",
            " 'Região Metropolitana de Salvador (BA)'\n",
            " 'Região Metropolitana de Porto Alegre (RS)'\n",
            " 'Região Metropolitana de Curitiba (PR)'\n",
            " 'Região Metropolitana de Belo Horizonte (MG)'\n",
            " 'Região Metropolitana de Goiânia (GO)'\n",
            " 'Região Metropolitana de Aracaju (SE)'\n",
            " 'Região Metropolitana de Maceió (AL)'\n",
            " 'Região Administrativa Integrada de Desenvolvimento da Grande Teresina (PI)']\n",
            "\n",
            "Valores únicos na coluna 'SITU_DOMICILIO':\n",
            "['Urbana' 'Rural']\n",
            "\n",
            "Valores únicos na coluna 'TIPO_AREA':\n",
            "['Resto da UF  (Unidade da Federação, excluindo a região metropolitana e a RIDE)'\n",
            " 'Resto da RM (Região Metropolitana, excluindo a capital)'\n",
            " 'Resto da RIDE (Região Integrada de Desenvolvimento Econômico, excluindo a capital)'\n",
            " 'Capital']\n",
            "\n",
            "Valores únicos na coluna 'IDADE_MORADOR':\n",
            "[ 33  70  63  82  12  19  43   1  50  11  73  58  41  55   8  20   3   4\n",
            "  59  18  21  45  60  23  14  38  71  54  46   6  65  52  13  56  27  29\n",
            "  34  69  47  28  48  16  37  87  35  44  15  39  64  40  74  36  17  31\n",
            "  72  25  88   5  76  68  89   0   7  24   2  10  32   9  53  49  57  81\n",
            "  42  22  93  80  51  26  97  78  61  75  30  85  62  83  67  92  66  77\n",
            "  79  91  84 100  86  95  90  96  94  98 105  99 103 101 102 104 106 107\n",
            " 111 109 110 108]\n",
            "\n",
            "Valores únicos na coluna 'SEXO':\n",
            "['Homem' 'Mulher']\n",
            "\n",
            "Valores únicos na coluna 'COR_RACA':\n",
            "['Branca' 'Preta' 'Parda' 'Amarela' 'Indígena' 'Ignorado']\n",
            "\n",
            "Valores únicos na coluna 'ESCOLARIDADE':\n",
            "['Médio completo' 'Superior completo' 'Fundamental incompleto'\n",
            " 'Médio incompleto' 'Sem instrução' 'Fundamental completa'\n",
            " 'Superior incompleto' 'Pós-graduação, mestrado ou doutorado']\n",
            "\n",
            "Valores únicos na coluna 'SE_TEVE_FEBRE':\n",
            "['Não ' 'Ignorado' 'Não sabe' 'Sim']\n",
            "\n",
            "Valores únicos na coluna 'SE_TEVE_TOSSE':\n",
            "['Não ' 'Ignorado' 'Não sabe' 'Sim']\n",
            "\n",
            "Valores únicos na coluna 'SE_TEVE_DOR_GARGANTA':\n",
            "['Não ' 'Ignorado' 'Não sabe' 'Sim']\n",
            "\n",
            "Valores únicos na coluna 'SE_TEVE_FALTA_AR':\n",
            "['Não ' 'Ignorado' 'Não sabe' 'Sim']\n",
            "\n",
            "Valores únicos na coluna 'SE_TEVE_DOR_CABECA':\n",
            "['Não ' 'Ignorado' 'Não sabe' 'Sim']\n",
            "\n",
            "Valores únicos na coluna 'SE_TEVE_DOR_PEITO':\n",
            "['Não ' 'Ignorado' 'Não sabe' 'Sim']\n",
            "\n",
            "Valores únicos na coluna 'SE_TEVE_NAUSEA':\n",
            "['Não ' 'Ignorado' 'Não sabe' 'Sim']\n",
            "\n",
            "Valores únicos na coluna 'SE_TEVE_NARIZ_ENTUPIDO':\n",
            "['Não ' 'Ignorado' 'Não sabe' 'Sim']\n",
            "\n",
            "Valores únicos na coluna 'SE_TEVE_FADIGA':\n",
            "['Não ' 'Ignorado' 'Não sabe' 'Sim']\n",
            "\n",
            "Valores únicos na coluna 'SE_TEVE_DOR_OLHOS':\n",
            "['Não ' 'Ignorado' 'Não sabe' 'Sim']\n",
            "\n",
            "Valores únicos na coluna 'SE_TEVE_PERDA_PALADAR':\n",
            "['Não ' 'Ignorado' 'Não sabe' 'Sim']\n",
            "\n",
            "Valores únicos na coluna 'SE_TEVE_DOR_MUSCULAR':\n",
            "['Não ' 'Ignorado' 'Não sabe' 'Sim']\n",
            "\n",
            "Valores únicos na coluna 'SE_TEVE_DIARREIA':\n",
            "['Não ' 'Ignorado' 'Não sabe' 'Sim']\n",
            "\n",
            "Valores únicos na coluna 'FOI_AO_MEDICO':\n",
            "['Não aplicável' 'Não ' 'Sim' 'Ignorado']\n",
            "\n",
            "Valores únicos na coluna 'FOI_SEDADO_ENTUBADO':\n",
            "['Não aplicável' 'Não ' 'Sim' 'Ignorado']\n",
            "\n",
            "Valores únicos na coluna 'TEM_PLANO_SAUDE':\n",
            "['Não ' 'Ignorado' 'Sim']\n",
            "\n",
            "Valores únicos na coluna 'QUAL_RESULTADO':\n",
            "['Não aplicável' 'Negativo' 'Positivo' 'Ainda não recebeu o resultado'\n",
            " 'Inconclusivo']\n",
            "\n",
            "Valores únicos na coluna 'MEDIDA_RESTRICAO':\n",
            "['Ignorado' 'Não aplicável' 'Ficou rigorosamente em casa'\n",
            " 'Ficou em casa e só saiu em caso de necessidade básica'\n",
            " 'Não fez restrição, levou vida normal como antes da pandemia'\n",
            " 'Reduziu o contato com as pessoas, mas continuou saindo de casa para trabalho ou atividades não essenciais e/ou recebendo visitas']\n",
            "\n",
            "Valores únicos na coluna 'TRABALHO_REMOTO':\n",
            "['Não aplicável' 'Sim' 'Não']\n",
            "\n",
            "Valores únicos na coluna 'AUXILIO_EMERGENCIAL_COVID':\n",
            "['Não' 'Sim']\n",
            "\n",
            "Valores únicos na coluna 'REGIAO':\n",
            "['Sul' 'Sudeste' 'Nordeste' 'Norte' 'Centro-Oeste']\n",
            "\n",
            "Valores únicos na coluna 'FAIXA_ETARIA':\n",
            "['Jovem', 'Idoso', 'Adolescente', 'Adulto', 'Criança']\n",
            "Categories (5, object): ['Criança' < 'Adolescente' < 'Jovem' < 'Adulto' < 'Idoso']\n",
            "\n"
          ]
        }
      ],
      "source": [
        "for column in df.columns:\n",
        "    unique_values = df[column].unique()\n",
        "    print(f\"Valores únicos na coluna '{column}':\")\n",
        "    print(unique_values)\n",
        "    print()"
      ]
    },
    {
      "cell_type": "code",
      "execution_count": 5,
      "metadata": {
        "colab": {
          "base_uri": "https://localhost:8080/"
        },
        "id": "FaM7MXIWgDxk",
        "outputId": "305da09d-deb7-4866-d106-22a351953198"
      },
      "outputs": [
        {
          "name": "stdout",
          "output_type": "stream",
          "text": [
            "ANOMES\n",
            "ANO_PESQUISA\n",
            "MES_PESQUISA\n",
            "SEMANA_MES\n",
            "UF\n",
            "CAPITAL\n",
            "REGIAO_METROPOLITANA\n",
            "SITU_DOMICILIO\n",
            "TIPO_AREA\n",
            "IDADE_MORADOR\n",
            "SEXO\n",
            "COR_RACA\n",
            "ESCOLARIDADE\n",
            "SE_TEVE_FEBRE\n",
            "SE_TEVE_TOSSE\n",
            "SE_TEVE_DOR_GARGANTA\n",
            "SE_TEVE_FALTA_AR\n",
            "SE_TEVE_DOR_CABECA\n",
            "SE_TEVE_DOR_PEITO\n",
            "SE_TEVE_NAUSEA\n",
            "SE_TEVE_NARIZ_ENTUPIDO\n",
            "SE_TEVE_FADIGA\n",
            "SE_TEVE_DOR_OLHOS\n",
            "SE_TEVE_PERDA_PALADAR\n",
            "SE_TEVE_DOR_MUSCULAR\n",
            "SE_TEVE_DIARREIA\n",
            "FOI_AO_MEDICO\n",
            "FOI_SEDADO_ENTUBADO\n",
            "TEM_PLANO_SAUDE\n",
            "QUAL_RESULTADO\n",
            "MEDIDA_RESTRICAO\n",
            "TRABALHO_REMOTO\n",
            "AUXILIO_EMERGENCIAL_COVID\n",
            "REGIAO\n",
            "FAIXA_ETARIA\n"
          ]
        }
      ],
      "source": [
        "for column in df.columns:\n",
        "    unique_values = df[column].unique()\n",
        "    print(f\"{column}\")"
      ]
    },
    {
      "cell_type": "code",
      "execution_count": 6,
      "metadata": {},
      "outputs": [
        {
          "data": {
            "text/html": [
              "<div>\n",
              "<style scoped>\n",
              "    .dataframe tbody tr th:only-of-type {\n",
              "        vertical-align: middle;\n",
              "    }\n",
              "\n",
              "    .dataframe tbody tr th {\n",
              "        vertical-align: top;\n",
              "    }\n",
              "\n",
              "    .dataframe thead th {\n",
              "        text-align: right;\n",
              "    }\n",
              "</style>\n",
              "<table border=\"1\" class=\"dataframe\">\n",
              "  <thead>\n",
              "    <tr style=\"text-align: right;\">\n",
              "      <th></th>\n",
              "      <th>ANOMES</th>\n",
              "      <th>ANO_PESQUISA</th>\n",
              "      <th>MES_PESQUISA</th>\n",
              "      <th>SEMANA_MES</th>\n",
              "      <th>UF</th>\n",
              "      <th>CAPITAL</th>\n",
              "      <th>REGIAO_METROPOLITANA</th>\n",
              "      <th>SITU_DOMICILIO</th>\n",
              "      <th>TIPO_AREA</th>\n",
              "      <th>IDADE_MORADOR</th>\n",
              "      <th>...</th>\n",
              "      <th>SE_TEVE_DIARREIA</th>\n",
              "      <th>FOI_AO_MEDICO</th>\n",
              "      <th>FOI_SEDADO_ENTUBADO</th>\n",
              "      <th>TEM_PLANO_SAUDE</th>\n",
              "      <th>QUAL_RESULTADO</th>\n",
              "      <th>MEDIDA_RESTRICAO</th>\n",
              "      <th>TRABALHO_REMOTO</th>\n",
              "      <th>AUXILIO_EMERGENCIAL_COVID</th>\n",
              "      <th>REGIAO</th>\n",
              "      <th>FAIXA_ETARIA</th>\n",
              "    </tr>\n",
              "  </thead>\n",
              "  <tbody>\n",
              "    <tr>\n",
              "      <th>0</th>\n",
              "      <td>202007</td>\n",
              "      <td>2020</td>\n",
              "      <td>7</td>\n",
              "      <td>3</td>\n",
              "      <td>Santa Catarina</td>\n",
              "      <td>Não Informado</td>\n",
              "      <td>Não Informado</td>\n",
              "      <td>Urbana</td>\n",
              "      <td>Resto da UF  (Unidade da Federação, excluindo ...</td>\n",
              "      <td>33</td>\n",
              "      <td>...</td>\n",
              "      <td>Não</td>\n",
              "      <td>Não aplicável</td>\n",
              "      <td>Não aplicável</td>\n",
              "      <td>Não</td>\n",
              "      <td>Não aplicável</td>\n",
              "      <td>Ignorado</td>\n",
              "      <td>Não aplicável</td>\n",
              "      <td>Não</td>\n",
              "      <td>Sul</td>\n",
              "      <td>Jovem</td>\n",
              "    </tr>\n",
              "  </tbody>\n",
              "</table>\n",
              "<p>1 rows × 35 columns</p>\n",
              "</div>"
            ],
            "text/plain": [
              "   ANOMES  ANO_PESQUISA  MES_PESQUISA  SEMANA_MES              UF  \\\n",
              "0  202007          2020             7           3  Santa Catarina   \n",
              "\n",
              "         CAPITAL REGIAO_METROPOLITANA SITU_DOMICILIO  \\\n",
              "0  Não Informado        Não Informado         Urbana   \n",
              "\n",
              "                                           TIPO_AREA  IDADE_MORADOR  ...  \\\n",
              "0  Resto da UF  (Unidade da Federação, excluindo ...             33  ...   \n",
              "\n",
              "  SE_TEVE_DIARREIA  FOI_AO_MEDICO FOI_SEDADO_ENTUBADO TEM_PLANO_SAUDE  \\\n",
              "0             Não   Não aplicável       Não aplicável            Não    \n",
              "\n",
              "  QUAL_RESULTADO MEDIDA_RESTRICAO TRABALHO_REMOTO AUXILIO_EMERGENCIAL_COVID  \\\n",
              "0  Não aplicável         Ignorado   Não aplicável                       Não   \n",
              "\n",
              "  REGIAO FAIXA_ETARIA  \n",
              "0    Sul        Jovem  \n",
              "\n",
              "[1 rows x 35 columns]"
            ]
          },
          "execution_count": 6,
          "metadata": {},
          "output_type": "execute_result"
        }
      ],
      "source": [
        "df.head(1)"
      ]
    },
    {
      "cell_type": "code",
      "execution_count": 7,
      "metadata": {},
      "outputs": [
        {
          "name": "stdout",
          "output_type": "stream",
          "text": [
            "<class 'pandas.core.frame.DataFrame'>\n",
            "RangeIndex: 920688 entries, 0 to 920687\n",
            "Data columns (total 35 columns):\n",
            " #   Column                     Non-Null Count   Dtype   \n",
            "---  ------                     --------------   -----   \n",
            " 0   ANOMES                     920688 non-null  int64   \n",
            " 1   ANO_PESQUISA               920688 non-null  int64   \n",
            " 2   MES_PESQUISA               920688 non-null  int64   \n",
            " 3   SEMANA_MES                 920688 non-null  int64   \n",
            " 4   UF                         920688 non-null  object  \n",
            " 5   CAPITAL                    920688 non-null  object  \n",
            " 6   REGIAO_METROPOLITANA       920688 non-null  object  \n",
            " 7   SITU_DOMICILIO             920688 non-null  object  \n",
            " 8   TIPO_AREA                  920688 non-null  object  \n",
            " 9   IDADE_MORADOR              920688 non-null  int64   \n",
            " 10  SEXO                       920688 non-null  object  \n",
            " 11  COR_RACA                   920688 non-null  object  \n",
            " 12  ESCOLARIDADE               920688 non-null  object  \n",
            " 13  SE_TEVE_FEBRE              920688 non-null  object  \n",
            " 14  SE_TEVE_TOSSE              920688 non-null  object  \n",
            " 15  SE_TEVE_DOR_GARGANTA       920688 non-null  object  \n",
            " 16  SE_TEVE_FALTA_AR           920688 non-null  object  \n",
            " 17  SE_TEVE_DOR_CABECA         920688 non-null  object  \n",
            " 18  SE_TEVE_DOR_PEITO          920688 non-null  object  \n",
            " 19  SE_TEVE_NAUSEA             920688 non-null  object  \n",
            " 20  SE_TEVE_NARIZ_ENTUPIDO     920688 non-null  object  \n",
            " 21  SE_TEVE_FADIGA             920688 non-null  object  \n",
            " 22  SE_TEVE_DOR_OLHOS          920688 non-null  object  \n",
            " 23  SE_TEVE_PERDA_PALADAR      920688 non-null  object  \n",
            " 24  SE_TEVE_DOR_MUSCULAR       920688 non-null  object  \n",
            " 25  SE_TEVE_DIARREIA           920688 non-null  object  \n",
            " 26  FOI_AO_MEDICO              920688 non-null  object  \n",
            " 27  FOI_SEDADO_ENTUBADO        920688 non-null  object  \n",
            " 28  TEM_PLANO_SAUDE            920688 non-null  object  \n",
            " 29  QUAL_RESULTADO             920688 non-null  object  \n",
            " 30  MEDIDA_RESTRICAO           920688 non-null  object  \n",
            " 31  TRABALHO_REMOTO            920688 non-null  object  \n",
            " 32  AUXILIO_EMERGENCIAL_COVID  920688 non-null  object  \n",
            " 33  REGIAO                     920688 non-null  object  \n",
            " 34  FAIXA_ETARIA               920688 non-null  category\n",
            "dtypes: category(1), int64(5), object(29)\n",
            "memory usage: 239.7+ MB\n"
          ]
        }
      ],
      "source": [
        "df.info()"
      ]
    },
    {
      "cell_type": "markdown",
      "metadata": {
        "id": "kF2vG2SYf_cG"
      },
      "source": [
        "# Gerando Graficos\n"
      ]
    },
    {
      "cell_type": "code",
      "execution_count": 8,
      "metadata": {
        "id": "VRB5SedIgfkM"
      },
      "outputs": [],
      "source": [
        "def plot_bar(df, x, dict_map={}, title=None, top_n=None):\n",
        "    \n",
        "    # Calcula as contagens e porcentagens\n",
        "    counts = df[x].value_counts(normalize=True) * 100\n",
        "\n",
        "    # Seleciona as top_n categorias mais comuns, se especificado\n",
        "    if top_n is not None:\n",
        "        counts = counts.head(top_n)\n",
        "\n",
        "    # Aplica o mapeamento, se fornecido\n",
        "    if dict_map:\n",
        "        counts.index = counts.index.map(dict_map)\n",
        "\n",
        "    # Cria o DataFrame para plotagem\n",
        "    data = pd.DataFrame({'x': counts.index, 'percent': counts.values})\n",
        "\n",
        "    # Plotagem com Plotly\n",
        "    fig = px.bar(data, x='x', y='percent', text='percent', color='x', labels={'x': x, 'percent': 'Porcentagem'})\n",
        "    fig.update_traces(texttemplate='%{text:.2f}%', textposition='outside')\n",
        "    fig.update_layout(title=title if title else f'Distribuição de Casos Por {x}', xaxis_title=None, yaxis_title='Porcentagem')\n",
        "    fig.show()\n"
      ]
    },
    {
      "cell_type": "code",
      "execution_count": 9,
      "metadata": {
        "colab": {
          "base_uri": "https://localhost:8080/",
          "height": 542
        },
        "id": "kORvbLhZh--h",
        "outputId": "4410f91c-e37d-4c00-c1cc-afc934f59193"
      },
      "outputs": [
        {
          "data": {
            "application/vnd.plotly.v1+json": {
              "config": {
                "plotlyServerURL": "https://plot.ly"
              },
              "data": [
                {
                  "alignmentgroup": "True",
                  "hovertemplate": "REGIAO=%{x}<br>Porcentagem=%{text}<extra></extra>",
                  "legendgroup": "Nordeste",
                  "marker": {
                    "color": "#636efa",
                    "pattern": {
                      "shape": ""
                    }
                  },
                  "name": "Nordeste",
                  "offsetgroup": "Nordeste",
                  "orientation": "v",
                  "showlegend": true,
                  "text": [
                    29.999413482091654
                  ],
                  "textposition": "outside",
                  "texttemplate": "%{text:.2f}%",
                  "type": "bar",
                  "x": [
                    "Nordeste"
                  ],
                  "xaxis": "x",
                  "y": [
                    29.999413482091654
                  ],
                  "yaxis": "y"
                },
                {
                  "alignmentgroup": "True",
                  "hovertemplate": "REGIAO=%{x}<br>Porcentagem=%{text}<extra></extra>",
                  "legendgroup": "Sudeste",
                  "marker": {
                    "color": "#EF553B",
                    "pattern": {
                      "shape": ""
                    }
                  },
                  "name": "Sudeste",
                  "offsetgroup": "Sudeste",
                  "orientation": "v",
                  "showlegend": true,
                  "text": [
                    29.50662982465287
                  ],
                  "textposition": "outside",
                  "texttemplate": "%{text:.2f}%",
                  "type": "bar",
                  "x": [
                    "Sudeste"
                  ],
                  "xaxis": "x",
                  "y": [
                    29.50662982465287
                  ],
                  "yaxis": "y"
                },
                {
                  "alignmentgroup": "True",
                  "hovertemplate": "REGIAO=%{x}<br>Porcentagem=%{text}<extra></extra>",
                  "legendgroup": "Sul",
                  "marker": {
                    "color": "#00cc96",
                    "pattern": {
                      "shape": ""
                    }
                  },
                  "name": "Sul",
                  "offsetgroup": "Sul",
                  "orientation": "v",
                  "showlegend": true,
                  "text": [
                    16.130437238239228
                  ],
                  "textposition": "outside",
                  "texttemplate": "%{text:.2f}%",
                  "type": "bar",
                  "x": [
                    "Sul"
                  ],
                  "xaxis": "x",
                  "y": [
                    16.130437238239228
                  ],
                  "yaxis": "y"
                },
                {
                  "alignmentgroup": "True",
                  "hovertemplate": "REGIAO=%{x}<br>Porcentagem=%{text}<extra></extra>",
                  "legendgroup": "Norte",
                  "marker": {
                    "color": "#ab63fa",
                    "pattern": {
                      "shape": ""
                    }
                  },
                  "name": "Norte",
                  "offsetgroup": "Norte",
                  "orientation": "v",
                  "showlegend": true,
                  "text": [
                    12.83377213562032
                  ],
                  "textposition": "outside",
                  "texttemplate": "%{text:.2f}%",
                  "type": "bar",
                  "x": [
                    "Norte"
                  ],
                  "xaxis": "x",
                  "y": [
                    12.83377213562032
                  ],
                  "yaxis": "y"
                },
                {
                  "alignmentgroup": "True",
                  "hovertemplate": "REGIAO=%{x}<br>Porcentagem=%{text}<extra></extra>",
                  "legendgroup": "Centro-Oeste",
                  "marker": {
                    "color": "#FFA15A",
                    "pattern": {
                      "shape": ""
                    }
                  },
                  "name": "Centro-Oeste",
                  "offsetgroup": "Centro-Oeste",
                  "orientation": "v",
                  "showlegend": true,
                  "text": [
                    11.52974731939593
                  ],
                  "textposition": "outside",
                  "texttemplate": "%{text:.2f}%",
                  "type": "bar",
                  "x": [
                    "Centro-Oeste"
                  ],
                  "xaxis": "x",
                  "y": [
                    11.52974731939593
                  ],
                  "yaxis": "y"
                }
              ],
              "layout": {
                "barmode": "relative",
                "legend": {
                  "title": {
                    "text": "REGIAO"
                  },
                  "tracegroupgap": 0
                },
                "margin": {
                  "t": 60
                },
                "template": {
                  "data": {
                    "bar": [
                      {
                        "error_x": {
                          "color": "#2a3f5f"
                        },
                        "error_y": {
                          "color": "#2a3f5f"
                        },
                        "marker": {
                          "line": {
                            "color": "#E5ECF6",
                            "width": 0.5
                          },
                          "pattern": {
                            "fillmode": "overlay",
                            "size": 10,
                            "solidity": 0.2
                          }
                        },
                        "type": "bar"
                      }
                    ],
                    "barpolar": [
                      {
                        "marker": {
                          "line": {
                            "color": "#E5ECF6",
                            "width": 0.5
                          },
                          "pattern": {
                            "fillmode": "overlay",
                            "size": 10,
                            "solidity": 0.2
                          }
                        },
                        "type": "barpolar"
                      }
                    ],
                    "carpet": [
                      {
                        "aaxis": {
                          "endlinecolor": "#2a3f5f",
                          "gridcolor": "white",
                          "linecolor": "white",
                          "minorgridcolor": "white",
                          "startlinecolor": "#2a3f5f"
                        },
                        "baxis": {
                          "endlinecolor": "#2a3f5f",
                          "gridcolor": "white",
                          "linecolor": "white",
                          "minorgridcolor": "white",
                          "startlinecolor": "#2a3f5f"
                        },
                        "type": "carpet"
                      }
                    ],
                    "choropleth": [
                      {
                        "colorbar": {
                          "outlinewidth": 0,
                          "ticks": ""
                        },
                        "type": "choropleth"
                      }
                    ],
                    "contour": [
                      {
                        "colorbar": {
                          "outlinewidth": 0,
                          "ticks": ""
                        },
                        "colorscale": [
                          [
                            0,
                            "#0d0887"
                          ],
                          [
                            0.1111111111111111,
                            "#46039f"
                          ],
                          [
                            0.2222222222222222,
                            "#7201a8"
                          ],
                          [
                            0.3333333333333333,
                            "#9c179e"
                          ],
                          [
                            0.4444444444444444,
                            "#bd3786"
                          ],
                          [
                            0.5555555555555556,
                            "#d8576b"
                          ],
                          [
                            0.6666666666666666,
                            "#ed7953"
                          ],
                          [
                            0.7777777777777778,
                            "#fb9f3a"
                          ],
                          [
                            0.8888888888888888,
                            "#fdca26"
                          ],
                          [
                            1,
                            "#f0f921"
                          ]
                        ],
                        "type": "contour"
                      }
                    ],
                    "contourcarpet": [
                      {
                        "colorbar": {
                          "outlinewidth": 0,
                          "ticks": ""
                        },
                        "type": "contourcarpet"
                      }
                    ],
                    "heatmap": [
                      {
                        "colorbar": {
                          "outlinewidth": 0,
                          "ticks": ""
                        },
                        "colorscale": [
                          [
                            0,
                            "#0d0887"
                          ],
                          [
                            0.1111111111111111,
                            "#46039f"
                          ],
                          [
                            0.2222222222222222,
                            "#7201a8"
                          ],
                          [
                            0.3333333333333333,
                            "#9c179e"
                          ],
                          [
                            0.4444444444444444,
                            "#bd3786"
                          ],
                          [
                            0.5555555555555556,
                            "#d8576b"
                          ],
                          [
                            0.6666666666666666,
                            "#ed7953"
                          ],
                          [
                            0.7777777777777778,
                            "#fb9f3a"
                          ],
                          [
                            0.8888888888888888,
                            "#fdca26"
                          ],
                          [
                            1,
                            "#f0f921"
                          ]
                        ],
                        "type": "heatmap"
                      }
                    ],
                    "heatmapgl": [
                      {
                        "colorbar": {
                          "outlinewidth": 0,
                          "ticks": ""
                        },
                        "colorscale": [
                          [
                            0,
                            "#0d0887"
                          ],
                          [
                            0.1111111111111111,
                            "#46039f"
                          ],
                          [
                            0.2222222222222222,
                            "#7201a8"
                          ],
                          [
                            0.3333333333333333,
                            "#9c179e"
                          ],
                          [
                            0.4444444444444444,
                            "#bd3786"
                          ],
                          [
                            0.5555555555555556,
                            "#d8576b"
                          ],
                          [
                            0.6666666666666666,
                            "#ed7953"
                          ],
                          [
                            0.7777777777777778,
                            "#fb9f3a"
                          ],
                          [
                            0.8888888888888888,
                            "#fdca26"
                          ],
                          [
                            1,
                            "#f0f921"
                          ]
                        ],
                        "type": "heatmapgl"
                      }
                    ],
                    "histogram": [
                      {
                        "marker": {
                          "pattern": {
                            "fillmode": "overlay",
                            "size": 10,
                            "solidity": 0.2
                          }
                        },
                        "type": "histogram"
                      }
                    ],
                    "histogram2d": [
                      {
                        "colorbar": {
                          "outlinewidth": 0,
                          "ticks": ""
                        },
                        "colorscale": [
                          [
                            0,
                            "#0d0887"
                          ],
                          [
                            0.1111111111111111,
                            "#46039f"
                          ],
                          [
                            0.2222222222222222,
                            "#7201a8"
                          ],
                          [
                            0.3333333333333333,
                            "#9c179e"
                          ],
                          [
                            0.4444444444444444,
                            "#bd3786"
                          ],
                          [
                            0.5555555555555556,
                            "#d8576b"
                          ],
                          [
                            0.6666666666666666,
                            "#ed7953"
                          ],
                          [
                            0.7777777777777778,
                            "#fb9f3a"
                          ],
                          [
                            0.8888888888888888,
                            "#fdca26"
                          ],
                          [
                            1,
                            "#f0f921"
                          ]
                        ],
                        "type": "histogram2d"
                      }
                    ],
                    "histogram2dcontour": [
                      {
                        "colorbar": {
                          "outlinewidth": 0,
                          "ticks": ""
                        },
                        "colorscale": [
                          [
                            0,
                            "#0d0887"
                          ],
                          [
                            0.1111111111111111,
                            "#46039f"
                          ],
                          [
                            0.2222222222222222,
                            "#7201a8"
                          ],
                          [
                            0.3333333333333333,
                            "#9c179e"
                          ],
                          [
                            0.4444444444444444,
                            "#bd3786"
                          ],
                          [
                            0.5555555555555556,
                            "#d8576b"
                          ],
                          [
                            0.6666666666666666,
                            "#ed7953"
                          ],
                          [
                            0.7777777777777778,
                            "#fb9f3a"
                          ],
                          [
                            0.8888888888888888,
                            "#fdca26"
                          ],
                          [
                            1,
                            "#f0f921"
                          ]
                        ],
                        "type": "histogram2dcontour"
                      }
                    ],
                    "mesh3d": [
                      {
                        "colorbar": {
                          "outlinewidth": 0,
                          "ticks": ""
                        },
                        "type": "mesh3d"
                      }
                    ],
                    "parcoords": [
                      {
                        "line": {
                          "colorbar": {
                            "outlinewidth": 0,
                            "ticks": ""
                          }
                        },
                        "type": "parcoords"
                      }
                    ],
                    "pie": [
                      {
                        "automargin": true,
                        "type": "pie"
                      }
                    ],
                    "scatter": [
                      {
                        "fillpattern": {
                          "fillmode": "overlay",
                          "size": 10,
                          "solidity": 0.2
                        },
                        "type": "scatter"
                      }
                    ],
                    "scatter3d": [
                      {
                        "line": {
                          "colorbar": {
                            "outlinewidth": 0,
                            "ticks": ""
                          }
                        },
                        "marker": {
                          "colorbar": {
                            "outlinewidth": 0,
                            "ticks": ""
                          }
                        },
                        "type": "scatter3d"
                      }
                    ],
                    "scattercarpet": [
                      {
                        "marker": {
                          "colorbar": {
                            "outlinewidth": 0,
                            "ticks": ""
                          }
                        },
                        "type": "scattercarpet"
                      }
                    ],
                    "scattergeo": [
                      {
                        "marker": {
                          "colorbar": {
                            "outlinewidth": 0,
                            "ticks": ""
                          }
                        },
                        "type": "scattergeo"
                      }
                    ],
                    "scattergl": [
                      {
                        "marker": {
                          "colorbar": {
                            "outlinewidth": 0,
                            "ticks": ""
                          }
                        },
                        "type": "scattergl"
                      }
                    ],
                    "scattermapbox": [
                      {
                        "marker": {
                          "colorbar": {
                            "outlinewidth": 0,
                            "ticks": ""
                          }
                        },
                        "type": "scattermapbox"
                      }
                    ],
                    "scatterpolar": [
                      {
                        "marker": {
                          "colorbar": {
                            "outlinewidth": 0,
                            "ticks": ""
                          }
                        },
                        "type": "scatterpolar"
                      }
                    ],
                    "scatterpolargl": [
                      {
                        "marker": {
                          "colorbar": {
                            "outlinewidth": 0,
                            "ticks": ""
                          }
                        },
                        "type": "scatterpolargl"
                      }
                    ],
                    "scatterternary": [
                      {
                        "marker": {
                          "colorbar": {
                            "outlinewidth": 0,
                            "ticks": ""
                          }
                        },
                        "type": "scatterternary"
                      }
                    ],
                    "surface": [
                      {
                        "colorbar": {
                          "outlinewidth": 0,
                          "ticks": ""
                        },
                        "colorscale": [
                          [
                            0,
                            "#0d0887"
                          ],
                          [
                            0.1111111111111111,
                            "#46039f"
                          ],
                          [
                            0.2222222222222222,
                            "#7201a8"
                          ],
                          [
                            0.3333333333333333,
                            "#9c179e"
                          ],
                          [
                            0.4444444444444444,
                            "#bd3786"
                          ],
                          [
                            0.5555555555555556,
                            "#d8576b"
                          ],
                          [
                            0.6666666666666666,
                            "#ed7953"
                          ],
                          [
                            0.7777777777777778,
                            "#fb9f3a"
                          ],
                          [
                            0.8888888888888888,
                            "#fdca26"
                          ],
                          [
                            1,
                            "#f0f921"
                          ]
                        ],
                        "type": "surface"
                      }
                    ],
                    "table": [
                      {
                        "cells": {
                          "fill": {
                            "color": "#EBF0F8"
                          },
                          "line": {
                            "color": "white"
                          }
                        },
                        "header": {
                          "fill": {
                            "color": "#C8D4E3"
                          },
                          "line": {
                            "color": "white"
                          }
                        },
                        "type": "table"
                      }
                    ]
                  },
                  "layout": {
                    "annotationdefaults": {
                      "arrowcolor": "#2a3f5f",
                      "arrowhead": 0,
                      "arrowwidth": 1
                    },
                    "autotypenumbers": "strict",
                    "coloraxis": {
                      "colorbar": {
                        "outlinewidth": 0,
                        "ticks": ""
                      }
                    },
                    "colorscale": {
                      "diverging": [
                        [
                          0,
                          "#8e0152"
                        ],
                        [
                          0.1,
                          "#c51b7d"
                        ],
                        [
                          0.2,
                          "#de77ae"
                        ],
                        [
                          0.3,
                          "#f1b6da"
                        ],
                        [
                          0.4,
                          "#fde0ef"
                        ],
                        [
                          0.5,
                          "#f7f7f7"
                        ],
                        [
                          0.6,
                          "#e6f5d0"
                        ],
                        [
                          0.7,
                          "#b8e186"
                        ],
                        [
                          0.8,
                          "#7fbc41"
                        ],
                        [
                          0.9,
                          "#4d9221"
                        ],
                        [
                          1,
                          "#276419"
                        ]
                      ],
                      "sequential": [
                        [
                          0,
                          "#0d0887"
                        ],
                        [
                          0.1111111111111111,
                          "#46039f"
                        ],
                        [
                          0.2222222222222222,
                          "#7201a8"
                        ],
                        [
                          0.3333333333333333,
                          "#9c179e"
                        ],
                        [
                          0.4444444444444444,
                          "#bd3786"
                        ],
                        [
                          0.5555555555555556,
                          "#d8576b"
                        ],
                        [
                          0.6666666666666666,
                          "#ed7953"
                        ],
                        [
                          0.7777777777777778,
                          "#fb9f3a"
                        ],
                        [
                          0.8888888888888888,
                          "#fdca26"
                        ],
                        [
                          1,
                          "#f0f921"
                        ]
                      ],
                      "sequentialminus": [
                        [
                          0,
                          "#0d0887"
                        ],
                        [
                          0.1111111111111111,
                          "#46039f"
                        ],
                        [
                          0.2222222222222222,
                          "#7201a8"
                        ],
                        [
                          0.3333333333333333,
                          "#9c179e"
                        ],
                        [
                          0.4444444444444444,
                          "#bd3786"
                        ],
                        [
                          0.5555555555555556,
                          "#d8576b"
                        ],
                        [
                          0.6666666666666666,
                          "#ed7953"
                        ],
                        [
                          0.7777777777777778,
                          "#fb9f3a"
                        ],
                        [
                          0.8888888888888888,
                          "#fdca26"
                        ],
                        [
                          1,
                          "#f0f921"
                        ]
                      ]
                    },
                    "colorway": [
                      "#636efa",
                      "#EF553B",
                      "#00cc96",
                      "#ab63fa",
                      "#FFA15A",
                      "#19d3f3",
                      "#FF6692",
                      "#B6E880",
                      "#FF97FF",
                      "#FECB52"
                    ],
                    "font": {
                      "color": "#2a3f5f"
                    },
                    "geo": {
                      "bgcolor": "white",
                      "lakecolor": "white",
                      "landcolor": "#E5ECF6",
                      "showlakes": true,
                      "showland": true,
                      "subunitcolor": "white"
                    },
                    "hoverlabel": {
                      "align": "left"
                    },
                    "hovermode": "closest",
                    "mapbox": {
                      "style": "light"
                    },
                    "paper_bgcolor": "white",
                    "plot_bgcolor": "#E5ECF6",
                    "polar": {
                      "angularaxis": {
                        "gridcolor": "white",
                        "linecolor": "white",
                        "ticks": ""
                      },
                      "bgcolor": "#E5ECF6",
                      "radialaxis": {
                        "gridcolor": "white",
                        "linecolor": "white",
                        "ticks": ""
                      }
                    },
                    "scene": {
                      "xaxis": {
                        "backgroundcolor": "#E5ECF6",
                        "gridcolor": "white",
                        "gridwidth": 2,
                        "linecolor": "white",
                        "showbackground": true,
                        "ticks": "",
                        "zerolinecolor": "white"
                      },
                      "yaxis": {
                        "backgroundcolor": "#E5ECF6",
                        "gridcolor": "white",
                        "gridwidth": 2,
                        "linecolor": "white",
                        "showbackground": true,
                        "ticks": "",
                        "zerolinecolor": "white"
                      },
                      "zaxis": {
                        "backgroundcolor": "#E5ECF6",
                        "gridcolor": "white",
                        "gridwidth": 2,
                        "linecolor": "white",
                        "showbackground": true,
                        "ticks": "",
                        "zerolinecolor": "white"
                      }
                    },
                    "shapedefaults": {
                      "line": {
                        "color": "#2a3f5f"
                      }
                    },
                    "ternary": {
                      "aaxis": {
                        "gridcolor": "white",
                        "linecolor": "white",
                        "ticks": ""
                      },
                      "baxis": {
                        "gridcolor": "white",
                        "linecolor": "white",
                        "ticks": ""
                      },
                      "bgcolor": "#E5ECF6",
                      "caxis": {
                        "gridcolor": "white",
                        "linecolor": "white",
                        "ticks": ""
                      }
                    },
                    "title": {
                      "x": 0.05
                    },
                    "xaxis": {
                      "automargin": true,
                      "gridcolor": "white",
                      "linecolor": "white",
                      "ticks": "",
                      "title": {
                        "standoff": 15
                      },
                      "zerolinecolor": "white",
                      "zerolinewidth": 2
                    },
                    "yaxis": {
                      "automargin": true,
                      "gridcolor": "white",
                      "linecolor": "white",
                      "ticks": "",
                      "title": {
                        "standoff": 15
                      },
                      "zerolinecolor": "white",
                      "zerolinewidth": 2
                    }
                  }
                },
                "title": {
                  "text": "Distribuição de Casos Investigados Por Região"
                },
                "xaxis": {
                  "anchor": "y",
                  "categoryarray": [
                    "Nordeste",
                    "Sudeste",
                    "Sul",
                    "Norte",
                    "Centro-Oeste"
                  ],
                  "categoryorder": "array",
                  "domain": [
                    0,
                    1
                  ],
                  "title": {}
                },
                "yaxis": {
                  "anchor": "x",
                  "domain": [
                    0,
                    1
                  ],
                  "title": {
                    "text": "Porcentagem"
                  }
                }
              }
            }
          },
          "metadata": {},
          "output_type": "display_data"
        }
      ],
      "source": [
        "plot_bar(df, 'REGIAO', title='Distribuição de Casos Investigados Por Região', top_n=5)"
      ]
    },
    {
      "cell_type": "code",
      "execution_count": 10,
      "metadata": {
        "colab": {
          "base_uri": "https://localhost:8080/",
          "height": 542
        },
        "id": "qgH6D408iCvx",
        "outputId": "3df36140-814c-4808-f6f8-6507a0979c1d"
      },
      "outputs": [
        {
          "data": {
            "application/vnd.plotly.v1+json": {
              "config": {
                "plotlyServerURL": "https://plot.ly"
              },
              "data": [
                {
                  "alignmentgroup": "True",
                  "hovertemplate": "UF=%{x}<br>Porcentagem=%{text}<extra></extra>",
                  "legendgroup": "São Paulo",
                  "marker": {
                    "color": "#636efa",
                    "pattern": {
                      "shape": ""
                    }
                  },
                  "name": "São Paulo",
                  "offsetgroup": "São Paulo",
                  "orientation": "v",
                  "showlegend": true,
                  "text": [
                    9.055619276019671
                  ],
                  "textposition": "outside",
                  "texttemplate": "%{text:.2f}%",
                  "type": "bar",
                  "x": [
                    "São Paulo"
                  ],
                  "xaxis": "x",
                  "y": [
                    9.055619276019671
                  ],
                  "yaxis": "y"
                },
                {
                  "alignmentgroup": "True",
                  "hovertemplate": "UF=%{x}<br>Porcentagem=%{text}<extra></extra>",
                  "legendgroup": "Minas Gerais",
                  "marker": {
                    "color": "#EF553B",
                    "pattern": {
                      "shape": ""
                    }
                  },
                  "name": "Minas Gerais",
                  "offsetgroup": "Minas Gerais",
                  "orientation": "v",
                  "showlegend": true,
                  "text": [
                    8.67894444154806
                  ],
                  "textposition": "outside",
                  "texttemplate": "%{text:.2f}%",
                  "type": "bar",
                  "x": [
                    "Minas Gerais"
                  ],
                  "xaxis": "x",
                  "y": [
                    8.67894444154806
                  ],
                  "yaxis": "y"
                },
                {
                  "alignmentgroup": "True",
                  "hovertemplate": "UF=%{x}<br>Porcentagem=%{text}<extra></extra>",
                  "legendgroup": "Rio de Janeiro",
                  "marker": {
                    "color": "#00cc96",
                    "pattern": {
                      "shape": ""
                    }
                  },
                  "name": "Rio de Janeiro",
                  "offsetgroup": "Rio de Janeiro",
                  "orientation": "v",
                  "showlegend": true,
                  "text": [
                    7.5785716768329765
                  ],
                  "textposition": "outside",
                  "texttemplate": "%{text:.2f}%",
                  "type": "bar",
                  "x": [
                    "Rio de Janeiro"
                  ],
                  "xaxis": "x",
                  "y": [
                    7.5785716768329765
                  ],
                  "yaxis": "y"
                },
                {
                  "alignmentgroup": "True",
                  "hovertemplate": "UF=%{x}<br>Porcentagem=%{text}<extra></extra>",
                  "legendgroup": "Rio Grande do Sul",
                  "marker": {
                    "color": "#ab63fa",
                    "pattern": {
                      "shape": ""
                    }
                  },
                  "name": "Rio Grande do Sul",
                  "offsetgroup": "Rio Grande do Sul",
                  "orientation": "v",
                  "showlegend": true,
                  "text": [
                    5.635242340510574
                  ],
                  "textposition": "outside",
                  "texttemplate": "%{text:.2f}%",
                  "type": "bar",
                  "x": [
                    "Rio Grande do Sul"
                  ],
                  "xaxis": "x",
                  "y": [
                    5.635242340510574
                  ],
                  "yaxis": "y"
                },
                {
                  "alignmentgroup": "True",
                  "hovertemplate": "UF=%{x}<br>Porcentagem=%{text}<extra></extra>",
                  "legendgroup": "Paraná",
                  "marker": {
                    "color": "#FFA15A",
                    "pattern": {
                      "shape": ""
                    }
                  },
                  "name": "Paraná",
                  "offsetgroup": "Paraná",
                  "orientation": "v",
                  "showlegend": true,
                  "text": [
                    5.303859722294632
                  ],
                  "textposition": "outside",
                  "texttemplate": "%{text:.2f}%",
                  "type": "bar",
                  "x": [
                    "Paraná"
                  ],
                  "xaxis": "x",
                  "y": [
                    5.303859722294632
                  ],
                  "yaxis": "y"
                },
                {
                  "alignmentgroup": "True",
                  "hovertemplate": "UF=%{x}<br>Porcentagem=%{text}<extra></extra>",
                  "legendgroup": "Santa Catarina",
                  "marker": {
                    "color": "#19d3f3",
                    "pattern": {
                      "shape": ""
                    }
                  },
                  "name": "Santa Catarina",
                  "offsetgroup": "Santa Catarina",
                  "orientation": "v",
                  "showlegend": true,
                  "text": [
                    5.191335175434023
                  ],
                  "textposition": "outside",
                  "texttemplate": "%{text:.2f}%",
                  "type": "bar",
                  "x": [
                    "Santa Catarina"
                  ],
                  "xaxis": "x",
                  "y": [
                    5.191335175434023
                  ],
                  "yaxis": "y"
                },
                {
                  "alignmentgroup": "True",
                  "hovertemplate": "UF=%{x}<br>Porcentagem=%{text}<extra></extra>",
                  "legendgroup": "Bahia",
                  "marker": {
                    "color": "#FF6692",
                    "pattern": {
                      "shape": ""
                    }
                  },
                  "name": "Bahia",
                  "offsetgroup": "Bahia",
                  "orientation": "v",
                  "showlegend": true,
                  "text": [
                    4.498809585874911
                  ],
                  "textposition": "outside",
                  "texttemplate": "%{text:.2f}%",
                  "type": "bar",
                  "x": [
                    "Bahia"
                  ],
                  "xaxis": "x",
                  "y": [
                    4.498809585874911
                  ],
                  "yaxis": "y"
                },
                {
                  "alignmentgroup": "True",
                  "hovertemplate": "UF=%{x}<br>Porcentagem=%{text}<extra></extra>",
                  "legendgroup": "Ceará",
                  "marker": {
                    "color": "#B6E880",
                    "pattern": {
                      "shape": ""
                    }
                  },
                  "name": "Ceará",
                  "offsetgroup": "Ceará",
                  "orientation": "v",
                  "showlegend": true,
                  "text": [
                    4.327090176042264
                  ],
                  "textposition": "outside",
                  "texttemplate": "%{text:.2f}%",
                  "type": "bar",
                  "x": [
                    "Ceará"
                  ],
                  "xaxis": "x",
                  "y": [
                    4.327090176042264
                  ],
                  "yaxis": "y"
                },
                {
                  "alignmentgroup": "True",
                  "hovertemplate": "UF=%{x}<br>Porcentagem=%{text}<extra></extra>",
                  "legendgroup": "Maranhão",
                  "marker": {
                    "color": "#FF97FF",
                    "pattern": {
                      "shape": ""
                    }
                  },
                  "name": "Maranhão",
                  "offsetgroup": "Maranhão",
                  "orientation": "v",
                  "showlegend": true,
                  "text": [
                    4.196101176511478
                  ],
                  "textposition": "outside",
                  "texttemplate": "%{text:.2f}%",
                  "type": "bar",
                  "x": [
                    "Maranhão"
                  ],
                  "xaxis": "x",
                  "y": [
                    4.196101176511478
                  ],
                  "yaxis": "y"
                },
                {
                  "alignmentgroup": "True",
                  "hovertemplate": "UF=%{x}<br>Porcentagem=%{text}<extra></extra>",
                  "legendgroup": "Espírito Santo",
                  "marker": {
                    "color": "#FECB52",
                    "pattern": {
                      "shape": ""
                    }
                  },
                  "name": "Espírito Santo",
                  "offsetgroup": "Espírito Santo",
                  "orientation": "v",
                  "showlegend": true,
                  "text": [
                    4.1934944302521595
                  ],
                  "textposition": "outside",
                  "texttemplate": "%{text:.2f}%",
                  "type": "bar",
                  "x": [
                    "Espírito Santo"
                  ],
                  "xaxis": "x",
                  "y": [
                    4.1934944302521595
                  ],
                  "yaxis": "y"
                },
                {
                  "alignmentgroup": "True",
                  "hovertemplate": "UF=%{x}<br>Porcentagem=%{text}<extra></extra>",
                  "legendgroup": "Pernambuco",
                  "marker": {
                    "color": "#636efa",
                    "pattern": {
                      "shape": ""
                    }
                  },
                  "name": "Pernambuco",
                  "offsetgroup": "Pernambuco",
                  "orientation": "v",
                  "showlegend": true,
                  "text": [
                    4.176659193994057
                  ],
                  "textposition": "outside",
                  "texttemplate": "%{text:.2f}%",
                  "type": "bar",
                  "x": [
                    "Pernambuco"
                  ],
                  "xaxis": "x",
                  "y": [
                    4.176659193994057
                  ],
                  "yaxis": "y"
                },
                {
                  "alignmentgroup": "True",
                  "hovertemplate": "UF=%{x}<br>Porcentagem=%{text}<extra></extra>",
                  "legendgroup": "Goiás",
                  "marker": {
                    "color": "#EF553B",
                    "pattern": {
                      "shape": ""
                    }
                  },
                  "name": "Goiás",
                  "offsetgroup": "Goiás",
                  "orientation": "v",
                  "showlegend": true,
                  "text": [
                    3.972246841492449
                  ],
                  "textposition": "outside",
                  "texttemplate": "%{text:.2f}%",
                  "type": "bar",
                  "x": [
                    "Goiás"
                  ],
                  "xaxis": "x",
                  "y": [
                    3.972246841492449
                  ],
                  "yaxis": "y"
                },
                {
                  "alignmentgroup": "True",
                  "hovertemplate": "UF=%{x}<br>Porcentagem=%{text}<extra></extra>",
                  "legendgroup": "Mato Grosso",
                  "marker": {
                    "color": "#00cc96",
                    "pattern": {
                      "shape": ""
                    }
                  },
                  "name": "Mato Grosso",
                  "offsetgroup": "Mato Grosso",
                  "orientation": "v",
                  "showlegend": true,
                  "text": [
                    3.192069408963732
                  ],
                  "textposition": "outside",
                  "texttemplate": "%{text:.2f}%",
                  "type": "bar",
                  "x": [
                    "Mato Grosso"
                  ],
                  "xaxis": "x",
                  "y": [
                    3.192069408963732
                  ],
                  "yaxis": "y"
                },
                {
                  "alignmentgroup": "True",
                  "hovertemplate": "UF=%{x}<br>Porcentagem=%{text}<extra></extra>",
                  "legendgroup": "Pará",
                  "marker": {
                    "color": "#ab63fa",
                    "pattern": {
                      "shape": ""
                    }
                  },
                  "name": "Pará",
                  "offsetgroup": "Pará",
                  "orientation": "v",
                  "showlegend": true,
                  "text": [
                    3.0312114418782476
                  ],
                  "textposition": "outside",
                  "texttemplate": "%{text:.2f}%",
                  "type": "bar",
                  "x": [
                    "Pará"
                  ],
                  "xaxis": "x",
                  "y": [
                    3.0312114418782476
                  ],
                  "yaxis": "y"
                },
                {
                  "alignmentgroup": "True",
                  "hovertemplate": "UF=%{x}<br>Porcentagem=%{text}<extra></extra>",
                  "legendgroup": "Alagoas",
                  "marker": {
                    "color": "#FFA15A",
                    "pattern": {
                      "shape": ""
                    }
                  },
                  "name": "Alagoas",
                  "offsetgroup": "Alagoas",
                  "orientation": "v",
                  "showlegend": true,
                  "text": [
                    3.006121509132301
                  ],
                  "textposition": "outside",
                  "texttemplate": "%{text:.2f}%",
                  "type": "bar",
                  "x": [
                    "Alagoas"
                  ],
                  "xaxis": "x",
                  "y": [
                    3.006121509132301
                  ],
                  "yaxis": "y"
                },
                {
                  "alignmentgroup": "True",
                  "hovertemplate": "UF=%{x}<br>Porcentagem=%{text}<extra></extra>",
                  "legendgroup": "Paraíba",
                  "marker": {
                    "color": "#19d3f3",
                    "pattern": {
                      "shape": ""
                    }
                  },
                  "name": "Paraíba",
                  "offsetgroup": "Paraíba",
                  "orientation": "v",
                  "showlegend": true,
                  "text": [
                    2.734476826025755
                  ],
                  "textposition": "outside",
                  "texttemplate": "%{text:.2f}%",
                  "type": "bar",
                  "x": [
                    "Paraíba"
                  ],
                  "xaxis": "x",
                  "y": [
                    2.734476826025755
                  ],
                  "yaxis": "y"
                },
                {
                  "alignmentgroup": "True",
                  "hovertemplate": "UF=%{x}<br>Porcentagem=%{text}<extra></extra>",
                  "legendgroup": "Amazonas",
                  "marker": {
                    "color": "#FF6692",
                    "pattern": {
                      "shape": ""
                    }
                  },
                  "name": "Amazonas",
                  "offsetgroup": "Amazonas",
                  "orientation": "v",
                  "showlegend": true,
                  "text": [
                    2.55624055054481
                  ],
                  "textposition": "outside",
                  "texttemplate": "%{text:.2f}%",
                  "type": "bar",
                  "x": [
                    "Amazonas"
                  ],
                  "xaxis": "x",
                  "y": [
                    2.55624055054481
                  ],
                  "yaxis": "y"
                },
                {
                  "alignmentgroup": "True",
                  "hovertemplate": "UF=%{x}<br>Porcentagem=%{text}<extra></extra>",
                  "legendgroup": "Mato Grosso do Sul",
                  "marker": {
                    "color": "#B6E880",
                    "pattern": {
                      "shape": ""
                    }
                  },
                  "name": "Mato Grosso do Sul",
                  "offsetgroup": "Mato Grosso do Sul",
                  "orientation": "v",
                  "showlegend": true,
                  "text": [
                    2.495416471160697
                  ],
                  "textposition": "outside",
                  "texttemplate": "%{text:.2f}%",
                  "type": "bar",
                  "x": [
                    "Mato Grosso do Sul"
                  ],
                  "xaxis": "x",
                  "y": [
                    2.495416471160697
                  ],
                  "yaxis": "y"
                },
                {
                  "alignmentgroup": "True",
                  "hovertemplate": "UF=%{x}<br>Porcentagem=%{text}<extra></extra>",
                  "legendgroup": "Rio Grande do Norte",
                  "marker": {
                    "color": "#FF97FF",
                    "pattern": {
                      "shape": ""
                    }
                  },
                  "name": "Rio Grande do Norte",
                  "offsetgroup": "Rio Grande do Norte",
                  "orientation": "v",
                  "showlegend": true,
                  "text": [
                    2.397229028726344
                  ],
                  "textposition": "outside",
                  "texttemplate": "%{text:.2f}%",
                  "type": "bar",
                  "x": [
                    "Rio Grande do Norte"
                  ],
                  "xaxis": "x",
                  "y": [
                    2.397229028726344
                  ],
                  "yaxis": "y"
                },
                {
                  "alignmentgroup": "True",
                  "hovertemplate": "UF=%{x}<br>Porcentagem=%{text}<extra></extra>",
                  "legendgroup": "Piauí",
                  "marker": {
                    "color": "#FECB52",
                    "pattern": {
                      "shape": ""
                    }
                  },
                  "name": "Piauí",
                  "offsetgroup": "Piauí",
                  "orientation": "v",
                  "showlegend": true,
                  "text": [
                    2.3331465165180822
                  ],
                  "textposition": "outside",
                  "texttemplate": "%{text:.2f}%",
                  "type": "bar",
                  "x": [
                    "Piauí"
                  ],
                  "xaxis": "x",
                  "y": [
                    2.3331465165180822
                  ],
                  "yaxis": "y"
                },
                {
                  "alignmentgroup": "True",
                  "hovertemplate": "UF=%{x}<br>Porcentagem=%{text}<extra></extra>",
                  "legendgroup": "Sergipe",
                  "marker": {
                    "color": "#636efa",
                    "pattern": {
                      "shape": ""
                    }
                  },
                  "name": "Sergipe",
                  "offsetgroup": "Sergipe",
                  "orientation": "v",
                  "showlegend": true,
                  "text": [
                    2.3297794692664615
                  ],
                  "textposition": "outside",
                  "texttemplate": "%{text:.2f}%",
                  "type": "bar",
                  "x": [
                    "Sergipe"
                  ],
                  "xaxis": "x",
                  "y": [
                    2.3297794692664615
                  ],
                  "yaxis": "y"
                },
                {
                  "alignmentgroup": "True",
                  "hovertemplate": "UF=%{x}<br>Porcentagem=%{text}<extra></extra>",
                  "legendgroup": "Distrito Federal",
                  "marker": {
                    "color": "#EF553B",
                    "pattern": {
                      "shape": ""
                    }
                  },
                  "name": "Distrito Federal",
                  "offsetgroup": "Distrito Federal",
                  "orientation": "v",
                  "showlegend": true,
                  "text": [
                    1.8700145977790523
                  ],
                  "textposition": "outside",
                  "texttemplate": "%{text:.2f}%",
                  "type": "bar",
                  "x": [
                    "Distrito Federal"
                  ],
                  "xaxis": "x",
                  "y": [
                    1.8700145977790523
                  ],
                  "yaxis": "y"
                },
                {
                  "alignmentgroup": "True",
                  "hovertemplate": "UF=%{x}<br>Porcentagem=%{text}<extra></extra>",
                  "legendgroup": "Acre",
                  "marker": {
                    "color": "#00cc96",
                    "pattern": {
                      "shape": ""
                    }
                  },
                  "name": "Acre",
                  "offsetgroup": "Acre",
                  "orientation": "v",
                  "showlegend": true,
                  "text": [
                    1.8293928019046626
                  ],
                  "textposition": "outside",
                  "texttemplate": "%{text:.2f}%",
                  "type": "bar",
                  "x": [
                    "Acre"
                  ],
                  "xaxis": "x",
                  "y": [
                    1.8293928019046626
                  ],
                  "yaxis": "y"
                },
                {
                  "alignmentgroup": "True",
                  "hovertemplate": "UF=%{x}<br>Porcentagem=%{text}<extra></extra>",
                  "legendgroup": "Rondônia",
                  "marker": {
                    "color": "#ab63fa",
                    "pattern": {
                      "shape": ""
                    }
                  },
                  "name": "Rondônia",
                  "offsetgroup": "Rondônia",
                  "orientation": "v",
                  "showlegend": true,
                  "text": [
                    1.5770814868880663
                  ],
                  "textposition": "outside",
                  "texttemplate": "%{text:.2f}%",
                  "type": "bar",
                  "x": [
                    "Rondônia"
                  ],
                  "xaxis": "x",
                  "y": [
                    1.5770814868880663
                  ],
                  "yaxis": "y"
                },
                {
                  "alignmentgroup": "True",
                  "hovertemplate": "UF=%{x}<br>Porcentagem=%{text}<extra></extra>",
                  "legendgroup": "Tocantins",
                  "marker": {
                    "color": "#FFA15A",
                    "pattern": {
                      "shape": ""
                    }
                  },
                  "name": "Tocantins",
                  "offsetgroup": "Tocantins",
                  "orientation": "v",
                  "showlegend": true,
                  "text": [
                    1.5523173974245348
                  ],
                  "textposition": "outside",
                  "texttemplate": "%{text:.2f}%",
                  "type": "bar",
                  "x": [
                    "Tocantins"
                  ],
                  "xaxis": "x",
                  "y": [
                    1.5523173974245348
                  ],
                  "yaxis": "y"
                },
                {
                  "alignmentgroup": "True",
                  "hovertemplate": "UF=%{x}<br>Porcentagem=%{text}<extra></extra>",
                  "legendgroup": "Roraima",
                  "marker": {
                    "color": "#19d3f3",
                    "pattern": {
                      "shape": ""
                    }
                  },
                  "name": "Roraima",
                  "offsetgroup": "Roraima",
                  "orientation": "v",
                  "showlegend": true,
                  "text": [
                    1.3909163582016926
                  ],
                  "textposition": "outside",
                  "texttemplate": "%{text:.2f}%",
                  "type": "bar",
                  "x": [
                    "Roraima"
                  ],
                  "xaxis": "x",
                  "y": [
                    1.3909163582016926
                  ],
                  "yaxis": "y"
                },
                {
                  "alignmentgroup": "True",
                  "hovertemplate": "UF=%{x}<br>Porcentagem=%{text}<extra></extra>",
                  "legendgroup": "Amapá",
                  "marker": {
                    "color": "#FF6692",
                    "pattern": {
                      "shape": ""
                    }
                  },
                  "name": "Amapá",
                  "offsetgroup": "Amapá",
                  "orientation": "v",
                  "showlegend": true,
                  "text": [
                    0.896612098778305
                  ],
                  "textposition": "outside",
                  "texttemplate": "%{text:.2f}%",
                  "type": "bar",
                  "x": [
                    "Amapá"
                  ],
                  "xaxis": "x",
                  "y": [
                    0.896612098778305
                  ],
                  "yaxis": "y"
                }
              ],
              "layout": {
                "barmode": "relative",
                "legend": {
                  "title": {
                    "text": "UF"
                  },
                  "tracegroupgap": 0
                },
                "margin": {
                  "t": 60
                },
                "template": {
                  "data": {
                    "bar": [
                      {
                        "error_x": {
                          "color": "#2a3f5f"
                        },
                        "error_y": {
                          "color": "#2a3f5f"
                        },
                        "marker": {
                          "line": {
                            "color": "#E5ECF6",
                            "width": 0.5
                          },
                          "pattern": {
                            "fillmode": "overlay",
                            "size": 10,
                            "solidity": 0.2
                          }
                        },
                        "type": "bar"
                      }
                    ],
                    "barpolar": [
                      {
                        "marker": {
                          "line": {
                            "color": "#E5ECF6",
                            "width": 0.5
                          },
                          "pattern": {
                            "fillmode": "overlay",
                            "size": 10,
                            "solidity": 0.2
                          }
                        },
                        "type": "barpolar"
                      }
                    ],
                    "carpet": [
                      {
                        "aaxis": {
                          "endlinecolor": "#2a3f5f",
                          "gridcolor": "white",
                          "linecolor": "white",
                          "minorgridcolor": "white",
                          "startlinecolor": "#2a3f5f"
                        },
                        "baxis": {
                          "endlinecolor": "#2a3f5f",
                          "gridcolor": "white",
                          "linecolor": "white",
                          "minorgridcolor": "white",
                          "startlinecolor": "#2a3f5f"
                        },
                        "type": "carpet"
                      }
                    ],
                    "choropleth": [
                      {
                        "colorbar": {
                          "outlinewidth": 0,
                          "ticks": ""
                        },
                        "type": "choropleth"
                      }
                    ],
                    "contour": [
                      {
                        "colorbar": {
                          "outlinewidth": 0,
                          "ticks": ""
                        },
                        "colorscale": [
                          [
                            0,
                            "#0d0887"
                          ],
                          [
                            0.1111111111111111,
                            "#46039f"
                          ],
                          [
                            0.2222222222222222,
                            "#7201a8"
                          ],
                          [
                            0.3333333333333333,
                            "#9c179e"
                          ],
                          [
                            0.4444444444444444,
                            "#bd3786"
                          ],
                          [
                            0.5555555555555556,
                            "#d8576b"
                          ],
                          [
                            0.6666666666666666,
                            "#ed7953"
                          ],
                          [
                            0.7777777777777778,
                            "#fb9f3a"
                          ],
                          [
                            0.8888888888888888,
                            "#fdca26"
                          ],
                          [
                            1,
                            "#f0f921"
                          ]
                        ],
                        "type": "contour"
                      }
                    ],
                    "contourcarpet": [
                      {
                        "colorbar": {
                          "outlinewidth": 0,
                          "ticks": ""
                        },
                        "type": "contourcarpet"
                      }
                    ],
                    "heatmap": [
                      {
                        "colorbar": {
                          "outlinewidth": 0,
                          "ticks": ""
                        },
                        "colorscale": [
                          [
                            0,
                            "#0d0887"
                          ],
                          [
                            0.1111111111111111,
                            "#46039f"
                          ],
                          [
                            0.2222222222222222,
                            "#7201a8"
                          ],
                          [
                            0.3333333333333333,
                            "#9c179e"
                          ],
                          [
                            0.4444444444444444,
                            "#bd3786"
                          ],
                          [
                            0.5555555555555556,
                            "#d8576b"
                          ],
                          [
                            0.6666666666666666,
                            "#ed7953"
                          ],
                          [
                            0.7777777777777778,
                            "#fb9f3a"
                          ],
                          [
                            0.8888888888888888,
                            "#fdca26"
                          ],
                          [
                            1,
                            "#f0f921"
                          ]
                        ],
                        "type": "heatmap"
                      }
                    ],
                    "heatmapgl": [
                      {
                        "colorbar": {
                          "outlinewidth": 0,
                          "ticks": ""
                        },
                        "colorscale": [
                          [
                            0,
                            "#0d0887"
                          ],
                          [
                            0.1111111111111111,
                            "#46039f"
                          ],
                          [
                            0.2222222222222222,
                            "#7201a8"
                          ],
                          [
                            0.3333333333333333,
                            "#9c179e"
                          ],
                          [
                            0.4444444444444444,
                            "#bd3786"
                          ],
                          [
                            0.5555555555555556,
                            "#d8576b"
                          ],
                          [
                            0.6666666666666666,
                            "#ed7953"
                          ],
                          [
                            0.7777777777777778,
                            "#fb9f3a"
                          ],
                          [
                            0.8888888888888888,
                            "#fdca26"
                          ],
                          [
                            1,
                            "#f0f921"
                          ]
                        ],
                        "type": "heatmapgl"
                      }
                    ],
                    "histogram": [
                      {
                        "marker": {
                          "pattern": {
                            "fillmode": "overlay",
                            "size": 10,
                            "solidity": 0.2
                          }
                        },
                        "type": "histogram"
                      }
                    ],
                    "histogram2d": [
                      {
                        "colorbar": {
                          "outlinewidth": 0,
                          "ticks": ""
                        },
                        "colorscale": [
                          [
                            0,
                            "#0d0887"
                          ],
                          [
                            0.1111111111111111,
                            "#46039f"
                          ],
                          [
                            0.2222222222222222,
                            "#7201a8"
                          ],
                          [
                            0.3333333333333333,
                            "#9c179e"
                          ],
                          [
                            0.4444444444444444,
                            "#bd3786"
                          ],
                          [
                            0.5555555555555556,
                            "#d8576b"
                          ],
                          [
                            0.6666666666666666,
                            "#ed7953"
                          ],
                          [
                            0.7777777777777778,
                            "#fb9f3a"
                          ],
                          [
                            0.8888888888888888,
                            "#fdca26"
                          ],
                          [
                            1,
                            "#f0f921"
                          ]
                        ],
                        "type": "histogram2d"
                      }
                    ],
                    "histogram2dcontour": [
                      {
                        "colorbar": {
                          "outlinewidth": 0,
                          "ticks": ""
                        },
                        "colorscale": [
                          [
                            0,
                            "#0d0887"
                          ],
                          [
                            0.1111111111111111,
                            "#46039f"
                          ],
                          [
                            0.2222222222222222,
                            "#7201a8"
                          ],
                          [
                            0.3333333333333333,
                            "#9c179e"
                          ],
                          [
                            0.4444444444444444,
                            "#bd3786"
                          ],
                          [
                            0.5555555555555556,
                            "#d8576b"
                          ],
                          [
                            0.6666666666666666,
                            "#ed7953"
                          ],
                          [
                            0.7777777777777778,
                            "#fb9f3a"
                          ],
                          [
                            0.8888888888888888,
                            "#fdca26"
                          ],
                          [
                            1,
                            "#f0f921"
                          ]
                        ],
                        "type": "histogram2dcontour"
                      }
                    ],
                    "mesh3d": [
                      {
                        "colorbar": {
                          "outlinewidth": 0,
                          "ticks": ""
                        },
                        "type": "mesh3d"
                      }
                    ],
                    "parcoords": [
                      {
                        "line": {
                          "colorbar": {
                            "outlinewidth": 0,
                            "ticks": ""
                          }
                        },
                        "type": "parcoords"
                      }
                    ],
                    "pie": [
                      {
                        "automargin": true,
                        "type": "pie"
                      }
                    ],
                    "scatter": [
                      {
                        "fillpattern": {
                          "fillmode": "overlay",
                          "size": 10,
                          "solidity": 0.2
                        },
                        "type": "scatter"
                      }
                    ],
                    "scatter3d": [
                      {
                        "line": {
                          "colorbar": {
                            "outlinewidth": 0,
                            "ticks": ""
                          }
                        },
                        "marker": {
                          "colorbar": {
                            "outlinewidth": 0,
                            "ticks": ""
                          }
                        },
                        "type": "scatter3d"
                      }
                    ],
                    "scattercarpet": [
                      {
                        "marker": {
                          "colorbar": {
                            "outlinewidth": 0,
                            "ticks": ""
                          }
                        },
                        "type": "scattercarpet"
                      }
                    ],
                    "scattergeo": [
                      {
                        "marker": {
                          "colorbar": {
                            "outlinewidth": 0,
                            "ticks": ""
                          }
                        },
                        "type": "scattergeo"
                      }
                    ],
                    "scattergl": [
                      {
                        "marker": {
                          "colorbar": {
                            "outlinewidth": 0,
                            "ticks": ""
                          }
                        },
                        "type": "scattergl"
                      }
                    ],
                    "scattermapbox": [
                      {
                        "marker": {
                          "colorbar": {
                            "outlinewidth": 0,
                            "ticks": ""
                          }
                        },
                        "type": "scattermapbox"
                      }
                    ],
                    "scatterpolar": [
                      {
                        "marker": {
                          "colorbar": {
                            "outlinewidth": 0,
                            "ticks": ""
                          }
                        },
                        "type": "scatterpolar"
                      }
                    ],
                    "scatterpolargl": [
                      {
                        "marker": {
                          "colorbar": {
                            "outlinewidth": 0,
                            "ticks": ""
                          }
                        },
                        "type": "scatterpolargl"
                      }
                    ],
                    "scatterternary": [
                      {
                        "marker": {
                          "colorbar": {
                            "outlinewidth": 0,
                            "ticks": ""
                          }
                        },
                        "type": "scatterternary"
                      }
                    ],
                    "surface": [
                      {
                        "colorbar": {
                          "outlinewidth": 0,
                          "ticks": ""
                        },
                        "colorscale": [
                          [
                            0,
                            "#0d0887"
                          ],
                          [
                            0.1111111111111111,
                            "#46039f"
                          ],
                          [
                            0.2222222222222222,
                            "#7201a8"
                          ],
                          [
                            0.3333333333333333,
                            "#9c179e"
                          ],
                          [
                            0.4444444444444444,
                            "#bd3786"
                          ],
                          [
                            0.5555555555555556,
                            "#d8576b"
                          ],
                          [
                            0.6666666666666666,
                            "#ed7953"
                          ],
                          [
                            0.7777777777777778,
                            "#fb9f3a"
                          ],
                          [
                            0.8888888888888888,
                            "#fdca26"
                          ],
                          [
                            1,
                            "#f0f921"
                          ]
                        ],
                        "type": "surface"
                      }
                    ],
                    "table": [
                      {
                        "cells": {
                          "fill": {
                            "color": "#EBF0F8"
                          },
                          "line": {
                            "color": "white"
                          }
                        },
                        "header": {
                          "fill": {
                            "color": "#C8D4E3"
                          },
                          "line": {
                            "color": "white"
                          }
                        },
                        "type": "table"
                      }
                    ]
                  },
                  "layout": {
                    "annotationdefaults": {
                      "arrowcolor": "#2a3f5f",
                      "arrowhead": 0,
                      "arrowwidth": 1
                    },
                    "autotypenumbers": "strict",
                    "coloraxis": {
                      "colorbar": {
                        "outlinewidth": 0,
                        "ticks": ""
                      }
                    },
                    "colorscale": {
                      "diverging": [
                        [
                          0,
                          "#8e0152"
                        ],
                        [
                          0.1,
                          "#c51b7d"
                        ],
                        [
                          0.2,
                          "#de77ae"
                        ],
                        [
                          0.3,
                          "#f1b6da"
                        ],
                        [
                          0.4,
                          "#fde0ef"
                        ],
                        [
                          0.5,
                          "#f7f7f7"
                        ],
                        [
                          0.6,
                          "#e6f5d0"
                        ],
                        [
                          0.7,
                          "#b8e186"
                        ],
                        [
                          0.8,
                          "#7fbc41"
                        ],
                        [
                          0.9,
                          "#4d9221"
                        ],
                        [
                          1,
                          "#276419"
                        ]
                      ],
                      "sequential": [
                        [
                          0,
                          "#0d0887"
                        ],
                        [
                          0.1111111111111111,
                          "#46039f"
                        ],
                        [
                          0.2222222222222222,
                          "#7201a8"
                        ],
                        [
                          0.3333333333333333,
                          "#9c179e"
                        ],
                        [
                          0.4444444444444444,
                          "#bd3786"
                        ],
                        [
                          0.5555555555555556,
                          "#d8576b"
                        ],
                        [
                          0.6666666666666666,
                          "#ed7953"
                        ],
                        [
                          0.7777777777777778,
                          "#fb9f3a"
                        ],
                        [
                          0.8888888888888888,
                          "#fdca26"
                        ],
                        [
                          1,
                          "#f0f921"
                        ]
                      ],
                      "sequentialminus": [
                        [
                          0,
                          "#0d0887"
                        ],
                        [
                          0.1111111111111111,
                          "#46039f"
                        ],
                        [
                          0.2222222222222222,
                          "#7201a8"
                        ],
                        [
                          0.3333333333333333,
                          "#9c179e"
                        ],
                        [
                          0.4444444444444444,
                          "#bd3786"
                        ],
                        [
                          0.5555555555555556,
                          "#d8576b"
                        ],
                        [
                          0.6666666666666666,
                          "#ed7953"
                        ],
                        [
                          0.7777777777777778,
                          "#fb9f3a"
                        ],
                        [
                          0.8888888888888888,
                          "#fdca26"
                        ],
                        [
                          1,
                          "#f0f921"
                        ]
                      ]
                    },
                    "colorway": [
                      "#636efa",
                      "#EF553B",
                      "#00cc96",
                      "#ab63fa",
                      "#FFA15A",
                      "#19d3f3",
                      "#FF6692",
                      "#B6E880",
                      "#FF97FF",
                      "#FECB52"
                    ],
                    "font": {
                      "color": "#2a3f5f"
                    },
                    "geo": {
                      "bgcolor": "white",
                      "lakecolor": "white",
                      "landcolor": "#E5ECF6",
                      "showlakes": true,
                      "showland": true,
                      "subunitcolor": "white"
                    },
                    "hoverlabel": {
                      "align": "left"
                    },
                    "hovermode": "closest",
                    "mapbox": {
                      "style": "light"
                    },
                    "paper_bgcolor": "white",
                    "plot_bgcolor": "#E5ECF6",
                    "polar": {
                      "angularaxis": {
                        "gridcolor": "white",
                        "linecolor": "white",
                        "ticks": ""
                      },
                      "bgcolor": "#E5ECF6",
                      "radialaxis": {
                        "gridcolor": "white",
                        "linecolor": "white",
                        "ticks": ""
                      }
                    },
                    "scene": {
                      "xaxis": {
                        "backgroundcolor": "#E5ECF6",
                        "gridcolor": "white",
                        "gridwidth": 2,
                        "linecolor": "white",
                        "showbackground": true,
                        "ticks": "",
                        "zerolinecolor": "white"
                      },
                      "yaxis": {
                        "backgroundcolor": "#E5ECF6",
                        "gridcolor": "white",
                        "gridwidth": 2,
                        "linecolor": "white",
                        "showbackground": true,
                        "ticks": "",
                        "zerolinecolor": "white"
                      },
                      "zaxis": {
                        "backgroundcolor": "#E5ECF6",
                        "gridcolor": "white",
                        "gridwidth": 2,
                        "linecolor": "white",
                        "showbackground": true,
                        "ticks": "",
                        "zerolinecolor": "white"
                      }
                    },
                    "shapedefaults": {
                      "line": {
                        "color": "#2a3f5f"
                      }
                    },
                    "ternary": {
                      "aaxis": {
                        "gridcolor": "white",
                        "linecolor": "white",
                        "ticks": ""
                      },
                      "baxis": {
                        "gridcolor": "white",
                        "linecolor": "white",
                        "ticks": ""
                      },
                      "bgcolor": "#E5ECF6",
                      "caxis": {
                        "gridcolor": "white",
                        "linecolor": "white",
                        "ticks": ""
                      }
                    },
                    "title": {
                      "x": 0.05
                    },
                    "xaxis": {
                      "automargin": true,
                      "gridcolor": "white",
                      "linecolor": "white",
                      "ticks": "",
                      "title": {
                        "standoff": 15
                      },
                      "zerolinecolor": "white",
                      "zerolinewidth": 2
                    },
                    "yaxis": {
                      "automargin": true,
                      "gridcolor": "white",
                      "linecolor": "white",
                      "ticks": "",
                      "title": {
                        "standoff": 15
                      },
                      "zerolinecolor": "white",
                      "zerolinewidth": 2
                    }
                  }
                },
                "title": {
                  "text": "Distribuição de Casos Investigados Por Estado"
                },
                "xaxis": {
                  "anchor": "y",
                  "categoryarray": [
                    "São Paulo",
                    "Minas Gerais",
                    "Rio de Janeiro",
                    "Rio Grande do Sul",
                    "Paraná",
                    "Santa Catarina",
                    "Bahia",
                    "Ceará",
                    "Maranhão",
                    "Espírito Santo",
                    "Pernambuco",
                    "Goiás",
                    "Mato Grosso",
                    "Pará",
                    "Alagoas",
                    "Paraíba",
                    "Amazonas",
                    "Mato Grosso do Sul",
                    "Rio Grande do Norte",
                    "Piauí",
                    "Sergipe",
                    "Distrito Federal",
                    "Acre",
                    "Rondônia",
                    "Tocantins",
                    "Roraima",
                    "Amapá"
                  ],
                  "categoryorder": "array",
                  "domain": [
                    0,
                    1
                  ],
                  "title": {}
                },
                "yaxis": {
                  "anchor": "x",
                  "domain": [
                    0,
                    1
                  ],
                  "title": {
                    "text": "Porcentagem"
                  }
                }
              }
            }
          },
          "metadata": {},
          "output_type": "display_data"
        }
      ],
      "source": [
        "plot_bar(df, \"UF\", title='Distribuição de Casos Investigados Por Estado')"
      ]
    },
    {
      "cell_type": "code",
      "execution_count": 11,
      "metadata": {
        "colab": {
          "base_uri": "https://localhost:8080/",
          "height": 542
        },
        "id": "CXB29Ea6iJ_b",
        "outputId": "a1f0238e-b339-49a6-98a3-69d7802dabc4"
      },
      "outputs": [
        {
          "data": {
            "application/vnd.plotly.v1+json": {
              "config": {
                "plotlyServerURL": "https://plot.ly"
              },
              "data": [
                {
                  "alignmentgroup": "True",
                  "hovertemplate": "SITU_DOMICILIO=%{x}<br>Porcentagem=%{text}<extra></extra>",
                  "legendgroup": "Urbana",
                  "marker": {
                    "color": "#636efa",
                    "pattern": {
                      "shape": ""
                    }
                  },
                  "name": "Urbana",
                  "offsetgroup": "Urbana",
                  "orientation": "v",
                  "showlegend": true,
                  "text": [
                    77.62651408511896
                  ],
                  "textposition": "outside",
                  "texttemplate": "%{text:.2f}%",
                  "type": "bar",
                  "x": [
                    "Urbana"
                  ],
                  "xaxis": "x",
                  "y": [
                    77.62651408511896
                  ],
                  "yaxis": "y"
                },
                {
                  "alignmentgroup": "True",
                  "hovertemplate": "SITU_DOMICILIO=%{x}<br>Porcentagem=%{text}<extra></extra>",
                  "legendgroup": "Rural",
                  "marker": {
                    "color": "#EF553B",
                    "pattern": {
                      "shape": ""
                    }
                  },
                  "name": "Rural",
                  "offsetgroup": "Rural",
                  "orientation": "v",
                  "showlegend": true,
                  "text": [
                    22.373485914881044
                  ],
                  "textposition": "outside",
                  "texttemplate": "%{text:.2f}%",
                  "type": "bar",
                  "x": [
                    "Rural"
                  ],
                  "xaxis": "x",
                  "y": [
                    22.373485914881044
                  ],
                  "yaxis": "y"
                }
              ],
              "layout": {
                "barmode": "relative",
                "legend": {
                  "title": {
                    "text": "SITU_DOMICILIO"
                  },
                  "tracegroupgap": 0
                },
                "margin": {
                  "t": 60
                },
                "template": {
                  "data": {
                    "bar": [
                      {
                        "error_x": {
                          "color": "#2a3f5f"
                        },
                        "error_y": {
                          "color": "#2a3f5f"
                        },
                        "marker": {
                          "line": {
                            "color": "#E5ECF6",
                            "width": 0.5
                          },
                          "pattern": {
                            "fillmode": "overlay",
                            "size": 10,
                            "solidity": 0.2
                          }
                        },
                        "type": "bar"
                      }
                    ],
                    "barpolar": [
                      {
                        "marker": {
                          "line": {
                            "color": "#E5ECF6",
                            "width": 0.5
                          },
                          "pattern": {
                            "fillmode": "overlay",
                            "size": 10,
                            "solidity": 0.2
                          }
                        },
                        "type": "barpolar"
                      }
                    ],
                    "carpet": [
                      {
                        "aaxis": {
                          "endlinecolor": "#2a3f5f",
                          "gridcolor": "white",
                          "linecolor": "white",
                          "minorgridcolor": "white",
                          "startlinecolor": "#2a3f5f"
                        },
                        "baxis": {
                          "endlinecolor": "#2a3f5f",
                          "gridcolor": "white",
                          "linecolor": "white",
                          "minorgridcolor": "white",
                          "startlinecolor": "#2a3f5f"
                        },
                        "type": "carpet"
                      }
                    ],
                    "choropleth": [
                      {
                        "colorbar": {
                          "outlinewidth": 0,
                          "ticks": ""
                        },
                        "type": "choropleth"
                      }
                    ],
                    "contour": [
                      {
                        "colorbar": {
                          "outlinewidth": 0,
                          "ticks": ""
                        },
                        "colorscale": [
                          [
                            0,
                            "#0d0887"
                          ],
                          [
                            0.1111111111111111,
                            "#46039f"
                          ],
                          [
                            0.2222222222222222,
                            "#7201a8"
                          ],
                          [
                            0.3333333333333333,
                            "#9c179e"
                          ],
                          [
                            0.4444444444444444,
                            "#bd3786"
                          ],
                          [
                            0.5555555555555556,
                            "#d8576b"
                          ],
                          [
                            0.6666666666666666,
                            "#ed7953"
                          ],
                          [
                            0.7777777777777778,
                            "#fb9f3a"
                          ],
                          [
                            0.8888888888888888,
                            "#fdca26"
                          ],
                          [
                            1,
                            "#f0f921"
                          ]
                        ],
                        "type": "contour"
                      }
                    ],
                    "contourcarpet": [
                      {
                        "colorbar": {
                          "outlinewidth": 0,
                          "ticks": ""
                        },
                        "type": "contourcarpet"
                      }
                    ],
                    "heatmap": [
                      {
                        "colorbar": {
                          "outlinewidth": 0,
                          "ticks": ""
                        },
                        "colorscale": [
                          [
                            0,
                            "#0d0887"
                          ],
                          [
                            0.1111111111111111,
                            "#46039f"
                          ],
                          [
                            0.2222222222222222,
                            "#7201a8"
                          ],
                          [
                            0.3333333333333333,
                            "#9c179e"
                          ],
                          [
                            0.4444444444444444,
                            "#bd3786"
                          ],
                          [
                            0.5555555555555556,
                            "#d8576b"
                          ],
                          [
                            0.6666666666666666,
                            "#ed7953"
                          ],
                          [
                            0.7777777777777778,
                            "#fb9f3a"
                          ],
                          [
                            0.8888888888888888,
                            "#fdca26"
                          ],
                          [
                            1,
                            "#f0f921"
                          ]
                        ],
                        "type": "heatmap"
                      }
                    ],
                    "heatmapgl": [
                      {
                        "colorbar": {
                          "outlinewidth": 0,
                          "ticks": ""
                        },
                        "colorscale": [
                          [
                            0,
                            "#0d0887"
                          ],
                          [
                            0.1111111111111111,
                            "#46039f"
                          ],
                          [
                            0.2222222222222222,
                            "#7201a8"
                          ],
                          [
                            0.3333333333333333,
                            "#9c179e"
                          ],
                          [
                            0.4444444444444444,
                            "#bd3786"
                          ],
                          [
                            0.5555555555555556,
                            "#d8576b"
                          ],
                          [
                            0.6666666666666666,
                            "#ed7953"
                          ],
                          [
                            0.7777777777777778,
                            "#fb9f3a"
                          ],
                          [
                            0.8888888888888888,
                            "#fdca26"
                          ],
                          [
                            1,
                            "#f0f921"
                          ]
                        ],
                        "type": "heatmapgl"
                      }
                    ],
                    "histogram": [
                      {
                        "marker": {
                          "pattern": {
                            "fillmode": "overlay",
                            "size": 10,
                            "solidity": 0.2
                          }
                        },
                        "type": "histogram"
                      }
                    ],
                    "histogram2d": [
                      {
                        "colorbar": {
                          "outlinewidth": 0,
                          "ticks": ""
                        },
                        "colorscale": [
                          [
                            0,
                            "#0d0887"
                          ],
                          [
                            0.1111111111111111,
                            "#46039f"
                          ],
                          [
                            0.2222222222222222,
                            "#7201a8"
                          ],
                          [
                            0.3333333333333333,
                            "#9c179e"
                          ],
                          [
                            0.4444444444444444,
                            "#bd3786"
                          ],
                          [
                            0.5555555555555556,
                            "#d8576b"
                          ],
                          [
                            0.6666666666666666,
                            "#ed7953"
                          ],
                          [
                            0.7777777777777778,
                            "#fb9f3a"
                          ],
                          [
                            0.8888888888888888,
                            "#fdca26"
                          ],
                          [
                            1,
                            "#f0f921"
                          ]
                        ],
                        "type": "histogram2d"
                      }
                    ],
                    "histogram2dcontour": [
                      {
                        "colorbar": {
                          "outlinewidth": 0,
                          "ticks": ""
                        },
                        "colorscale": [
                          [
                            0,
                            "#0d0887"
                          ],
                          [
                            0.1111111111111111,
                            "#46039f"
                          ],
                          [
                            0.2222222222222222,
                            "#7201a8"
                          ],
                          [
                            0.3333333333333333,
                            "#9c179e"
                          ],
                          [
                            0.4444444444444444,
                            "#bd3786"
                          ],
                          [
                            0.5555555555555556,
                            "#d8576b"
                          ],
                          [
                            0.6666666666666666,
                            "#ed7953"
                          ],
                          [
                            0.7777777777777778,
                            "#fb9f3a"
                          ],
                          [
                            0.8888888888888888,
                            "#fdca26"
                          ],
                          [
                            1,
                            "#f0f921"
                          ]
                        ],
                        "type": "histogram2dcontour"
                      }
                    ],
                    "mesh3d": [
                      {
                        "colorbar": {
                          "outlinewidth": 0,
                          "ticks": ""
                        },
                        "type": "mesh3d"
                      }
                    ],
                    "parcoords": [
                      {
                        "line": {
                          "colorbar": {
                            "outlinewidth": 0,
                            "ticks": ""
                          }
                        },
                        "type": "parcoords"
                      }
                    ],
                    "pie": [
                      {
                        "automargin": true,
                        "type": "pie"
                      }
                    ],
                    "scatter": [
                      {
                        "fillpattern": {
                          "fillmode": "overlay",
                          "size": 10,
                          "solidity": 0.2
                        },
                        "type": "scatter"
                      }
                    ],
                    "scatter3d": [
                      {
                        "line": {
                          "colorbar": {
                            "outlinewidth": 0,
                            "ticks": ""
                          }
                        },
                        "marker": {
                          "colorbar": {
                            "outlinewidth": 0,
                            "ticks": ""
                          }
                        },
                        "type": "scatter3d"
                      }
                    ],
                    "scattercarpet": [
                      {
                        "marker": {
                          "colorbar": {
                            "outlinewidth": 0,
                            "ticks": ""
                          }
                        },
                        "type": "scattercarpet"
                      }
                    ],
                    "scattergeo": [
                      {
                        "marker": {
                          "colorbar": {
                            "outlinewidth": 0,
                            "ticks": ""
                          }
                        },
                        "type": "scattergeo"
                      }
                    ],
                    "scattergl": [
                      {
                        "marker": {
                          "colorbar": {
                            "outlinewidth": 0,
                            "ticks": ""
                          }
                        },
                        "type": "scattergl"
                      }
                    ],
                    "scattermapbox": [
                      {
                        "marker": {
                          "colorbar": {
                            "outlinewidth": 0,
                            "ticks": ""
                          }
                        },
                        "type": "scattermapbox"
                      }
                    ],
                    "scatterpolar": [
                      {
                        "marker": {
                          "colorbar": {
                            "outlinewidth": 0,
                            "ticks": ""
                          }
                        },
                        "type": "scatterpolar"
                      }
                    ],
                    "scatterpolargl": [
                      {
                        "marker": {
                          "colorbar": {
                            "outlinewidth": 0,
                            "ticks": ""
                          }
                        },
                        "type": "scatterpolargl"
                      }
                    ],
                    "scatterternary": [
                      {
                        "marker": {
                          "colorbar": {
                            "outlinewidth": 0,
                            "ticks": ""
                          }
                        },
                        "type": "scatterternary"
                      }
                    ],
                    "surface": [
                      {
                        "colorbar": {
                          "outlinewidth": 0,
                          "ticks": ""
                        },
                        "colorscale": [
                          [
                            0,
                            "#0d0887"
                          ],
                          [
                            0.1111111111111111,
                            "#46039f"
                          ],
                          [
                            0.2222222222222222,
                            "#7201a8"
                          ],
                          [
                            0.3333333333333333,
                            "#9c179e"
                          ],
                          [
                            0.4444444444444444,
                            "#bd3786"
                          ],
                          [
                            0.5555555555555556,
                            "#d8576b"
                          ],
                          [
                            0.6666666666666666,
                            "#ed7953"
                          ],
                          [
                            0.7777777777777778,
                            "#fb9f3a"
                          ],
                          [
                            0.8888888888888888,
                            "#fdca26"
                          ],
                          [
                            1,
                            "#f0f921"
                          ]
                        ],
                        "type": "surface"
                      }
                    ],
                    "table": [
                      {
                        "cells": {
                          "fill": {
                            "color": "#EBF0F8"
                          },
                          "line": {
                            "color": "white"
                          }
                        },
                        "header": {
                          "fill": {
                            "color": "#C8D4E3"
                          },
                          "line": {
                            "color": "white"
                          }
                        },
                        "type": "table"
                      }
                    ]
                  },
                  "layout": {
                    "annotationdefaults": {
                      "arrowcolor": "#2a3f5f",
                      "arrowhead": 0,
                      "arrowwidth": 1
                    },
                    "autotypenumbers": "strict",
                    "coloraxis": {
                      "colorbar": {
                        "outlinewidth": 0,
                        "ticks": ""
                      }
                    },
                    "colorscale": {
                      "diverging": [
                        [
                          0,
                          "#8e0152"
                        ],
                        [
                          0.1,
                          "#c51b7d"
                        ],
                        [
                          0.2,
                          "#de77ae"
                        ],
                        [
                          0.3,
                          "#f1b6da"
                        ],
                        [
                          0.4,
                          "#fde0ef"
                        ],
                        [
                          0.5,
                          "#f7f7f7"
                        ],
                        [
                          0.6,
                          "#e6f5d0"
                        ],
                        [
                          0.7,
                          "#b8e186"
                        ],
                        [
                          0.8,
                          "#7fbc41"
                        ],
                        [
                          0.9,
                          "#4d9221"
                        ],
                        [
                          1,
                          "#276419"
                        ]
                      ],
                      "sequential": [
                        [
                          0,
                          "#0d0887"
                        ],
                        [
                          0.1111111111111111,
                          "#46039f"
                        ],
                        [
                          0.2222222222222222,
                          "#7201a8"
                        ],
                        [
                          0.3333333333333333,
                          "#9c179e"
                        ],
                        [
                          0.4444444444444444,
                          "#bd3786"
                        ],
                        [
                          0.5555555555555556,
                          "#d8576b"
                        ],
                        [
                          0.6666666666666666,
                          "#ed7953"
                        ],
                        [
                          0.7777777777777778,
                          "#fb9f3a"
                        ],
                        [
                          0.8888888888888888,
                          "#fdca26"
                        ],
                        [
                          1,
                          "#f0f921"
                        ]
                      ],
                      "sequentialminus": [
                        [
                          0,
                          "#0d0887"
                        ],
                        [
                          0.1111111111111111,
                          "#46039f"
                        ],
                        [
                          0.2222222222222222,
                          "#7201a8"
                        ],
                        [
                          0.3333333333333333,
                          "#9c179e"
                        ],
                        [
                          0.4444444444444444,
                          "#bd3786"
                        ],
                        [
                          0.5555555555555556,
                          "#d8576b"
                        ],
                        [
                          0.6666666666666666,
                          "#ed7953"
                        ],
                        [
                          0.7777777777777778,
                          "#fb9f3a"
                        ],
                        [
                          0.8888888888888888,
                          "#fdca26"
                        ],
                        [
                          1,
                          "#f0f921"
                        ]
                      ]
                    },
                    "colorway": [
                      "#636efa",
                      "#EF553B",
                      "#00cc96",
                      "#ab63fa",
                      "#FFA15A",
                      "#19d3f3",
                      "#FF6692",
                      "#B6E880",
                      "#FF97FF",
                      "#FECB52"
                    ],
                    "font": {
                      "color": "#2a3f5f"
                    },
                    "geo": {
                      "bgcolor": "white",
                      "lakecolor": "white",
                      "landcolor": "#E5ECF6",
                      "showlakes": true,
                      "showland": true,
                      "subunitcolor": "white"
                    },
                    "hoverlabel": {
                      "align": "left"
                    },
                    "hovermode": "closest",
                    "mapbox": {
                      "style": "light"
                    },
                    "paper_bgcolor": "white",
                    "plot_bgcolor": "#E5ECF6",
                    "polar": {
                      "angularaxis": {
                        "gridcolor": "white",
                        "linecolor": "white",
                        "ticks": ""
                      },
                      "bgcolor": "#E5ECF6",
                      "radialaxis": {
                        "gridcolor": "white",
                        "linecolor": "white",
                        "ticks": ""
                      }
                    },
                    "scene": {
                      "xaxis": {
                        "backgroundcolor": "#E5ECF6",
                        "gridcolor": "white",
                        "gridwidth": 2,
                        "linecolor": "white",
                        "showbackground": true,
                        "ticks": "",
                        "zerolinecolor": "white"
                      },
                      "yaxis": {
                        "backgroundcolor": "#E5ECF6",
                        "gridcolor": "white",
                        "gridwidth": 2,
                        "linecolor": "white",
                        "showbackground": true,
                        "ticks": "",
                        "zerolinecolor": "white"
                      },
                      "zaxis": {
                        "backgroundcolor": "#E5ECF6",
                        "gridcolor": "white",
                        "gridwidth": 2,
                        "linecolor": "white",
                        "showbackground": true,
                        "ticks": "",
                        "zerolinecolor": "white"
                      }
                    },
                    "shapedefaults": {
                      "line": {
                        "color": "#2a3f5f"
                      }
                    },
                    "ternary": {
                      "aaxis": {
                        "gridcolor": "white",
                        "linecolor": "white",
                        "ticks": ""
                      },
                      "baxis": {
                        "gridcolor": "white",
                        "linecolor": "white",
                        "ticks": ""
                      },
                      "bgcolor": "#E5ECF6",
                      "caxis": {
                        "gridcolor": "white",
                        "linecolor": "white",
                        "ticks": ""
                      }
                    },
                    "title": {
                      "x": 0.05
                    },
                    "xaxis": {
                      "automargin": true,
                      "gridcolor": "white",
                      "linecolor": "white",
                      "ticks": "",
                      "title": {
                        "standoff": 15
                      },
                      "zerolinecolor": "white",
                      "zerolinewidth": 2
                    },
                    "yaxis": {
                      "automargin": true,
                      "gridcolor": "white",
                      "linecolor": "white",
                      "ticks": "",
                      "title": {
                        "standoff": 15
                      },
                      "zerolinecolor": "white",
                      "zerolinewidth": 2
                    }
                  }
                },
                "title": {
                  "text": "Distribuição De Casos Investigados Por Situação do Domicílio"
                },
                "xaxis": {
                  "anchor": "y",
                  "categoryarray": [
                    "Urbana",
                    "Rural"
                  ],
                  "categoryorder": "array",
                  "domain": [
                    0,
                    1
                  ],
                  "title": {}
                },
                "yaxis": {
                  "anchor": "x",
                  "domain": [
                    0,
                    1
                  ],
                  "title": {
                    "text": "Porcentagem"
                  }
                }
              }
            }
          },
          "metadata": {},
          "output_type": "display_data"
        }
      ],
      "source": [
        "plot_bar(df, \"SITU_DOMICILIO\", title = 'Distribuição De Casos Investigados Por Situação do Domicílio')"
      ]
    },
    {
      "cell_type": "code",
      "execution_count": 12,
      "metadata": {
        "colab": {
          "base_uri": "https://localhost:8080/",
          "height": 542
        },
        "id": "J8aaFnOMhm_o",
        "outputId": "ac11f3d9-33c1-4567-d0e2-ecf3b8f49795"
      },
      "outputs": [
        {
          "data": {
            "application/vnd.plotly.v1+json": {
              "config": {
                "plotlyServerURL": "https://plot.ly"
              },
              "data": [
                {
                  "alignmentgroup": "True",
                  "hovertemplate": "IDADE_MORADOR=%{marker.color}<br>Porcentagem=%{text}<extra></extra>",
                  "legendgroup": "",
                  "marker": {
                    "color": [
                      38,
                      37,
                      40,
                      39,
                      42,
                      36,
                      34,
                      35,
                      41,
                      20,
                      32,
                      45,
                      43,
                      33,
                      44,
                      19,
                      23,
                      31,
                      18,
                      50,
                      24,
                      25,
                      30,
                      22,
                      28,
                      21,
                      47,
                      26,
                      48,
                      46,
                      49,
                      51,
                      55,
                      27,
                      54,
                      17,
                      53,
                      56,
                      52,
                      15,
                      29,
                      16,
                      57,
                      14,
                      58,
                      60,
                      59,
                      5,
                      62,
                      61,
                      13,
                      12,
                      6,
                      63,
                      11,
                      10,
                      9,
                      65,
                      64,
                      7,
                      8,
                      66,
                      4,
                      2,
                      3,
                      67,
                      1,
                      68,
                      69,
                      70,
                      71,
                      72,
                      0,
                      73,
                      74,
                      75,
                      76,
                      77,
                      78,
                      80,
                      79,
                      81,
                      82,
                      83,
                      84,
                      85,
                      86,
                      87,
                      88,
                      89,
                      90,
                      91,
                      92,
                      93,
                      94,
                      95,
                      96,
                      97,
                      98,
                      99,
                      100,
                      101,
                      102,
                      103,
                      106,
                      105,
                      104,
                      111,
                      110,
                      107,
                      109,
                      108
                    ],
                    "coloraxis": "coloraxis",
                    "pattern": {
                      "shape": ""
                    }
                  },
                  "name": "",
                  "offsetgroup": "",
                  "orientation": "v",
                  "showlegend": false,
                  "text": [
                    1.7064412700067775,
                    1.6436621309281756,
                    1.638557252837009,
                    1.6299767130667502,
                    1.6219392454338493,
                    1.6144448499383068,
                    1.5973923848252611,
                    1.594459795283527,
                    1.5838155813913075,
                    1.5541638426915523,
                    1.534396016891716,
                    1.5286394522357194,
                    1.5250551761291555,
                    1.521145056740177,
                    1.5209278278852336,
                    1.5015944597952835,
                    1.5000738578106807,
                    1.4886693429261597,
                    1.4837816936899362,
                    1.4793285021635993,
                    1.479111273308656,
                    1.4757442260570357,
                    1.4723771788054152,
                    1.4707479623933406,
                    1.4457666440748658,
                    1.4408789948386425,
                    1.4314295396486105,
                    1.426324661557444,
                    1.4262160471299725,
                    1.4214370123212205,
                    1.4182871939245434,
                    1.4114444849938308,
                    1.4106841840015294,
                    1.4056879203378343,
                    1.4012347288114975,
                    1.3979762959873485,
                    1.3976504527049338,
                    1.3947178631631998,
                    1.389069912934675,
                    1.3851597935456963,
                    1.3633282936238986,
                    1.3273769181307893,
                    1.3199911370627184,
                    1.3007663834002399,
                    1.2524329631753646,
                    1.2438524234051058,
                    1.2229984533305527,
                    1.1836800305858228,
                    1.1459908242531671,
                    1.1430582347114333,
                    1.1265488417357454,
                    1.0809307821976608,
                    1.0803877100603028,
                    1.0532341031923953,
                    1.0511704290704342,
                    1.041286516170516,
                    1.0267321828893177,
                    1.024016822202527,
                    1.0219531480805657,
                    1.0097883322037433,
                    0.9990355038840518,
                    0.9486384095372157,
                    0.9484211806822724,
                    0.9251776932033436,
                    0.9039978798463757,
                    0.8892263177102341,
                    0.8843386684740107,
                    0.8585970491632344,
                    0.7840875519176962,
                    0.7586717758893349,
                    0.6971960099403923,
                    0.689375771162435,
                    0.6702596319274282,
                    0.6250760300992302,
                    0.5595815303338373,
                    0.5342743687329475,
                    0.49289227186625656,
                    0.4459708391985124,
                    0.4183827746207184,
                    0.3869932050814174,
                    0.3671167648541091,
                    0.31498183966772675,
                    0.29499678501294685,
                    0.2683862502823975,
                    0.25024764089463536,
                    0.20256590723458978,
                    0.17410892723702273,
                    0.15238604174269677,
                    0.14000399701093097,
                    0.12099647220339571,
                    0.1086144274716299,
                    0.09264810663330031,
                    0.06962184800931477,
                    0.05778287541490712,
                    0.046486974957857606,
                    0.03258432824148897,
                    0.027805293432737258,
                    0.017704151677875677,
                    0.01303373129659559,
                    0.010209756182333211,
                    0.008580539770258763,
                    0.004887649236223346,
                    0.004670420381280086,
                    0.0028239751142623776,
                    0.0016292164120744487,
                    0.0016292164120744487,
                    0.0011947587021879289,
                    0.0009775298472446694,
                    0.0006516865648297795,
                    0.00021722885494325982,
                    0.00021722885494325982,
                    0.00010861442747162991
                  ],
                  "textposition": "outside",
                  "texttemplate": "%{text:.2f}%",
                  "type": "bar",
                  "x": [
                    38,
                    37,
                    40,
                    39,
                    42,
                    36,
                    34,
                    35,
                    41,
                    20,
                    32,
                    45,
                    43,
                    33,
                    44,
                    19,
                    23,
                    31,
                    18,
                    50,
                    24,
                    25,
                    30,
                    22,
                    28,
                    21,
                    47,
                    26,
                    48,
                    46,
                    49,
                    51,
                    55,
                    27,
                    54,
                    17,
                    53,
                    56,
                    52,
                    15,
                    29,
                    16,
                    57,
                    14,
                    58,
                    60,
                    59,
                    5,
                    62,
                    61,
                    13,
                    12,
                    6,
                    63,
                    11,
                    10,
                    9,
                    65,
                    64,
                    7,
                    8,
                    66,
                    4,
                    2,
                    3,
                    67,
                    1,
                    68,
                    69,
                    70,
                    71,
                    72,
                    0,
                    73,
                    74,
                    75,
                    76,
                    77,
                    78,
                    80,
                    79,
                    81,
                    82,
                    83,
                    84,
                    85,
                    86,
                    87,
                    88,
                    89,
                    90,
                    91,
                    92,
                    93,
                    94,
                    95,
                    96,
                    97,
                    98,
                    99,
                    100,
                    101,
                    102,
                    103,
                    106,
                    105,
                    104,
                    111,
                    110,
                    107,
                    109,
                    108
                  ],
                  "xaxis": "x",
                  "y": [
                    1.7064412700067775,
                    1.6436621309281756,
                    1.638557252837009,
                    1.6299767130667502,
                    1.6219392454338493,
                    1.6144448499383068,
                    1.5973923848252611,
                    1.594459795283527,
                    1.5838155813913075,
                    1.5541638426915523,
                    1.534396016891716,
                    1.5286394522357194,
                    1.5250551761291555,
                    1.521145056740177,
                    1.5209278278852336,
                    1.5015944597952835,
                    1.5000738578106807,
                    1.4886693429261597,
                    1.4837816936899362,
                    1.4793285021635993,
                    1.479111273308656,
                    1.4757442260570357,
                    1.4723771788054152,
                    1.4707479623933406,
                    1.4457666440748658,
                    1.4408789948386425,
                    1.4314295396486105,
                    1.426324661557444,
                    1.4262160471299725,
                    1.4214370123212205,
                    1.4182871939245434,
                    1.4114444849938308,
                    1.4106841840015294,
                    1.4056879203378343,
                    1.4012347288114975,
                    1.3979762959873485,
                    1.3976504527049338,
                    1.3947178631631998,
                    1.389069912934675,
                    1.3851597935456963,
                    1.3633282936238986,
                    1.3273769181307893,
                    1.3199911370627184,
                    1.3007663834002399,
                    1.2524329631753646,
                    1.2438524234051058,
                    1.2229984533305527,
                    1.1836800305858228,
                    1.1459908242531671,
                    1.1430582347114333,
                    1.1265488417357454,
                    1.0809307821976608,
                    1.0803877100603028,
                    1.0532341031923953,
                    1.0511704290704342,
                    1.041286516170516,
                    1.0267321828893177,
                    1.024016822202527,
                    1.0219531480805657,
                    1.0097883322037433,
                    0.9990355038840518,
                    0.9486384095372157,
                    0.9484211806822724,
                    0.9251776932033436,
                    0.9039978798463757,
                    0.8892263177102341,
                    0.8843386684740107,
                    0.8585970491632344,
                    0.7840875519176962,
                    0.7586717758893349,
                    0.6971960099403923,
                    0.689375771162435,
                    0.6702596319274282,
                    0.6250760300992302,
                    0.5595815303338373,
                    0.5342743687329475,
                    0.49289227186625656,
                    0.4459708391985124,
                    0.4183827746207184,
                    0.3869932050814174,
                    0.3671167648541091,
                    0.31498183966772675,
                    0.29499678501294685,
                    0.2683862502823975,
                    0.25024764089463536,
                    0.20256590723458978,
                    0.17410892723702273,
                    0.15238604174269677,
                    0.14000399701093097,
                    0.12099647220339571,
                    0.1086144274716299,
                    0.09264810663330031,
                    0.06962184800931477,
                    0.05778287541490712,
                    0.046486974957857606,
                    0.03258432824148897,
                    0.027805293432737258,
                    0.017704151677875677,
                    0.01303373129659559,
                    0.010209756182333211,
                    0.008580539770258763,
                    0.004887649236223346,
                    0.004670420381280086,
                    0.0028239751142623776,
                    0.0016292164120744487,
                    0.0016292164120744487,
                    0.0011947587021879289,
                    0.0009775298472446694,
                    0.0006516865648297795,
                    0.00021722885494325982,
                    0.00021722885494325982,
                    0.00010861442747162991
                  ],
                  "yaxis": "y"
                }
              ],
              "layout": {
                "barmode": "relative",
                "coloraxis": {
                  "colorbar": {
                    "title": {
                      "text": "IDADE_MORADOR"
                    }
                  },
                  "colorscale": [
                    [
                      0,
                      "#0d0887"
                    ],
                    [
                      0.1111111111111111,
                      "#46039f"
                    ],
                    [
                      0.2222222222222222,
                      "#7201a8"
                    ],
                    [
                      0.3333333333333333,
                      "#9c179e"
                    ],
                    [
                      0.4444444444444444,
                      "#bd3786"
                    ],
                    [
                      0.5555555555555556,
                      "#d8576b"
                    ],
                    [
                      0.6666666666666666,
                      "#ed7953"
                    ],
                    [
                      0.7777777777777778,
                      "#fb9f3a"
                    ],
                    [
                      0.8888888888888888,
                      "#fdca26"
                    ],
                    [
                      1,
                      "#f0f921"
                    ]
                  ]
                },
                "legend": {
                  "tracegroupgap": 0
                },
                "margin": {
                  "t": 60
                },
                "template": {
                  "data": {
                    "bar": [
                      {
                        "error_x": {
                          "color": "#2a3f5f"
                        },
                        "error_y": {
                          "color": "#2a3f5f"
                        },
                        "marker": {
                          "line": {
                            "color": "#E5ECF6",
                            "width": 0.5
                          },
                          "pattern": {
                            "fillmode": "overlay",
                            "size": 10,
                            "solidity": 0.2
                          }
                        },
                        "type": "bar"
                      }
                    ],
                    "barpolar": [
                      {
                        "marker": {
                          "line": {
                            "color": "#E5ECF6",
                            "width": 0.5
                          },
                          "pattern": {
                            "fillmode": "overlay",
                            "size": 10,
                            "solidity": 0.2
                          }
                        },
                        "type": "barpolar"
                      }
                    ],
                    "carpet": [
                      {
                        "aaxis": {
                          "endlinecolor": "#2a3f5f",
                          "gridcolor": "white",
                          "linecolor": "white",
                          "minorgridcolor": "white",
                          "startlinecolor": "#2a3f5f"
                        },
                        "baxis": {
                          "endlinecolor": "#2a3f5f",
                          "gridcolor": "white",
                          "linecolor": "white",
                          "minorgridcolor": "white",
                          "startlinecolor": "#2a3f5f"
                        },
                        "type": "carpet"
                      }
                    ],
                    "choropleth": [
                      {
                        "colorbar": {
                          "outlinewidth": 0,
                          "ticks": ""
                        },
                        "type": "choropleth"
                      }
                    ],
                    "contour": [
                      {
                        "colorbar": {
                          "outlinewidth": 0,
                          "ticks": ""
                        },
                        "colorscale": [
                          [
                            0,
                            "#0d0887"
                          ],
                          [
                            0.1111111111111111,
                            "#46039f"
                          ],
                          [
                            0.2222222222222222,
                            "#7201a8"
                          ],
                          [
                            0.3333333333333333,
                            "#9c179e"
                          ],
                          [
                            0.4444444444444444,
                            "#bd3786"
                          ],
                          [
                            0.5555555555555556,
                            "#d8576b"
                          ],
                          [
                            0.6666666666666666,
                            "#ed7953"
                          ],
                          [
                            0.7777777777777778,
                            "#fb9f3a"
                          ],
                          [
                            0.8888888888888888,
                            "#fdca26"
                          ],
                          [
                            1,
                            "#f0f921"
                          ]
                        ],
                        "type": "contour"
                      }
                    ],
                    "contourcarpet": [
                      {
                        "colorbar": {
                          "outlinewidth": 0,
                          "ticks": ""
                        },
                        "type": "contourcarpet"
                      }
                    ],
                    "heatmap": [
                      {
                        "colorbar": {
                          "outlinewidth": 0,
                          "ticks": ""
                        },
                        "colorscale": [
                          [
                            0,
                            "#0d0887"
                          ],
                          [
                            0.1111111111111111,
                            "#46039f"
                          ],
                          [
                            0.2222222222222222,
                            "#7201a8"
                          ],
                          [
                            0.3333333333333333,
                            "#9c179e"
                          ],
                          [
                            0.4444444444444444,
                            "#bd3786"
                          ],
                          [
                            0.5555555555555556,
                            "#d8576b"
                          ],
                          [
                            0.6666666666666666,
                            "#ed7953"
                          ],
                          [
                            0.7777777777777778,
                            "#fb9f3a"
                          ],
                          [
                            0.8888888888888888,
                            "#fdca26"
                          ],
                          [
                            1,
                            "#f0f921"
                          ]
                        ],
                        "type": "heatmap"
                      }
                    ],
                    "heatmapgl": [
                      {
                        "colorbar": {
                          "outlinewidth": 0,
                          "ticks": ""
                        },
                        "colorscale": [
                          [
                            0,
                            "#0d0887"
                          ],
                          [
                            0.1111111111111111,
                            "#46039f"
                          ],
                          [
                            0.2222222222222222,
                            "#7201a8"
                          ],
                          [
                            0.3333333333333333,
                            "#9c179e"
                          ],
                          [
                            0.4444444444444444,
                            "#bd3786"
                          ],
                          [
                            0.5555555555555556,
                            "#d8576b"
                          ],
                          [
                            0.6666666666666666,
                            "#ed7953"
                          ],
                          [
                            0.7777777777777778,
                            "#fb9f3a"
                          ],
                          [
                            0.8888888888888888,
                            "#fdca26"
                          ],
                          [
                            1,
                            "#f0f921"
                          ]
                        ],
                        "type": "heatmapgl"
                      }
                    ],
                    "histogram": [
                      {
                        "marker": {
                          "pattern": {
                            "fillmode": "overlay",
                            "size": 10,
                            "solidity": 0.2
                          }
                        },
                        "type": "histogram"
                      }
                    ],
                    "histogram2d": [
                      {
                        "colorbar": {
                          "outlinewidth": 0,
                          "ticks": ""
                        },
                        "colorscale": [
                          [
                            0,
                            "#0d0887"
                          ],
                          [
                            0.1111111111111111,
                            "#46039f"
                          ],
                          [
                            0.2222222222222222,
                            "#7201a8"
                          ],
                          [
                            0.3333333333333333,
                            "#9c179e"
                          ],
                          [
                            0.4444444444444444,
                            "#bd3786"
                          ],
                          [
                            0.5555555555555556,
                            "#d8576b"
                          ],
                          [
                            0.6666666666666666,
                            "#ed7953"
                          ],
                          [
                            0.7777777777777778,
                            "#fb9f3a"
                          ],
                          [
                            0.8888888888888888,
                            "#fdca26"
                          ],
                          [
                            1,
                            "#f0f921"
                          ]
                        ],
                        "type": "histogram2d"
                      }
                    ],
                    "histogram2dcontour": [
                      {
                        "colorbar": {
                          "outlinewidth": 0,
                          "ticks": ""
                        },
                        "colorscale": [
                          [
                            0,
                            "#0d0887"
                          ],
                          [
                            0.1111111111111111,
                            "#46039f"
                          ],
                          [
                            0.2222222222222222,
                            "#7201a8"
                          ],
                          [
                            0.3333333333333333,
                            "#9c179e"
                          ],
                          [
                            0.4444444444444444,
                            "#bd3786"
                          ],
                          [
                            0.5555555555555556,
                            "#d8576b"
                          ],
                          [
                            0.6666666666666666,
                            "#ed7953"
                          ],
                          [
                            0.7777777777777778,
                            "#fb9f3a"
                          ],
                          [
                            0.8888888888888888,
                            "#fdca26"
                          ],
                          [
                            1,
                            "#f0f921"
                          ]
                        ],
                        "type": "histogram2dcontour"
                      }
                    ],
                    "mesh3d": [
                      {
                        "colorbar": {
                          "outlinewidth": 0,
                          "ticks": ""
                        },
                        "type": "mesh3d"
                      }
                    ],
                    "parcoords": [
                      {
                        "line": {
                          "colorbar": {
                            "outlinewidth": 0,
                            "ticks": ""
                          }
                        },
                        "type": "parcoords"
                      }
                    ],
                    "pie": [
                      {
                        "automargin": true,
                        "type": "pie"
                      }
                    ],
                    "scatter": [
                      {
                        "fillpattern": {
                          "fillmode": "overlay",
                          "size": 10,
                          "solidity": 0.2
                        },
                        "type": "scatter"
                      }
                    ],
                    "scatter3d": [
                      {
                        "line": {
                          "colorbar": {
                            "outlinewidth": 0,
                            "ticks": ""
                          }
                        },
                        "marker": {
                          "colorbar": {
                            "outlinewidth": 0,
                            "ticks": ""
                          }
                        },
                        "type": "scatter3d"
                      }
                    ],
                    "scattercarpet": [
                      {
                        "marker": {
                          "colorbar": {
                            "outlinewidth": 0,
                            "ticks": ""
                          }
                        },
                        "type": "scattercarpet"
                      }
                    ],
                    "scattergeo": [
                      {
                        "marker": {
                          "colorbar": {
                            "outlinewidth": 0,
                            "ticks": ""
                          }
                        },
                        "type": "scattergeo"
                      }
                    ],
                    "scattergl": [
                      {
                        "marker": {
                          "colorbar": {
                            "outlinewidth": 0,
                            "ticks": ""
                          }
                        },
                        "type": "scattergl"
                      }
                    ],
                    "scattermapbox": [
                      {
                        "marker": {
                          "colorbar": {
                            "outlinewidth": 0,
                            "ticks": ""
                          }
                        },
                        "type": "scattermapbox"
                      }
                    ],
                    "scatterpolar": [
                      {
                        "marker": {
                          "colorbar": {
                            "outlinewidth": 0,
                            "ticks": ""
                          }
                        },
                        "type": "scatterpolar"
                      }
                    ],
                    "scatterpolargl": [
                      {
                        "marker": {
                          "colorbar": {
                            "outlinewidth": 0,
                            "ticks": ""
                          }
                        },
                        "type": "scatterpolargl"
                      }
                    ],
                    "scatterternary": [
                      {
                        "marker": {
                          "colorbar": {
                            "outlinewidth": 0,
                            "ticks": ""
                          }
                        },
                        "type": "scatterternary"
                      }
                    ],
                    "surface": [
                      {
                        "colorbar": {
                          "outlinewidth": 0,
                          "ticks": ""
                        },
                        "colorscale": [
                          [
                            0,
                            "#0d0887"
                          ],
                          [
                            0.1111111111111111,
                            "#46039f"
                          ],
                          [
                            0.2222222222222222,
                            "#7201a8"
                          ],
                          [
                            0.3333333333333333,
                            "#9c179e"
                          ],
                          [
                            0.4444444444444444,
                            "#bd3786"
                          ],
                          [
                            0.5555555555555556,
                            "#d8576b"
                          ],
                          [
                            0.6666666666666666,
                            "#ed7953"
                          ],
                          [
                            0.7777777777777778,
                            "#fb9f3a"
                          ],
                          [
                            0.8888888888888888,
                            "#fdca26"
                          ],
                          [
                            1,
                            "#f0f921"
                          ]
                        ],
                        "type": "surface"
                      }
                    ],
                    "table": [
                      {
                        "cells": {
                          "fill": {
                            "color": "#EBF0F8"
                          },
                          "line": {
                            "color": "white"
                          }
                        },
                        "header": {
                          "fill": {
                            "color": "#C8D4E3"
                          },
                          "line": {
                            "color": "white"
                          }
                        },
                        "type": "table"
                      }
                    ]
                  },
                  "layout": {
                    "annotationdefaults": {
                      "arrowcolor": "#2a3f5f",
                      "arrowhead": 0,
                      "arrowwidth": 1
                    },
                    "autotypenumbers": "strict",
                    "coloraxis": {
                      "colorbar": {
                        "outlinewidth": 0,
                        "ticks": ""
                      }
                    },
                    "colorscale": {
                      "diverging": [
                        [
                          0,
                          "#8e0152"
                        ],
                        [
                          0.1,
                          "#c51b7d"
                        ],
                        [
                          0.2,
                          "#de77ae"
                        ],
                        [
                          0.3,
                          "#f1b6da"
                        ],
                        [
                          0.4,
                          "#fde0ef"
                        ],
                        [
                          0.5,
                          "#f7f7f7"
                        ],
                        [
                          0.6,
                          "#e6f5d0"
                        ],
                        [
                          0.7,
                          "#b8e186"
                        ],
                        [
                          0.8,
                          "#7fbc41"
                        ],
                        [
                          0.9,
                          "#4d9221"
                        ],
                        [
                          1,
                          "#276419"
                        ]
                      ],
                      "sequential": [
                        [
                          0,
                          "#0d0887"
                        ],
                        [
                          0.1111111111111111,
                          "#46039f"
                        ],
                        [
                          0.2222222222222222,
                          "#7201a8"
                        ],
                        [
                          0.3333333333333333,
                          "#9c179e"
                        ],
                        [
                          0.4444444444444444,
                          "#bd3786"
                        ],
                        [
                          0.5555555555555556,
                          "#d8576b"
                        ],
                        [
                          0.6666666666666666,
                          "#ed7953"
                        ],
                        [
                          0.7777777777777778,
                          "#fb9f3a"
                        ],
                        [
                          0.8888888888888888,
                          "#fdca26"
                        ],
                        [
                          1,
                          "#f0f921"
                        ]
                      ],
                      "sequentialminus": [
                        [
                          0,
                          "#0d0887"
                        ],
                        [
                          0.1111111111111111,
                          "#46039f"
                        ],
                        [
                          0.2222222222222222,
                          "#7201a8"
                        ],
                        [
                          0.3333333333333333,
                          "#9c179e"
                        ],
                        [
                          0.4444444444444444,
                          "#bd3786"
                        ],
                        [
                          0.5555555555555556,
                          "#d8576b"
                        ],
                        [
                          0.6666666666666666,
                          "#ed7953"
                        ],
                        [
                          0.7777777777777778,
                          "#fb9f3a"
                        ],
                        [
                          0.8888888888888888,
                          "#fdca26"
                        ],
                        [
                          1,
                          "#f0f921"
                        ]
                      ]
                    },
                    "colorway": [
                      "#636efa",
                      "#EF553B",
                      "#00cc96",
                      "#ab63fa",
                      "#FFA15A",
                      "#19d3f3",
                      "#FF6692",
                      "#B6E880",
                      "#FF97FF",
                      "#FECB52"
                    ],
                    "font": {
                      "color": "#2a3f5f"
                    },
                    "geo": {
                      "bgcolor": "white",
                      "lakecolor": "white",
                      "landcolor": "#E5ECF6",
                      "showlakes": true,
                      "showland": true,
                      "subunitcolor": "white"
                    },
                    "hoverlabel": {
                      "align": "left"
                    },
                    "hovermode": "closest",
                    "mapbox": {
                      "style": "light"
                    },
                    "paper_bgcolor": "white",
                    "plot_bgcolor": "#E5ECF6",
                    "polar": {
                      "angularaxis": {
                        "gridcolor": "white",
                        "linecolor": "white",
                        "ticks": ""
                      },
                      "bgcolor": "#E5ECF6",
                      "radialaxis": {
                        "gridcolor": "white",
                        "linecolor": "white",
                        "ticks": ""
                      }
                    },
                    "scene": {
                      "xaxis": {
                        "backgroundcolor": "#E5ECF6",
                        "gridcolor": "white",
                        "gridwidth": 2,
                        "linecolor": "white",
                        "showbackground": true,
                        "ticks": "",
                        "zerolinecolor": "white"
                      },
                      "yaxis": {
                        "backgroundcolor": "#E5ECF6",
                        "gridcolor": "white",
                        "gridwidth": 2,
                        "linecolor": "white",
                        "showbackground": true,
                        "ticks": "",
                        "zerolinecolor": "white"
                      },
                      "zaxis": {
                        "backgroundcolor": "#E5ECF6",
                        "gridcolor": "white",
                        "gridwidth": 2,
                        "linecolor": "white",
                        "showbackground": true,
                        "ticks": "",
                        "zerolinecolor": "white"
                      }
                    },
                    "shapedefaults": {
                      "line": {
                        "color": "#2a3f5f"
                      }
                    },
                    "ternary": {
                      "aaxis": {
                        "gridcolor": "white",
                        "linecolor": "white",
                        "ticks": ""
                      },
                      "baxis": {
                        "gridcolor": "white",
                        "linecolor": "white",
                        "ticks": ""
                      },
                      "bgcolor": "#E5ECF6",
                      "caxis": {
                        "gridcolor": "white",
                        "linecolor": "white",
                        "ticks": ""
                      }
                    },
                    "title": {
                      "x": 0.05
                    },
                    "xaxis": {
                      "automargin": true,
                      "gridcolor": "white",
                      "linecolor": "white",
                      "ticks": "",
                      "title": {
                        "standoff": 15
                      },
                      "zerolinecolor": "white",
                      "zerolinewidth": 2
                    },
                    "yaxis": {
                      "automargin": true,
                      "gridcolor": "white",
                      "linecolor": "white",
                      "ticks": "",
                      "title": {
                        "standoff": 15
                      },
                      "zerolinecolor": "white",
                      "zerolinewidth": 2
                    }
                  }
                },
                "title": {
                  "text": "Distribuição De Registro de Casos Investigados Por idade"
                },
                "xaxis": {
                  "anchor": "y",
                  "domain": [
                    0,
                    1
                  ],
                  "title": {}
                },
                "yaxis": {
                  "anchor": "x",
                  "domain": [
                    0,
                    1
                  ],
                  "title": {
                    "text": "Porcentagem"
                  }
                }
              }
            }
          },
          "metadata": {},
          "output_type": "display_data"
        }
      ],
      "source": [
        "plot_bar(df, \"IDADE_MORADOR\", title='Distribuição De Registro de Casos Investigados Por idade')"
      ]
    },
    {
      "cell_type": "code",
      "execution_count": 13,
      "metadata": {
        "colab": {
          "base_uri": "https://localhost:8080/",
          "height": 542
        },
        "id": "g3sXHsiGio6V",
        "outputId": "d2b577be-50a4-43c9-8aad-f71832395976"
      },
      "outputs": [
        {
          "name": "stderr",
          "output_type": "stream",
          "text": [
            "c:\\Program Files\\Python311\\Lib\\site-packages\\plotly\\express\\_core.py:2044: FutureWarning:\n",
            "\n",
            "The default of observed=False is deprecated and will be changed to True in a future version of pandas. Pass observed=False to retain current behavior or observed=True to adopt the future default and silence this warning.\n",
            "\n"
          ]
        },
        {
          "data": {
            "application/vnd.plotly.v1+json": {
              "config": {
                "plotlyServerURL": "https://plot.ly"
              },
              "data": [
                {
                  "alignmentgroup": "True",
                  "hovertemplate": "FAIXA_ETARIA=%{x}<br>Porcentagem=%{text}<extra></extra>",
                  "legendgroup": "Adulto",
                  "marker": {
                    "color": "#636efa",
                    "pattern": {
                      "shape": ""
                    }
                  },
                  "name": "Adulto",
                  "offsetgroup": "Adulto",
                  "orientation": "v",
                  "showlegend": true,
                  "text": [
                    35.761843317171504
                  ],
                  "textposition": "outside",
                  "texttemplate": "%{text:.2f}%",
                  "type": "bar",
                  "x": [
                    "Adulto"
                  ],
                  "xaxis": "x",
                  "y": [
                    35.761843317171504
                  ],
                  "yaxis": "y"
                },
                {
                  "alignmentgroup": "True",
                  "hovertemplate": "FAIXA_ETARIA=%{x}<br>Porcentagem=%{text}<extra></extra>",
                  "legendgroup": "Jovem",
                  "marker": {
                    "color": "#EF553B",
                    "pattern": {
                      "shape": ""
                    }
                  },
                  "name": "Jovem",
                  "offsetgroup": "Jovem",
                  "orientation": "v",
                  "showlegend": true,
                  "text": [
                    26.559160106355247
                  ],
                  "textposition": "outside",
                  "texttemplate": "%{text:.2f}%",
                  "type": "bar",
                  "x": [
                    "Jovem"
                  ],
                  "xaxis": "x",
                  "y": [
                    26.559160106355247
                  ],
                  "yaxis": "y"
                },
                {
                  "alignmentgroup": "True",
                  "hovertemplate": "FAIXA_ETARIA=%{x}<br>Porcentagem=%{text}<extra></extra>",
                  "legendgroup": "Idoso",
                  "marker": {
                    "color": "#00cc96",
                    "pattern": {
                      "shape": ""
                    }
                  },
                  "name": "Idoso",
                  "offsetgroup": "Idoso",
                  "orientation": "v",
                  "showlegend": true,
                  "text": [
                    19.733938098465494
                  ],
                  "textposition": "outside",
                  "texttemplate": "%{text:.2f}%",
                  "type": "bar",
                  "x": [
                    "Idoso"
                  ],
                  "xaxis": "x",
                  "y": [
                    19.733938098465494
                  ],
                  "yaxis": "y"
                },
                {
                  "alignmentgroup": "True",
                  "hovertemplate": "FAIXA_ETARIA=%{x}<br>Porcentagem=%{text}<extra></extra>",
                  "legendgroup": "Criança",
                  "marker": {
                    "color": "#ab63fa",
                    "pattern": {
                      "shape": ""
                    }
                  },
                  "name": "Criança",
                  "offsetgroup": "Criança",
                  "orientation": "v",
                  "showlegend": true,
                  "text": [
                    11.724275758997619
                  ],
                  "textposition": "outside",
                  "texttemplate": "%{text:.2f}%",
                  "type": "bar",
                  "x": [
                    "Criança"
                  ],
                  "xaxis": "x",
                  "y": [
                    11.724275758997619
                  ],
                  "yaxis": "y"
                },
                {
                  "alignmentgroup": "True",
                  "hovertemplate": "FAIXA_ETARIA=%{x}<br>Porcentagem=%{text}<extra></extra>",
                  "legendgroup": "Adolescente",
                  "marker": {
                    "color": "#FFA15A",
                    "pattern": {
                      "shape": ""
                    }
                  },
                  "name": "Adolescente",
                  "offsetgroup": "Adolescente",
                  "orientation": "v",
                  "showlegend": true,
                  "text": [
                    6.220782719010131
                  ],
                  "textposition": "outside",
                  "texttemplate": "%{text:.2f}%",
                  "type": "bar",
                  "x": [
                    "Adolescente"
                  ],
                  "xaxis": "x",
                  "y": [
                    6.220782719010131
                  ],
                  "yaxis": "y"
                }
              ],
              "layout": {
                "barmode": "relative",
                "legend": {
                  "title": {
                    "text": "FAIXA_ETARIA"
                  },
                  "tracegroupgap": 0
                },
                "margin": {
                  "t": 60
                },
                "template": {
                  "data": {
                    "bar": [
                      {
                        "error_x": {
                          "color": "#2a3f5f"
                        },
                        "error_y": {
                          "color": "#2a3f5f"
                        },
                        "marker": {
                          "line": {
                            "color": "#E5ECF6",
                            "width": 0.5
                          },
                          "pattern": {
                            "fillmode": "overlay",
                            "size": 10,
                            "solidity": 0.2
                          }
                        },
                        "type": "bar"
                      }
                    ],
                    "barpolar": [
                      {
                        "marker": {
                          "line": {
                            "color": "#E5ECF6",
                            "width": 0.5
                          },
                          "pattern": {
                            "fillmode": "overlay",
                            "size": 10,
                            "solidity": 0.2
                          }
                        },
                        "type": "barpolar"
                      }
                    ],
                    "carpet": [
                      {
                        "aaxis": {
                          "endlinecolor": "#2a3f5f",
                          "gridcolor": "white",
                          "linecolor": "white",
                          "minorgridcolor": "white",
                          "startlinecolor": "#2a3f5f"
                        },
                        "baxis": {
                          "endlinecolor": "#2a3f5f",
                          "gridcolor": "white",
                          "linecolor": "white",
                          "minorgridcolor": "white",
                          "startlinecolor": "#2a3f5f"
                        },
                        "type": "carpet"
                      }
                    ],
                    "choropleth": [
                      {
                        "colorbar": {
                          "outlinewidth": 0,
                          "ticks": ""
                        },
                        "type": "choropleth"
                      }
                    ],
                    "contour": [
                      {
                        "colorbar": {
                          "outlinewidth": 0,
                          "ticks": ""
                        },
                        "colorscale": [
                          [
                            0,
                            "#0d0887"
                          ],
                          [
                            0.1111111111111111,
                            "#46039f"
                          ],
                          [
                            0.2222222222222222,
                            "#7201a8"
                          ],
                          [
                            0.3333333333333333,
                            "#9c179e"
                          ],
                          [
                            0.4444444444444444,
                            "#bd3786"
                          ],
                          [
                            0.5555555555555556,
                            "#d8576b"
                          ],
                          [
                            0.6666666666666666,
                            "#ed7953"
                          ],
                          [
                            0.7777777777777778,
                            "#fb9f3a"
                          ],
                          [
                            0.8888888888888888,
                            "#fdca26"
                          ],
                          [
                            1,
                            "#f0f921"
                          ]
                        ],
                        "type": "contour"
                      }
                    ],
                    "contourcarpet": [
                      {
                        "colorbar": {
                          "outlinewidth": 0,
                          "ticks": ""
                        },
                        "type": "contourcarpet"
                      }
                    ],
                    "heatmap": [
                      {
                        "colorbar": {
                          "outlinewidth": 0,
                          "ticks": ""
                        },
                        "colorscale": [
                          [
                            0,
                            "#0d0887"
                          ],
                          [
                            0.1111111111111111,
                            "#46039f"
                          ],
                          [
                            0.2222222222222222,
                            "#7201a8"
                          ],
                          [
                            0.3333333333333333,
                            "#9c179e"
                          ],
                          [
                            0.4444444444444444,
                            "#bd3786"
                          ],
                          [
                            0.5555555555555556,
                            "#d8576b"
                          ],
                          [
                            0.6666666666666666,
                            "#ed7953"
                          ],
                          [
                            0.7777777777777778,
                            "#fb9f3a"
                          ],
                          [
                            0.8888888888888888,
                            "#fdca26"
                          ],
                          [
                            1,
                            "#f0f921"
                          ]
                        ],
                        "type": "heatmap"
                      }
                    ],
                    "heatmapgl": [
                      {
                        "colorbar": {
                          "outlinewidth": 0,
                          "ticks": ""
                        },
                        "colorscale": [
                          [
                            0,
                            "#0d0887"
                          ],
                          [
                            0.1111111111111111,
                            "#46039f"
                          ],
                          [
                            0.2222222222222222,
                            "#7201a8"
                          ],
                          [
                            0.3333333333333333,
                            "#9c179e"
                          ],
                          [
                            0.4444444444444444,
                            "#bd3786"
                          ],
                          [
                            0.5555555555555556,
                            "#d8576b"
                          ],
                          [
                            0.6666666666666666,
                            "#ed7953"
                          ],
                          [
                            0.7777777777777778,
                            "#fb9f3a"
                          ],
                          [
                            0.8888888888888888,
                            "#fdca26"
                          ],
                          [
                            1,
                            "#f0f921"
                          ]
                        ],
                        "type": "heatmapgl"
                      }
                    ],
                    "histogram": [
                      {
                        "marker": {
                          "pattern": {
                            "fillmode": "overlay",
                            "size": 10,
                            "solidity": 0.2
                          }
                        },
                        "type": "histogram"
                      }
                    ],
                    "histogram2d": [
                      {
                        "colorbar": {
                          "outlinewidth": 0,
                          "ticks": ""
                        },
                        "colorscale": [
                          [
                            0,
                            "#0d0887"
                          ],
                          [
                            0.1111111111111111,
                            "#46039f"
                          ],
                          [
                            0.2222222222222222,
                            "#7201a8"
                          ],
                          [
                            0.3333333333333333,
                            "#9c179e"
                          ],
                          [
                            0.4444444444444444,
                            "#bd3786"
                          ],
                          [
                            0.5555555555555556,
                            "#d8576b"
                          ],
                          [
                            0.6666666666666666,
                            "#ed7953"
                          ],
                          [
                            0.7777777777777778,
                            "#fb9f3a"
                          ],
                          [
                            0.8888888888888888,
                            "#fdca26"
                          ],
                          [
                            1,
                            "#f0f921"
                          ]
                        ],
                        "type": "histogram2d"
                      }
                    ],
                    "histogram2dcontour": [
                      {
                        "colorbar": {
                          "outlinewidth": 0,
                          "ticks": ""
                        },
                        "colorscale": [
                          [
                            0,
                            "#0d0887"
                          ],
                          [
                            0.1111111111111111,
                            "#46039f"
                          ],
                          [
                            0.2222222222222222,
                            "#7201a8"
                          ],
                          [
                            0.3333333333333333,
                            "#9c179e"
                          ],
                          [
                            0.4444444444444444,
                            "#bd3786"
                          ],
                          [
                            0.5555555555555556,
                            "#d8576b"
                          ],
                          [
                            0.6666666666666666,
                            "#ed7953"
                          ],
                          [
                            0.7777777777777778,
                            "#fb9f3a"
                          ],
                          [
                            0.8888888888888888,
                            "#fdca26"
                          ],
                          [
                            1,
                            "#f0f921"
                          ]
                        ],
                        "type": "histogram2dcontour"
                      }
                    ],
                    "mesh3d": [
                      {
                        "colorbar": {
                          "outlinewidth": 0,
                          "ticks": ""
                        },
                        "type": "mesh3d"
                      }
                    ],
                    "parcoords": [
                      {
                        "line": {
                          "colorbar": {
                            "outlinewidth": 0,
                            "ticks": ""
                          }
                        },
                        "type": "parcoords"
                      }
                    ],
                    "pie": [
                      {
                        "automargin": true,
                        "type": "pie"
                      }
                    ],
                    "scatter": [
                      {
                        "fillpattern": {
                          "fillmode": "overlay",
                          "size": 10,
                          "solidity": 0.2
                        },
                        "type": "scatter"
                      }
                    ],
                    "scatter3d": [
                      {
                        "line": {
                          "colorbar": {
                            "outlinewidth": 0,
                            "ticks": ""
                          }
                        },
                        "marker": {
                          "colorbar": {
                            "outlinewidth": 0,
                            "ticks": ""
                          }
                        },
                        "type": "scatter3d"
                      }
                    ],
                    "scattercarpet": [
                      {
                        "marker": {
                          "colorbar": {
                            "outlinewidth": 0,
                            "ticks": ""
                          }
                        },
                        "type": "scattercarpet"
                      }
                    ],
                    "scattergeo": [
                      {
                        "marker": {
                          "colorbar": {
                            "outlinewidth": 0,
                            "ticks": ""
                          }
                        },
                        "type": "scattergeo"
                      }
                    ],
                    "scattergl": [
                      {
                        "marker": {
                          "colorbar": {
                            "outlinewidth": 0,
                            "ticks": ""
                          }
                        },
                        "type": "scattergl"
                      }
                    ],
                    "scattermapbox": [
                      {
                        "marker": {
                          "colorbar": {
                            "outlinewidth": 0,
                            "ticks": ""
                          }
                        },
                        "type": "scattermapbox"
                      }
                    ],
                    "scatterpolar": [
                      {
                        "marker": {
                          "colorbar": {
                            "outlinewidth": 0,
                            "ticks": ""
                          }
                        },
                        "type": "scatterpolar"
                      }
                    ],
                    "scatterpolargl": [
                      {
                        "marker": {
                          "colorbar": {
                            "outlinewidth": 0,
                            "ticks": ""
                          }
                        },
                        "type": "scatterpolargl"
                      }
                    ],
                    "scatterternary": [
                      {
                        "marker": {
                          "colorbar": {
                            "outlinewidth": 0,
                            "ticks": ""
                          }
                        },
                        "type": "scatterternary"
                      }
                    ],
                    "surface": [
                      {
                        "colorbar": {
                          "outlinewidth": 0,
                          "ticks": ""
                        },
                        "colorscale": [
                          [
                            0,
                            "#0d0887"
                          ],
                          [
                            0.1111111111111111,
                            "#46039f"
                          ],
                          [
                            0.2222222222222222,
                            "#7201a8"
                          ],
                          [
                            0.3333333333333333,
                            "#9c179e"
                          ],
                          [
                            0.4444444444444444,
                            "#bd3786"
                          ],
                          [
                            0.5555555555555556,
                            "#d8576b"
                          ],
                          [
                            0.6666666666666666,
                            "#ed7953"
                          ],
                          [
                            0.7777777777777778,
                            "#fb9f3a"
                          ],
                          [
                            0.8888888888888888,
                            "#fdca26"
                          ],
                          [
                            1,
                            "#f0f921"
                          ]
                        ],
                        "type": "surface"
                      }
                    ],
                    "table": [
                      {
                        "cells": {
                          "fill": {
                            "color": "#EBF0F8"
                          },
                          "line": {
                            "color": "white"
                          }
                        },
                        "header": {
                          "fill": {
                            "color": "#C8D4E3"
                          },
                          "line": {
                            "color": "white"
                          }
                        },
                        "type": "table"
                      }
                    ]
                  },
                  "layout": {
                    "annotationdefaults": {
                      "arrowcolor": "#2a3f5f",
                      "arrowhead": 0,
                      "arrowwidth": 1
                    },
                    "autotypenumbers": "strict",
                    "coloraxis": {
                      "colorbar": {
                        "outlinewidth": 0,
                        "ticks": ""
                      }
                    },
                    "colorscale": {
                      "diverging": [
                        [
                          0,
                          "#8e0152"
                        ],
                        [
                          0.1,
                          "#c51b7d"
                        ],
                        [
                          0.2,
                          "#de77ae"
                        ],
                        [
                          0.3,
                          "#f1b6da"
                        ],
                        [
                          0.4,
                          "#fde0ef"
                        ],
                        [
                          0.5,
                          "#f7f7f7"
                        ],
                        [
                          0.6,
                          "#e6f5d0"
                        ],
                        [
                          0.7,
                          "#b8e186"
                        ],
                        [
                          0.8,
                          "#7fbc41"
                        ],
                        [
                          0.9,
                          "#4d9221"
                        ],
                        [
                          1,
                          "#276419"
                        ]
                      ],
                      "sequential": [
                        [
                          0,
                          "#0d0887"
                        ],
                        [
                          0.1111111111111111,
                          "#46039f"
                        ],
                        [
                          0.2222222222222222,
                          "#7201a8"
                        ],
                        [
                          0.3333333333333333,
                          "#9c179e"
                        ],
                        [
                          0.4444444444444444,
                          "#bd3786"
                        ],
                        [
                          0.5555555555555556,
                          "#d8576b"
                        ],
                        [
                          0.6666666666666666,
                          "#ed7953"
                        ],
                        [
                          0.7777777777777778,
                          "#fb9f3a"
                        ],
                        [
                          0.8888888888888888,
                          "#fdca26"
                        ],
                        [
                          1,
                          "#f0f921"
                        ]
                      ],
                      "sequentialminus": [
                        [
                          0,
                          "#0d0887"
                        ],
                        [
                          0.1111111111111111,
                          "#46039f"
                        ],
                        [
                          0.2222222222222222,
                          "#7201a8"
                        ],
                        [
                          0.3333333333333333,
                          "#9c179e"
                        ],
                        [
                          0.4444444444444444,
                          "#bd3786"
                        ],
                        [
                          0.5555555555555556,
                          "#d8576b"
                        ],
                        [
                          0.6666666666666666,
                          "#ed7953"
                        ],
                        [
                          0.7777777777777778,
                          "#fb9f3a"
                        ],
                        [
                          0.8888888888888888,
                          "#fdca26"
                        ],
                        [
                          1,
                          "#f0f921"
                        ]
                      ]
                    },
                    "colorway": [
                      "#636efa",
                      "#EF553B",
                      "#00cc96",
                      "#ab63fa",
                      "#FFA15A",
                      "#19d3f3",
                      "#FF6692",
                      "#B6E880",
                      "#FF97FF",
                      "#FECB52"
                    ],
                    "font": {
                      "color": "#2a3f5f"
                    },
                    "geo": {
                      "bgcolor": "white",
                      "lakecolor": "white",
                      "landcolor": "#E5ECF6",
                      "showlakes": true,
                      "showland": true,
                      "subunitcolor": "white"
                    },
                    "hoverlabel": {
                      "align": "left"
                    },
                    "hovermode": "closest",
                    "mapbox": {
                      "style": "light"
                    },
                    "paper_bgcolor": "white",
                    "plot_bgcolor": "#E5ECF6",
                    "polar": {
                      "angularaxis": {
                        "gridcolor": "white",
                        "linecolor": "white",
                        "ticks": ""
                      },
                      "bgcolor": "#E5ECF6",
                      "radialaxis": {
                        "gridcolor": "white",
                        "linecolor": "white",
                        "ticks": ""
                      }
                    },
                    "scene": {
                      "xaxis": {
                        "backgroundcolor": "#E5ECF6",
                        "gridcolor": "white",
                        "gridwidth": 2,
                        "linecolor": "white",
                        "showbackground": true,
                        "ticks": "",
                        "zerolinecolor": "white"
                      },
                      "yaxis": {
                        "backgroundcolor": "#E5ECF6",
                        "gridcolor": "white",
                        "gridwidth": 2,
                        "linecolor": "white",
                        "showbackground": true,
                        "ticks": "",
                        "zerolinecolor": "white"
                      },
                      "zaxis": {
                        "backgroundcolor": "#E5ECF6",
                        "gridcolor": "white",
                        "gridwidth": 2,
                        "linecolor": "white",
                        "showbackground": true,
                        "ticks": "",
                        "zerolinecolor": "white"
                      }
                    },
                    "shapedefaults": {
                      "line": {
                        "color": "#2a3f5f"
                      }
                    },
                    "ternary": {
                      "aaxis": {
                        "gridcolor": "white",
                        "linecolor": "white",
                        "ticks": ""
                      },
                      "baxis": {
                        "gridcolor": "white",
                        "linecolor": "white",
                        "ticks": ""
                      },
                      "bgcolor": "#E5ECF6",
                      "caxis": {
                        "gridcolor": "white",
                        "linecolor": "white",
                        "ticks": ""
                      }
                    },
                    "title": {
                      "x": 0.05
                    },
                    "xaxis": {
                      "automargin": true,
                      "gridcolor": "white",
                      "linecolor": "white",
                      "ticks": "",
                      "title": {
                        "standoff": 15
                      },
                      "zerolinecolor": "white",
                      "zerolinewidth": 2
                    },
                    "yaxis": {
                      "automargin": true,
                      "gridcolor": "white",
                      "linecolor": "white",
                      "ticks": "",
                      "title": {
                        "standoff": 15
                      },
                      "zerolinecolor": "white",
                      "zerolinewidth": 2
                    }
                  }
                },
                "title": {
                  "text": "Distribuição De Casos Investigados Por Faixa Etaria"
                },
                "xaxis": {
                  "anchor": "y",
                  "categoryarray": [
                    "Adulto",
                    "Jovem",
                    "Idoso",
                    "Criança",
                    "Adolescente"
                  ],
                  "categoryorder": "array",
                  "domain": [
                    0,
                    1
                  ],
                  "title": {}
                },
                "yaxis": {
                  "anchor": "x",
                  "domain": [
                    0,
                    1
                  ],
                  "title": {
                    "text": "Porcentagem"
                  }
                }
              }
            }
          },
          "metadata": {},
          "output_type": "display_data"
        }
      ],
      "source": [
        "plot_bar(df, \"FAIXA_ETARIA\", title = 'Distribuição De Casos Investigados Por Faixa Etaria')"
      ]
    },
    {
      "cell_type": "code",
      "execution_count": 14,
      "metadata": {
        "colab": {
          "base_uri": "https://localhost:8080/",
          "height": 542
        },
        "id": "f_dBp5EzjHem",
        "outputId": "5c6002da-e8c5-4dab-b460-9bc023d0a4ce"
      },
      "outputs": [
        {
          "data": {
            "application/vnd.plotly.v1+json": {
              "config": {
                "plotlyServerURL": "https://plot.ly"
              },
              "data": [
                {
                  "alignmentgroup": "True",
                  "hovertemplate": "SEXO=%{x}<br>Porcentagem=%{text}<extra></extra>",
                  "legendgroup": "Mulher",
                  "marker": {
                    "color": "#636efa",
                    "pattern": {
                      "shape": ""
                    }
                  },
                  "name": "Mulher",
                  "offsetgroup": "Mulher",
                  "orientation": "v",
                  "showlegend": true,
                  "text": [
                    52.11765549241437
                  ],
                  "textposition": "outside",
                  "texttemplate": "%{text:.2f}%",
                  "type": "bar",
                  "x": [
                    "Mulher"
                  ],
                  "xaxis": "x",
                  "y": [
                    52.11765549241437
                  ],
                  "yaxis": "y"
                },
                {
                  "alignmentgroup": "True",
                  "hovertemplate": "SEXO=%{x}<br>Porcentagem=%{text}<extra></extra>",
                  "legendgroup": "Homem",
                  "marker": {
                    "color": "#EF553B",
                    "pattern": {
                      "shape": ""
                    }
                  },
                  "name": "Homem",
                  "offsetgroup": "Homem",
                  "orientation": "v",
                  "showlegend": true,
                  "text": [
                    47.882344507585636
                  ],
                  "textposition": "outside",
                  "texttemplate": "%{text:.2f}%",
                  "type": "bar",
                  "x": [
                    "Homem"
                  ],
                  "xaxis": "x",
                  "y": [
                    47.882344507585636
                  ],
                  "yaxis": "y"
                }
              ],
              "layout": {
                "barmode": "relative",
                "legend": {
                  "title": {
                    "text": "SEXO"
                  },
                  "tracegroupgap": 0
                },
                "margin": {
                  "t": 60
                },
                "template": {
                  "data": {
                    "bar": [
                      {
                        "error_x": {
                          "color": "#2a3f5f"
                        },
                        "error_y": {
                          "color": "#2a3f5f"
                        },
                        "marker": {
                          "line": {
                            "color": "#E5ECF6",
                            "width": 0.5
                          },
                          "pattern": {
                            "fillmode": "overlay",
                            "size": 10,
                            "solidity": 0.2
                          }
                        },
                        "type": "bar"
                      }
                    ],
                    "barpolar": [
                      {
                        "marker": {
                          "line": {
                            "color": "#E5ECF6",
                            "width": 0.5
                          },
                          "pattern": {
                            "fillmode": "overlay",
                            "size": 10,
                            "solidity": 0.2
                          }
                        },
                        "type": "barpolar"
                      }
                    ],
                    "carpet": [
                      {
                        "aaxis": {
                          "endlinecolor": "#2a3f5f",
                          "gridcolor": "white",
                          "linecolor": "white",
                          "minorgridcolor": "white",
                          "startlinecolor": "#2a3f5f"
                        },
                        "baxis": {
                          "endlinecolor": "#2a3f5f",
                          "gridcolor": "white",
                          "linecolor": "white",
                          "minorgridcolor": "white",
                          "startlinecolor": "#2a3f5f"
                        },
                        "type": "carpet"
                      }
                    ],
                    "choropleth": [
                      {
                        "colorbar": {
                          "outlinewidth": 0,
                          "ticks": ""
                        },
                        "type": "choropleth"
                      }
                    ],
                    "contour": [
                      {
                        "colorbar": {
                          "outlinewidth": 0,
                          "ticks": ""
                        },
                        "colorscale": [
                          [
                            0,
                            "#0d0887"
                          ],
                          [
                            0.1111111111111111,
                            "#46039f"
                          ],
                          [
                            0.2222222222222222,
                            "#7201a8"
                          ],
                          [
                            0.3333333333333333,
                            "#9c179e"
                          ],
                          [
                            0.4444444444444444,
                            "#bd3786"
                          ],
                          [
                            0.5555555555555556,
                            "#d8576b"
                          ],
                          [
                            0.6666666666666666,
                            "#ed7953"
                          ],
                          [
                            0.7777777777777778,
                            "#fb9f3a"
                          ],
                          [
                            0.8888888888888888,
                            "#fdca26"
                          ],
                          [
                            1,
                            "#f0f921"
                          ]
                        ],
                        "type": "contour"
                      }
                    ],
                    "contourcarpet": [
                      {
                        "colorbar": {
                          "outlinewidth": 0,
                          "ticks": ""
                        },
                        "type": "contourcarpet"
                      }
                    ],
                    "heatmap": [
                      {
                        "colorbar": {
                          "outlinewidth": 0,
                          "ticks": ""
                        },
                        "colorscale": [
                          [
                            0,
                            "#0d0887"
                          ],
                          [
                            0.1111111111111111,
                            "#46039f"
                          ],
                          [
                            0.2222222222222222,
                            "#7201a8"
                          ],
                          [
                            0.3333333333333333,
                            "#9c179e"
                          ],
                          [
                            0.4444444444444444,
                            "#bd3786"
                          ],
                          [
                            0.5555555555555556,
                            "#d8576b"
                          ],
                          [
                            0.6666666666666666,
                            "#ed7953"
                          ],
                          [
                            0.7777777777777778,
                            "#fb9f3a"
                          ],
                          [
                            0.8888888888888888,
                            "#fdca26"
                          ],
                          [
                            1,
                            "#f0f921"
                          ]
                        ],
                        "type": "heatmap"
                      }
                    ],
                    "heatmapgl": [
                      {
                        "colorbar": {
                          "outlinewidth": 0,
                          "ticks": ""
                        },
                        "colorscale": [
                          [
                            0,
                            "#0d0887"
                          ],
                          [
                            0.1111111111111111,
                            "#46039f"
                          ],
                          [
                            0.2222222222222222,
                            "#7201a8"
                          ],
                          [
                            0.3333333333333333,
                            "#9c179e"
                          ],
                          [
                            0.4444444444444444,
                            "#bd3786"
                          ],
                          [
                            0.5555555555555556,
                            "#d8576b"
                          ],
                          [
                            0.6666666666666666,
                            "#ed7953"
                          ],
                          [
                            0.7777777777777778,
                            "#fb9f3a"
                          ],
                          [
                            0.8888888888888888,
                            "#fdca26"
                          ],
                          [
                            1,
                            "#f0f921"
                          ]
                        ],
                        "type": "heatmapgl"
                      }
                    ],
                    "histogram": [
                      {
                        "marker": {
                          "pattern": {
                            "fillmode": "overlay",
                            "size": 10,
                            "solidity": 0.2
                          }
                        },
                        "type": "histogram"
                      }
                    ],
                    "histogram2d": [
                      {
                        "colorbar": {
                          "outlinewidth": 0,
                          "ticks": ""
                        },
                        "colorscale": [
                          [
                            0,
                            "#0d0887"
                          ],
                          [
                            0.1111111111111111,
                            "#46039f"
                          ],
                          [
                            0.2222222222222222,
                            "#7201a8"
                          ],
                          [
                            0.3333333333333333,
                            "#9c179e"
                          ],
                          [
                            0.4444444444444444,
                            "#bd3786"
                          ],
                          [
                            0.5555555555555556,
                            "#d8576b"
                          ],
                          [
                            0.6666666666666666,
                            "#ed7953"
                          ],
                          [
                            0.7777777777777778,
                            "#fb9f3a"
                          ],
                          [
                            0.8888888888888888,
                            "#fdca26"
                          ],
                          [
                            1,
                            "#f0f921"
                          ]
                        ],
                        "type": "histogram2d"
                      }
                    ],
                    "histogram2dcontour": [
                      {
                        "colorbar": {
                          "outlinewidth": 0,
                          "ticks": ""
                        },
                        "colorscale": [
                          [
                            0,
                            "#0d0887"
                          ],
                          [
                            0.1111111111111111,
                            "#46039f"
                          ],
                          [
                            0.2222222222222222,
                            "#7201a8"
                          ],
                          [
                            0.3333333333333333,
                            "#9c179e"
                          ],
                          [
                            0.4444444444444444,
                            "#bd3786"
                          ],
                          [
                            0.5555555555555556,
                            "#d8576b"
                          ],
                          [
                            0.6666666666666666,
                            "#ed7953"
                          ],
                          [
                            0.7777777777777778,
                            "#fb9f3a"
                          ],
                          [
                            0.8888888888888888,
                            "#fdca26"
                          ],
                          [
                            1,
                            "#f0f921"
                          ]
                        ],
                        "type": "histogram2dcontour"
                      }
                    ],
                    "mesh3d": [
                      {
                        "colorbar": {
                          "outlinewidth": 0,
                          "ticks": ""
                        },
                        "type": "mesh3d"
                      }
                    ],
                    "parcoords": [
                      {
                        "line": {
                          "colorbar": {
                            "outlinewidth": 0,
                            "ticks": ""
                          }
                        },
                        "type": "parcoords"
                      }
                    ],
                    "pie": [
                      {
                        "automargin": true,
                        "type": "pie"
                      }
                    ],
                    "scatter": [
                      {
                        "fillpattern": {
                          "fillmode": "overlay",
                          "size": 10,
                          "solidity": 0.2
                        },
                        "type": "scatter"
                      }
                    ],
                    "scatter3d": [
                      {
                        "line": {
                          "colorbar": {
                            "outlinewidth": 0,
                            "ticks": ""
                          }
                        },
                        "marker": {
                          "colorbar": {
                            "outlinewidth": 0,
                            "ticks": ""
                          }
                        },
                        "type": "scatter3d"
                      }
                    ],
                    "scattercarpet": [
                      {
                        "marker": {
                          "colorbar": {
                            "outlinewidth": 0,
                            "ticks": ""
                          }
                        },
                        "type": "scattercarpet"
                      }
                    ],
                    "scattergeo": [
                      {
                        "marker": {
                          "colorbar": {
                            "outlinewidth": 0,
                            "ticks": ""
                          }
                        },
                        "type": "scattergeo"
                      }
                    ],
                    "scattergl": [
                      {
                        "marker": {
                          "colorbar": {
                            "outlinewidth": 0,
                            "ticks": ""
                          }
                        },
                        "type": "scattergl"
                      }
                    ],
                    "scattermapbox": [
                      {
                        "marker": {
                          "colorbar": {
                            "outlinewidth": 0,
                            "ticks": ""
                          }
                        },
                        "type": "scattermapbox"
                      }
                    ],
                    "scatterpolar": [
                      {
                        "marker": {
                          "colorbar": {
                            "outlinewidth": 0,
                            "ticks": ""
                          }
                        },
                        "type": "scatterpolar"
                      }
                    ],
                    "scatterpolargl": [
                      {
                        "marker": {
                          "colorbar": {
                            "outlinewidth": 0,
                            "ticks": ""
                          }
                        },
                        "type": "scatterpolargl"
                      }
                    ],
                    "scatterternary": [
                      {
                        "marker": {
                          "colorbar": {
                            "outlinewidth": 0,
                            "ticks": ""
                          }
                        },
                        "type": "scatterternary"
                      }
                    ],
                    "surface": [
                      {
                        "colorbar": {
                          "outlinewidth": 0,
                          "ticks": ""
                        },
                        "colorscale": [
                          [
                            0,
                            "#0d0887"
                          ],
                          [
                            0.1111111111111111,
                            "#46039f"
                          ],
                          [
                            0.2222222222222222,
                            "#7201a8"
                          ],
                          [
                            0.3333333333333333,
                            "#9c179e"
                          ],
                          [
                            0.4444444444444444,
                            "#bd3786"
                          ],
                          [
                            0.5555555555555556,
                            "#d8576b"
                          ],
                          [
                            0.6666666666666666,
                            "#ed7953"
                          ],
                          [
                            0.7777777777777778,
                            "#fb9f3a"
                          ],
                          [
                            0.8888888888888888,
                            "#fdca26"
                          ],
                          [
                            1,
                            "#f0f921"
                          ]
                        ],
                        "type": "surface"
                      }
                    ],
                    "table": [
                      {
                        "cells": {
                          "fill": {
                            "color": "#EBF0F8"
                          },
                          "line": {
                            "color": "white"
                          }
                        },
                        "header": {
                          "fill": {
                            "color": "#C8D4E3"
                          },
                          "line": {
                            "color": "white"
                          }
                        },
                        "type": "table"
                      }
                    ]
                  },
                  "layout": {
                    "annotationdefaults": {
                      "arrowcolor": "#2a3f5f",
                      "arrowhead": 0,
                      "arrowwidth": 1
                    },
                    "autotypenumbers": "strict",
                    "coloraxis": {
                      "colorbar": {
                        "outlinewidth": 0,
                        "ticks": ""
                      }
                    },
                    "colorscale": {
                      "diverging": [
                        [
                          0,
                          "#8e0152"
                        ],
                        [
                          0.1,
                          "#c51b7d"
                        ],
                        [
                          0.2,
                          "#de77ae"
                        ],
                        [
                          0.3,
                          "#f1b6da"
                        ],
                        [
                          0.4,
                          "#fde0ef"
                        ],
                        [
                          0.5,
                          "#f7f7f7"
                        ],
                        [
                          0.6,
                          "#e6f5d0"
                        ],
                        [
                          0.7,
                          "#b8e186"
                        ],
                        [
                          0.8,
                          "#7fbc41"
                        ],
                        [
                          0.9,
                          "#4d9221"
                        ],
                        [
                          1,
                          "#276419"
                        ]
                      ],
                      "sequential": [
                        [
                          0,
                          "#0d0887"
                        ],
                        [
                          0.1111111111111111,
                          "#46039f"
                        ],
                        [
                          0.2222222222222222,
                          "#7201a8"
                        ],
                        [
                          0.3333333333333333,
                          "#9c179e"
                        ],
                        [
                          0.4444444444444444,
                          "#bd3786"
                        ],
                        [
                          0.5555555555555556,
                          "#d8576b"
                        ],
                        [
                          0.6666666666666666,
                          "#ed7953"
                        ],
                        [
                          0.7777777777777778,
                          "#fb9f3a"
                        ],
                        [
                          0.8888888888888888,
                          "#fdca26"
                        ],
                        [
                          1,
                          "#f0f921"
                        ]
                      ],
                      "sequentialminus": [
                        [
                          0,
                          "#0d0887"
                        ],
                        [
                          0.1111111111111111,
                          "#46039f"
                        ],
                        [
                          0.2222222222222222,
                          "#7201a8"
                        ],
                        [
                          0.3333333333333333,
                          "#9c179e"
                        ],
                        [
                          0.4444444444444444,
                          "#bd3786"
                        ],
                        [
                          0.5555555555555556,
                          "#d8576b"
                        ],
                        [
                          0.6666666666666666,
                          "#ed7953"
                        ],
                        [
                          0.7777777777777778,
                          "#fb9f3a"
                        ],
                        [
                          0.8888888888888888,
                          "#fdca26"
                        ],
                        [
                          1,
                          "#f0f921"
                        ]
                      ]
                    },
                    "colorway": [
                      "#636efa",
                      "#EF553B",
                      "#00cc96",
                      "#ab63fa",
                      "#FFA15A",
                      "#19d3f3",
                      "#FF6692",
                      "#B6E880",
                      "#FF97FF",
                      "#FECB52"
                    ],
                    "font": {
                      "color": "#2a3f5f"
                    },
                    "geo": {
                      "bgcolor": "white",
                      "lakecolor": "white",
                      "landcolor": "#E5ECF6",
                      "showlakes": true,
                      "showland": true,
                      "subunitcolor": "white"
                    },
                    "hoverlabel": {
                      "align": "left"
                    },
                    "hovermode": "closest",
                    "mapbox": {
                      "style": "light"
                    },
                    "paper_bgcolor": "white",
                    "plot_bgcolor": "#E5ECF6",
                    "polar": {
                      "angularaxis": {
                        "gridcolor": "white",
                        "linecolor": "white",
                        "ticks": ""
                      },
                      "bgcolor": "#E5ECF6",
                      "radialaxis": {
                        "gridcolor": "white",
                        "linecolor": "white",
                        "ticks": ""
                      }
                    },
                    "scene": {
                      "xaxis": {
                        "backgroundcolor": "#E5ECF6",
                        "gridcolor": "white",
                        "gridwidth": 2,
                        "linecolor": "white",
                        "showbackground": true,
                        "ticks": "",
                        "zerolinecolor": "white"
                      },
                      "yaxis": {
                        "backgroundcolor": "#E5ECF6",
                        "gridcolor": "white",
                        "gridwidth": 2,
                        "linecolor": "white",
                        "showbackground": true,
                        "ticks": "",
                        "zerolinecolor": "white"
                      },
                      "zaxis": {
                        "backgroundcolor": "#E5ECF6",
                        "gridcolor": "white",
                        "gridwidth": 2,
                        "linecolor": "white",
                        "showbackground": true,
                        "ticks": "",
                        "zerolinecolor": "white"
                      }
                    },
                    "shapedefaults": {
                      "line": {
                        "color": "#2a3f5f"
                      }
                    },
                    "ternary": {
                      "aaxis": {
                        "gridcolor": "white",
                        "linecolor": "white",
                        "ticks": ""
                      },
                      "baxis": {
                        "gridcolor": "white",
                        "linecolor": "white",
                        "ticks": ""
                      },
                      "bgcolor": "#E5ECF6",
                      "caxis": {
                        "gridcolor": "white",
                        "linecolor": "white",
                        "ticks": ""
                      }
                    },
                    "title": {
                      "x": 0.05
                    },
                    "xaxis": {
                      "automargin": true,
                      "gridcolor": "white",
                      "linecolor": "white",
                      "ticks": "",
                      "title": {
                        "standoff": 15
                      },
                      "zerolinecolor": "white",
                      "zerolinewidth": 2
                    },
                    "yaxis": {
                      "automargin": true,
                      "gridcolor": "white",
                      "linecolor": "white",
                      "ticks": "",
                      "title": {
                        "standoff": 15
                      },
                      "zerolinecolor": "white",
                      "zerolinewidth": 2
                    }
                  }
                },
                "title": {
                  "text": "Distribuição De Casos Investigados Por Gênero"
                },
                "xaxis": {
                  "anchor": "y",
                  "categoryarray": [
                    "Mulher",
                    "Homem"
                  ],
                  "categoryorder": "array",
                  "domain": [
                    0,
                    1
                  ],
                  "title": {}
                },
                "yaxis": {
                  "anchor": "x",
                  "domain": [
                    0,
                    1
                  ],
                  "title": {
                    "text": "Porcentagem"
                  }
                }
              }
            }
          },
          "metadata": {},
          "output_type": "display_data"
        }
      ],
      "source": [
        "plot_bar(df, \"SEXO\", title = 'Distribuição De Casos Investigados Por Gênero')"
      ]
    },
    {
      "cell_type": "code",
      "execution_count": 15,
      "metadata": {
        "colab": {
          "base_uri": "https://localhost:8080/",
          "height": 542
        },
        "id": "JjLmJUkrky2f",
        "outputId": "4fe36525-91e9-43c8-8c78-4935523df3cb"
      },
      "outputs": [
        {
          "data": {
            "application/vnd.plotly.v1+json": {
              "config": {
                "plotlyServerURL": "https://plot.ly"
              },
              "data": [
                {
                  "alignmentgroup": "True",
                  "hovertemplate": "COR_RACA=%{x}<br>Porcentagem=%{text}<extra></extra>",
                  "legendgroup": "Parda",
                  "marker": {
                    "color": "#636efa",
                    "pattern": {
                      "shape": ""
                    }
                  },
                  "name": "Parda",
                  "offsetgroup": "Parda",
                  "orientation": "v",
                  "showlegend": true,
                  "text": [
                    47.82879759484212
                  ],
                  "textposition": "outside",
                  "texttemplate": "%{text:.2f}%",
                  "type": "bar",
                  "x": [
                    "Parda"
                  ],
                  "xaxis": "x",
                  "y": [
                    47.82879759484212
                  ],
                  "yaxis": "y"
                },
                {
                  "alignmentgroup": "True",
                  "hovertemplate": "COR_RACA=%{x}<br>Porcentagem=%{text}<extra></extra>",
                  "legendgroup": "Branca",
                  "marker": {
                    "color": "#EF553B",
                    "pattern": {
                      "shape": ""
                    }
                  },
                  "name": "Branca",
                  "offsetgroup": "Branca",
                  "orientation": "v",
                  "showlegend": true,
                  "text": [
                    41.44650522218167
                  ],
                  "textposition": "outside",
                  "texttemplate": "%{text:.2f}%",
                  "type": "bar",
                  "x": [
                    "Branca"
                  ],
                  "xaxis": "x",
                  "y": [
                    41.44650522218167
                  ],
                  "yaxis": "y"
                },
                {
                  "alignmentgroup": "True",
                  "hovertemplate": "COR_RACA=%{x}<br>Porcentagem=%{text}<extra></extra>",
                  "legendgroup": "Preta",
                  "marker": {
                    "color": "#00cc96",
                    "pattern": {
                      "shape": ""
                    }
                  },
                  "name": "Preta",
                  "offsetgroup": "Preta",
                  "orientation": "v",
                  "showlegend": true,
                  "text": [
                    9.465964583007489
                  ],
                  "textposition": "outside",
                  "texttemplate": "%{text:.2f}%",
                  "type": "bar",
                  "x": [
                    "Preta"
                  ],
                  "xaxis": "x",
                  "y": [
                    9.465964583007489
                  ],
                  "yaxis": "y"
                },
                {
                  "alignmentgroup": "True",
                  "hovertemplate": "COR_RACA=%{x}<br>Porcentagem=%{text}<extra></extra>",
                  "legendgroup": "Amarela",
                  "marker": {
                    "color": "#ab63fa",
                    "pattern": {
                      "shape": ""
                    }
                  },
                  "name": "Amarela",
                  "offsetgroup": "Amarela",
                  "orientation": "v",
                  "showlegend": true,
                  "text": [
                    0.7614957510035973
                  ],
                  "textposition": "outside",
                  "texttemplate": "%{text:.2f}%",
                  "type": "bar",
                  "x": [
                    "Amarela"
                  ],
                  "xaxis": "x",
                  "y": [
                    0.7614957510035973
                  ],
                  "yaxis": "y"
                },
                {
                  "alignmentgroup": "True",
                  "hovertemplate": "COR_RACA=%{x}<br>Porcentagem=%{text}<extra></extra>",
                  "legendgroup": "Indígena",
                  "marker": {
                    "color": "#FFA15A",
                    "pattern": {
                      "shape": ""
                    }
                  },
                  "name": "Indígena",
                  "offsetgroup": "Indígena",
                  "orientation": "v",
                  "showlegend": true,
                  "text": [
                    0.4618285456093704
                  ],
                  "textposition": "outside",
                  "texttemplate": "%{text:.2f}%",
                  "type": "bar",
                  "x": [
                    "Indígena"
                  ],
                  "xaxis": "x",
                  "y": [
                    0.4618285456093704
                  ],
                  "yaxis": "y"
                },
                {
                  "alignmentgroup": "True",
                  "hovertemplate": "COR_RACA=%{x}<br>Porcentagem=%{text}<extra></extra>",
                  "legendgroup": "Ignorado",
                  "marker": {
                    "color": "#19d3f3",
                    "pattern": {
                      "shape": ""
                    }
                  },
                  "name": "Ignorado",
                  "offsetgroup": "Ignorado",
                  "orientation": "v",
                  "showlegend": true,
                  "text": [
                    0.035408303355751354
                  ],
                  "textposition": "outside",
                  "texttemplate": "%{text:.2f}%",
                  "type": "bar",
                  "x": [
                    "Ignorado"
                  ],
                  "xaxis": "x",
                  "y": [
                    0.035408303355751354
                  ],
                  "yaxis": "y"
                }
              ],
              "layout": {
                "barmode": "relative",
                "legend": {
                  "title": {
                    "text": "COR_RACA"
                  },
                  "tracegroupgap": 0
                },
                "margin": {
                  "t": 60
                },
                "template": {
                  "data": {
                    "bar": [
                      {
                        "error_x": {
                          "color": "#2a3f5f"
                        },
                        "error_y": {
                          "color": "#2a3f5f"
                        },
                        "marker": {
                          "line": {
                            "color": "#E5ECF6",
                            "width": 0.5
                          },
                          "pattern": {
                            "fillmode": "overlay",
                            "size": 10,
                            "solidity": 0.2
                          }
                        },
                        "type": "bar"
                      }
                    ],
                    "barpolar": [
                      {
                        "marker": {
                          "line": {
                            "color": "#E5ECF6",
                            "width": 0.5
                          },
                          "pattern": {
                            "fillmode": "overlay",
                            "size": 10,
                            "solidity": 0.2
                          }
                        },
                        "type": "barpolar"
                      }
                    ],
                    "carpet": [
                      {
                        "aaxis": {
                          "endlinecolor": "#2a3f5f",
                          "gridcolor": "white",
                          "linecolor": "white",
                          "minorgridcolor": "white",
                          "startlinecolor": "#2a3f5f"
                        },
                        "baxis": {
                          "endlinecolor": "#2a3f5f",
                          "gridcolor": "white",
                          "linecolor": "white",
                          "minorgridcolor": "white",
                          "startlinecolor": "#2a3f5f"
                        },
                        "type": "carpet"
                      }
                    ],
                    "choropleth": [
                      {
                        "colorbar": {
                          "outlinewidth": 0,
                          "ticks": ""
                        },
                        "type": "choropleth"
                      }
                    ],
                    "contour": [
                      {
                        "colorbar": {
                          "outlinewidth": 0,
                          "ticks": ""
                        },
                        "colorscale": [
                          [
                            0,
                            "#0d0887"
                          ],
                          [
                            0.1111111111111111,
                            "#46039f"
                          ],
                          [
                            0.2222222222222222,
                            "#7201a8"
                          ],
                          [
                            0.3333333333333333,
                            "#9c179e"
                          ],
                          [
                            0.4444444444444444,
                            "#bd3786"
                          ],
                          [
                            0.5555555555555556,
                            "#d8576b"
                          ],
                          [
                            0.6666666666666666,
                            "#ed7953"
                          ],
                          [
                            0.7777777777777778,
                            "#fb9f3a"
                          ],
                          [
                            0.8888888888888888,
                            "#fdca26"
                          ],
                          [
                            1,
                            "#f0f921"
                          ]
                        ],
                        "type": "contour"
                      }
                    ],
                    "contourcarpet": [
                      {
                        "colorbar": {
                          "outlinewidth": 0,
                          "ticks": ""
                        },
                        "type": "contourcarpet"
                      }
                    ],
                    "heatmap": [
                      {
                        "colorbar": {
                          "outlinewidth": 0,
                          "ticks": ""
                        },
                        "colorscale": [
                          [
                            0,
                            "#0d0887"
                          ],
                          [
                            0.1111111111111111,
                            "#46039f"
                          ],
                          [
                            0.2222222222222222,
                            "#7201a8"
                          ],
                          [
                            0.3333333333333333,
                            "#9c179e"
                          ],
                          [
                            0.4444444444444444,
                            "#bd3786"
                          ],
                          [
                            0.5555555555555556,
                            "#d8576b"
                          ],
                          [
                            0.6666666666666666,
                            "#ed7953"
                          ],
                          [
                            0.7777777777777778,
                            "#fb9f3a"
                          ],
                          [
                            0.8888888888888888,
                            "#fdca26"
                          ],
                          [
                            1,
                            "#f0f921"
                          ]
                        ],
                        "type": "heatmap"
                      }
                    ],
                    "heatmapgl": [
                      {
                        "colorbar": {
                          "outlinewidth": 0,
                          "ticks": ""
                        },
                        "colorscale": [
                          [
                            0,
                            "#0d0887"
                          ],
                          [
                            0.1111111111111111,
                            "#46039f"
                          ],
                          [
                            0.2222222222222222,
                            "#7201a8"
                          ],
                          [
                            0.3333333333333333,
                            "#9c179e"
                          ],
                          [
                            0.4444444444444444,
                            "#bd3786"
                          ],
                          [
                            0.5555555555555556,
                            "#d8576b"
                          ],
                          [
                            0.6666666666666666,
                            "#ed7953"
                          ],
                          [
                            0.7777777777777778,
                            "#fb9f3a"
                          ],
                          [
                            0.8888888888888888,
                            "#fdca26"
                          ],
                          [
                            1,
                            "#f0f921"
                          ]
                        ],
                        "type": "heatmapgl"
                      }
                    ],
                    "histogram": [
                      {
                        "marker": {
                          "pattern": {
                            "fillmode": "overlay",
                            "size": 10,
                            "solidity": 0.2
                          }
                        },
                        "type": "histogram"
                      }
                    ],
                    "histogram2d": [
                      {
                        "colorbar": {
                          "outlinewidth": 0,
                          "ticks": ""
                        },
                        "colorscale": [
                          [
                            0,
                            "#0d0887"
                          ],
                          [
                            0.1111111111111111,
                            "#46039f"
                          ],
                          [
                            0.2222222222222222,
                            "#7201a8"
                          ],
                          [
                            0.3333333333333333,
                            "#9c179e"
                          ],
                          [
                            0.4444444444444444,
                            "#bd3786"
                          ],
                          [
                            0.5555555555555556,
                            "#d8576b"
                          ],
                          [
                            0.6666666666666666,
                            "#ed7953"
                          ],
                          [
                            0.7777777777777778,
                            "#fb9f3a"
                          ],
                          [
                            0.8888888888888888,
                            "#fdca26"
                          ],
                          [
                            1,
                            "#f0f921"
                          ]
                        ],
                        "type": "histogram2d"
                      }
                    ],
                    "histogram2dcontour": [
                      {
                        "colorbar": {
                          "outlinewidth": 0,
                          "ticks": ""
                        },
                        "colorscale": [
                          [
                            0,
                            "#0d0887"
                          ],
                          [
                            0.1111111111111111,
                            "#46039f"
                          ],
                          [
                            0.2222222222222222,
                            "#7201a8"
                          ],
                          [
                            0.3333333333333333,
                            "#9c179e"
                          ],
                          [
                            0.4444444444444444,
                            "#bd3786"
                          ],
                          [
                            0.5555555555555556,
                            "#d8576b"
                          ],
                          [
                            0.6666666666666666,
                            "#ed7953"
                          ],
                          [
                            0.7777777777777778,
                            "#fb9f3a"
                          ],
                          [
                            0.8888888888888888,
                            "#fdca26"
                          ],
                          [
                            1,
                            "#f0f921"
                          ]
                        ],
                        "type": "histogram2dcontour"
                      }
                    ],
                    "mesh3d": [
                      {
                        "colorbar": {
                          "outlinewidth": 0,
                          "ticks": ""
                        },
                        "type": "mesh3d"
                      }
                    ],
                    "parcoords": [
                      {
                        "line": {
                          "colorbar": {
                            "outlinewidth": 0,
                            "ticks": ""
                          }
                        },
                        "type": "parcoords"
                      }
                    ],
                    "pie": [
                      {
                        "automargin": true,
                        "type": "pie"
                      }
                    ],
                    "scatter": [
                      {
                        "fillpattern": {
                          "fillmode": "overlay",
                          "size": 10,
                          "solidity": 0.2
                        },
                        "type": "scatter"
                      }
                    ],
                    "scatter3d": [
                      {
                        "line": {
                          "colorbar": {
                            "outlinewidth": 0,
                            "ticks": ""
                          }
                        },
                        "marker": {
                          "colorbar": {
                            "outlinewidth": 0,
                            "ticks": ""
                          }
                        },
                        "type": "scatter3d"
                      }
                    ],
                    "scattercarpet": [
                      {
                        "marker": {
                          "colorbar": {
                            "outlinewidth": 0,
                            "ticks": ""
                          }
                        },
                        "type": "scattercarpet"
                      }
                    ],
                    "scattergeo": [
                      {
                        "marker": {
                          "colorbar": {
                            "outlinewidth": 0,
                            "ticks": ""
                          }
                        },
                        "type": "scattergeo"
                      }
                    ],
                    "scattergl": [
                      {
                        "marker": {
                          "colorbar": {
                            "outlinewidth": 0,
                            "ticks": ""
                          }
                        },
                        "type": "scattergl"
                      }
                    ],
                    "scattermapbox": [
                      {
                        "marker": {
                          "colorbar": {
                            "outlinewidth": 0,
                            "ticks": ""
                          }
                        },
                        "type": "scattermapbox"
                      }
                    ],
                    "scatterpolar": [
                      {
                        "marker": {
                          "colorbar": {
                            "outlinewidth": 0,
                            "ticks": ""
                          }
                        },
                        "type": "scatterpolar"
                      }
                    ],
                    "scatterpolargl": [
                      {
                        "marker": {
                          "colorbar": {
                            "outlinewidth": 0,
                            "ticks": ""
                          }
                        },
                        "type": "scatterpolargl"
                      }
                    ],
                    "scatterternary": [
                      {
                        "marker": {
                          "colorbar": {
                            "outlinewidth": 0,
                            "ticks": ""
                          }
                        },
                        "type": "scatterternary"
                      }
                    ],
                    "surface": [
                      {
                        "colorbar": {
                          "outlinewidth": 0,
                          "ticks": ""
                        },
                        "colorscale": [
                          [
                            0,
                            "#0d0887"
                          ],
                          [
                            0.1111111111111111,
                            "#46039f"
                          ],
                          [
                            0.2222222222222222,
                            "#7201a8"
                          ],
                          [
                            0.3333333333333333,
                            "#9c179e"
                          ],
                          [
                            0.4444444444444444,
                            "#bd3786"
                          ],
                          [
                            0.5555555555555556,
                            "#d8576b"
                          ],
                          [
                            0.6666666666666666,
                            "#ed7953"
                          ],
                          [
                            0.7777777777777778,
                            "#fb9f3a"
                          ],
                          [
                            0.8888888888888888,
                            "#fdca26"
                          ],
                          [
                            1,
                            "#f0f921"
                          ]
                        ],
                        "type": "surface"
                      }
                    ],
                    "table": [
                      {
                        "cells": {
                          "fill": {
                            "color": "#EBF0F8"
                          },
                          "line": {
                            "color": "white"
                          }
                        },
                        "header": {
                          "fill": {
                            "color": "#C8D4E3"
                          },
                          "line": {
                            "color": "white"
                          }
                        },
                        "type": "table"
                      }
                    ]
                  },
                  "layout": {
                    "annotationdefaults": {
                      "arrowcolor": "#2a3f5f",
                      "arrowhead": 0,
                      "arrowwidth": 1
                    },
                    "autotypenumbers": "strict",
                    "coloraxis": {
                      "colorbar": {
                        "outlinewidth": 0,
                        "ticks": ""
                      }
                    },
                    "colorscale": {
                      "diverging": [
                        [
                          0,
                          "#8e0152"
                        ],
                        [
                          0.1,
                          "#c51b7d"
                        ],
                        [
                          0.2,
                          "#de77ae"
                        ],
                        [
                          0.3,
                          "#f1b6da"
                        ],
                        [
                          0.4,
                          "#fde0ef"
                        ],
                        [
                          0.5,
                          "#f7f7f7"
                        ],
                        [
                          0.6,
                          "#e6f5d0"
                        ],
                        [
                          0.7,
                          "#b8e186"
                        ],
                        [
                          0.8,
                          "#7fbc41"
                        ],
                        [
                          0.9,
                          "#4d9221"
                        ],
                        [
                          1,
                          "#276419"
                        ]
                      ],
                      "sequential": [
                        [
                          0,
                          "#0d0887"
                        ],
                        [
                          0.1111111111111111,
                          "#46039f"
                        ],
                        [
                          0.2222222222222222,
                          "#7201a8"
                        ],
                        [
                          0.3333333333333333,
                          "#9c179e"
                        ],
                        [
                          0.4444444444444444,
                          "#bd3786"
                        ],
                        [
                          0.5555555555555556,
                          "#d8576b"
                        ],
                        [
                          0.6666666666666666,
                          "#ed7953"
                        ],
                        [
                          0.7777777777777778,
                          "#fb9f3a"
                        ],
                        [
                          0.8888888888888888,
                          "#fdca26"
                        ],
                        [
                          1,
                          "#f0f921"
                        ]
                      ],
                      "sequentialminus": [
                        [
                          0,
                          "#0d0887"
                        ],
                        [
                          0.1111111111111111,
                          "#46039f"
                        ],
                        [
                          0.2222222222222222,
                          "#7201a8"
                        ],
                        [
                          0.3333333333333333,
                          "#9c179e"
                        ],
                        [
                          0.4444444444444444,
                          "#bd3786"
                        ],
                        [
                          0.5555555555555556,
                          "#d8576b"
                        ],
                        [
                          0.6666666666666666,
                          "#ed7953"
                        ],
                        [
                          0.7777777777777778,
                          "#fb9f3a"
                        ],
                        [
                          0.8888888888888888,
                          "#fdca26"
                        ],
                        [
                          1,
                          "#f0f921"
                        ]
                      ]
                    },
                    "colorway": [
                      "#636efa",
                      "#EF553B",
                      "#00cc96",
                      "#ab63fa",
                      "#FFA15A",
                      "#19d3f3",
                      "#FF6692",
                      "#B6E880",
                      "#FF97FF",
                      "#FECB52"
                    ],
                    "font": {
                      "color": "#2a3f5f"
                    },
                    "geo": {
                      "bgcolor": "white",
                      "lakecolor": "white",
                      "landcolor": "#E5ECF6",
                      "showlakes": true,
                      "showland": true,
                      "subunitcolor": "white"
                    },
                    "hoverlabel": {
                      "align": "left"
                    },
                    "hovermode": "closest",
                    "mapbox": {
                      "style": "light"
                    },
                    "paper_bgcolor": "white",
                    "plot_bgcolor": "#E5ECF6",
                    "polar": {
                      "angularaxis": {
                        "gridcolor": "white",
                        "linecolor": "white",
                        "ticks": ""
                      },
                      "bgcolor": "#E5ECF6",
                      "radialaxis": {
                        "gridcolor": "white",
                        "linecolor": "white",
                        "ticks": ""
                      }
                    },
                    "scene": {
                      "xaxis": {
                        "backgroundcolor": "#E5ECF6",
                        "gridcolor": "white",
                        "gridwidth": 2,
                        "linecolor": "white",
                        "showbackground": true,
                        "ticks": "",
                        "zerolinecolor": "white"
                      },
                      "yaxis": {
                        "backgroundcolor": "#E5ECF6",
                        "gridcolor": "white",
                        "gridwidth": 2,
                        "linecolor": "white",
                        "showbackground": true,
                        "ticks": "",
                        "zerolinecolor": "white"
                      },
                      "zaxis": {
                        "backgroundcolor": "#E5ECF6",
                        "gridcolor": "white",
                        "gridwidth": 2,
                        "linecolor": "white",
                        "showbackground": true,
                        "ticks": "",
                        "zerolinecolor": "white"
                      }
                    },
                    "shapedefaults": {
                      "line": {
                        "color": "#2a3f5f"
                      }
                    },
                    "ternary": {
                      "aaxis": {
                        "gridcolor": "white",
                        "linecolor": "white",
                        "ticks": ""
                      },
                      "baxis": {
                        "gridcolor": "white",
                        "linecolor": "white",
                        "ticks": ""
                      },
                      "bgcolor": "#E5ECF6",
                      "caxis": {
                        "gridcolor": "white",
                        "linecolor": "white",
                        "ticks": ""
                      }
                    },
                    "title": {
                      "x": 0.05
                    },
                    "xaxis": {
                      "automargin": true,
                      "gridcolor": "white",
                      "linecolor": "white",
                      "ticks": "",
                      "title": {
                        "standoff": 15
                      },
                      "zerolinecolor": "white",
                      "zerolinewidth": 2
                    },
                    "yaxis": {
                      "automargin": true,
                      "gridcolor": "white",
                      "linecolor": "white",
                      "ticks": "",
                      "title": {
                        "standoff": 15
                      },
                      "zerolinecolor": "white",
                      "zerolinewidth": 2
                    }
                  }
                },
                "title": {
                  "text": "Distribuição De Casos Investigados Por Etnia"
                },
                "xaxis": {
                  "anchor": "y",
                  "categoryarray": [
                    "Parda",
                    "Branca",
                    "Preta",
                    "Amarela",
                    "Indígena",
                    "Ignorado"
                  ],
                  "categoryorder": "array",
                  "domain": [
                    0,
                    1
                  ],
                  "title": {}
                },
                "yaxis": {
                  "anchor": "x",
                  "domain": [
                    0,
                    1
                  ],
                  "title": {
                    "text": "Porcentagem"
                  }
                }
              }
            }
          },
          "metadata": {},
          "output_type": "display_data"
        }
      ],
      "source": [
        "plot_bar(df, \"COR_RACA\", title = 'Distribuição De Casos Investigados Por Etnia')"
      ]
    },
    {
      "cell_type": "code",
      "execution_count": 16,
      "metadata": {
        "colab": {
          "base_uri": "https://localhost:8080/",
          "height": 542
        },
        "id": "q_2Dh1mLk2tP",
        "outputId": "b8d4fe77-92fb-40c3-d905-21db9d87ea8e"
      },
      "outputs": [
        {
          "data": {
            "application/vnd.plotly.v1+json": {
              "config": {
                "plotlyServerURL": "https://plot.ly"
              },
              "data": [
                {
                  "alignmentgroup": "True",
                  "hovertemplate": "ESCOLARIDADE=%{x}<br>Porcentagem=%{text}<extra></extra>",
                  "legendgroup": "Fundamental incompleto",
                  "marker": {
                    "color": "#636efa",
                    "pattern": {
                      "shape": ""
                    }
                  },
                  "name": "Fundamental incompleto",
                  "offsetgroup": "Fundamental incompleto",
                  "orientation": "v",
                  "showlegend": true,
                  "text": [
                    30.655987696157656
                  ],
                  "textposition": "outside",
                  "texttemplate": "%{text:.2f}%",
                  "type": "bar",
                  "x": [
                    "Fundamental incompleto"
                  ],
                  "xaxis": "x",
                  "y": [
                    30.655987696157656
                  ],
                  "yaxis": "y"
                },
                {
                  "alignmentgroup": "True",
                  "hovertemplate": "ESCOLARIDADE=%{x}<br>Porcentagem=%{text}<extra></extra>",
                  "legendgroup": "Médio completo",
                  "marker": {
                    "color": "#EF553B",
                    "pattern": {
                      "shape": ""
                    }
                  },
                  "name": "Médio completo",
                  "offsetgroup": "Médio completo",
                  "orientation": "v",
                  "showlegend": true,
                  "text": [
                    22.87485011209009
                  ],
                  "textposition": "outside",
                  "texttemplate": "%{text:.2f}%",
                  "type": "bar",
                  "x": [
                    "Médio completo"
                  ],
                  "xaxis": "x",
                  "y": [
                    22.87485011209009
                  ],
                  "yaxis": "y"
                },
                {
                  "alignmentgroup": "True",
                  "hovertemplate": "ESCOLARIDADE=%{x}<br>Porcentagem=%{text}<extra></extra>",
                  "legendgroup": "Superior completo",
                  "marker": {
                    "color": "#00cc96",
                    "pattern": {
                      "shape": ""
                    }
                  },
                  "name": "Superior completo",
                  "offsetgroup": "Superior completo",
                  "orientation": "v",
                  "showlegend": true,
                  "text": [
                    10.47890273360791
                  ],
                  "textposition": "outside",
                  "texttemplate": "%{text:.2f}%",
                  "type": "bar",
                  "x": [
                    "Superior completo"
                  ],
                  "xaxis": "x",
                  "y": [
                    10.47890273360791
                  ],
                  "yaxis": "y"
                },
                {
                  "alignmentgroup": "True",
                  "hovertemplate": "ESCOLARIDADE=%{x}<br>Porcentagem=%{text}<extra></extra>",
                  "legendgroup": "Sem instrução",
                  "marker": {
                    "color": "#ab63fa",
                    "pattern": {
                      "shape": ""
                    }
                  },
                  "name": "Sem instrução",
                  "offsetgroup": "Sem instrução",
                  "orientation": "v",
                  "showlegend": true,
                  "text": [
                    10.074748448985977
                  ],
                  "textposition": "outside",
                  "texttemplate": "%{text:.2f}%",
                  "type": "bar",
                  "x": [
                    "Sem instrução"
                  ],
                  "xaxis": "x",
                  "y": [
                    10.074748448985977
                  ],
                  "yaxis": "y"
                },
                {
                  "alignmentgroup": "True",
                  "hovertemplate": "ESCOLARIDADE=%{x}<br>Porcentagem=%{text}<extra></extra>",
                  "legendgroup": "Médio incompleto",
                  "marker": {
                    "color": "#FFA15A",
                    "pattern": {
                      "shape": ""
                    }
                  },
                  "name": "Médio incompleto",
                  "offsetgroup": "Médio incompleto",
                  "orientation": "v",
                  "showlegend": true,
                  "text": [
                    9.551661366282605
                  ],
                  "textposition": "outside",
                  "texttemplate": "%{text:.2f}%",
                  "type": "bar",
                  "x": [
                    "Médio incompleto"
                  ],
                  "xaxis": "x",
                  "y": [
                    9.551661366282605
                  ],
                  "yaxis": "y"
                },
                {
                  "alignmentgroup": "True",
                  "hovertemplate": "ESCOLARIDADE=%{x}<br>Porcentagem=%{text}<extra></extra>",
                  "legendgroup": "Fundamental completa",
                  "marker": {
                    "color": "#19d3f3",
                    "pattern": {
                      "shape": ""
                    }
                  },
                  "name": "Fundamental completa",
                  "offsetgroup": "Fundamental completa",
                  "orientation": "v",
                  "showlegend": true,
                  "text": [
                    7.583350711641729
                  ],
                  "textposition": "outside",
                  "texttemplate": "%{text:.2f}%",
                  "type": "bar",
                  "x": [
                    "Fundamental completa"
                  ],
                  "xaxis": "x",
                  "y": [
                    7.583350711641729
                  ],
                  "yaxis": "y"
                },
                {
                  "alignmentgroup": "True",
                  "hovertemplate": "ESCOLARIDADE=%{x}<br>Porcentagem=%{text}<extra></extra>",
                  "legendgroup": "Superior incompleto",
                  "marker": {
                    "color": "#FF6692",
                    "pattern": {
                      "shape": ""
                    }
                  },
                  "name": "Superior incompleto",
                  "offsetgroup": "Superior incompleto",
                  "orientation": "v",
                  "showlegend": true,
                  "text": [
                    5.849647220339572
                  ],
                  "textposition": "outside",
                  "texttemplate": "%{text:.2f}%",
                  "type": "bar",
                  "x": [
                    "Superior incompleto"
                  ],
                  "xaxis": "x",
                  "y": [
                    5.849647220339572
                  ],
                  "yaxis": "y"
                },
                {
                  "alignmentgroup": "True",
                  "hovertemplate": "ESCOLARIDADE=%{x}<br>Porcentagem=%{text}<extra></extra>",
                  "legendgroup": "Pós-graduação, mestrado ou doutorado",
                  "marker": {
                    "color": "#B6E880",
                    "pattern": {
                      "shape": ""
                    }
                  },
                  "name": "Pós-graduação, mestrado ou doutorado",
                  "offsetgroup": "Pós-graduação, mestrado ou doutorado",
                  "orientation": "v",
                  "showlegend": true,
                  "text": [
                    2.9308517108944616
                  ],
                  "textposition": "outside",
                  "texttemplate": "%{text:.2f}%",
                  "type": "bar",
                  "x": [
                    "Pós-graduação, mestrado ou doutorado"
                  ],
                  "xaxis": "x",
                  "y": [
                    2.9308517108944616
                  ],
                  "yaxis": "y"
                }
              ],
              "layout": {
                "barmode": "relative",
                "legend": {
                  "title": {
                    "text": "ESCOLARIDADE"
                  },
                  "tracegroupgap": 0
                },
                "margin": {
                  "t": 60
                },
                "template": {
                  "data": {
                    "bar": [
                      {
                        "error_x": {
                          "color": "#2a3f5f"
                        },
                        "error_y": {
                          "color": "#2a3f5f"
                        },
                        "marker": {
                          "line": {
                            "color": "#E5ECF6",
                            "width": 0.5
                          },
                          "pattern": {
                            "fillmode": "overlay",
                            "size": 10,
                            "solidity": 0.2
                          }
                        },
                        "type": "bar"
                      }
                    ],
                    "barpolar": [
                      {
                        "marker": {
                          "line": {
                            "color": "#E5ECF6",
                            "width": 0.5
                          },
                          "pattern": {
                            "fillmode": "overlay",
                            "size": 10,
                            "solidity": 0.2
                          }
                        },
                        "type": "barpolar"
                      }
                    ],
                    "carpet": [
                      {
                        "aaxis": {
                          "endlinecolor": "#2a3f5f",
                          "gridcolor": "white",
                          "linecolor": "white",
                          "minorgridcolor": "white",
                          "startlinecolor": "#2a3f5f"
                        },
                        "baxis": {
                          "endlinecolor": "#2a3f5f",
                          "gridcolor": "white",
                          "linecolor": "white",
                          "minorgridcolor": "white",
                          "startlinecolor": "#2a3f5f"
                        },
                        "type": "carpet"
                      }
                    ],
                    "choropleth": [
                      {
                        "colorbar": {
                          "outlinewidth": 0,
                          "ticks": ""
                        },
                        "type": "choropleth"
                      }
                    ],
                    "contour": [
                      {
                        "colorbar": {
                          "outlinewidth": 0,
                          "ticks": ""
                        },
                        "colorscale": [
                          [
                            0,
                            "#0d0887"
                          ],
                          [
                            0.1111111111111111,
                            "#46039f"
                          ],
                          [
                            0.2222222222222222,
                            "#7201a8"
                          ],
                          [
                            0.3333333333333333,
                            "#9c179e"
                          ],
                          [
                            0.4444444444444444,
                            "#bd3786"
                          ],
                          [
                            0.5555555555555556,
                            "#d8576b"
                          ],
                          [
                            0.6666666666666666,
                            "#ed7953"
                          ],
                          [
                            0.7777777777777778,
                            "#fb9f3a"
                          ],
                          [
                            0.8888888888888888,
                            "#fdca26"
                          ],
                          [
                            1,
                            "#f0f921"
                          ]
                        ],
                        "type": "contour"
                      }
                    ],
                    "contourcarpet": [
                      {
                        "colorbar": {
                          "outlinewidth": 0,
                          "ticks": ""
                        },
                        "type": "contourcarpet"
                      }
                    ],
                    "heatmap": [
                      {
                        "colorbar": {
                          "outlinewidth": 0,
                          "ticks": ""
                        },
                        "colorscale": [
                          [
                            0,
                            "#0d0887"
                          ],
                          [
                            0.1111111111111111,
                            "#46039f"
                          ],
                          [
                            0.2222222222222222,
                            "#7201a8"
                          ],
                          [
                            0.3333333333333333,
                            "#9c179e"
                          ],
                          [
                            0.4444444444444444,
                            "#bd3786"
                          ],
                          [
                            0.5555555555555556,
                            "#d8576b"
                          ],
                          [
                            0.6666666666666666,
                            "#ed7953"
                          ],
                          [
                            0.7777777777777778,
                            "#fb9f3a"
                          ],
                          [
                            0.8888888888888888,
                            "#fdca26"
                          ],
                          [
                            1,
                            "#f0f921"
                          ]
                        ],
                        "type": "heatmap"
                      }
                    ],
                    "heatmapgl": [
                      {
                        "colorbar": {
                          "outlinewidth": 0,
                          "ticks": ""
                        },
                        "colorscale": [
                          [
                            0,
                            "#0d0887"
                          ],
                          [
                            0.1111111111111111,
                            "#46039f"
                          ],
                          [
                            0.2222222222222222,
                            "#7201a8"
                          ],
                          [
                            0.3333333333333333,
                            "#9c179e"
                          ],
                          [
                            0.4444444444444444,
                            "#bd3786"
                          ],
                          [
                            0.5555555555555556,
                            "#d8576b"
                          ],
                          [
                            0.6666666666666666,
                            "#ed7953"
                          ],
                          [
                            0.7777777777777778,
                            "#fb9f3a"
                          ],
                          [
                            0.8888888888888888,
                            "#fdca26"
                          ],
                          [
                            1,
                            "#f0f921"
                          ]
                        ],
                        "type": "heatmapgl"
                      }
                    ],
                    "histogram": [
                      {
                        "marker": {
                          "pattern": {
                            "fillmode": "overlay",
                            "size": 10,
                            "solidity": 0.2
                          }
                        },
                        "type": "histogram"
                      }
                    ],
                    "histogram2d": [
                      {
                        "colorbar": {
                          "outlinewidth": 0,
                          "ticks": ""
                        },
                        "colorscale": [
                          [
                            0,
                            "#0d0887"
                          ],
                          [
                            0.1111111111111111,
                            "#46039f"
                          ],
                          [
                            0.2222222222222222,
                            "#7201a8"
                          ],
                          [
                            0.3333333333333333,
                            "#9c179e"
                          ],
                          [
                            0.4444444444444444,
                            "#bd3786"
                          ],
                          [
                            0.5555555555555556,
                            "#d8576b"
                          ],
                          [
                            0.6666666666666666,
                            "#ed7953"
                          ],
                          [
                            0.7777777777777778,
                            "#fb9f3a"
                          ],
                          [
                            0.8888888888888888,
                            "#fdca26"
                          ],
                          [
                            1,
                            "#f0f921"
                          ]
                        ],
                        "type": "histogram2d"
                      }
                    ],
                    "histogram2dcontour": [
                      {
                        "colorbar": {
                          "outlinewidth": 0,
                          "ticks": ""
                        },
                        "colorscale": [
                          [
                            0,
                            "#0d0887"
                          ],
                          [
                            0.1111111111111111,
                            "#46039f"
                          ],
                          [
                            0.2222222222222222,
                            "#7201a8"
                          ],
                          [
                            0.3333333333333333,
                            "#9c179e"
                          ],
                          [
                            0.4444444444444444,
                            "#bd3786"
                          ],
                          [
                            0.5555555555555556,
                            "#d8576b"
                          ],
                          [
                            0.6666666666666666,
                            "#ed7953"
                          ],
                          [
                            0.7777777777777778,
                            "#fb9f3a"
                          ],
                          [
                            0.8888888888888888,
                            "#fdca26"
                          ],
                          [
                            1,
                            "#f0f921"
                          ]
                        ],
                        "type": "histogram2dcontour"
                      }
                    ],
                    "mesh3d": [
                      {
                        "colorbar": {
                          "outlinewidth": 0,
                          "ticks": ""
                        },
                        "type": "mesh3d"
                      }
                    ],
                    "parcoords": [
                      {
                        "line": {
                          "colorbar": {
                            "outlinewidth": 0,
                            "ticks": ""
                          }
                        },
                        "type": "parcoords"
                      }
                    ],
                    "pie": [
                      {
                        "automargin": true,
                        "type": "pie"
                      }
                    ],
                    "scatter": [
                      {
                        "fillpattern": {
                          "fillmode": "overlay",
                          "size": 10,
                          "solidity": 0.2
                        },
                        "type": "scatter"
                      }
                    ],
                    "scatter3d": [
                      {
                        "line": {
                          "colorbar": {
                            "outlinewidth": 0,
                            "ticks": ""
                          }
                        },
                        "marker": {
                          "colorbar": {
                            "outlinewidth": 0,
                            "ticks": ""
                          }
                        },
                        "type": "scatter3d"
                      }
                    ],
                    "scattercarpet": [
                      {
                        "marker": {
                          "colorbar": {
                            "outlinewidth": 0,
                            "ticks": ""
                          }
                        },
                        "type": "scattercarpet"
                      }
                    ],
                    "scattergeo": [
                      {
                        "marker": {
                          "colorbar": {
                            "outlinewidth": 0,
                            "ticks": ""
                          }
                        },
                        "type": "scattergeo"
                      }
                    ],
                    "scattergl": [
                      {
                        "marker": {
                          "colorbar": {
                            "outlinewidth": 0,
                            "ticks": ""
                          }
                        },
                        "type": "scattergl"
                      }
                    ],
                    "scattermapbox": [
                      {
                        "marker": {
                          "colorbar": {
                            "outlinewidth": 0,
                            "ticks": ""
                          }
                        },
                        "type": "scattermapbox"
                      }
                    ],
                    "scatterpolar": [
                      {
                        "marker": {
                          "colorbar": {
                            "outlinewidth": 0,
                            "ticks": ""
                          }
                        },
                        "type": "scatterpolar"
                      }
                    ],
                    "scatterpolargl": [
                      {
                        "marker": {
                          "colorbar": {
                            "outlinewidth": 0,
                            "ticks": ""
                          }
                        },
                        "type": "scatterpolargl"
                      }
                    ],
                    "scatterternary": [
                      {
                        "marker": {
                          "colorbar": {
                            "outlinewidth": 0,
                            "ticks": ""
                          }
                        },
                        "type": "scatterternary"
                      }
                    ],
                    "surface": [
                      {
                        "colorbar": {
                          "outlinewidth": 0,
                          "ticks": ""
                        },
                        "colorscale": [
                          [
                            0,
                            "#0d0887"
                          ],
                          [
                            0.1111111111111111,
                            "#46039f"
                          ],
                          [
                            0.2222222222222222,
                            "#7201a8"
                          ],
                          [
                            0.3333333333333333,
                            "#9c179e"
                          ],
                          [
                            0.4444444444444444,
                            "#bd3786"
                          ],
                          [
                            0.5555555555555556,
                            "#d8576b"
                          ],
                          [
                            0.6666666666666666,
                            "#ed7953"
                          ],
                          [
                            0.7777777777777778,
                            "#fb9f3a"
                          ],
                          [
                            0.8888888888888888,
                            "#fdca26"
                          ],
                          [
                            1,
                            "#f0f921"
                          ]
                        ],
                        "type": "surface"
                      }
                    ],
                    "table": [
                      {
                        "cells": {
                          "fill": {
                            "color": "#EBF0F8"
                          },
                          "line": {
                            "color": "white"
                          }
                        },
                        "header": {
                          "fill": {
                            "color": "#C8D4E3"
                          },
                          "line": {
                            "color": "white"
                          }
                        },
                        "type": "table"
                      }
                    ]
                  },
                  "layout": {
                    "annotationdefaults": {
                      "arrowcolor": "#2a3f5f",
                      "arrowhead": 0,
                      "arrowwidth": 1
                    },
                    "autotypenumbers": "strict",
                    "coloraxis": {
                      "colorbar": {
                        "outlinewidth": 0,
                        "ticks": ""
                      }
                    },
                    "colorscale": {
                      "diverging": [
                        [
                          0,
                          "#8e0152"
                        ],
                        [
                          0.1,
                          "#c51b7d"
                        ],
                        [
                          0.2,
                          "#de77ae"
                        ],
                        [
                          0.3,
                          "#f1b6da"
                        ],
                        [
                          0.4,
                          "#fde0ef"
                        ],
                        [
                          0.5,
                          "#f7f7f7"
                        ],
                        [
                          0.6,
                          "#e6f5d0"
                        ],
                        [
                          0.7,
                          "#b8e186"
                        ],
                        [
                          0.8,
                          "#7fbc41"
                        ],
                        [
                          0.9,
                          "#4d9221"
                        ],
                        [
                          1,
                          "#276419"
                        ]
                      ],
                      "sequential": [
                        [
                          0,
                          "#0d0887"
                        ],
                        [
                          0.1111111111111111,
                          "#46039f"
                        ],
                        [
                          0.2222222222222222,
                          "#7201a8"
                        ],
                        [
                          0.3333333333333333,
                          "#9c179e"
                        ],
                        [
                          0.4444444444444444,
                          "#bd3786"
                        ],
                        [
                          0.5555555555555556,
                          "#d8576b"
                        ],
                        [
                          0.6666666666666666,
                          "#ed7953"
                        ],
                        [
                          0.7777777777777778,
                          "#fb9f3a"
                        ],
                        [
                          0.8888888888888888,
                          "#fdca26"
                        ],
                        [
                          1,
                          "#f0f921"
                        ]
                      ],
                      "sequentialminus": [
                        [
                          0,
                          "#0d0887"
                        ],
                        [
                          0.1111111111111111,
                          "#46039f"
                        ],
                        [
                          0.2222222222222222,
                          "#7201a8"
                        ],
                        [
                          0.3333333333333333,
                          "#9c179e"
                        ],
                        [
                          0.4444444444444444,
                          "#bd3786"
                        ],
                        [
                          0.5555555555555556,
                          "#d8576b"
                        ],
                        [
                          0.6666666666666666,
                          "#ed7953"
                        ],
                        [
                          0.7777777777777778,
                          "#fb9f3a"
                        ],
                        [
                          0.8888888888888888,
                          "#fdca26"
                        ],
                        [
                          1,
                          "#f0f921"
                        ]
                      ]
                    },
                    "colorway": [
                      "#636efa",
                      "#EF553B",
                      "#00cc96",
                      "#ab63fa",
                      "#FFA15A",
                      "#19d3f3",
                      "#FF6692",
                      "#B6E880",
                      "#FF97FF",
                      "#FECB52"
                    ],
                    "font": {
                      "color": "#2a3f5f"
                    },
                    "geo": {
                      "bgcolor": "white",
                      "lakecolor": "white",
                      "landcolor": "#E5ECF6",
                      "showlakes": true,
                      "showland": true,
                      "subunitcolor": "white"
                    },
                    "hoverlabel": {
                      "align": "left"
                    },
                    "hovermode": "closest",
                    "mapbox": {
                      "style": "light"
                    },
                    "paper_bgcolor": "white",
                    "plot_bgcolor": "#E5ECF6",
                    "polar": {
                      "angularaxis": {
                        "gridcolor": "white",
                        "linecolor": "white",
                        "ticks": ""
                      },
                      "bgcolor": "#E5ECF6",
                      "radialaxis": {
                        "gridcolor": "white",
                        "linecolor": "white",
                        "ticks": ""
                      }
                    },
                    "scene": {
                      "xaxis": {
                        "backgroundcolor": "#E5ECF6",
                        "gridcolor": "white",
                        "gridwidth": 2,
                        "linecolor": "white",
                        "showbackground": true,
                        "ticks": "",
                        "zerolinecolor": "white"
                      },
                      "yaxis": {
                        "backgroundcolor": "#E5ECF6",
                        "gridcolor": "white",
                        "gridwidth": 2,
                        "linecolor": "white",
                        "showbackground": true,
                        "ticks": "",
                        "zerolinecolor": "white"
                      },
                      "zaxis": {
                        "backgroundcolor": "#E5ECF6",
                        "gridcolor": "white",
                        "gridwidth": 2,
                        "linecolor": "white",
                        "showbackground": true,
                        "ticks": "",
                        "zerolinecolor": "white"
                      }
                    },
                    "shapedefaults": {
                      "line": {
                        "color": "#2a3f5f"
                      }
                    },
                    "ternary": {
                      "aaxis": {
                        "gridcolor": "white",
                        "linecolor": "white",
                        "ticks": ""
                      },
                      "baxis": {
                        "gridcolor": "white",
                        "linecolor": "white",
                        "ticks": ""
                      },
                      "bgcolor": "#E5ECF6",
                      "caxis": {
                        "gridcolor": "white",
                        "linecolor": "white",
                        "ticks": ""
                      }
                    },
                    "title": {
                      "x": 0.05
                    },
                    "xaxis": {
                      "automargin": true,
                      "gridcolor": "white",
                      "linecolor": "white",
                      "ticks": "",
                      "title": {
                        "standoff": 15
                      },
                      "zerolinecolor": "white",
                      "zerolinewidth": 2
                    },
                    "yaxis": {
                      "automargin": true,
                      "gridcolor": "white",
                      "linecolor": "white",
                      "ticks": "",
                      "title": {
                        "standoff": 15
                      },
                      "zerolinecolor": "white",
                      "zerolinewidth": 2
                    }
                  }
                },
                "title": {
                  "text": "Distribuição De Casos Investigados Por Escolaridade"
                },
                "xaxis": {
                  "anchor": "y",
                  "categoryarray": [
                    "Fundamental incompleto",
                    "Médio completo",
                    "Superior completo",
                    "Sem instrução",
                    "Médio incompleto",
                    "Fundamental completa",
                    "Superior incompleto",
                    "Pós-graduação, mestrado ou doutorado"
                  ],
                  "categoryorder": "array",
                  "domain": [
                    0,
                    1
                  ],
                  "title": {}
                },
                "yaxis": {
                  "anchor": "x",
                  "domain": [
                    0,
                    1
                  ],
                  "title": {
                    "text": "Porcentagem"
                  }
                }
              }
            }
          },
          "metadata": {},
          "output_type": "display_data"
        }
      ],
      "source": [
        "plot_bar(df, \"ESCOLARIDADE\", title = 'Distribuição De Casos Investigados Por Escolaridade')"
      ]
    },
    {
      "cell_type": "code",
      "execution_count": 17,
      "metadata": {
        "colab": {
          "base_uri": "https://localhost:8080/",
          "height": 542
        },
        "id": "7qxIn-EMmESH",
        "outputId": "9a6bbbba-1ea3-4bea-a017-af7ba13a45ce"
      },
      "outputs": [
        {
          "data": {
            "application/vnd.plotly.v1+json": {
              "config": {
                "plotlyServerURL": "https://plot.ly"
              },
              "data": [
                {
                  "alignmentgroup": "True",
                  "hovertemplate": "QUAL_RESULTADO=%{x}<br>Porcentagem=%{text}<extra></extra>",
                  "legendgroup": "Não aplicável",
                  "marker": {
                    "color": "#636efa",
                    "pattern": {
                      "shape": ""
                    }
                  },
                  "name": "Não aplicável",
                  "offsetgroup": "Não aplicável",
                  "orientation": "v",
                  "showlegend": true,
                  "text": [
                    99.17246667709365
                  ],
                  "textposition": "outside",
                  "texttemplate": "%{text:.2f}%",
                  "type": "bar",
                  "x": [
                    "Não aplicável"
                  ],
                  "xaxis": "x",
                  "y": [
                    99.17246667709365
                  ],
                  "yaxis": "y"
                },
                {
                  "alignmentgroup": "True",
                  "hovertemplate": "QUAL_RESULTADO=%{x}<br>Porcentagem=%{text}<extra></extra>",
                  "legendgroup": "Negativo",
                  "marker": {
                    "color": "#EF553B",
                    "pattern": {
                      "shape": ""
                    }
                  },
                  "name": "Negativo",
                  "offsetgroup": "Negativo",
                  "orientation": "v",
                  "showlegend": true,
                  "text": [
                    0.5384017169768694
                  ],
                  "textposition": "outside",
                  "texttemplate": "%{text:.2f}%",
                  "type": "bar",
                  "x": [
                    "Negativo"
                  ],
                  "xaxis": "x",
                  "y": [
                    0.5384017169768694
                  ],
                  "yaxis": "y"
                },
                {
                  "alignmentgroup": "True",
                  "hovertemplate": "QUAL_RESULTADO=%{x}<br>Porcentagem=%{text}<extra></extra>",
                  "legendgroup": "Positivo",
                  "marker": {
                    "color": "#00cc96",
                    "pattern": {
                      "shape": ""
                    }
                  },
                  "name": "Positivo",
                  "offsetgroup": "Positivo",
                  "orientation": "v",
                  "showlegend": true,
                  "text": [
                    0.22255096188936968
                  ],
                  "textposition": "outside",
                  "texttemplate": "%{text:.2f}%",
                  "type": "bar",
                  "x": [
                    "Positivo"
                  ],
                  "xaxis": "x",
                  "y": [
                    0.22255096188936968
                  ],
                  "yaxis": "y"
                },
                {
                  "alignmentgroup": "True",
                  "hovertemplate": "QUAL_RESULTADO=%{x}<br>Porcentagem=%{text}<extra></extra>",
                  "legendgroup": "Ainda não recebeu o resultado",
                  "marker": {
                    "color": "#ab63fa",
                    "pattern": {
                      "shape": ""
                    }
                  },
                  "name": "Ainda não recebeu o resultado",
                  "offsetgroup": "Ainda não recebeu o resultado",
                  "orientation": "v",
                  "showlegend": true,
                  "text": [
                    0.06125853709399927
                  ],
                  "textposition": "outside",
                  "texttemplate": "%{text:.2f}%",
                  "type": "bar",
                  "x": [
                    "Ainda não recebeu o resultado"
                  ],
                  "xaxis": "x",
                  "y": [
                    0.06125853709399927
                  ],
                  "yaxis": "y"
                },
                {
                  "alignmentgroup": "True",
                  "hovertemplate": "QUAL_RESULTADO=%{x}<br>Porcentagem=%{text}<extra></extra>",
                  "legendgroup": "Inconclusivo",
                  "marker": {
                    "color": "#FFA15A",
                    "pattern": {
                      "shape": ""
                    }
                  },
                  "name": "Inconclusivo",
                  "offsetgroup": "Inconclusivo",
                  "orientation": "v",
                  "showlegend": true,
                  "text": [
                    0.005322106946109866
                  ],
                  "textposition": "outside",
                  "texttemplate": "%{text:.2f}%",
                  "type": "bar",
                  "x": [
                    "Inconclusivo"
                  ],
                  "xaxis": "x",
                  "y": [
                    0.005322106946109866
                  ],
                  "yaxis": "y"
                }
              ],
              "layout": {
                "barmode": "relative",
                "legend": {
                  "title": {
                    "text": "QUAL_RESULTADO"
                  },
                  "tracegroupgap": 0
                },
                "margin": {
                  "t": 60
                },
                "template": {
                  "data": {
                    "bar": [
                      {
                        "error_x": {
                          "color": "#2a3f5f"
                        },
                        "error_y": {
                          "color": "#2a3f5f"
                        },
                        "marker": {
                          "line": {
                            "color": "#E5ECF6",
                            "width": 0.5
                          },
                          "pattern": {
                            "fillmode": "overlay",
                            "size": 10,
                            "solidity": 0.2
                          }
                        },
                        "type": "bar"
                      }
                    ],
                    "barpolar": [
                      {
                        "marker": {
                          "line": {
                            "color": "#E5ECF6",
                            "width": 0.5
                          },
                          "pattern": {
                            "fillmode": "overlay",
                            "size": 10,
                            "solidity": 0.2
                          }
                        },
                        "type": "barpolar"
                      }
                    ],
                    "carpet": [
                      {
                        "aaxis": {
                          "endlinecolor": "#2a3f5f",
                          "gridcolor": "white",
                          "linecolor": "white",
                          "minorgridcolor": "white",
                          "startlinecolor": "#2a3f5f"
                        },
                        "baxis": {
                          "endlinecolor": "#2a3f5f",
                          "gridcolor": "white",
                          "linecolor": "white",
                          "minorgridcolor": "white",
                          "startlinecolor": "#2a3f5f"
                        },
                        "type": "carpet"
                      }
                    ],
                    "choropleth": [
                      {
                        "colorbar": {
                          "outlinewidth": 0,
                          "ticks": ""
                        },
                        "type": "choropleth"
                      }
                    ],
                    "contour": [
                      {
                        "colorbar": {
                          "outlinewidth": 0,
                          "ticks": ""
                        },
                        "colorscale": [
                          [
                            0,
                            "#0d0887"
                          ],
                          [
                            0.1111111111111111,
                            "#46039f"
                          ],
                          [
                            0.2222222222222222,
                            "#7201a8"
                          ],
                          [
                            0.3333333333333333,
                            "#9c179e"
                          ],
                          [
                            0.4444444444444444,
                            "#bd3786"
                          ],
                          [
                            0.5555555555555556,
                            "#d8576b"
                          ],
                          [
                            0.6666666666666666,
                            "#ed7953"
                          ],
                          [
                            0.7777777777777778,
                            "#fb9f3a"
                          ],
                          [
                            0.8888888888888888,
                            "#fdca26"
                          ],
                          [
                            1,
                            "#f0f921"
                          ]
                        ],
                        "type": "contour"
                      }
                    ],
                    "contourcarpet": [
                      {
                        "colorbar": {
                          "outlinewidth": 0,
                          "ticks": ""
                        },
                        "type": "contourcarpet"
                      }
                    ],
                    "heatmap": [
                      {
                        "colorbar": {
                          "outlinewidth": 0,
                          "ticks": ""
                        },
                        "colorscale": [
                          [
                            0,
                            "#0d0887"
                          ],
                          [
                            0.1111111111111111,
                            "#46039f"
                          ],
                          [
                            0.2222222222222222,
                            "#7201a8"
                          ],
                          [
                            0.3333333333333333,
                            "#9c179e"
                          ],
                          [
                            0.4444444444444444,
                            "#bd3786"
                          ],
                          [
                            0.5555555555555556,
                            "#d8576b"
                          ],
                          [
                            0.6666666666666666,
                            "#ed7953"
                          ],
                          [
                            0.7777777777777778,
                            "#fb9f3a"
                          ],
                          [
                            0.8888888888888888,
                            "#fdca26"
                          ],
                          [
                            1,
                            "#f0f921"
                          ]
                        ],
                        "type": "heatmap"
                      }
                    ],
                    "heatmapgl": [
                      {
                        "colorbar": {
                          "outlinewidth": 0,
                          "ticks": ""
                        },
                        "colorscale": [
                          [
                            0,
                            "#0d0887"
                          ],
                          [
                            0.1111111111111111,
                            "#46039f"
                          ],
                          [
                            0.2222222222222222,
                            "#7201a8"
                          ],
                          [
                            0.3333333333333333,
                            "#9c179e"
                          ],
                          [
                            0.4444444444444444,
                            "#bd3786"
                          ],
                          [
                            0.5555555555555556,
                            "#d8576b"
                          ],
                          [
                            0.6666666666666666,
                            "#ed7953"
                          ],
                          [
                            0.7777777777777778,
                            "#fb9f3a"
                          ],
                          [
                            0.8888888888888888,
                            "#fdca26"
                          ],
                          [
                            1,
                            "#f0f921"
                          ]
                        ],
                        "type": "heatmapgl"
                      }
                    ],
                    "histogram": [
                      {
                        "marker": {
                          "pattern": {
                            "fillmode": "overlay",
                            "size": 10,
                            "solidity": 0.2
                          }
                        },
                        "type": "histogram"
                      }
                    ],
                    "histogram2d": [
                      {
                        "colorbar": {
                          "outlinewidth": 0,
                          "ticks": ""
                        },
                        "colorscale": [
                          [
                            0,
                            "#0d0887"
                          ],
                          [
                            0.1111111111111111,
                            "#46039f"
                          ],
                          [
                            0.2222222222222222,
                            "#7201a8"
                          ],
                          [
                            0.3333333333333333,
                            "#9c179e"
                          ],
                          [
                            0.4444444444444444,
                            "#bd3786"
                          ],
                          [
                            0.5555555555555556,
                            "#d8576b"
                          ],
                          [
                            0.6666666666666666,
                            "#ed7953"
                          ],
                          [
                            0.7777777777777778,
                            "#fb9f3a"
                          ],
                          [
                            0.8888888888888888,
                            "#fdca26"
                          ],
                          [
                            1,
                            "#f0f921"
                          ]
                        ],
                        "type": "histogram2d"
                      }
                    ],
                    "histogram2dcontour": [
                      {
                        "colorbar": {
                          "outlinewidth": 0,
                          "ticks": ""
                        },
                        "colorscale": [
                          [
                            0,
                            "#0d0887"
                          ],
                          [
                            0.1111111111111111,
                            "#46039f"
                          ],
                          [
                            0.2222222222222222,
                            "#7201a8"
                          ],
                          [
                            0.3333333333333333,
                            "#9c179e"
                          ],
                          [
                            0.4444444444444444,
                            "#bd3786"
                          ],
                          [
                            0.5555555555555556,
                            "#d8576b"
                          ],
                          [
                            0.6666666666666666,
                            "#ed7953"
                          ],
                          [
                            0.7777777777777778,
                            "#fb9f3a"
                          ],
                          [
                            0.8888888888888888,
                            "#fdca26"
                          ],
                          [
                            1,
                            "#f0f921"
                          ]
                        ],
                        "type": "histogram2dcontour"
                      }
                    ],
                    "mesh3d": [
                      {
                        "colorbar": {
                          "outlinewidth": 0,
                          "ticks": ""
                        },
                        "type": "mesh3d"
                      }
                    ],
                    "parcoords": [
                      {
                        "line": {
                          "colorbar": {
                            "outlinewidth": 0,
                            "ticks": ""
                          }
                        },
                        "type": "parcoords"
                      }
                    ],
                    "pie": [
                      {
                        "automargin": true,
                        "type": "pie"
                      }
                    ],
                    "scatter": [
                      {
                        "fillpattern": {
                          "fillmode": "overlay",
                          "size": 10,
                          "solidity": 0.2
                        },
                        "type": "scatter"
                      }
                    ],
                    "scatter3d": [
                      {
                        "line": {
                          "colorbar": {
                            "outlinewidth": 0,
                            "ticks": ""
                          }
                        },
                        "marker": {
                          "colorbar": {
                            "outlinewidth": 0,
                            "ticks": ""
                          }
                        },
                        "type": "scatter3d"
                      }
                    ],
                    "scattercarpet": [
                      {
                        "marker": {
                          "colorbar": {
                            "outlinewidth": 0,
                            "ticks": ""
                          }
                        },
                        "type": "scattercarpet"
                      }
                    ],
                    "scattergeo": [
                      {
                        "marker": {
                          "colorbar": {
                            "outlinewidth": 0,
                            "ticks": ""
                          }
                        },
                        "type": "scattergeo"
                      }
                    ],
                    "scattergl": [
                      {
                        "marker": {
                          "colorbar": {
                            "outlinewidth": 0,
                            "ticks": ""
                          }
                        },
                        "type": "scattergl"
                      }
                    ],
                    "scattermapbox": [
                      {
                        "marker": {
                          "colorbar": {
                            "outlinewidth": 0,
                            "ticks": ""
                          }
                        },
                        "type": "scattermapbox"
                      }
                    ],
                    "scatterpolar": [
                      {
                        "marker": {
                          "colorbar": {
                            "outlinewidth": 0,
                            "ticks": ""
                          }
                        },
                        "type": "scatterpolar"
                      }
                    ],
                    "scatterpolargl": [
                      {
                        "marker": {
                          "colorbar": {
                            "outlinewidth": 0,
                            "ticks": ""
                          }
                        },
                        "type": "scatterpolargl"
                      }
                    ],
                    "scatterternary": [
                      {
                        "marker": {
                          "colorbar": {
                            "outlinewidth": 0,
                            "ticks": ""
                          }
                        },
                        "type": "scatterternary"
                      }
                    ],
                    "surface": [
                      {
                        "colorbar": {
                          "outlinewidth": 0,
                          "ticks": ""
                        },
                        "colorscale": [
                          [
                            0,
                            "#0d0887"
                          ],
                          [
                            0.1111111111111111,
                            "#46039f"
                          ],
                          [
                            0.2222222222222222,
                            "#7201a8"
                          ],
                          [
                            0.3333333333333333,
                            "#9c179e"
                          ],
                          [
                            0.4444444444444444,
                            "#bd3786"
                          ],
                          [
                            0.5555555555555556,
                            "#d8576b"
                          ],
                          [
                            0.6666666666666666,
                            "#ed7953"
                          ],
                          [
                            0.7777777777777778,
                            "#fb9f3a"
                          ],
                          [
                            0.8888888888888888,
                            "#fdca26"
                          ],
                          [
                            1,
                            "#f0f921"
                          ]
                        ],
                        "type": "surface"
                      }
                    ],
                    "table": [
                      {
                        "cells": {
                          "fill": {
                            "color": "#EBF0F8"
                          },
                          "line": {
                            "color": "white"
                          }
                        },
                        "header": {
                          "fill": {
                            "color": "#C8D4E3"
                          },
                          "line": {
                            "color": "white"
                          }
                        },
                        "type": "table"
                      }
                    ]
                  },
                  "layout": {
                    "annotationdefaults": {
                      "arrowcolor": "#2a3f5f",
                      "arrowhead": 0,
                      "arrowwidth": 1
                    },
                    "autotypenumbers": "strict",
                    "coloraxis": {
                      "colorbar": {
                        "outlinewidth": 0,
                        "ticks": ""
                      }
                    },
                    "colorscale": {
                      "diverging": [
                        [
                          0,
                          "#8e0152"
                        ],
                        [
                          0.1,
                          "#c51b7d"
                        ],
                        [
                          0.2,
                          "#de77ae"
                        ],
                        [
                          0.3,
                          "#f1b6da"
                        ],
                        [
                          0.4,
                          "#fde0ef"
                        ],
                        [
                          0.5,
                          "#f7f7f7"
                        ],
                        [
                          0.6,
                          "#e6f5d0"
                        ],
                        [
                          0.7,
                          "#b8e186"
                        ],
                        [
                          0.8,
                          "#7fbc41"
                        ],
                        [
                          0.9,
                          "#4d9221"
                        ],
                        [
                          1,
                          "#276419"
                        ]
                      ],
                      "sequential": [
                        [
                          0,
                          "#0d0887"
                        ],
                        [
                          0.1111111111111111,
                          "#46039f"
                        ],
                        [
                          0.2222222222222222,
                          "#7201a8"
                        ],
                        [
                          0.3333333333333333,
                          "#9c179e"
                        ],
                        [
                          0.4444444444444444,
                          "#bd3786"
                        ],
                        [
                          0.5555555555555556,
                          "#d8576b"
                        ],
                        [
                          0.6666666666666666,
                          "#ed7953"
                        ],
                        [
                          0.7777777777777778,
                          "#fb9f3a"
                        ],
                        [
                          0.8888888888888888,
                          "#fdca26"
                        ],
                        [
                          1,
                          "#f0f921"
                        ]
                      ],
                      "sequentialminus": [
                        [
                          0,
                          "#0d0887"
                        ],
                        [
                          0.1111111111111111,
                          "#46039f"
                        ],
                        [
                          0.2222222222222222,
                          "#7201a8"
                        ],
                        [
                          0.3333333333333333,
                          "#9c179e"
                        ],
                        [
                          0.4444444444444444,
                          "#bd3786"
                        ],
                        [
                          0.5555555555555556,
                          "#d8576b"
                        ],
                        [
                          0.6666666666666666,
                          "#ed7953"
                        ],
                        [
                          0.7777777777777778,
                          "#fb9f3a"
                        ],
                        [
                          0.8888888888888888,
                          "#fdca26"
                        ],
                        [
                          1,
                          "#f0f921"
                        ]
                      ]
                    },
                    "colorway": [
                      "#636efa",
                      "#EF553B",
                      "#00cc96",
                      "#ab63fa",
                      "#FFA15A",
                      "#19d3f3",
                      "#FF6692",
                      "#B6E880",
                      "#FF97FF",
                      "#FECB52"
                    ],
                    "font": {
                      "color": "#2a3f5f"
                    },
                    "geo": {
                      "bgcolor": "white",
                      "lakecolor": "white",
                      "landcolor": "#E5ECF6",
                      "showlakes": true,
                      "showland": true,
                      "subunitcolor": "white"
                    },
                    "hoverlabel": {
                      "align": "left"
                    },
                    "hovermode": "closest",
                    "mapbox": {
                      "style": "light"
                    },
                    "paper_bgcolor": "white",
                    "plot_bgcolor": "#E5ECF6",
                    "polar": {
                      "angularaxis": {
                        "gridcolor": "white",
                        "linecolor": "white",
                        "ticks": ""
                      },
                      "bgcolor": "#E5ECF6",
                      "radialaxis": {
                        "gridcolor": "white",
                        "linecolor": "white",
                        "ticks": ""
                      }
                    },
                    "scene": {
                      "xaxis": {
                        "backgroundcolor": "#E5ECF6",
                        "gridcolor": "white",
                        "gridwidth": 2,
                        "linecolor": "white",
                        "showbackground": true,
                        "ticks": "",
                        "zerolinecolor": "white"
                      },
                      "yaxis": {
                        "backgroundcolor": "#E5ECF6",
                        "gridcolor": "white",
                        "gridwidth": 2,
                        "linecolor": "white",
                        "showbackground": true,
                        "ticks": "",
                        "zerolinecolor": "white"
                      },
                      "zaxis": {
                        "backgroundcolor": "#E5ECF6",
                        "gridcolor": "white",
                        "gridwidth": 2,
                        "linecolor": "white",
                        "showbackground": true,
                        "ticks": "",
                        "zerolinecolor": "white"
                      }
                    },
                    "shapedefaults": {
                      "line": {
                        "color": "#2a3f5f"
                      }
                    },
                    "ternary": {
                      "aaxis": {
                        "gridcolor": "white",
                        "linecolor": "white",
                        "ticks": ""
                      },
                      "baxis": {
                        "gridcolor": "white",
                        "linecolor": "white",
                        "ticks": ""
                      },
                      "bgcolor": "#E5ECF6",
                      "caxis": {
                        "gridcolor": "white",
                        "linecolor": "white",
                        "ticks": ""
                      }
                    },
                    "title": {
                      "x": 0.05
                    },
                    "xaxis": {
                      "automargin": true,
                      "gridcolor": "white",
                      "linecolor": "white",
                      "ticks": "",
                      "title": {
                        "standoff": 15
                      },
                      "zerolinecolor": "white",
                      "zerolinewidth": 2
                    },
                    "yaxis": {
                      "automargin": true,
                      "gridcolor": "white",
                      "linecolor": "white",
                      "ticks": "",
                      "title": {
                        "standoff": 15
                      },
                      "zerolinecolor": "white",
                      "zerolinewidth": 2
                    }
                  }
                },
                "title": {
                  "text": "Distribuição De Casos Investigados Por Resultado (SWAB)"
                },
                "xaxis": {
                  "anchor": "y",
                  "categoryarray": [
                    "Não aplicável",
                    "Negativo",
                    "Positivo",
                    "Ainda não recebeu o resultado",
                    "Inconclusivo"
                  ],
                  "categoryorder": "array",
                  "domain": [
                    0,
                    1
                  ],
                  "title": {}
                },
                "yaxis": {
                  "anchor": "x",
                  "domain": [
                    0,
                    1
                  ],
                  "title": {
                    "text": "Porcentagem"
                  }
                }
              }
            }
          },
          "metadata": {},
          "output_type": "display_data"
        }
      ],
      "source": [
        "plot_bar(df, \"QUAL_RESULTADO\", title = 'Distribuição De Casos Investigados Por Resultado (SWAB)')"
      ]
    },
    {
      "cell_type": "code",
      "execution_count": 18,
      "metadata": {
        "colab": {
          "base_uri": "https://localhost:8080/",
          "height": 542
        },
        "id": "YrOdPwismMQP",
        "outputId": "3b697005-53f2-4d23-e608-7ee697f0bf6d"
      },
      "outputs": [
        {
          "data": {
            "application/vnd.plotly.v1+json": {
              "config": {
                "plotlyServerURL": "https://plot.ly"
              },
              "data": [
                {
                  "alignmentgroup": "True",
                  "hovertemplate": "TRABALHO_REMOTO=%{x}<br>Porcentagem=%{text}<extra></extra>",
                  "legendgroup": "Não aplicável",
                  "marker": {
                    "color": "#636efa",
                    "pattern": {
                      "shape": ""
                    }
                  },
                  "name": "Não aplicável",
                  "offsetgroup": "Não aplicável",
                  "orientation": "v",
                  "showlegend": true,
                  "text": [
                    94.51909876092661
                  ],
                  "textposition": "outside",
                  "texttemplate": "%{text:.2f}%",
                  "type": "bar",
                  "x": [
                    "Não aplicável"
                  ],
                  "xaxis": "x",
                  "y": [
                    94.51909876092661
                  ],
                  "yaxis": "y"
                },
                {
                  "alignmentgroup": "True",
                  "hovertemplate": "TRABALHO_REMOTO=%{x}<br>Porcentagem=%{text}<extra></extra>",
                  "legendgroup": "Sim",
                  "marker": {
                    "color": "#EF553B",
                    "pattern": {
                      "shape": ""
                    }
                  },
                  "name": "Sim",
                  "offsetgroup": "Sim",
                  "orientation": "v",
                  "showlegend": true,
                  "text": [
                    3.8802504214239786
                  ],
                  "textposition": "outside",
                  "texttemplate": "%{text:.2f}%",
                  "type": "bar",
                  "x": [
                    "Sim"
                  ],
                  "xaxis": "x",
                  "y": [
                    3.8802504214239786
                  ],
                  "yaxis": "y"
                },
                {
                  "alignmentgroup": "True",
                  "hovertemplate": "TRABALHO_REMOTO=%{x}<br>Porcentagem=%{text}<extra></extra>",
                  "legendgroup": "Não",
                  "marker": {
                    "color": "#00cc96",
                    "pattern": {
                      "shape": ""
                    }
                  },
                  "name": "Não",
                  "offsetgroup": "Não",
                  "orientation": "v",
                  "showlegend": true,
                  "text": [
                    1.6006508176494099
                  ],
                  "textposition": "outside",
                  "texttemplate": "%{text:.2f}%",
                  "type": "bar",
                  "x": [
                    "Não"
                  ],
                  "xaxis": "x",
                  "y": [
                    1.6006508176494099
                  ],
                  "yaxis": "y"
                }
              ],
              "layout": {
                "barmode": "relative",
                "legend": {
                  "title": {
                    "text": "TRABALHO_REMOTO"
                  },
                  "tracegroupgap": 0
                },
                "margin": {
                  "t": 60
                },
                "template": {
                  "data": {
                    "bar": [
                      {
                        "error_x": {
                          "color": "#2a3f5f"
                        },
                        "error_y": {
                          "color": "#2a3f5f"
                        },
                        "marker": {
                          "line": {
                            "color": "#E5ECF6",
                            "width": 0.5
                          },
                          "pattern": {
                            "fillmode": "overlay",
                            "size": 10,
                            "solidity": 0.2
                          }
                        },
                        "type": "bar"
                      }
                    ],
                    "barpolar": [
                      {
                        "marker": {
                          "line": {
                            "color": "#E5ECF6",
                            "width": 0.5
                          },
                          "pattern": {
                            "fillmode": "overlay",
                            "size": 10,
                            "solidity": 0.2
                          }
                        },
                        "type": "barpolar"
                      }
                    ],
                    "carpet": [
                      {
                        "aaxis": {
                          "endlinecolor": "#2a3f5f",
                          "gridcolor": "white",
                          "linecolor": "white",
                          "minorgridcolor": "white",
                          "startlinecolor": "#2a3f5f"
                        },
                        "baxis": {
                          "endlinecolor": "#2a3f5f",
                          "gridcolor": "white",
                          "linecolor": "white",
                          "minorgridcolor": "white",
                          "startlinecolor": "#2a3f5f"
                        },
                        "type": "carpet"
                      }
                    ],
                    "choropleth": [
                      {
                        "colorbar": {
                          "outlinewidth": 0,
                          "ticks": ""
                        },
                        "type": "choropleth"
                      }
                    ],
                    "contour": [
                      {
                        "colorbar": {
                          "outlinewidth": 0,
                          "ticks": ""
                        },
                        "colorscale": [
                          [
                            0,
                            "#0d0887"
                          ],
                          [
                            0.1111111111111111,
                            "#46039f"
                          ],
                          [
                            0.2222222222222222,
                            "#7201a8"
                          ],
                          [
                            0.3333333333333333,
                            "#9c179e"
                          ],
                          [
                            0.4444444444444444,
                            "#bd3786"
                          ],
                          [
                            0.5555555555555556,
                            "#d8576b"
                          ],
                          [
                            0.6666666666666666,
                            "#ed7953"
                          ],
                          [
                            0.7777777777777778,
                            "#fb9f3a"
                          ],
                          [
                            0.8888888888888888,
                            "#fdca26"
                          ],
                          [
                            1,
                            "#f0f921"
                          ]
                        ],
                        "type": "contour"
                      }
                    ],
                    "contourcarpet": [
                      {
                        "colorbar": {
                          "outlinewidth": 0,
                          "ticks": ""
                        },
                        "type": "contourcarpet"
                      }
                    ],
                    "heatmap": [
                      {
                        "colorbar": {
                          "outlinewidth": 0,
                          "ticks": ""
                        },
                        "colorscale": [
                          [
                            0,
                            "#0d0887"
                          ],
                          [
                            0.1111111111111111,
                            "#46039f"
                          ],
                          [
                            0.2222222222222222,
                            "#7201a8"
                          ],
                          [
                            0.3333333333333333,
                            "#9c179e"
                          ],
                          [
                            0.4444444444444444,
                            "#bd3786"
                          ],
                          [
                            0.5555555555555556,
                            "#d8576b"
                          ],
                          [
                            0.6666666666666666,
                            "#ed7953"
                          ],
                          [
                            0.7777777777777778,
                            "#fb9f3a"
                          ],
                          [
                            0.8888888888888888,
                            "#fdca26"
                          ],
                          [
                            1,
                            "#f0f921"
                          ]
                        ],
                        "type": "heatmap"
                      }
                    ],
                    "heatmapgl": [
                      {
                        "colorbar": {
                          "outlinewidth": 0,
                          "ticks": ""
                        },
                        "colorscale": [
                          [
                            0,
                            "#0d0887"
                          ],
                          [
                            0.1111111111111111,
                            "#46039f"
                          ],
                          [
                            0.2222222222222222,
                            "#7201a8"
                          ],
                          [
                            0.3333333333333333,
                            "#9c179e"
                          ],
                          [
                            0.4444444444444444,
                            "#bd3786"
                          ],
                          [
                            0.5555555555555556,
                            "#d8576b"
                          ],
                          [
                            0.6666666666666666,
                            "#ed7953"
                          ],
                          [
                            0.7777777777777778,
                            "#fb9f3a"
                          ],
                          [
                            0.8888888888888888,
                            "#fdca26"
                          ],
                          [
                            1,
                            "#f0f921"
                          ]
                        ],
                        "type": "heatmapgl"
                      }
                    ],
                    "histogram": [
                      {
                        "marker": {
                          "pattern": {
                            "fillmode": "overlay",
                            "size": 10,
                            "solidity": 0.2
                          }
                        },
                        "type": "histogram"
                      }
                    ],
                    "histogram2d": [
                      {
                        "colorbar": {
                          "outlinewidth": 0,
                          "ticks": ""
                        },
                        "colorscale": [
                          [
                            0,
                            "#0d0887"
                          ],
                          [
                            0.1111111111111111,
                            "#46039f"
                          ],
                          [
                            0.2222222222222222,
                            "#7201a8"
                          ],
                          [
                            0.3333333333333333,
                            "#9c179e"
                          ],
                          [
                            0.4444444444444444,
                            "#bd3786"
                          ],
                          [
                            0.5555555555555556,
                            "#d8576b"
                          ],
                          [
                            0.6666666666666666,
                            "#ed7953"
                          ],
                          [
                            0.7777777777777778,
                            "#fb9f3a"
                          ],
                          [
                            0.8888888888888888,
                            "#fdca26"
                          ],
                          [
                            1,
                            "#f0f921"
                          ]
                        ],
                        "type": "histogram2d"
                      }
                    ],
                    "histogram2dcontour": [
                      {
                        "colorbar": {
                          "outlinewidth": 0,
                          "ticks": ""
                        },
                        "colorscale": [
                          [
                            0,
                            "#0d0887"
                          ],
                          [
                            0.1111111111111111,
                            "#46039f"
                          ],
                          [
                            0.2222222222222222,
                            "#7201a8"
                          ],
                          [
                            0.3333333333333333,
                            "#9c179e"
                          ],
                          [
                            0.4444444444444444,
                            "#bd3786"
                          ],
                          [
                            0.5555555555555556,
                            "#d8576b"
                          ],
                          [
                            0.6666666666666666,
                            "#ed7953"
                          ],
                          [
                            0.7777777777777778,
                            "#fb9f3a"
                          ],
                          [
                            0.8888888888888888,
                            "#fdca26"
                          ],
                          [
                            1,
                            "#f0f921"
                          ]
                        ],
                        "type": "histogram2dcontour"
                      }
                    ],
                    "mesh3d": [
                      {
                        "colorbar": {
                          "outlinewidth": 0,
                          "ticks": ""
                        },
                        "type": "mesh3d"
                      }
                    ],
                    "parcoords": [
                      {
                        "line": {
                          "colorbar": {
                            "outlinewidth": 0,
                            "ticks": ""
                          }
                        },
                        "type": "parcoords"
                      }
                    ],
                    "pie": [
                      {
                        "automargin": true,
                        "type": "pie"
                      }
                    ],
                    "scatter": [
                      {
                        "fillpattern": {
                          "fillmode": "overlay",
                          "size": 10,
                          "solidity": 0.2
                        },
                        "type": "scatter"
                      }
                    ],
                    "scatter3d": [
                      {
                        "line": {
                          "colorbar": {
                            "outlinewidth": 0,
                            "ticks": ""
                          }
                        },
                        "marker": {
                          "colorbar": {
                            "outlinewidth": 0,
                            "ticks": ""
                          }
                        },
                        "type": "scatter3d"
                      }
                    ],
                    "scattercarpet": [
                      {
                        "marker": {
                          "colorbar": {
                            "outlinewidth": 0,
                            "ticks": ""
                          }
                        },
                        "type": "scattercarpet"
                      }
                    ],
                    "scattergeo": [
                      {
                        "marker": {
                          "colorbar": {
                            "outlinewidth": 0,
                            "ticks": ""
                          }
                        },
                        "type": "scattergeo"
                      }
                    ],
                    "scattergl": [
                      {
                        "marker": {
                          "colorbar": {
                            "outlinewidth": 0,
                            "ticks": ""
                          }
                        },
                        "type": "scattergl"
                      }
                    ],
                    "scattermapbox": [
                      {
                        "marker": {
                          "colorbar": {
                            "outlinewidth": 0,
                            "ticks": ""
                          }
                        },
                        "type": "scattermapbox"
                      }
                    ],
                    "scatterpolar": [
                      {
                        "marker": {
                          "colorbar": {
                            "outlinewidth": 0,
                            "ticks": ""
                          }
                        },
                        "type": "scatterpolar"
                      }
                    ],
                    "scatterpolargl": [
                      {
                        "marker": {
                          "colorbar": {
                            "outlinewidth": 0,
                            "ticks": ""
                          }
                        },
                        "type": "scatterpolargl"
                      }
                    ],
                    "scatterternary": [
                      {
                        "marker": {
                          "colorbar": {
                            "outlinewidth": 0,
                            "ticks": ""
                          }
                        },
                        "type": "scatterternary"
                      }
                    ],
                    "surface": [
                      {
                        "colorbar": {
                          "outlinewidth": 0,
                          "ticks": ""
                        },
                        "colorscale": [
                          [
                            0,
                            "#0d0887"
                          ],
                          [
                            0.1111111111111111,
                            "#46039f"
                          ],
                          [
                            0.2222222222222222,
                            "#7201a8"
                          ],
                          [
                            0.3333333333333333,
                            "#9c179e"
                          ],
                          [
                            0.4444444444444444,
                            "#bd3786"
                          ],
                          [
                            0.5555555555555556,
                            "#d8576b"
                          ],
                          [
                            0.6666666666666666,
                            "#ed7953"
                          ],
                          [
                            0.7777777777777778,
                            "#fb9f3a"
                          ],
                          [
                            0.8888888888888888,
                            "#fdca26"
                          ],
                          [
                            1,
                            "#f0f921"
                          ]
                        ],
                        "type": "surface"
                      }
                    ],
                    "table": [
                      {
                        "cells": {
                          "fill": {
                            "color": "#EBF0F8"
                          },
                          "line": {
                            "color": "white"
                          }
                        },
                        "header": {
                          "fill": {
                            "color": "#C8D4E3"
                          },
                          "line": {
                            "color": "white"
                          }
                        },
                        "type": "table"
                      }
                    ]
                  },
                  "layout": {
                    "annotationdefaults": {
                      "arrowcolor": "#2a3f5f",
                      "arrowhead": 0,
                      "arrowwidth": 1
                    },
                    "autotypenumbers": "strict",
                    "coloraxis": {
                      "colorbar": {
                        "outlinewidth": 0,
                        "ticks": ""
                      }
                    },
                    "colorscale": {
                      "diverging": [
                        [
                          0,
                          "#8e0152"
                        ],
                        [
                          0.1,
                          "#c51b7d"
                        ],
                        [
                          0.2,
                          "#de77ae"
                        ],
                        [
                          0.3,
                          "#f1b6da"
                        ],
                        [
                          0.4,
                          "#fde0ef"
                        ],
                        [
                          0.5,
                          "#f7f7f7"
                        ],
                        [
                          0.6,
                          "#e6f5d0"
                        ],
                        [
                          0.7,
                          "#b8e186"
                        ],
                        [
                          0.8,
                          "#7fbc41"
                        ],
                        [
                          0.9,
                          "#4d9221"
                        ],
                        [
                          1,
                          "#276419"
                        ]
                      ],
                      "sequential": [
                        [
                          0,
                          "#0d0887"
                        ],
                        [
                          0.1111111111111111,
                          "#46039f"
                        ],
                        [
                          0.2222222222222222,
                          "#7201a8"
                        ],
                        [
                          0.3333333333333333,
                          "#9c179e"
                        ],
                        [
                          0.4444444444444444,
                          "#bd3786"
                        ],
                        [
                          0.5555555555555556,
                          "#d8576b"
                        ],
                        [
                          0.6666666666666666,
                          "#ed7953"
                        ],
                        [
                          0.7777777777777778,
                          "#fb9f3a"
                        ],
                        [
                          0.8888888888888888,
                          "#fdca26"
                        ],
                        [
                          1,
                          "#f0f921"
                        ]
                      ],
                      "sequentialminus": [
                        [
                          0,
                          "#0d0887"
                        ],
                        [
                          0.1111111111111111,
                          "#46039f"
                        ],
                        [
                          0.2222222222222222,
                          "#7201a8"
                        ],
                        [
                          0.3333333333333333,
                          "#9c179e"
                        ],
                        [
                          0.4444444444444444,
                          "#bd3786"
                        ],
                        [
                          0.5555555555555556,
                          "#d8576b"
                        ],
                        [
                          0.6666666666666666,
                          "#ed7953"
                        ],
                        [
                          0.7777777777777778,
                          "#fb9f3a"
                        ],
                        [
                          0.8888888888888888,
                          "#fdca26"
                        ],
                        [
                          1,
                          "#f0f921"
                        ]
                      ]
                    },
                    "colorway": [
                      "#636efa",
                      "#EF553B",
                      "#00cc96",
                      "#ab63fa",
                      "#FFA15A",
                      "#19d3f3",
                      "#FF6692",
                      "#B6E880",
                      "#FF97FF",
                      "#FECB52"
                    ],
                    "font": {
                      "color": "#2a3f5f"
                    },
                    "geo": {
                      "bgcolor": "white",
                      "lakecolor": "white",
                      "landcolor": "#E5ECF6",
                      "showlakes": true,
                      "showland": true,
                      "subunitcolor": "white"
                    },
                    "hoverlabel": {
                      "align": "left"
                    },
                    "hovermode": "closest",
                    "mapbox": {
                      "style": "light"
                    },
                    "paper_bgcolor": "white",
                    "plot_bgcolor": "#E5ECF6",
                    "polar": {
                      "angularaxis": {
                        "gridcolor": "white",
                        "linecolor": "white",
                        "ticks": ""
                      },
                      "bgcolor": "#E5ECF6",
                      "radialaxis": {
                        "gridcolor": "white",
                        "linecolor": "white",
                        "ticks": ""
                      }
                    },
                    "scene": {
                      "xaxis": {
                        "backgroundcolor": "#E5ECF6",
                        "gridcolor": "white",
                        "gridwidth": 2,
                        "linecolor": "white",
                        "showbackground": true,
                        "ticks": "",
                        "zerolinecolor": "white"
                      },
                      "yaxis": {
                        "backgroundcolor": "#E5ECF6",
                        "gridcolor": "white",
                        "gridwidth": 2,
                        "linecolor": "white",
                        "showbackground": true,
                        "ticks": "",
                        "zerolinecolor": "white"
                      },
                      "zaxis": {
                        "backgroundcolor": "#E5ECF6",
                        "gridcolor": "white",
                        "gridwidth": 2,
                        "linecolor": "white",
                        "showbackground": true,
                        "ticks": "",
                        "zerolinecolor": "white"
                      }
                    },
                    "shapedefaults": {
                      "line": {
                        "color": "#2a3f5f"
                      }
                    },
                    "ternary": {
                      "aaxis": {
                        "gridcolor": "white",
                        "linecolor": "white",
                        "ticks": ""
                      },
                      "baxis": {
                        "gridcolor": "white",
                        "linecolor": "white",
                        "ticks": ""
                      },
                      "bgcolor": "#E5ECF6",
                      "caxis": {
                        "gridcolor": "white",
                        "linecolor": "white",
                        "ticks": ""
                      }
                    },
                    "title": {
                      "x": 0.05
                    },
                    "xaxis": {
                      "automargin": true,
                      "gridcolor": "white",
                      "linecolor": "white",
                      "ticks": "",
                      "title": {
                        "standoff": 15
                      },
                      "zerolinecolor": "white",
                      "zerolinewidth": 2
                    },
                    "yaxis": {
                      "automargin": true,
                      "gridcolor": "white",
                      "linecolor": "white",
                      "ticks": "",
                      "title": {
                        "standoff": 15
                      },
                      "zerolinecolor": "white",
                      "zerolinewidth": 2
                    }
                  }
                },
                "title": {
                  "text": "Distribuição De Casos Investigados Por Modalidade de Trabalho (Remoto ou Não)"
                },
                "xaxis": {
                  "anchor": "y",
                  "categoryarray": [
                    "Não aplicável",
                    "Sim",
                    "Não"
                  ],
                  "categoryorder": "array",
                  "domain": [
                    0,
                    1
                  ],
                  "title": {}
                },
                "yaxis": {
                  "anchor": "x",
                  "domain": [
                    0,
                    1
                  ],
                  "title": {
                    "text": "Porcentagem"
                  }
                }
              }
            }
          },
          "metadata": {},
          "output_type": "display_data"
        }
      ],
      "source": [
        "plot_bar(df, \"TRABALHO_REMOTO\", title = 'Distribuição De Casos Investigados Por Modalidade de Trabalho (Remoto ou Não)')"
      ]
    },
    {
      "cell_type": "code",
      "execution_count": 19,
      "metadata": {
        "colab": {
          "base_uri": "https://localhost:8080/",
          "height": 542
        },
        "id": "ETF0VP8jmRIf",
        "outputId": "e41c235c-9aa1-4033-e5ce-7e76513dfa98"
      },
      "outputs": [
        {
          "data": {
            "application/vnd.plotly.v1+json": {
              "config": {
                "plotlyServerURL": "https://plot.ly"
              },
              "data": [
                {
                  "alignmentgroup": "True",
                  "hovertemplate": "AUXILIO_EMERGENCIAL_COVID=%{x}<br>Porcentagem=%{text}<extra></extra>",
                  "legendgroup": "Não",
                  "marker": {
                    "color": "#636efa",
                    "pattern": {
                      "shape": ""
                    }
                  },
                  "name": "Não",
                  "offsetgroup": "Não",
                  "orientation": "v",
                  "showlegend": true,
                  "text": [
                    51.66342995672801
                  ],
                  "textposition": "outside",
                  "texttemplate": "%{text:.2f}%",
                  "type": "bar",
                  "x": [
                    "Não"
                  ],
                  "xaxis": "x",
                  "y": [
                    51.66342995672801
                  ],
                  "yaxis": "y"
                },
                {
                  "alignmentgroup": "True",
                  "hovertemplate": "AUXILIO_EMERGENCIAL_COVID=%{x}<br>Porcentagem=%{text}<extra></extra>",
                  "legendgroup": "Sim",
                  "marker": {
                    "color": "#EF553B",
                    "pattern": {
                      "shape": ""
                    }
                  },
                  "name": "Sim",
                  "offsetgroup": "Sim",
                  "orientation": "v",
                  "showlegend": true,
                  "text": [
                    48.33657004327199
                  ],
                  "textposition": "outside",
                  "texttemplate": "%{text:.2f}%",
                  "type": "bar",
                  "x": [
                    "Sim"
                  ],
                  "xaxis": "x",
                  "y": [
                    48.33657004327199
                  ],
                  "yaxis": "y"
                }
              ],
              "layout": {
                "barmode": "relative",
                "legend": {
                  "title": {
                    "text": "AUXILIO_EMERGENCIAL_COVID"
                  },
                  "tracegroupgap": 0
                },
                "margin": {
                  "t": 60
                },
                "template": {
                  "data": {
                    "bar": [
                      {
                        "error_x": {
                          "color": "#2a3f5f"
                        },
                        "error_y": {
                          "color": "#2a3f5f"
                        },
                        "marker": {
                          "line": {
                            "color": "#E5ECF6",
                            "width": 0.5
                          },
                          "pattern": {
                            "fillmode": "overlay",
                            "size": 10,
                            "solidity": 0.2
                          }
                        },
                        "type": "bar"
                      }
                    ],
                    "barpolar": [
                      {
                        "marker": {
                          "line": {
                            "color": "#E5ECF6",
                            "width": 0.5
                          },
                          "pattern": {
                            "fillmode": "overlay",
                            "size": 10,
                            "solidity": 0.2
                          }
                        },
                        "type": "barpolar"
                      }
                    ],
                    "carpet": [
                      {
                        "aaxis": {
                          "endlinecolor": "#2a3f5f",
                          "gridcolor": "white",
                          "linecolor": "white",
                          "minorgridcolor": "white",
                          "startlinecolor": "#2a3f5f"
                        },
                        "baxis": {
                          "endlinecolor": "#2a3f5f",
                          "gridcolor": "white",
                          "linecolor": "white",
                          "minorgridcolor": "white",
                          "startlinecolor": "#2a3f5f"
                        },
                        "type": "carpet"
                      }
                    ],
                    "choropleth": [
                      {
                        "colorbar": {
                          "outlinewidth": 0,
                          "ticks": ""
                        },
                        "type": "choropleth"
                      }
                    ],
                    "contour": [
                      {
                        "colorbar": {
                          "outlinewidth": 0,
                          "ticks": ""
                        },
                        "colorscale": [
                          [
                            0,
                            "#0d0887"
                          ],
                          [
                            0.1111111111111111,
                            "#46039f"
                          ],
                          [
                            0.2222222222222222,
                            "#7201a8"
                          ],
                          [
                            0.3333333333333333,
                            "#9c179e"
                          ],
                          [
                            0.4444444444444444,
                            "#bd3786"
                          ],
                          [
                            0.5555555555555556,
                            "#d8576b"
                          ],
                          [
                            0.6666666666666666,
                            "#ed7953"
                          ],
                          [
                            0.7777777777777778,
                            "#fb9f3a"
                          ],
                          [
                            0.8888888888888888,
                            "#fdca26"
                          ],
                          [
                            1,
                            "#f0f921"
                          ]
                        ],
                        "type": "contour"
                      }
                    ],
                    "contourcarpet": [
                      {
                        "colorbar": {
                          "outlinewidth": 0,
                          "ticks": ""
                        },
                        "type": "contourcarpet"
                      }
                    ],
                    "heatmap": [
                      {
                        "colorbar": {
                          "outlinewidth": 0,
                          "ticks": ""
                        },
                        "colorscale": [
                          [
                            0,
                            "#0d0887"
                          ],
                          [
                            0.1111111111111111,
                            "#46039f"
                          ],
                          [
                            0.2222222222222222,
                            "#7201a8"
                          ],
                          [
                            0.3333333333333333,
                            "#9c179e"
                          ],
                          [
                            0.4444444444444444,
                            "#bd3786"
                          ],
                          [
                            0.5555555555555556,
                            "#d8576b"
                          ],
                          [
                            0.6666666666666666,
                            "#ed7953"
                          ],
                          [
                            0.7777777777777778,
                            "#fb9f3a"
                          ],
                          [
                            0.8888888888888888,
                            "#fdca26"
                          ],
                          [
                            1,
                            "#f0f921"
                          ]
                        ],
                        "type": "heatmap"
                      }
                    ],
                    "heatmapgl": [
                      {
                        "colorbar": {
                          "outlinewidth": 0,
                          "ticks": ""
                        },
                        "colorscale": [
                          [
                            0,
                            "#0d0887"
                          ],
                          [
                            0.1111111111111111,
                            "#46039f"
                          ],
                          [
                            0.2222222222222222,
                            "#7201a8"
                          ],
                          [
                            0.3333333333333333,
                            "#9c179e"
                          ],
                          [
                            0.4444444444444444,
                            "#bd3786"
                          ],
                          [
                            0.5555555555555556,
                            "#d8576b"
                          ],
                          [
                            0.6666666666666666,
                            "#ed7953"
                          ],
                          [
                            0.7777777777777778,
                            "#fb9f3a"
                          ],
                          [
                            0.8888888888888888,
                            "#fdca26"
                          ],
                          [
                            1,
                            "#f0f921"
                          ]
                        ],
                        "type": "heatmapgl"
                      }
                    ],
                    "histogram": [
                      {
                        "marker": {
                          "pattern": {
                            "fillmode": "overlay",
                            "size": 10,
                            "solidity": 0.2
                          }
                        },
                        "type": "histogram"
                      }
                    ],
                    "histogram2d": [
                      {
                        "colorbar": {
                          "outlinewidth": 0,
                          "ticks": ""
                        },
                        "colorscale": [
                          [
                            0,
                            "#0d0887"
                          ],
                          [
                            0.1111111111111111,
                            "#46039f"
                          ],
                          [
                            0.2222222222222222,
                            "#7201a8"
                          ],
                          [
                            0.3333333333333333,
                            "#9c179e"
                          ],
                          [
                            0.4444444444444444,
                            "#bd3786"
                          ],
                          [
                            0.5555555555555556,
                            "#d8576b"
                          ],
                          [
                            0.6666666666666666,
                            "#ed7953"
                          ],
                          [
                            0.7777777777777778,
                            "#fb9f3a"
                          ],
                          [
                            0.8888888888888888,
                            "#fdca26"
                          ],
                          [
                            1,
                            "#f0f921"
                          ]
                        ],
                        "type": "histogram2d"
                      }
                    ],
                    "histogram2dcontour": [
                      {
                        "colorbar": {
                          "outlinewidth": 0,
                          "ticks": ""
                        },
                        "colorscale": [
                          [
                            0,
                            "#0d0887"
                          ],
                          [
                            0.1111111111111111,
                            "#46039f"
                          ],
                          [
                            0.2222222222222222,
                            "#7201a8"
                          ],
                          [
                            0.3333333333333333,
                            "#9c179e"
                          ],
                          [
                            0.4444444444444444,
                            "#bd3786"
                          ],
                          [
                            0.5555555555555556,
                            "#d8576b"
                          ],
                          [
                            0.6666666666666666,
                            "#ed7953"
                          ],
                          [
                            0.7777777777777778,
                            "#fb9f3a"
                          ],
                          [
                            0.8888888888888888,
                            "#fdca26"
                          ],
                          [
                            1,
                            "#f0f921"
                          ]
                        ],
                        "type": "histogram2dcontour"
                      }
                    ],
                    "mesh3d": [
                      {
                        "colorbar": {
                          "outlinewidth": 0,
                          "ticks": ""
                        },
                        "type": "mesh3d"
                      }
                    ],
                    "parcoords": [
                      {
                        "line": {
                          "colorbar": {
                            "outlinewidth": 0,
                            "ticks": ""
                          }
                        },
                        "type": "parcoords"
                      }
                    ],
                    "pie": [
                      {
                        "automargin": true,
                        "type": "pie"
                      }
                    ],
                    "scatter": [
                      {
                        "fillpattern": {
                          "fillmode": "overlay",
                          "size": 10,
                          "solidity": 0.2
                        },
                        "type": "scatter"
                      }
                    ],
                    "scatter3d": [
                      {
                        "line": {
                          "colorbar": {
                            "outlinewidth": 0,
                            "ticks": ""
                          }
                        },
                        "marker": {
                          "colorbar": {
                            "outlinewidth": 0,
                            "ticks": ""
                          }
                        },
                        "type": "scatter3d"
                      }
                    ],
                    "scattercarpet": [
                      {
                        "marker": {
                          "colorbar": {
                            "outlinewidth": 0,
                            "ticks": ""
                          }
                        },
                        "type": "scattercarpet"
                      }
                    ],
                    "scattergeo": [
                      {
                        "marker": {
                          "colorbar": {
                            "outlinewidth": 0,
                            "ticks": ""
                          }
                        },
                        "type": "scattergeo"
                      }
                    ],
                    "scattergl": [
                      {
                        "marker": {
                          "colorbar": {
                            "outlinewidth": 0,
                            "ticks": ""
                          }
                        },
                        "type": "scattergl"
                      }
                    ],
                    "scattermapbox": [
                      {
                        "marker": {
                          "colorbar": {
                            "outlinewidth": 0,
                            "ticks": ""
                          }
                        },
                        "type": "scattermapbox"
                      }
                    ],
                    "scatterpolar": [
                      {
                        "marker": {
                          "colorbar": {
                            "outlinewidth": 0,
                            "ticks": ""
                          }
                        },
                        "type": "scatterpolar"
                      }
                    ],
                    "scatterpolargl": [
                      {
                        "marker": {
                          "colorbar": {
                            "outlinewidth": 0,
                            "ticks": ""
                          }
                        },
                        "type": "scatterpolargl"
                      }
                    ],
                    "scatterternary": [
                      {
                        "marker": {
                          "colorbar": {
                            "outlinewidth": 0,
                            "ticks": ""
                          }
                        },
                        "type": "scatterternary"
                      }
                    ],
                    "surface": [
                      {
                        "colorbar": {
                          "outlinewidth": 0,
                          "ticks": ""
                        },
                        "colorscale": [
                          [
                            0,
                            "#0d0887"
                          ],
                          [
                            0.1111111111111111,
                            "#46039f"
                          ],
                          [
                            0.2222222222222222,
                            "#7201a8"
                          ],
                          [
                            0.3333333333333333,
                            "#9c179e"
                          ],
                          [
                            0.4444444444444444,
                            "#bd3786"
                          ],
                          [
                            0.5555555555555556,
                            "#d8576b"
                          ],
                          [
                            0.6666666666666666,
                            "#ed7953"
                          ],
                          [
                            0.7777777777777778,
                            "#fb9f3a"
                          ],
                          [
                            0.8888888888888888,
                            "#fdca26"
                          ],
                          [
                            1,
                            "#f0f921"
                          ]
                        ],
                        "type": "surface"
                      }
                    ],
                    "table": [
                      {
                        "cells": {
                          "fill": {
                            "color": "#EBF0F8"
                          },
                          "line": {
                            "color": "white"
                          }
                        },
                        "header": {
                          "fill": {
                            "color": "#C8D4E3"
                          },
                          "line": {
                            "color": "white"
                          }
                        },
                        "type": "table"
                      }
                    ]
                  },
                  "layout": {
                    "annotationdefaults": {
                      "arrowcolor": "#2a3f5f",
                      "arrowhead": 0,
                      "arrowwidth": 1
                    },
                    "autotypenumbers": "strict",
                    "coloraxis": {
                      "colorbar": {
                        "outlinewidth": 0,
                        "ticks": ""
                      }
                    },
                    "colorscale": {
                      "diverging": [
                        [
                          0,
                          "#8e0152"
                        ],
                        [
                          0.1,
                          "#c51b7d"
                        ],
                        [
                          0.2,
                          "#de77ae"
                        ],
                        [
                          0.3,
                          "#f1b6da"
                        ],
                        [
                          0.4,
                          "#fde0ef"
                        ],
                        [
                          0.5,
                          "#f7f7f7"
                        ],
                        [
                          0.6,
                          "#e6f5d0"
                        ],
                        [
                          0.7,
                          "#b8e186"
                        ],
                        [
                          0.8,
                          "#7fbc41"
                        ],
                        [
                          0.9,
                          "#4d9221"
                        ],
                        [
                          1,
                          "#276419"
                        ]
                      ],
                      "sequential": [
                        [
                          0,
                          "#0d0887"
                        ],
                        [
                          0.1111111111111111,
                          "#46039f"
                        ],
                        [
                          0.2222222222222222,
                          "#7201a8"
                        ],
                        [
                          0.3333333333333333,
                          "#9c179e"
                        ],
                        [
                          0.4444444444444444,
                          "#bd3786"
                        ],
                        [
                          0.5555555555555556,
                          "#d8576b"
                        ],
                        [
                          0.6666666666666666,
                          "#ed7953"
                        ],
                        [
                          0.7777777777777778,
                          "#fb9f3a"
                        ],
                        [
                          0.8888888888888888,
                          "#fdca26"
                        ],
                        [
                          1,
                          "#f0f921"
                        ]
                      ],
                      "sequentialminus": [
                        [
                          0,
                          "#0d0887"
                        ],
                        [
                          0.1111111111111111,
                          "#46039f"
                        ],
                        [
                          0.2222222222222222,
                          "#7201a8"
                        ],
                        [
                          0.3333333333333333,
                          "#9c179e"
                        ],
                        [
                          0.4444444444444444,
                          "#bd3786"
                        ],
                        [
                          0.5555555555555556,
                          "#d8576b"
                        ],
                        [
                          0.6666666666666666,
                          "#ed7953"
                        ],
                        [
                          0.7777777777777778,
                          "#fb9f3a"
                        ],
                        [
                          0.8888888888888888,
                          "#fdca26"
                        ],
                        [
                          1,
                          "#f0f921"
                        ]
                      ]
                    },
                    "colorway": [
                      "#636efa",
                      "#EF553B",
                      "#00cc96",
                      "#ab63fa",
                      "#FFA15A",
                      "#19d3f3",
                      "#FF6692",
                      "#B6E880",
                      "#FF97FF",
                      "#FECB52"
                    ],
                    "font": {
                      "color": "#2a3f5f"
                    },
                    "geo": {
                      "bgcolor": "white",
                      "lakecolor": "white",
                      "landcolor": "#E5ECF6",
                      "showlakes": true,
                      "showland": true,
                      "subunitcolor": "white"
                    },
                    "hoverlabel": {
                      "align": "left"
                    },
                    "hovermode": "closest",
                    "mapbox": {
                      "style": "light"
                    },
                    "paper_bgcolor": "white",
                    "plot_bgcolor": "#E5ECF6",
                    "polar": {
                      "angularaxis": {
                        "gridcolor": "white",
                        "linecolor": "white",
                        "ticks": ""
                      },
                      "bgcolor": "#E5ECF6",
                      "radialaxis": {
                        "gridcolor": "white",
                        "linecolor": "white",
                        "ticks": ""
                      }
                    },
                    "scene": {
                      "xaxis": {
                        "backgroundcolor": "#E5ECF6",
                        "gridcolor": "white",
                        "gridwidth": 2,
                        "linecolor": "white",
                        "showbackground": true,
                        "ticks": "",
                        "zerolinecolor": "white"
                      },
                      "yaxis": {
                        "backgroundcolor": "#E5ECF6",
                        "gridcolor": "white",
                        "gridwidth": 2,
                        "linecolor": "white",
                        "showbackground": true,
                        "ticks": "",
                        "zerolinecolor": "white"
                      },
                      "zaxis": {
                        "backgroundcolor": "#E5ECF6",
                        "gridcolor": "white",
                        "gridwidth": 2,
                        "linecolor": "white",
                        "showbackground": true,
                        "ticks": "",
                        "zerolinecolor": "white"
                      }
                    },
                    "shapedefaults": {
                      "line": {
                        "color": "#2a3f5f"
                      }
                    },
                    "ternary": {
                      "aaxis": {
                        "gridcolor": "white",
                        "linecolor": "white",
                        "ticks": ""
                      },
                      "baxis": {
                        "gridcolor": "white",
                        "linecolor": "white",
                        "ticks": ""
                      },
                      "bgcolor": "#E5ECF6",
                      "caxis": {
                        "gridcolor": "white",
                        "linecolor": "white",
                        "ticks": ""
                      }
                    },
                    "title": {
                      "x": 0.05
                    },
                    "xaxis": {
                      "automargin": true,
                      "gridcolor": "white",
                      "linecolor": "white",
                      "ticks": "",
                      "title": {
                        "standoff": 15
                      },
                      "zerolinecolor": "white",
                      "zerolinewidth": 2
                    },
                    "yaxis": {
                      "automargin": true,
                      "gridcolor": "white",
                      "linecolor": "white",
                      "ticks": "",
                      "title": {
                        "standoff": 15
                      },
                      "zerolinecolor": "white",
                      "zerolinewidth": 2
                    }
                  }
                },
                "title": {
                  "text": "Distribuição De Casos Investigados Por Beneficiários do Auxílio Emergencial"
                },
                "xaxis": {
                  "anchor": "y",
                  "categoryarray": [
                    "Não",
                    "Sim"
                  ],
                  "categoryorder": "array",
                  "domain": [
                    0,
                    1
                  ],
                  "title": {}
                },
                "yaxis": {
                  "anchor": "x",
                  "domain": [
                    0,
                    1
                  ],
                  "title": {
                    "text": "Porcentagem"
                  }
                }
              }
            }
          },
          "metadata": {},
          "output_type": "display_data"
        }
      ],
      "source": [
        "plot_bar(df, \"AUXILIO_EMERGENCIAL_COVID\", title = 'Distribuição De Casos Investigados Por Beneficiários do Auxílio Emergencial')"
      ]
    },
    {
      "cell_type": "code",
      "execution_count": 20,
      "metadata": {
        "colab": {
          "base_uri": "https://localhost:8080/",
          "height": 542
        },
        "id": "zREmtk0bnxNZ",
        "outputId": "a2beb72d-1894-469c-b2fc-48b42d34efb7"
      },
      "outputs": [
        {
          "data": {
            "application/vnd.plotly.v1+json": {
              "config": {
                "plotlyServerURL": "https://plot.ly"
              },
              "data": [
                {
                  "alignmentgroup": "True",
                  "hovertemplate": "SE_TEVE_FEBRE=%{x}<br>Porcentagem=%{text}<extra></extra>",
                  "legendgroup": "Não",
                  "marker": {
                    "color": "#636efa",
                    "pattern": {
                      "shape": ""
                    }
                  },
                  "name": "Não",
                  "offsetgroup": "Não",
                  "orientation": "v",
                  "showlegend": true,
                  "text": [
                    97.1244330326886
                  ],
                  "textposition": "outside",
                  "texttemplate": "%{text:.2f}%",
                  "type": "bar",
                  "x": [
                    "Não"
                  ],
                  "xaxis": "x",
                  "y": [
                    97.1244330326886
                  ],
                  "yaxis": "y"
                },
                {
                  "alignmentgroup": "True",
                  "hovertemplate": "SE_TEVE_FEBRE=%{x}<br>Porcentagem=%{text}<extra></extra>",
                  "legendgroup": "Sim",
                  "marker": {
                    "color": "#EF553B",
                    "pattern": {
                      "shape": ""
                    }
                  },
                  "name": "Sim",
                  "offsetgroup": "Sim",
                  "orientation": "v",
                  "showlegend": true,
                  "text": [
                    2.259505934692317
                  ],
                  "textposition": "outside",
                  "texttemplate": "%{text:.2f}%",
                  "type": "bar",
                  "x": [
                    "Sim"
                  ],
                  "xaxis": "x",
                  "y": [
                    2.259505934692317
                  ],
                  "yaxis": "y"
                },
                {
                  "alignmentgroup": "True",
                  "hovertemplate": "SE_TEVE_FEBRE=%{x}<br>Porcentagem=%{text}<extra></extra>",
                  "legendgroup": "Ignorado",
                  "marker": {
                    "color": "#00cc96",
                    "pattern": {
                      "shape": ""
                    }
                  },
                  "name": "Ignorado",
                  "offsetgroup": "Ignorado",
                  "orientation": "v",
                  "showlegend": true,
                  "text": [
                    0.4809446848443773
                  ],
                  "textposition": "outside",
                  "texttemplate": "%{text:.2f}%",
                  "type": "bar",
                  "x": [
                    "Ignorado"
                  ],
                  "xaxis": "x",
                  "y": [
                    0.4809446848443773
                  ],
                  "yaxis": "y"
                },
                {
                  "alignmentgroup": "True",
                  "hovertemplate": "SE_TEVE_FEBRE=%{x}<br>Porcentagem=%{text}<extra></extra>",
                  "legendgroup": "Não sabe",
                  "marker": {
                    "color": "#ab63fa",
                    "pattern": {
                      "shape": ""
                    }
                  },
                  "name": "Não sabe",
                  "offsetgroup": "Não sabe",
                  "orientation": "v",
                  "showlegend": true,
                  "text": [
                    0.1351163477747076
                  ],
                  "textposition": "outside",
                  "texttemplate": "%{text:.2f}%",
                  "type": "bar",
                  "x": [
                    "Não sabe"
                  ],
                  "xaxis": "x",
                  "y": [
                    0.1351163477747076
                  ],
                  "yaxis": "y"
                }
              ],
              "layout": {
                "barmode": "relative",
                "legend": {
                  "title": {
                    "text": "SE_TEVE_FEBRE"
                  },
                  "tracegroupgap": 0
                },
                "margin": {
                  "t": 60
                },
                "template": {
                  "data": {
                    "bar": [
                      {
                        "error_x": {
                          "color": "#2a3f5f"
                        },
                        "error_y": {
                          "color": "#2a3f5f"
                        },
                        "marker": {
                          "line": {
                            "color": "#E5ECF6",
                            "width": 0.5
                          },
                          "pattern": {
                            "fillmode": "overlay",
                            "size": 10,
                            "solidity": 0.2
                          }
                        },
                        "type": "bar"
                      }
                    ],
                    "barpolar": [
                      {
                        "marker": {
                          "line": {
                            "color": "#E5ECF6",
                            "width": 0.5
                          },
                          "pattern": {
                            "fillmode": "overlay",
                            "size": 10,
                            "solidity": 0.2
                          }
                        },
                        "type": "barpolar"
                      }
                    ],
                    "carpet": [
                      {
                        "aaxis": {
                          "endlinecolor": "#2a3f5f",
                          "gridcolor": "white",
                          "linecolor": "white",
                          "minorgridcolor": "white",
                          "startlinecolor": "#2a3f5f"
                        },
                        "baxis": {
                          "endlinecolor": "#2a3f5f",
                          "gridcolor": "white",
                          "linecolor": "white",
                          "minorgridcolor": "white",
                          "startlinecolor": "#2a3f5f"
                        },
                        "type": "carpet"
                      }
                    ],
                    "choropleth": [
                      {
                        "colorbar": {
                          "outlinewidth": 0,
                          "ticks": ""
                        },
                        "type": "choropleth"
                      }
                    ],
                    "contour": [
                      {
                        "colorbar": {
                          "outlinewidth": 0,
                          "ticks": ""
                        },
                        "colorscale": [
                          [
                            0,
                            "#0d0887"
                          ],
                          [
                            0.1111111111111111,
                            "#46039f"
                          ],
                          [
                            0.2222222222222222,
                            "#7201a8"
                          ],
                          [
                            0.3333333333333333,
                            "#9c179e"
                          ],
                          [
                            0.4444444444444444,
                            "#bd3786"
                          ],
                          [
                            0.5555555555555556,
                            "#d8576b"
                          ],
                          [
                            0.6666666666666666,
                            "#ed7953"
                          ],
                          [
                            0.7777777777777778,
                            "#fb9f3a"
                          ],
                          [
                            0.8888888888888888,
                            "#fdca26"
                          ],
                          [
                            1,
                            "#f0f921"
                          ]
                        ],
                        "type": "contour"
                      }
                    ],
                    "contourcarpet": [
                      {
                        "colorbar": {
                          "outlinewidth": 0,
                          "ticks": ""
                        },
                        "type": "contourcarpet"
                      }
                    ],
                    "heatmap": [
                      {
                        "colorbar": {
                          "outlinewidth": 0,
                          "ticks": ""
                        },
                        "colorscale": [
                          [
                            0,
                            "#0d0887"
                          ],
                          [
                            0.1111111111111111,
                            "#46039f"
                          ],
                          [
                            0.2222222222222222,
                            "#7201a8"
                          ],
                          [
                            0.3333333333333333,
                            "#9c179e"
                          ],
                          [
                            0.4444444444444444,
                            "#bd3786"
                          ],
                          [
                            0.5555555555555556,
                            "#d8576b"
                          ],
                          [
                            0.6666666666666666,
                            "#ed7953"
                          ],
                          [
                            0.7777777777777778,
                            "#fb9f3a"
                          ],
                          [
                            0.8888888888888888,
                            "#fdca26"
                          ],
                          [
                            1,
                            "#f0f921"
                          ]
                        ],
                        "type": "heatmap"
                      }
                    ],
                    "heatmapgl": [
                      {
                        "colorbar": {
                          "outlinewidth": 0,
                          "ticks": ""
                        },
                        "colorscale": [
                          [
                            0,
                            "#0d0887"
                          ],
                          [
                            0.1111111111111111,
                            "#46039f"
                          ],
                          [
                            0.2222222222222222,
                            "#7201a8"
                          ],
                          [
                            0.3333333333333333,
                            "#9c179e"
                          ],
                          [
                            0.4444444444444444,
                            "#bd3786"
                          ],
                          [
                            0.5555555555555556,
                            "#d8576b"
                          ],
                          [
                            0.6666666666666666,
                            "#ed7953"
                          ],
                          [
                            0.7777777777777778,
                            "#fb9f3a"
                          ],
                          [
                            0.8888888888888888,
                            "#fdca26"
                          ],
                          [
                            1,
                            "#f0f921"
                          ]
                        ],
                        "type": "heatmapgl"
                      }
                    ],
                    "histogram": [
                      {
                        "marker": {
                          "pattern": {
                            "fillmode": "overlay",
                            "size": 10,
                            "solidity": 0.2
                          }
                        },
                        "type": "histogram"
                      }
                    ],
                    "histogram2d": [
                      {
                        "colorbar": {
                          "outlinewidth": 0,
                          "ticks": ""
                        },
                        "colorscale": [
                          [
                            0,
                            "#0d0887"
                          ],
                          [
                            0.1111111111111111,
                            "#46039f"
                          ],
                          [
                            0.2222222222222222,
                            "#7201a8"
                          ],
                          [
                            0.3333333333333333,
                            "#9c179e"
                          ],
                          [
                            0.4444444444444444,
                            "#bd3786"
                          ],
                          [
                            0.5555555555555556,
                            "#d8576b"
                          ],
                          [
                            0.6666666666666666,
                            "#ed7953"
                          ],
                          [
                            0.7777777777777778,
                            "#fb9f3a"
                          ],
                          [
                            0.8888888888888888,
                            "#fdca26"
                          ],
                          [
                            1,
                            "#f0f921"
                          ]
                        ],
                        "type": "histogram2d"
                      }
                    ],
                    "histogram2dcontour": [
                      {
                        "colorbar": {
                          "outlinewidth": 0,
                          "ticks": ""
                        },
                        "colorscale": [
                          [
                            0,
                            "#0d0887"
                          ],
                          [
                            0.1111111111111111,
                            "#46039f"
                          ],
                          [
                            0.2222222222222222,
                            "#7201a8"
                          ],
                          [
                            0.3333333333333333,
                            "#9c179e"
                          ],
                          [
                            0.4444444444444444,
                            "#bd3786"
                          ],
                          [
                            0.5555555555555556,
                            "#d8576b"
                          ],
                          [
                            0.6666666666666666,
                            "#ed7953"
                          ],
                          [
                            0.7777777777777778,
                            "#fb9f3a"
                          ],
                          [
                            0.8888888888888888,
                            "#fdca26"
                          ],
                          [
                            1,
                            "#f0f921"
                          ]
                        ],
                        "type": "histogram2dcontour"
                      }
                    ],
                    "mesh3d": [
                      {
                        "colorbar": {
                          "outlinewidth": 0,
                          "ticks": ""
                        },
                        "type": "mesh3d"
                      }
                    ],
                    "parcoords": [
                      {
                        "line": {
                          "colorbar": {
                            "outlinewidth": 0,
                            "ticks": ""
                          }
                        },
                        "type": "parcoords"
                      }
                    ],
                    "pie": [
                      {
                        "automargin": true,
                        "type": "pie"
                      }
                    ],
                    "scatter": [
                      {
                        "fillpattern": {
                          "fillmode": "overlay",
                          "size": 10,
                          "solidity": 0.2
                        },
                        "type": "scatter"
                      }
                    ],
                    "scatter3d": [
                      {
                        "line": {
                          "colorbar": {
                            "outlinewidth": 0,
                            "ticks": ""
                          }
                        },
                        "marker": {
                          "colorbar": {
                            "outlinewidth": 0,
                            "ticks": ""
                          }
                        },
                        "type": "scatter3d"
                      }
                    ],
                    "scattercarpet": [
                      {
                        "marker": {
                          "colorbar": {
                            "outlinewidth": 0,
                            "ticks": ""
                          }
                        },
                        "type": "scattercarpet"
                      }
                    ],
                    "scattergeo": [
                      {
                        "marker": {
                          "colorbar": {
                            "outlinewidth": 0,
                            "ticks": ""
                          }
                        },
                        "type": "scattergeo"
                      }
                    ],
                    "scattergl": [
                      {
                        "marker": {
                          "colorbar": {
                            "outlinewidth": 0,
                            "ticks": ""
                          }
                        },
                        "type": "scattergl"
                      }
                    ],
                    "scattermapbox": [
                      {
                        "marker": {
                          "colorbar": {
                            "outlinewidth": 0,
                            "ticks": ""
                          }
                        },
                        "type": "scattermapbox"
                      }
                    ],
                    "scatterpolar": [
                      {
                        "marker": {
                          "colorbar": {
                            "outlinewidth": 0,
                            "ticks": ""
                          }
                        },
                        "type": "scatterpolar"
                      }
                    ],
                    "scatterpolargl": [
                      {
                        "marker": {
                          "colorbar": {
                            "outlinewidth": 0,
                            "ticks": ""
                          }
                        },
                        "type": "scatterpolargl"
                      }
                    ],
                    "scatterternary": [
                      {
                        "marker": {
                          "colorbar": {
                            "outlinewidth": 0,
                            "ticks": ""
                          }
                        },
                        "type": "scatterternary"
                      }
                    ],
                    "surface": [
                      {
                        "colorbar": {
                          "outlinewidth": 0,
                          "ticks": ""
                        },
                        "colorscale": [
                          [
                            0,
                            "#0d0887"
                          ],
                          [
                            0.1111111111111111,
                            "#46039f"
                          ],
                          [
                            0.2222222222222222,
                            "#7201a8"
                          ],
                          [
                            0.3333333333333333,
                            "#9c179e"
                          ],
                          [
                            0.4444444444444444,
                            "#bd3786"
                          ],
                          [
                            0.5555555555555556,
                            "#d8576b"
                          ],
                          [
                            0.6666666666666666,
                            "#ed7953"
                          ],
                          [
                            0.7777777777777778,
                            "#fb9f3a"
                          ],
                          [
                            0.8888888888888888,
                            "#fdca26"
                          ],
                          [
                            1,
                            "#f0f921"
                          ]
                        ],
                        "type": "surface"
                      }
                    ],
                    "table": [
                      {
                        "cells": {
                          "fill": {
                            "color": "#EBF0F8"
                          },
                          "line": {
                            "color": "white"
                          }
                        },
                        "header": {
                          "fill": {
                            "color": "#C8D4E3"
                          },
                          "line": {
                            "color": "white"
                          }
                        },
                        "type": "table"
                      }
                    ]
                  },
                  "layout": {
                    "annotationdefaults": {
                      "arrowcolor": "#2a3f5f",
                      "arrowhead": 0,
                      "arrowwidth": 1
                    },
                    "autotypenumbers": "strict",
                    "coloraxis": {
                      "colorbar": {
                        "outlinewidth": 0,
                        "ticks": ""
                      }
                    },
                    "colorscale": {
                      "diverging": [
                        [
                          0,
                          "#8e0152"
                        ],
                        [
                          0.1,
                          "#c51b7d"
                        ],
                        [
                          0.2,
                          "#de77ae"
                        ],
                        [
                          0.3,
                          "#f1b6da"
                        ],
                        [
                          0.4,
                          "#fde0ef"
                        ],
                        [
                          0.5,
                          "#f7f7f7"
                        ],
                        [
                          0.6,
                          "#e6f5d0"
                        ],
                        [
                          0.7,
                          "#b8e186"
                        ],
                        [
                          0.8,
                          "#7fbc41"
                        ],
                        [
                          0.9,
                          "#4d9221"
                        ],
                        [
                          1,
                          "#276419"
                        ]
                      ],
                      "sequential": [
                        [
                          0,
                          "#0d0887"
                        ],
                        [
                          0.1111111111111111,
                          "#46039f"
                        ],
                        [
                          0.2222222222222222,
                          "#7201a8"
                        ],
                        [
                          0.3333333333333333,
                          "#9c179e"
                        ],
                        [
                          0.4444444444444444,
                          "#bd3786"
                        ],
                        [
                          0.5555555555555556,
                          "#d8576b"
                        ],
                        [
                          0.6666666666666666,
                          "#ed7953"
                        ],
                        [
                          0.7777777777777778,
                          "#fb9f3a"
                        ],
                        [
                          0.8888888888888888,
                          "#fdca26"
                        ],
                        [
                          1,
                          "#f0f921"
                        ]
                      ],
                      "sequentialminus": [
                        [
                          0,
                          "#0d0887"
                        ],
                        [
                          0.1111111111111111,
                          "#46039f"
                        ],
                        [
                          0.2222222222222222,
                          "#7201a8"
                        ],
                        [
                          0.3333333333333333,
                          "#9c179e"
                        ],
                        [
                          0.4444444444444444,
                          "#bd3786"
                        ],
                        [
                          0.5555555555555556,
                          "#d8576b"
                        ],
                        [
                          0.6666666666666666,
                          "#ed7953"
                        ],
                        [
                          0.7777777777777778,
                          "#fb9f3a"
                        ],
                        [
                          0.8888888888888888,
                          "#fdca26"
                        ],
                        [
                          1,
                          "#f0f921"
                        ]
                      ]
                    },
                    "colorway": [
                      "#636efa",
                      "#EF553B",
                      "#00cc96",
                      "#ab63fa",
                      "#FFA15A",
                      "#19d3f3",
                      "#FF6692",
                      "#B6E880",
                      "#FF97FF",
                      "#FECB52"
                    ],
                    "font": {
                      "color": "#2a3f5f"
                    },
                    "geo": {
                      "bgcolor": "white",
                      "lakecolor": "white",
                      "landcolor": "#E5ECF6",
                      "showlakes": true,
                      "showland": true,
                      "subunitcolor": "white"
                    },
                    "hoverlabel": {
                      "align": "left"
                    },
                    "hovermode": "closest",
                    "mapbox": {
                      "style": "light"
                    },
                    "paper_bgcolor": "white",
                    "plot_bgcolor": "#E5ECF6",
                    "polar": {
                      "angularaxis": {
                        "gridcolor": "white",
                        "linecolor": "white",
                        "ticks": ""
                      },
                      "bgcolor": "#E5ECF6",
                      "radialaxis": {
                        "gridcolor": "white",
                        "linecolor": "white",
                        "ticks": ""
                      }
                    },
                    "scene": {
                      "xaxis": {
                        "backgroundcolor": "#E5ECF6",
                        "gridcolor": "white",
                        "gridwidth": 2,
                        "linecolor": "white",
                        "showbackground": true,
                        "ticks": "",
                        "zerolinecolor": "white"
                      },
                      "yaxis": {
                        "backgroundcolor": "#E5ECF6",
                        "gridcolor": "white",
                        "gridwidth": 2,
                        "linecolor": "white",
                        "showbackground": true,
                        "ticks": "",
                        "zerolinecolor": "white"
                      },
                      "zaxis": {
                        "backgroundcolor": "#E5ECF6",
                        "gridcolor": "white",
                        "gridwidth": 2,
                        "linecolor": "white",
                        "showbackground": true,
                        "ticks": "",
                        "zerolinecolor": "white"
                      }
                    },
                    "shapedefaults": {
                      "line": {
                        "color": "#2a3f5f"
                      }
                    },
                    "ternary": {
                      "aaxis": {
                        "gridcolor": "white",
                        "linecolor": "white",
                        "ticks": ""
                      },
                      "baxis": {
                        "gridcolor": "white",
                        "linecolor": "white",
                        "ticks": ""
                      },
                      "bgcolor": "#E5ECF6",
                      "caxis": {
                        "gridcolor": "white",
                        "linecolor": "white",
                        "ticks": ""
                      }
                    },
                    "title": {
                      "x": 0.05
                    },
                    "xaxis": {
                      "automargin": true,
                      "gridcolor": "white",
                      "linecolor": "white",
                      "ticks": "",
                      "title": {
                        "standoff": 15
                      },
                      "zerolinecolor": "white",
                      "zerolinewidth": 2
                    },
                    "yaxis": {
                      "automargin": true,
                      "gridcolor": "white",
                      "linecolor": "white",
                      "ticks": "",
                      "title": {
                        "standoff": 15
                      },
                      "zerolinecolor": "white",
                      "zerolinewidth": 2
                    }
                  }
                },
                "title": {
                  "text": "Distribuição de Casos Investigados - Sintoma: Com febre"
                },
                "xaxis": {
                  "anchor": "y",
                  "categoryarray": [
                    "Não",
                    "Sim",
                    "Ignorado",
                    "Não sabe"
                  ],
                  "categoryorder": "array",
                  "domain": [
                    0,
                    1
                  ],
                  "title": {}
                },
                "yaxis": {
                  "anchor": "x",
                  "domain": [
                    0,
                    1
                  ],
                  "title": {
                    "text": "Porcentagem"
                  }
                }
              }
            }
          },
          "metadata": {},
          "output_type": "display_data"
        }
      ],
      "source": [
        "# Mapeamento para substituir os valores 'Sim'\n",
        "map_sim = {'Não ': 'Não', 'Ignorado': 'Ignorado', 'Não sabe': 'Não sabe', 'Sim': 'Sim'}\n",
        "\n",
        "# Exemplo de uso com a variável 'SE_TEVE_FEBRE'\n",
        "plot_bar(df, 'SE_TEVE_FEBRE', dict_map=map_sim, title='Distribuição de Casos Investigados - Sintoma: Com febre', top_n=5)\n"
      ]
    },
    {
      "cell_type": "code",
      "execution_count": 21,
      "metadata": {
        "colab": {
          "base_uri": "https://localhost:8080/",
          "height": 542
        },
        "id": "xd1vtJ_Muei1",
        "outputId": "db9e0734-f7e3-49fa-f946-3c3168c8a9a0"
      },
      "outputs": [],
      "source": [
        "def plot_bar_sintomas(df, sintomas, title=None):\n",
        "    # Criar listas vazias para armazenar os resultados\n",
        "    sintoma_list = []\n",
        "    percent_sim_list = []\n",
        "\n",
        "    # Para cada sintoma\n",
        "    for sintoma in sintomas:\n",
        "        # Contar o número de casos 'Sim' para o sintoma atual\n",
        "        num_sim = (df[sintoma] == 'Sim').sum()\n",
        "\n",
        "        # Calcular a porcentagem de casos 'Sim' para o sintoma atual\n",
        "        percent_sim = (num_sim / len(df)) * 100\n",
        "\n",
        "        # Adicionar os resultados às listas\n",
        "        sintoma_list.append(sintoma.replace('SE_TEVE_', ''))\n",
        "        percent_sim_list.append(percent_sim)\n",
        "\n",
        "    # Criar um DataFrame com os resultados\n",
        "    data = pd.DataFrame({'Sintoma': sintoma_list, 'Porcentagem': percent_sim_list})\n",
        "\n",
        "    # Plotagem com Plotly\n",
        "    fig = px.bar(data, x='Sintoma', y='Porcentagem', text='Porcentagem', labels={'Sintoma': 'Sintoma', 'Porcentagem': 'Porcentagem'})\n",
        "    fig.update_traces(texttemplate='%{text:.2f}%', textposition='outside')\n",
        "    fig.update_layout(title=title if title else 'Porcentagem de casos positivos para cada sintoma')\n",
        "    #fig.show()\n",
        "\n",
        "# Exemplo de uso com os sintomas\n",
        "sintomas = ['SE_TEVE_FEBRE', 'SE_TEVE_TOSSE', 'SE_TEVE_DOR_GARGANTA', 'SE_TEVE_FALTA_AR', 'SE_TEVE_DOR_CABECA', 'SE_TEVE_DOR_PEITO', 'SE_TEVE_NAUSEA', 'SE_TEVE_NARIZ_ENTUPIDO', 'SE_TEVE_FADIGA', 'SE_TEVE_DOR_OLHOS', 'SE_TEVE_PERDA_PALADAR', 'SE_TEVE_DOR_MUSCULAR', 'SE_TEVE_DIARREIA']\n",
        "plot_bar_sintomas(df, sintomas)\n"
      ]
    },
    {
      "cell_type": "code",
      "execution_count": 22,
      "metadata": {
        "colab": {
          "base_uri": "https://localhost:8080/",
          "height": 542
        },
        "id": "GxauhRRlwacY",
        "outputId": "53c6d781-58eb-4a6a-8480-9348e145bd75"
      },
      "outputs": [],
      "source": [
        "def plot_bar_gender(df, sintomas, title=None):\n",
        "    data = {'Sintoma': [], 'Sexo': [], 'Porcentagem': []}\n",
        "\n",
        "    for sintoma in sintomas:\n",
        "        for sexo in df['SEXO'].unique():\n",
        "            total_sexo = len(df[df['SEXO'] == sexo])\n",
        "            total_sim = len(df[(df[sintoma] == 'Sim') & (df['SEXO'] == sexo)])\n",
        "            percent_sim = (total_sim / total_sexo) * 100\n",
        "            data['Sintoma'].append(sintoma.replace('SE_TEVE_', ''))\n",
        "            data['Sexo'].append(sexo)\n",
        "            data['Porcentagem'].append(percent_sim)\n",
        "\n",
        "    df_plot = pd.DataFrame(data)\n",
        "\n",
        "    fig = px.bar(df_plot, x='Sintoma', y='Porcentagem', color='Sexo', barmode='group',\n",
        "                 text='Porcentagem', labels={'Sintoma': 'Sintoma', 'Porcentagem': 'Porcentagem'})\n",
        "    fig.update_traces(texttemplate='%{text:.2f}%', textposition='outside')\n",
        "    fig.update_layout(title=title if title else 'Porcentagem de casos positivos para cada sintoma separados por sexo')\n",
        "    #fig.show()\n",
        "\n",
        "# Exemplo de uso com os sintomas\n",
        "sintomas = ['SE_TEVE_FEBRE', 'SE_TEVE_TOSSE', 'SE_TEVE_DOR_GARGANTA', 'SE_TEVE_FALTA_AR', 'SE_TEVE_DOR_CABECA', 'SE_TEVE_DOR_PEITO', 'SE_TEVE_NAUSEA', 'SE_TEVE_NARIZ_ENTUPIDO', 'SE_TEVE_FADIGA', 'SE_TEVE_DOR_OLHOS', 'SE_TEVE_PERDA_PALADAR', 'SE_TEVE_DOR_MUSCULAR', 'SE_TEVE_DIARREIA']\n",
        "plot_bar_gender(df, sintomas)\n",
        "\n"
      ]
    },
    {
      "cell_type": "code",
      "execution_count": 23,
      "metadata": {
        "colab": {
          "base_uri": "https://localhost:8080/",
          "height": 542
        },
        "id": "tUr7lN5PxfbB",
        "outputId": "087f58cc-de14-4af8-c8bd-fdc914c46973"
      },
      "outputs": [],
      "source": [
        "def plot_bar_gender(df, column, sintomas, title=None):\n",
        "    data = {'Sintoma': [], 'Faixa Etária': [], 'Sexo': [], 'Porcentagem': []}\n",
        "\n",
        "    for sintoma in sintomas:\n",
        "        for sexo in df['SEXO'].unique():\n",
        "            for faixa_etaria in df['FAIXA_ETARIA'].unique():\n",
        "                total = len(df[(df['SEXO'] == sexo) & (df['FAIXA_ETARIA'] == faixa_etaria)])\n",
        "                total_sim = len(df[(df[sintoma] == 'Sim') & (df['SEXO'] == sexo) & (df['FAIXA_ETARIA'] == faixa_etaria)])\n",
        "                percent_sim = (total_sim / total) * 100 if total > 0 else 0\n",
        "                data['Sintoma'].append(sintoma.replace('SE_TEVE_', ''))\n",
        "                data['Faixa Etária'].append(faixa_etaria)\n",
        "                data['Sexo'].append(sexo)\n",
        "                data['Porcentagem'].append(percent_sim)\n",
        "\n",
        "    df_plot = pd.DataFrame(data)\n",
        "\n",
        "    fig = px.bar(df_plot, x='Sintoma', y='Porcentagem', color='Faixa Etária', barmode='group',\n",
        "                 facet_col='Sexo', facet_col_wrap=2,\n",
        "                 text='Porcentagem', labels={'Sintoma': 'Sintoma', 'Porcentagem': 'Porcentagem'},\n",
        "                 title=title if title else 'Porcentagem de casos positivos para cada sintoma separados por faixa etária e sexo')\n",
        "    fig.update_traces(texttemplate='%{text:.2f}%', textposition='outside')\n",
        "    #fig.show()\n",
        "\n",
        "# Exemplo de uso com os sintomas\n",
        "sintomas = ['SE_TEVE_FEBRE', 'SE_TEVE_TOSSE', 'SE_TEVE_DOR_GARGANTA', 'SE_TEVE_FALTA_AR', 'SE_TEVE_DOR_CABECA', 'SE_TEVE_DOR_PEITO', 'SE_TEVE_NAUSEA', 'SE_TEVE_NARIZ_ENTUPIDO', 'SE_TEVE_FADIGA', 'SE_TEVE_DOR_OLHOS', 'SE_TEVE_PERDA_PALADAR', 'SE_TEVE_DOR_MUSCULAR', 'SE_TEVE_DIARREIA']\n",
        "plot_bar_gender(df, 'FAIXA_ETARIA', sintomas)\n"
      ]
    },
    {
      "cell_type": "code",
      "execution_count": 24,
      "metadata": {
        "id": "UbE6IBl2yeQ3"
      },
      "outputs": [],
      "source": [
        "def plot_mult_bar(df, column, sintomas, title=None):\n",
        "    data = {'Sintoma': [], column: [], 'Porcentagem': []}\n",
        "\n",
        "    for sintoma in sintomas:\n",
        "        for category_value in df[column].unique():\n",
        "            total = len(df[df[column] == category_value])\n",
        "            total_sim = len(df[(df[sintoma] == 'Sim') & (df[column] == category_value)])\n",
        "            percent_sim = (total_sim / total) * 100 if total > 0 else 0\n",
        "            data['Sintoma'].append(sintoma.replace('SE_TEVE_', ''))\n",
        "            data[column].append(category_value)\n",
        "            data['Porcentagem'].append(percent_sim)\n",
        "\n",
        "    df_plot = pd.DataFrame(data)\n",
        "\n",
        "    fig = px.bar(df_plot, x='Sintoma', y='Porcentagem', color=column, barmode='group',\n",
        "                 text='Porcentagem', labels={'Sintoma': 'Sintoma', 'Porcentagem': 'Porcentagem'},\n",
        "                 title=title if title else f'Porcentagem de casos positivos para cada sintoma separados por {column}')\n",
        "    fig.update_traces(texttemplate='%{text:.2f}%', textposition='outside')\n",
        "    fig.show()\n",
        "\n",
        "sintomas = ['SE_TEVE_FEBRE', 'SE_TEVE_TOSSE', 'SE_TEVE_DOR_GARGANTA', 'SE_TEVE_FALTA_AR', 'SE_TEVE_DOR_CABECA', 'SE_TEVE_DOR_PEITO', 'SE_TEVE_NAUSEA', 'SE_TEVE_NARIZ_ENTUPIDO', 'SE_TEVE_FADIGA', 'SE_TEVE_DOR_OLHOS', 'SE_TEVE_PERDA_PALADAR', 'SE_TEVE_DOR_MUSCULAR', 'SE_TEVE_DIARREIA']"
      ]
    },
    {
      "cell_type": "code",
      "execution_count": 25,
      "metadata": {
        "colab": {
          "base_uri": "https://localhost:8080/",
          "height": 542
        },
        "id": "98B3kqzR0wg1",
        "outputId": "9c30d8c0-3e79-44a6-883c-c85288f0d70d"
      },
      "outputs": [
        {
          "data": {
            "application/vnd.plotly.v1+json": {
              "config": {
                "plotlyServerURL": "https://plot.ly"
              },
              "data": [
                {
                  "alignmentgroup": "True",
                  "hovertemplate": "SEXO=Homem<br>Sintoma=%{x}<br>Porcentagem=%{text}<extra></extra>",
                  "legendgroup": "Homem",
                  "marker": {
                    "color": "#636efa",
                    "pattern": {
                      "shape": ""
                    }
                  },
                  "name": "Homem",
                  "offsetgroup": "Homem",
                  "orientation": "v",
                  "showlegend": true,
                  "text": [
                    2.191690087490671,
                    3.0443668665092427,
                    2.045380823732497,
                    1.072480928757596,
                    3.5445403961011417,
                    0.9021270418081557,
                    0.7276901056375568,
                    3.2988769346281135,
                    1.34854042332147,
                    0.9744877474497956,
                    1.2657452585590918,
                    2.329606416738687,
                    0.2642640190360828
                  ],
                  "textposition": "outside",
                  "texttemplate": "%{text:.2f}%",
                  "type": "bar",
                  "x": [
                    "FEBRE",
                    "TOSSE",
                    "DOR_GARGANTA",
                    "FALTA_AR",
                    "DOR_CABECA",
                    "DOR_PEITO",
                    "NAUSEA",
                    "NARIZ_ENTUPIDO",
                    "FADIGA",
                    "DOR_OLHOS",
                    "PERDA_PALADAR",
                    "DOR_MUSCULAR",
                    "DIARREIA"
                  ],
                  "xaxis": "x",
                  "y": [
                    2.191690087490671,
                    3.0443668665092427,
                    2.045380823732497,
                    1.072480928757596,
                    3.5445403961011417,
                    0.9021270418081557,
                    0.7276901056375568,
                    3.2988769346281135,
                    1.34854042332147,
                    0.9744877474497956,
                    1.2657452585590918,
                    2.329606416738687,
                    0.2642640190360828
                  ],
                  "yaxis": "y"
                },
                {
                  "alignmentgroup": "True",
                  "hovertemplate": "SEXO=Mulher<br>Sintoma=%{x}<br>Porcentagem=%{text}<extra></extra>",
                  "legendgroup": "Mulher",
                  "marker": {
                    "color": "#EF553B",
                    "pattern": {
                      "shape": ""
                    }
                  },
                  "name": "Mulher",
                  "offsetgroup": "Mulher",
                  "orientation": "v",
                  "showlegend": true,
                  "text": [
                    2.321810766483064,
                    3.357153723837688,
                    2.862823310221511,
                    1.4840332526816176,
                    5.676880466654579,
                    1.1751809453548154,
                    1.265002365366861,
                    3.7493669778113996,
                    1.8995875717164643,
                    1.438393134392434,
                    1.741826980187187,
                    3.1324959726242647,
                    0.34740674515099795
                  ],
                  "textposition": "outside",
                  "texttemplate": "%{text:.2f}%",
                  "type": "bar",
                  "x": [
                    "FEBRE",
                    "TOSSE",
                    "DOR_GARGANTA",
                    "FALTA_AR",
                    "DOR_CABECA",
                    "DOR_PEITO",
                    "NAUSEA",
                    "NARIZ_ENTUPIDO",
                    "FADIGA",
                    "DOR_OLHOS",
                    "PERDA_PALADAR",
                    "DOR_MUSCULAR",
                    "DIARREIA"
                  ],
                  "xaxis": "x",
                  "y": [
                    2.321810766483064,
                    3.357153723837688,
                    2.862823310221511,
                    1.4840332526816176,
                    5.676880466654579,
                    1.1751809453548154,
                    1.265002365366861,
                    3.7493669778113996,
                    1.8995875717164643,
                    1.438393134392434,
                    1.741826980187187,
                    3.1324959726242647,
                    0.34740674515099795
                  ],
                  "yaxis": "y"
                }
              ],
              "layout": {
                "barmode": "group",
                "legend": {
                  "title": {
                    "text": "SEXO"
                  },
                  "tracegroupgap": 0
                },
                "template": {
                  "data": {
                    "bar": [
                      {
                        "error_x": {
                          "color": "#2a3f5f"
                        },
                        "error_y": {
                          "color": "#2a3f5f"
                        },
                        "marker": {
                          "line": {
                            "color": "#E5ECF6",
                            "width": 0.5
                          },
                          "pattern": {
                            "fillmode": "overlay",
                            "size": 10,
                            "solidity": 0.2
                          }
                        },
                        "type": "bar"
                      }
                    ],
                    "barpolar": [
                      {
                        "marker": {
                          "line": {
                            "color": "#E5ECF6",
                            "width": 0.5
                          },
                          "pattern": {
                            "fillmode": "overlay",
                            "size": 10,
                            "solidity": 0.2
                          }
                        },
                        "type": "barpolar"
                      }
                    ],
                    "carpet": [
                      {
                        "aaxis": {
                          "endlinecolor": "#2a3f5f",
                          "gridcolor": "white",
                          "linecolor": "white",
                          "minorgridcolor": "white",
                          "startlinecolor": "#2a3f5f"
                        },
                        "baxis": {
                          "endlinecolor": "#2a3f5f",
                          "gridcolor": "white",
                          "linecolor": "white",
                          "minorgridcolor": "white",
                          "startlinecolor": "#2a3f5f"
                        },
                        "type": "carpet"
                      }
                    ],
                    "choropleth": [
                      {
                        "colorbar": {
                          "outlinewidth": 0,
                          "ticks": ""
                        },
                        "type": "choropleth"
                      }
                    ],
                    "contour": [
                      {
                        "colorbar": {
                          "outlinewidth": 0,
                          "ticks": ""
                        },
                        "colorscale": [
                          [
                            0,
                            "#0d0887"
                          ],
                          [
                            0.1111111111111111,
                            "#46039f"
                          ],
                          [
                            0.2222222222222222,
                            "#7201a8"
                          ],
                          [
                            0.3333333333333333,
                            "#9c179e"
                          ],
                          [
                            0.4444444444444444,
                            "#bd3786"
                          ],
                          [
                            0.5555555555555556,
                            "#d8576b"
                          ],
                          [
                            0.6666666666666666,
                            "#ed7953"
                          ],
                          [
                            0.7777777777777778,
                            "#fb9f3a"
                          ],
                          [
                            0.8888888888888888,
                            "#fdca26"
                          ],
                          [
                            1,
                            "#f0f921"
                          ]
                        ],
                        "type": "contour"
                      }
                    ],
                    "contourcarpet": [
                      {
                        "colorbar": {
                          "outlinewidth": 0,
                          "ticks": ""
                        },
                        "type": "contourcarpet"
                      }
                    ],
                    "heatmap": [
                      {
                        "colorbar": {
                          "outlinewidth": 0,
                          "ticks": ""
                        },
                        "colorscale": [
                          [
                            0,
                            "#0d0887"
                          ],
                          [
                            0.1111111111111111,
                            "#46039f"
                          ],
                          [
                            0.2222222222222222,
                            "#7201a8"
                          ],
                          [
                            0.3333333333333333,
                            "#9c179e"
                          ],
                          [
                            0.4444444444444444,
                            "#bd3786"
                          ],
                          [
                            0.5555555555555556,
                            "#d8576b"
                          ],
                          [
                            0.6666666666666666,
                            "#ed7953"
                          ],
                          [
                            0.7777777777777778,
                            "#fb9f3a"
                          ],
                          [
                            0.8888888888888888,
                            "#fdca26"
                          ],
                          [
                            1,
                            "#f0f921"
                          ]
                        ],
                        "type": "heatmap"
                      }
                    ],
                    "heatmapgl": [
                      {
                        "colorbar": {
                          "outlinewidth": 0,
                          "ticks": ""
                        },
                        "colorscale": [
                          [
                            0,
                            "#0d0887"
                          ],
                          [
                            0.1111111111111111,
                            "#46039f"
                          ],
                          [
                            0.2222222222222222,
                            "#7201a8"
                          ],
                          [
                            0.3333333333333333,
                            "#9c179e"
                          ],
                          [
                            0.4444444444444444,
                            "#bd3786"
                          ],
                          [
                            0.5555555555555556,
                            "#d8576b"
                          ],
                          [
                            0.6666666666666666,
                            "#ed7953"
                          ],
                          [
                            0.7777777777777778,
                            "#fb9f3a"
                          ],
                          [
                            0.8888888888888888,
                            "#fdca26"
                          ],
                          [
                            1,
                            "#f0f921"
                          ]
                        ],
                        "type": "heatmapgl"
                      }
                    ],
                    "histogram": [
                      {
                        "marker": {
                          "pattern": {
                            "fillmode": "overlay",
                            "size": 10,
                            "solidity": 0.2
                          }
                        },
                        "type": "histogram"
                      }
                    ],
                    "histogram2d": [
                      {
                        "colorbar": {
                          "outlinewidth": 0,
                          "ticks": ""
                        },
                        "colorscale": [
                          [
                            0,
                            "#0d0887"
                          ],
                          [
                            0.1111111111111111,
                            "#46039f"
                          ],
                          [
                            0.2222222222222222,
                            "#7201a8"
                          ],
                          [
                            0.3333333333333333,
                            "#9c179e"
                          ],
                          [
                            0.4444444444444444,
                            "#bd3786"
                          ],
                          [
                            0.5555555555555556,
                            "#d8576b"
                          ],
                          [
                            0.6666666666666666,
                            "#ed7953"
                          ],
                          [
                            0.7777777777777778,
                            "#fb9f3a"
                          ],
                          [
                            0.8888888888888888,
                            "#fdca26"
                          ],
                          [
                            1,
                            "#f0f921"
                          ]
                        ],
                        "type": "histogram2d"
                      }
                    ],
                    "histogram2dcontour": [
                      {
                        "colorbar": {
                          "outlinewidth": 0,
                          "ticks": ""
                        },
                        "colorscale": [
                          [
                            0,
                            "#0d0887"
                          ],
                          [
                            0.1111111111111111,
                            "#46039f"
                          ],
                          [
                            0.2222222222222222,
                            "#7201a8"
                          ],
                          [
                            0.3333333333333333,
                            "#9c179e"
                          ],
                          [
                            0.4444444444444444,
                            "#bd3786"
                          ],
                          [
                            0.5555555555555556,
                            "#d8576b"
                          ],
                          [
                            0.6666666666666666,
                            "#ed7953"
                          ],
                          [
                            0.7777777777777778,
                            "#fb9f3a"
                          ],
                          [
                            0.8888888888888888,
                            "#fdca26"
                          ],
                          [
                            1,
                            "#f0f921"
                          ]
                        ],
                        "type": "histogram2dcontour"
                      }
                    ],
                    "mesh3d": [
                      {
                        "colorbar": {
                          "outlinewidth": 0,
                          "ticks": ""
                        },
                        "type": "mesh3d"
                      }
                    ],
                    "parcoords": [
                      {
                        "line": {
                          "colorbar": {
                            "outlinewidth": 0,
                            "ticks": ""
                          }
                        },
                        "type": "parcoords"
                      }
                    ],
                    "pie": [
                      {
                        "automargin": true,
                        "type": "pie"
                      }
                    ],
                    "scatter": [
                      {
                        "fillpattern": {
                          "fillmode": "overlay",
                          "size": 10,
                          "solidity": 0.2
                        },
                        "type": "scatter"
                      }
                    ],
                    "scatter3d": [
                      {
                        "line": {
                          "colorbar": {
                            "outlinewidth": 0,
                            "ticks": ""
                          }
                        },
                        "marker": {
                          "colorbar": {
                            "outlinewidth": 0,
                            "ticks": ""
                          }
                        },
                        "type": "scatter3d"
                      }
                    ],
                    "scattercarpet": [
                      {
                        "marker": {
                          "colorbar": {
                            "outlinewidth": 0,
                            "ticks": ""
                          }
                        },
                        "type": "scattercarpet"
                      }
                    ],
                    "scattergeo": [
                      {
                        "marker": {
                          "colorbar": {
                            "outlinewidth": 0,
                            "ticks": ""
                          }
                        },
                        "type": "scattergeo"
                      }
                    ],
                    "scattergl": [
                      {
                        "marker": {
                          "colorbar": {
                            "outlinewidth": 0,
                            "ticks": ""
                          }
                        },
                        "type": "scattergl"
                      }
                    ],
                    "scattermapbox": [
                      {
                        "marker": {
                          "colorbar": {
                            "outlinewidth": 0,
                            "ticks": ""
                          }
                        },
                        "type": "scattermapbox"
                      }
                    ],
                    "scatterpolar": [
                      {
                        "marker": {
                          "colorbar": {
                            "outlinewidth": 0,
                            "ticks": ""
                          }
                        },
                        "type": "scatterpolar"
                      }
                    ],
                    "scatterpolargl": [
                      {
                        "marker": {
                          "colorbar": {
                            "outlinewidth": 0,
                            "ticks": ""
                          }
                        },
                        "type": "scatterpolargl"
                      }
                    ],
                    "scatterternary": [
                      {
                        "marker": {
                          "colorbar": {
                            "outlinewidth": 0,
                            "ticks": ""
                          }
                        },
                        "type": "scatterternary"
                      }
                    ],
                    "surface": [
                      {
                        "colorbar": {
                          "outlinewidth": 0,
                          "ticks": ""
                        },
                        "colorscale": [
                          [
                            0,
                            "#0d0887"
                          ],
                          [
                            0.1111111111111111,
                            "#46039f"
                          ],
                          [
                            0.2222222222222222,
                            "#7201a8"
                          ],
                          [
                            0.3333333333333333,
                            "#9c179e"
                          ],
                          [
                            0.4444444444444444,
                            "#bd3786"
                          ],
                          [
                            0.5555555555555556,
                            "#d8576b"
                          ],
                          [
                            0.6666666666666666,
                            "#ed7953"
                          ],
                          [
                            0.7777777777777778,
                            "#fb9f3a"
                          ],
                          [
                            0.8888888888888888,
                            "#fdca26"
                          ],
                          [
                            1,
                            "#f0f921"
                          ]
                        ],
                        "type": "surface"
                      }
                    ],
                    "table": [
                      {
                        "cells": {
                          "fill": {
                            "color": "#EBF0F8"
                          },
                          "line": {
                            "color": "white"
                          }
                        },
                        "header": {
                          "fill": {
                            "color": "#C8D4E3"
                          },
                          "line": {
                            "color": "white"
                          }
                        },
                        "type": "table"
                      }
                    ]
                  },
                  "layout": {
                    "annotationdefaults": {
                      "arrowcolor": "#2a3f5f",
                      "arrowhead": 0,
                      "arrowwidth": 1
                    },
                    "autotypenumbers": "strict",
                    "coloraxis": {
                      "colorbar": {
                        "outlinewidth": 0,
                        "ticks": ""
                      }
                    },
                    "colorscale": {
                      "diverging": [
                        [
                          0,
                          "#8e0152"
                        ],
                        [
                          0.1,
                          "#c51b7d"
                        ],
                        [
                          0.2,
                          "#de77ae"
                        ],
                        [
                          0.3,
                          "#f1b6da"
                        ],
                        [
                          0.4,
                          "#fde0ef"
                        ],
                        [
                          0.5,
                          "#f7f7f7"
                        ],
                        [
                          0.6,
                          "#e6f5d0"
                        ],
                        [
                          0.7,
                          "#b8e186"
                        ],
                        [
                          0.8,
                          "#7fbc41"
                        ],
                        [
                          0.9,
                          "#4d9221"
                        ],
                        [
                          1,
                          "#276419"
                        ]
                      ],
                      "sequential": [
                        [
                          0,
                          "#0d0887"
                        ],
                        [
                          0.1111111111111111,
                          "#46039f"
                        ],
                        [
                          0.2222222222222222,
                          "#7201a8"
                        ],
                        [
                          0.3333333333333333,
                          "#9c179e"
                        ],
                        [
                          0.4444444444444444,
                          "#bd3786"
                        ],
                        [
                          0.5555555555555556,
                          "#d8576b"
                        ],
                        [
                          0.6666666666666666,
                          "#ed7953"
                        ],
                        [
                          0.7777777777777778,
                          "#fb9f3a"
                        ],
                        [
                          0.8888888888888888,
                          "#fdca26"
                        ],
                        [
                          1,
                          "#f0f921"
                        ]
                      ],
                      "sequentialminus": [
                        [
                          0,
                          "#0d0887"
                        ],
                        [
                          0.1111111111111111,
                          "#46039f"
                        ],
                        [
                          0.2222222222222222,
                          "#7201a8"
                        ],
                        [
                          0.3333333333333333,
                          "#9c179e"
                        ],
                        [
                          0.4444444444444444,
                          "#bd3786"
                        ],
                        [
                          0.5555555555555556,
                          "#d8576b"
                        ],
                        [
                          0.6666666666666666,
                          "#ed7953"
                        ],
                        [
                          0.7777777777777778,
                          "#fb9f3a"
                        ],
                        [
                          0.8888888888888888,
                          "#fdca26"
                        ],
                        [
                          1,
                          "#f0f921"
                        ]
                      ]
                    },
                    "colorway": [
                      "#636efa",
                      "#EF553B",
                      "#00cc96",
                      "#ab63fa",
                      "#FFA15A",
                      "#19d3f3",
                      "#FF6692",
                      "#B6E880",
                      "#FF97FF",
                      "#FECB52"
                    ],
                    "font": {
                      "color": "#2a3f5f"
                    },
                    "geo": {
                      "bgcolor": "white",
                      "lakecolor": "white",
                      "landcolor": "#E5ECF6",
                      "showlakes": true,
                      "showland": true,
                      "subunitcolor": "white"
                    },
                    "hoverlabel": {
                      "align": "left"
                    },
                    "hovermode": "closest",
                    "mapbox": {
                      "style": "light"
                    },
                    "paper_bgcolor": "white",
                    "plot_bgcolor": "#E5ECF6",
                    "polar": {
                      "angularaxis": {
                        "gridcolor": "white",
                        "linecolor": "white",
                        "ticks": ""
                      },
                      "bgcolor": "#E5ECF6",
                      "radialaxis": {
                        "gridcolor": "white",
                        "linecolor": "white",
                        "ticks": ""
                      }
                    },
                    "scene": {
                      "xaxis": {
                        "backgroundcolor": "#E5ECF6",
                        "gridcolor": "white",
                        "gridwidth": 2,
                        "linecolor": "white",
                        "showbackground": true,
                        "ticks": "",
                        "zerolinecolor": "white"
                      },
                      "yaxis": {
                        "backgroundcolor": "#E5ECF6",
                        "gridcolor": "white",
                        "gridwidth": 2,
                        "linecolor": "white",
                        "showbackground": true,
                        "ticks": "",
                        "zerolinecolor": "white"
                      },
                      "zaxis": {
                        "backgroundcolor": "#E5ECF6",
                        "gridcolor": "white",
                        "gridwidth": 2,
                        "linecolor": "white",
                        "showbackground": true,
                        "ticks": "",
                        "zerolinecolor": "white"
                      }
                    },
                    "shapedefaults": {
                      "line": {
                        "color": "#2a3f5f"
                      }
                    },
                    "ternary": {
                      "aaxis": {
                        "gridcolor": "white",
                        "linecolor": "white",
                        "ticks": ""
                      },
                      "baxis": {
                        "gridcolor": "white",
                        "linecolor": "white",
                        "ticks": ""
                      },
                      "bgcolor": "#E5ECF6",
                      "caxis": {
                        "gridcolor": "white",
                        "linecolor": "white",
                        "ticks": ""
                      }
                    },
                    "title": {
                      "x": 0.05
                    },
                    "xaxis": {
                      "automargin": true,
                      "gridcolor": "white",
                      "linecolor": "white",
                      "ticks": "",
                      "title": {
                        "standoff": 15
                      },
                      "zerolinecolor": "white",
                      "zerolinewidth": 2
                    },
                    "yaxis": {
                      "automargin": true,
                      "gridcolor": "white",
                      "linecolor": "white",
                      "ticks": "",
                      "title": {
                        "standoff": 15
                      },
                      "zerolinecolor": "white",
                      "zerolinewidth": 2
                    }
                  }
                },
                "title": {
                  "text": "Porcentagem de casos positivos para cada sintoma separados por SEXO"
                },
                "xaxis": {
                  "anchor": "y",
                  "domain": [
                    0,
                    1
                  ],
                  "title": {
                    "text": "Sintoma"
                  }
                },
                "yaxis": {
                  "anchor": "x",
                  "domain": [
                    0,
                    1
                  ],
                  "title": {
                    "text": "Porcentagem"
                  }
                }
              }
            }
          },
          "metadata": {},
          "output_type": "display_data"
        }
      ],
      "source": [
        "plot_mult_bar(df, 'SEXO', sintomas)"
      ]
    },
    {
      "cell_type": "code",
      "execution_count": null,
      "metadata": {},
      "outputs": [],
      "source": [
        "plot_mult_bar(df, 'SEXO', sintomas)"
      ]
    },
    {
      "cell_type": "code",
      "execution_count": 26,
      "metadata": {
        "colab": {
          "base_uri": "https://localhost:8080/",
          "height": 542
        },
        "id": "El3mqBMv0xG_",
        "outputId": "16b8f3c6-e506-4344-aa0f-87697bbea7db"
      },
      "outputs": [
        {
          "data": {
            "application/vnd.plotly.v1+json": {
              "config": {
                "plotlyServerURL": "https://plot.ly"
              },
              "data": [
                {
                  "alignmentgroup": "True",
                  "hovertemplate": "ESCOLARIDADE=Médio completo<br>Sintoma=%{x}<br>Porcentagem=%{text}<extra></extra>",
                  "legendgroup": "Médio completo",
                  "marker": {
                    "color": "#636efa",
                    "pattern": {
                      "shape": ""
                    }
                  },
                  "name": "Médio completo",
                  "offsetgroup": "Médio completo",
                  "orientation": "v",
                  "showlegend": true,
                  "text": [
                    2.5801734043664473,
                    3.471885891190184,
                    2.9956411498247912,
                    1.5521874970323732,
                    5.783311016780149,
                    1.2929356238663667,
                    1.2459284160945083,
                    3.8745334890743854,
                    2.037453823727719,
                    1.4956838836500386,
                    2.0583459160707673,
                    3.2677131705649414,
                    0.3233526110367226
                  ],
                  "textposition": "outside",
                  "texttemplate": "%{text:.2f}%",
                  "type": "bar",
                  "x": [
                    "FEBRE",
                    "TOSSE",
                    "DOR_GARGANTA",
                    "FALTA_AR",
                    "DOR_CABECA",
                    "DOR_PEITO",
                    "NAUSEA",
                    "NARIZ_ENTUPIDO",
                    "FADIGA",
                    "DOR_OLHOS",
                    "PERDA_PALADAR",
                    "DOR_MUSCULAR",
                    "DIARREIA"
                  ],
                  "xaxis": "x",
                  "y": [
                    2.5801734043664473,
                    3.471885891190184,
                    2.9956411498247912,
                    1.5521874970323732,
                    5.783311016780149,
                    1.2929356238663667,
                    1.2459284160945083,
                    3.8745334890743854,
                    2.037453823727719,
                    1.4956838836500386,
                    2.0583459160707673,
                    3.2677131705649414,
                    0.3233526110367226
                  ],
                  "yaxis": "y"
                },
                {
                  "alignmentgroup": "True",
                  "hovertemplate": "ESCOLARIDADE=Superior completo<br>Sintoma=%{x}<br>Porcentagem=%{text}<extra></extra>",
                  "legendgroup": "Superior completo",
                  "marker": {
                    "color": "#EF553B",
                    "pattern": {
                      "shape": ""
                    }
                  },
                  "name": "Superior completo",
                  "offsetgroup": "Superior completo",
                  "orientation": "v",
                  "showlegend": true,
                  "text": [
                    1.9382657186094239,
                    3.0566554033043802,
                    2.7249735691038373,
                    1.3360558883890628,
                    5.546342171272207,
                    1.0354692261448206,
                    1.1049151101805594,
                    3.8599473455088207,
                    1.999419556790149,
                    1.3484939571715833,
                    1.447998507431746,
                    2.879412923153465,
                    0.3441199029830635
                  ],
                  "textposition": "outside",
                  "texttemplate": "%{text:.2f}%",
                  "type": "bar",
                  "x": [
                    "FEBRE",
                    "TOSSE",
                    "DOR_GARGANTA",
                    "FALTA_AR",
                    "DOR_CABECA",
                    "DOR_PEITO",
                    "NAUSEA",
                    "NARIZ_ENTUPIDO",
                    "FADIGA",
                    "DOR_OLHOS",
                    "PERDA_PALADAR",
                    "DOR_MUSCULAR",
                    "DIARREIA"
                  ],
                  "xaxis": "x",
                  "y": [
                    1.9382657186094239,
                    3.0566554033043802,
                    2.7249735691038373,
                    1.3360558883890628,
                    5.546342171272207,
                    1.0354692261448206,
                    1.1049151101805594,
                    3.8599473455088207,
                    1.999419556790149,
                    1.3484939571715833,
                    1.447998507431746,
                    2.879412923153465,
                    0.3441199029830635
                  ],
                  "yaxis": "y"
                },
                {
                  "alignmentgroup": "True",
                  "hovertemplate": "ESCOLARIDADE=Fundamental incompleto<br>Sintoma=%{x}<br>Porcentagem=%{text}<extra></extra>",
                  "legendgroup": "Fundamental incompleto",
                  "marker": {
                    "color": "#00cc96",
                    "pattern": {
                      "shape": ""
                    }
                  },
                  "name": "Fundamental incompleto",
                  "offsetgroup": "Fundamental incompleto",
                  "orientation": "v",
                  "showlegend": true,
                  "text": [
                    2.195602417749056,
                    3.22874372001729,
                    2.1502519079101208,
                    1.1546664966022548,
                    4.014583023320083,
                    0.9566123169150317,
                    0.8584709792167116,
                    3.2372469406120903,
                    1.356972286586878,
                    1.0802633163977524,
                    1.3116217767479434,
                    2.672137071915988,
                    0.2682057495943255
                  ],
                  "textposition": "outside",
                  "texttemplate": "%{text:.2f}%",
                  "type": "bar",
                  "x": [
                    "FEBRE",
                    "TOSSE",
                    "DOR_GARGANTA",
                    "FALTA_AR",
                    "DOR_CABECA",
                    "DOR_PEITO",
                    "NAUSEA",
                    "NARIZ_ENTUPIDO",
                    "FADIGA",
                    "DOR_OLHOS",
                    "PERDA_PALADAR",
                    "DOR_MUSCULAR",
                    "DIARREIA"
                  ],
                  "xaxis": "x",
                  "y": [
                    2.195602417749056,
                    3.22874372001729,
                    2.1502519079101208,
                    1.1546664966022548,
                    4.014583023320083,
                    0.9566123169150317,
                    0.8584709792167116,
                    3.2372469406120903,
                    1.356972286586878,
                    1.0802633163977524,
                    1.3116217767479434,
                    2.672137071915988,
                    0.2682057495943255
                  ],
                  "yaxis": "y"
                },
                {
                  "alignmentgroup": "True",
                  "hovertemplate": "ESCOLARIDADE=Médio incompleto<br>Sintoma=%{x}<br>Porcentagem=%{text}<extra></extra>",
                  "legendgroup": "Médio incompleto",
                  "marker": {
                    "color": "#ab63fa",
                    "pattern": {
                      "shape": ""
                    }
                  },
                  "name": "Médio incompleto",
                  "offsetgroup": "Médio incompleto",
                  "orientation": "v",
                  "showlegend": true,
                  "text": [
                    2.456192219783719,
                    3.0770630308957143,
                    2.6028814773541353,
                    1.3054206797739394,
                    4.852116760100522,
                    1.0825439783491204,
                    1.0495673235464686,
                    3.4921140309980556,
                    1.5192003729773371,
                    1.2315074879748922,
                    1.787562115509262,
                    2.588098838994326,
                    0.2899671370578001
                  ],
                  "textposition": "outside",
                  "texttemplate": "%{text:.2f}%",
                  "type": "bar",
                  "x": [
                    "FEBRE",
                    "TOSSE",
                    "DOR_GARGANTA",
                    "FALTA_AR",
                    "DOR_CABECA",
                    "DOR_PEITO",
                    "NAUSEA",
                    "NARIZ_ENTUPIDO",
                    "FADIGA",
                    "DOR_OLHOS",
                    "PERDA_PALADAR",
                    "DOR_MUSCULAR",
                    "DIARREIA"
                  ],
                  "xaxis": "x",
                  "y": [
                    2.456192219783719,
                    3.0770630308957143,
                    2.6028814773541353,
                    1.3054206797739394,
                    4.852116760100522,
                    1.0825439783491204,
                    1.0495673235464686,
                    3.4921140309980556,
                    1.5192003729773371,
                    1.2315074879748922,
                    1.787562115509262,
                    2.588098838994326,
                    0.2899671370578001
                  ],
                  "yaxis": "y"
                },
                {
                  "alignmentgroup": "True",
                  "hovertemplate": "ESCOLARIDADE=Sem instrução<br>Sintoma=%{x}<br>Porcentagem=%{text}<extra></extra>",
                  "legendgroup": "Sem instrução",
                  "marker": {
                    "color": "#FFA15A",
                    "pattern": {
                      "shape": ""
                    }
                  },
                  "name": "Sem instrução",
                  "offsetgroup": "Sem instrução",
                  "orientation": "v",
                  "showlegend": true,
                  "text": [
                    2.3103377642657694,
                    2.9345494140603945,
                    1.5567558243582695,
                    0.7449572538999751,
                    2.0774712420625936,
                    0.6048061062776934,
                    0.5886348200135839,
                    2.9043630130340565,
                    0.8872645730241383,
                    0.6522418793190811,
                    0.7136927671226969,
                    1.5136323943206442,
                    0.28784889550114817
                  ],
                  "textposition": "outside",
                  "texttemplate": "%{text:.2f}%",
                  "type": "bar",
                  "x": [
                    "FEBRE",
                    "TOSSE",
                    "DOR_GARGANTA",
                    "FALTA_AR",
                    "DOR_CABECA",
                    "DOR_PEITO",
                    "NAUSEA",
                    "NARIZ_ENTUPIDO",
                    "FADIGA",
                    "DOR_OLHOS",
                    "PERDA_PALADAR",
                    "DOR_MUSCULAR",
                    "DIARREIA"
                  ],
                  "xaxis": "x",
                  "y": [
                    2.3103377642657694,
                    2.9345494140603945,
                    1.5567558243582695,
                    0.7449572538999751,
                    2.0774712420625936,
                    0.6048061062776934,
                    0.5886348200135839,
                    2.9043630130340565,
                    0.8872645730241383,
                    0.6522418793190811,
                    0.7136927671226969,
                    1.5136323943206442,
                    0.28784889550114817
                  ],
                  "yaxis": "y"
                },
                {
                  "alignmentgroup": "True",
                  "hovertemplate": "ESCOLARIDADE=Fundamental completa<br>Sintoma=%{x}<br>Porcentagem=%{text}<extra></extra>",
                  "legendgroup": "Fundamental completa",
                  "marker": {
                    "color": "#19d3f3",
                    "pattern": {
                      "shape": ""
                    }
                  },
                  "name": "Fundamental completa",
                  "offsetgroup": "Fundamental completa",
                  "orientation": "v",
                  "showlegend": true,
                  "text": [
                    1.8676864463827898,
                    3.066500522780332,
                    2.0853922284764894,
                    1.2761569200360934,
                    4.06479611567052,
                    1.055586588178003,
                    0.8751199530213839,
                    2.8974920866812757,
                    1.5439923230066315,
                    1.0713416118821524,
                    1.3348801902061045,
                    2.8043942193385756,
                    0.2721322276171243
                  ],
                  "textposition": "outside",
                  "texttemplate": "%{text:.2f}%",
                  "type": "bar",
                  "x": [
                    "FEBRE",
                    "TOSSE",
                    "DOR_GARGANTA",
                    "FALTA_AR",
                    "DOR_CABECA",
                    "DOR_PEITO",
                    "NAUSEA",
                    "NARIZ_ENTUPIDO",
                    "FADIGA",
                    "DOR_OLHOS",
                    "PERDA_PALADAR",
                    "DOR_MUSCULAR",
                    "DIARREIA"
                  ],
                  "xaxis": "x",
                  "y": [
                    1.8676864463827898,
                    3.066500522780332,
                    2.0853922284764894,
                    1.2761569200360934,
                    4.06479611567052,
                    1.055586588178003,
                    0.8751199530213839,
                    2.8974920866812757,
                    1.5439923230066315,
                    1.0713416118821524,
                    1.3348801902061045,
                    2.8043942193385756,
                    0.2721322276171243
                  ],
                  "yaxis": "y"
                },
                {
                  "alignmentgroup": "True",
                  "hovertemplate": "ESCOLARIDADE=Superior incompleto<br>Sintoma=%{x}<br>Porcentagem=%{text}<extra></extra>",
                  "legendgroup": "Superior incompleto",
                  "marker": {
                    "color": "#FF6692",
                    "pattern": {
                      "shape": ""
                    }
                  },
                  "name": "Superior incompleto",
                  "offsetgroup": "Superior incompleto",
                  "orientation": "v",
                  "showlegend": true,
                  "text": [
                    2.319104294706352,
                    3.3069053233562955,
                    3.193642423454704,
                    1.67666227231372,
                    5.9323764784521975,
                    1.2087565219005887,
                    1.3610115676699408,
                    4.532372764914496,
                    2.148281560428542,
                    1.589394136323969,
                    1.7843548656627735,
                    2.985684312159979,
                    0.43819744879959893
                  ],
                  "textposition": "outside",
                  "texttemplate": "%{text:.2f}%",
                  "type": "bar",
                  "x": [
                    "FEBRE",
                    "TOSSE",
                    "DOR_GARGANTA",
                    "FALTA_AR",
                    "DOR_CABECA",
                    "DOR_PEITO",
                    "NAUSEA",
                    "NARIZ_ENTUPIDO",
                    "FADIGA",
                    "DOR_OLHOS",
                    "PERDA_PALADAR",
                    "DOR_MUSCULAR",
                    "DIARREIA"
                  ],
                  "xaxis": "x",
                  "y": [
                    2.319104294706352,
                    3.3069053233562955,
                    3.193642423454704,
                    1.67666227231372,
                    5.9323764784521975,
                    1.2087565219005887,
                    1.3610115676699408,
                    4.532372764914496,
                    2.148281560428542,
                    1.589394136323969,
                    1.7843548656627735,
                    2.985684312159979,
                    0.43819744879959893
                  ],
                  "yaxis": "y"
                },
                {
                  "alignmentgroup": "True",
                  "hovertemplate": "ESCOLARIDADE=Pós-graduação, mestrado ou doutorado<br>Sintoma=%{x}<br>Porcentagem=%{text}<extra></extra>",
                  "legendgroup": "Pós-graduação, mestrado ou doutorado",
                  "marker": {
                    "color": "#B6E880",
                    "pattern": {
                      "shape": ""
                    }
                  },
                  "name": "Pós-graduação, mestrado ou doutorado",
                  "offsetgroup": "Pós-graduação, mestrado ou doutorado",
                  "orientation": "v",
                  "showlegend": true,
                  "text": [
                    1.6528313074414467,
                    2.986955232730507,
                    3.1055440260895346,
                    1.478654017195375,
                    6.5853839312185,
                    1.0858286391935963,
                    1.3044767269493032,
                    4.7583753335309815,
                    2.282834272161281,
                    1.5045953157426624,
                    1.3971242217610436,
                    3.1611325229765788,
                    0.42247257634153573
                  ],
                  "textposition": "outside",
                  "texttemplate": "%{text:.2f}%",
                  "type": "bar",
                  "x": [
                    "FEBRE",
                    "TOSSE",
                    "DOR_GARGANTA",
                    "FALTA_AR",
                    "DOR_CABECA",
                    "DOR_PEITO",
                    "NAUSEA",
                    "NARIZ_ENTUPIDO",
                    "FADIGA",
                    "DOR_OLHOS",
                    "PERDA_PALADAR",
                    "DOR_MUSCULAR",
                    "DIARREIA"
                  ],
                  "xaxis": "x",
                  "y": [
                    1.6528313074414467,
                    2.986955232730507,
                    3.1055440260895346,
                    1.478654017195375,
                    6.5853839312185,
                    1.0858286391935963,
                    1.3044767269493032,
                    4.7583753335309815,
                    2.282834272161281,
                    1.5045953157426624,
                    1.3971242217610436,
                    3.1611325229765788,
                    0.42247257634153573
                  ],
                  "yaxis": "y"
                }
              ],
              "layout": {
                "barmode": "group",
                "legend": {
                  "title": {
                    "text": "ESCOLARIDADE"
                  },
                  "tracegroupgap": 0
                },
                "template": {
                  "data": {
                    "bar": [
                      {
                        "error_x": {
                          "color": "#2a3f5f"
                        },
                        "error_y": {
                          "color": "#2a3f5f"
                        },
                        "marker": {
                          "line": {
                            "color": "#E5ECF6",
                            "width": 0.5
                          },
                          "pattern": {
                            "fillmode": "overlay",
                            "size": 10,
                            "solidity": 0.2
                          }
                        },
                        "type": "bar"
                      }
                    ],
                    "barpolar": [
                      {
                        "marker": {
                          "line": {
                            "color": "#E5ECF6",
                            "width": 0.5
                          },
                          "pattern": {
                            "fillmode": "overlay",
                            "size": 10,
                            "solidity": 0.2
                          }
                        },
                        "type": "barpolar"
                      }
                    ],
                    "carpet": [
                      {
                        "aaxis": {
                          "endlinecolor": "#2a3f5f",
                          "gridcolor": "white",
                          "linecolor": "white",
                          "minorgridcolor": "white",
                          "startlinecolor": "#2a3f5f"
                        },
                        "baxis": {
                          "endlinecolor": "#2a3f5f",
                          "gridcolor": "white",
                          "linecolor": "white",
                          "minorgridcolor": "white",
                          "startlinecolor": "#2a3f5f"
                        },
                        "type": "carpet"
                      }
                    ],
                    "choropleth": [
                      {
                        "colorbar": {
                          "outlinewidth": 0,
                          "ticks": ""
                        },
                        "type": "choropleth"
                      }
                    ],
                    "contour": [
                      {
                        "colorbar": {
                          "outlinewidth": 0,
                          "ticks": ""
                        },
                        "colorscale": [
                          [
                            0,
                            "#0d0887"
                          ],
                          [
                            0.1111111111111111,
                            "#46039f"
                          ],
                          [
                            0.2222222222222222,
                            "#7201a8"
                          ],
                          [
                            0.3333333333333333,
                            "#9c179e"
                          ],
                          [
                            0.4444444444444444,
                            "#bd3786"
                          ],
                          [
                            0.5555555555555556,
                            "#d8576b"
                          ],
                          [
                            0.6666666666666666,
                            "#ed7953"
                          ],
                          [
                            0.7777777777777778,
                            "#fb9f3a"
                          ],
                          [
                            0.8888888888888888,
                            "#fdca26"
                          ],
                          [
                            1,
                            "#f0f921"
                          ]
                        ],
                        "type": "contour"
                      }
                    ],
                    "contourcarpet": [
                      {
                        "colorbar": {
                          "outlinewidth": 0,
                          "ticks": ""
                        },
                        "type": "contourcarpet"
                      }
                    ],
                    "heatmap": [
                      {
                        "colorbar": {
                          "outlinewidth": 0,
                          "ticks": ""
                        },
                        "colorscale": [
                          [
                            0,
                            "#0d0887"
                          ],
                          [
                            0.1111111111111111,
                            "#46039f"
                          ],
                          [
                            0.2222222222222222,
                            "#7201a8"
                          ],
                          [
                            0.3333333333333333,
                            "#9c179e"
                          ],
                          [
                            0.4444444444444444,
                            "#bd3786"
                          ],
                          [
                            0.5555555555555556,
                            "#d8576b"
                          ],
                          [
                            0.6666666666666666,
                            "#ed7953"
                          ],
                          [
                            0.7777777777777778,
                            "#fb9f3a"
                          ],
                          [
                            0.8888888888888888,
                            "#fdca26"
                          ],
                          [
                            1,
                            "#f0f921"
                          ]
                        ],
                        "type": "heatmap"
                      }
                    ],
                    "heatmapgl": [
                      {
                        "colorbar": {
                          "outlinewidth": 0,
                          "ticks": ""
                        },
                        "colorscale": [
                          [
                            0,
                            "#0d0887"
                          ],
                          [
                            0.1111111111111111,
                            "#46039f"
                          ],
                          [
                            0.2222222222222222,
                            "#7201a8"
                          ],
                          [
                            0.3333333333333333,
                            "#9c179e"
                          ],
                          [
                            0.4444444444444444,
                            "#bd3786"
                          ],
                          [
                            0.5555555555555556,
                            "#d8576b"
                          ],
                          [
                            0.6666666666666666,
                            "#ed7953"
                          ],
                          [
                            0.7777777777777778,
                            "#fb9f3a"
                          ],
                          [
                            0.8888888888888888,
                            "#fdca26"
                          ],
                          [
                            1,
                            "#f0f921"
                          ]
                        ],
                        "type": "heatmapgl"
                      }
                    ],
                    "histogram": [
                      {
                        "marker": {
                          "pattern": {
                            "fillmode": "overlay",
                            "size": 10,
                            "solidity": 0.2
                          }
                        },
                        "type": "histogram"
                      }
                    ],
                    "histogram2d": [
                      {
                        "colorbar": {
                          "outlinewidth": 0,
                          "ticks": ""
                        },
                        "colorscale": [
                          [
                            0,
                            "#0d0887"
                          ],
                          [
                            0.1111111111111111,
                            "#46039f"
                          ],
                          [
                            0.2222222222222222,
                            "#7201a8"
                          ],
                          [
                            0.3333333333333333,
                            "#9c179e"
                          ],
                          [
                            0.4444444444444444,
                            "#bd3786"
                          ],
                          [
                            0.5555555555555556,
                            "#d8576b"
                          ],
                          [
                            0.6666666666666666,
                            "#ed7953"
                          ],
                          [
                            0.7777777777777778,
                            "#fb9f3a"
                          ],
                          [
                            0.8888888888888888,
                            "#fdca26"
                          ],
                          [
                            1,
                            "#f0f921"
                          ]
                        ],
                        "type": "histogram2d"
                      }
                    ],
                    "histogram2dcontour": [
                      {
                        "colorbar": {
                          "outlinewidth": 0,
                          "ticks": ""
                        },
                        "colorscale": [
                          [
                            0,
                            "#0d0887"
                          ],
                          [
                            0.1111111111111111,
                            "#46039f"
                          ],
                          [
                            0.2222222222222222,
                            "#7201a8"
                          ],
                          [
                            0.3333333333333333,
                            "#9c179e"
                          ],
                          [
                            0.4444444444444444,
                            "#bd3786"
                          ],
                          [
                            0.5555555555555556,
                            "#d8576b"
                          ],
                          [
                            0.6666666666666666,
                            "#ed7953"
                          ],
                          [
                            0.7777777777777778,
                            "#fb9f3a"
                          ],
                          [
                            0.8888888888888888,
                            "#fdca26"
                          ],
                          [
                            1,
                            "#f0f921"
                          ]
                        ],
                        "type": "histogram2dcontour"
                      }
                    ],
                    "mesh3d": [
                      {
                        "colorbar": {
                          "outlinewidth": 0,
                          "ticks": ""
                        },
                        "type": "mesh3d"
                      }
                    ],
                    "parcoords": [
                      {
                        "line": {
                          "colorbar": {
                            "outlinewidth": 0,
                            "ticks": ""
                          }
                        },
                        "type": "parcoords"
                      }
                    ],
                    "pie": [
                      {
                        "automargin": true,
                        "type": "pie"
                      }
                    ],
                    "scatter": [
                      {
                        "fillpattern": {
                          "fillmode": "overlay",
                          "size": 10,
                          "solidity": 0.2
                        },
                        "type": "scatter"
                      }
                    ],
                    "scatter3d": [
                      {
                        "line": {
                          "colorbar": {
                            "outlinewidth": 0,
                            "ticks": ""
                          }
                        },
                        "marker": {
                          "colorbar": {
                            "outlinewidth": 0,
                            "ticks": ""
                          }
                        },
                        "type": "scatter3d"
                      }
                    ],
                    "scattercarpet": [
                      {
                        "marker": {
                          "colorbar": {
                            "outlinewidth": 0,
                            "ticks": ""
                          }
                        },
                        "type": "scattercarpet"
                      }
                    ],
                    "scattergeo": [
                      {
                        "marker": {
                          "colorbar": {
                            "outlinewidth": 0,
                            "ticks": ""
                          }
                        },
                        "type": "scattergeo"
                      }
                    ],
                    "scattergl": [
                      {
                        "marker": {
                          "colorbar": {
                            "outlinewidth": 0,
                            "ticks": ""
                          }
                        },
                        "type": "scattergl"
                      }
                    ],
                    "scattermapbox": [
                      {
                        "marker": {
                          "colorbar": {
                            "outlinewidth": 0,
                            "ticks": ""
                          }
                        },
                        "type": "scattermapbox"
                      }
                    ],
                    "scatterpolar": [
                      {
                        "marker": {
                          "colorbar": {
                            "outlinewidth": 0,
                            "ticks": ""
                          }
                        },
                        "type": "scatterpolar"
                      }
                    ],
                    "scatterpolargl": [
                      {
                        "marker": {
                          "colorbar": {
                            "outlinewidth": 0,
                            "ticks": ""
                          }
                        },
                        "type": "scatterpolargl"
                      }
                    ],
                    "scatterternary": [
                      {
                        "marker": {
                          "colorbar": {
                            "outlinewidth": 0,
                            "ticks": ""
                          }
                        },
                        "type": "scatterternary"
                      }
                    ],
                    "surface": [
                      {
                        "colorbar": {
                          "outlinewidth": 0,
                          "ticks": ""
                        },
                        "colorscale": [
                          [
                            0,
                            "#0d0887"
                          ],
                          [
                            0.1111111111111111,
                            "#46039f"
                          ],
                          [
                            0.2222222222222222,
                            "#7201a8"
                          ],
                          [
                            0.3333333333333333,
                            "#9c179e"
                          ],
                          [
                            0.4444444444444444,
                            "#bd3786"
                          ],
                          [
                            0.5555555555555556,
                            "#d8576b"
                          ],
                          [
                            0.6666666666666666,
                            "#ed7953"
                          ],
                          [
                            0.7777777777777778,
                            "#fb9f3a"
                          ],
                          [
                            0.8888888888888888,
                            "#fdca26"
                          ],
                          [
                            1,
                            "#f0f921"
                          ]
                        ],
                        "type": "surface"
                      }
                    ],
                    "table": [
                      {
                        "cells": {
                          "fill": {
                            "color": "#EBF0F8"
                          },
                          "line": {
                            "color": "white"
                          }
                        },
                        "header": {
                          "fill": {
                            "color": "#C8D4E3"
                          },
                          "line": {
                            "color": "white"
                          }
                        },
                        "type": "table"
                      }
                    ]
                  },
                  "layout": {
                    "annotationdefaults": {
                      "arrowcolor": "#2a3f5f",
                      "arrowhead": 0,
                      "arrowwidth": 1
                    },
                    "autotypenumbers": "strict",
                    "coloraxis": {
                      "colorbar": {
                        "outlinewidth": 0,
                        "ticks": ""
                      }
                    },
                    "colorscale": {
                      "diverging": [
                        [
                          0,
                          "#8e0152"
                        ],
                        [
                          0.1,
                          "#c51b7d"
                        ],
                        [
                          0.2,
                          "#de77ae"
                        ],
                        [
                          0.3,
                          "#f1b6da"
                        ],
                        [
                          0.4,
                          "#fde0ef"
                        ],
                        [
                          0.5,
                          "#f7f7f7"
                        ],
                        [
                          0.6,
                          "#e6f5d0"
                        ],
                        [
                          0.7,
                          "#b8e186"
                        ],
                        [
                          0.8,
                          "#7fbc41"
                        ],
                        [
                          0.9,
                          "#4d9221"
                        ],
                        [
                          1,
                          "#276419"
                        ]
                      ],
                      "sequential": [
                        [
                          0,
                          "#0d0887"
                        ],
                        [
                          0.1111111111111111,
                          "#46039f"
                        ],
                        [
                          0.2222222222222222,
                          "#7201a8"
                        ],
                        [
                          0.3333333333333333,
                          "#9c179e"
                        ],
                        [
                          0.4444444444444444,
                          "#bd3786"
                        ],
                        [
                          0.5555555555555556,
                          "#d8576b"
                        ],
                        [
                          0.6666666666666666,
                          "#ed7953"
                        ],
                        [
                          0.7777777777777778,
                          "#fb9f3a"
                        ],
                        [
                          0.8888888888888888,
                          "#fdca26"
                        ],
                        [
                          1,
                          "#f0f921"
                        ]
                      ],
                      "sequentialminus": [
                        [
                          0,
                          "#0d0887"
                        ],
                        [
                          0.1111111111111111,
                          "#46039f"
                        ],
                        [
                          0.2222222222222222,
                          "#7201a8"
                        ],
                        [
                          0.3333333333333333,
                          "#9c179e"
                        ],
                        [
                          0.4444444444444444,
                          "#bd3786"
                        ],
                        [
                          0.5555555555555556,
                          "#d8576b"
                        ],
                        [
                          0.6666666666666666,
                          "#ed7953"
                        ],
                        [
                          0.7777777777777778,
                          "#fb9f3a"
                        ],
                        [
                          0.8888888888888888,
                          "#fdca26"
                        ],
                        [
                          1,
                          "#f0f921"
                        ]
                      ]
                    },
                    "colorway": [
                      "#636efa",
                      "#EF553B",
                      "#00cc96",
                      "#ab63fa",
                      "#FFA15A",
                      "#19d3f3",
                      "#FF6692",
                      "#B6E880",
                      "#FF97FF",
                      "#FECB52"
                    ],
                    "font": {
                      "color": "#2a3f5f"
                    },
                    "geo": {
                      "bgcolor": "white",
                      "lakecolor": "white",
                      "landcolor": "#E5ECF6",
                      "showlakes": true,
                      "showland": true,
                      "subunitcolor": "white"
                    },
                    "hoverlabel": {
                      "align": "left"
                    },
                    "hovermode": "closest",
                    "mapbox": {
                      "style": "light"
                    },
                    "paper_bgcolor": "white",
                    "plot_bgcolor": "#E5ECF6",
                    "polar": {
                      "angularaxis": {
                        "gridcolor": "white",
                        "linecolor": "white",
                        "ticks": ""
                      },
                      "bgcolor": "#E5ECF6",
                      "radialaxis": {
                        "gridcolor": "white",
                        "linecolor": "white",
                        "ticks": ""
                      }
                    },
                    "scene": {
                      "xaxis": {
                        "backgroundcolor": "#E5ECF6",
                        "gridcolor": "white",
                        "gridwidth": 2,
                        "linecolor": "white",
                        "showbackground": true,
                        "ticks": "",
                        "zerolinecolor": "white"
                      },
                      "yaxis": {
                        "backgroundcolor": "#E5ECF6",
                        "gridcolor": "white",
                        "gridwidth": 2,
                        "linecolor": "white",
                        "showbackground": true,
                        "ticks": "",
                        "zerolinecolor": "white"
                      },
                      "zaxis": {
                        "backgroundcolor": "#E5ECF6",
                        "gridcolor": "white",
                        "gridwidth": 2,
                        "linecolor": "white",
                        "showbackground": true,
                        "ticks": "",
                        "zerolinecolor": "white"
                      }
                    },
                    "shapedefaults": {
                      "line": {
                        "color": "#2a3f5f"
                      }
                    },
                    "ternary": {
                      "aaxis": {
                        "gridcolor": "white",
                        "linecolor": "white",
                        "ticks": ""
                      },
                      "baxis": {
                        "gridcolor": "white",
                        "linecolor": "white",
                        "ticks": ""
                      },
                      "bgcolor": "#E5ECF6",
                      "caxis": {
                        "gridcolor": "white",
                        "linecolor": "white",
                        "ticks": ""
                      }
                    },
                    "title": {
                      "x": 0.05
                    },
                    "xaxis": {
                      "automargin": true,
                      "gridcolor": "white",
                      "linecolor": "white",
                      "ticks": "",
                      "title": {
                        "standoff": 15
                      },
                      "zerolinecolor": "white",
                      "zerolinewidth": 2
                    },
                    "yaxis": {
                      "automargin": true,
                      "gridcolor": "white",
                      "linecolor": "white",
                      "ticks": "",
                      "title": {
                        "standoff": 15
                      },
                      "zerolinecolor": "white",
                      "zerolinewidth": 2
                    }
                  }
                },
                "title": {
                  "text": "Porcentagem de casos positivos para cada sintoma separados por ESCOLARIDADE"
                },
                "xaxis": {
                  "anchor": "y",
                  "domain": [
                    0,
                    1
                  ],
                  "title": {
                    "text": "Sintoma"
                  }
                },
                "yaxis": {
                  "anchor": "x",
                  "domain": [
                    0,
                    1
                  ],
                  "title": {
                    "text": "Porcentagem"
                  }
                }
              }
            }
          },
          "metadata": {},
          "output_type": "display_data"
        }
      ],
      "source": [
        "plot_mult_bar(df, 'ESCOLARIDADE', sintomas)"
      ]
    },
    {
      "cell_type": "code",
      "execution_count": 27,
      "metadata": {
        "colab": {
          "base_uri": "https://localhost:8080/",
          "height": 542
        },
        "id": "ibOyhuLO03ZB",
        "outputId": "de841bca-90f2-4c90-d8e1-f8545cf0f1bd"
      },
      "outputs": [
        {
          "data": {
            "application/vnd.plotly.v1+json": {
              "config": {
                "plotlyServerURL": "https://plot.ly"
              },
              "data": [
                {
                  "alignmentgroup": "True",
                  "hovertemplate": "FAIXA_ETARIA=Jovem<br>Sintoma=%{x}<br>Porcentagem=%{text}<extra></extra>",
                  "legendgroup": "Jovem",
                  "marker": {
                    "color": "#636efa",
                    "pattern": {
                      "shape": ""
                    }
                  },
                  "name": "Jovem",
                  "offsetgroup": "Jovem",
                  "orientation": "v",
                  "showlegend": true,
                  "text": [
                    2.504017961206738,
                    3.0659191009581765,
                    2.8896604464946614,
                    1.3740813897851771,
                    5.526588065939548,
                    1.0702294634130383,
                    1.1426141080535075,
                    3.9243110167793334,
                    1.6918377111729992,
                    1.3254160072302854,
                    1.9233049929046688,
                    2.494203094136844,
                    0.2993534456317707
                  ],
                  "textposition": "outside",
                  "texttemplate": "%{text:.2f}%",
                  "type": "bar",
                  "x": [
                    "FEBRE",
                    "TOSSE",
                    "DOR_GARGANTA",
                    "FALTA_AR",
                    "DOR_CABECA",
                    "DOR_PEITO",
                    "NAUSEA",
                    "NARIZ_ENTUPIDO",
                    "FADIGA",
                    "DOR_OLHOS",
                    "PERDA_PALADAR",
                    "DOR_MUSCULAR",
                    "DIARREIA"
                  ],
                  "xaxis": "x",
                  "y": [
                    2.504017961206738,
                    3.0659191009581765,
                    2.8896604464946614,
                    1.3740813897851771,
                    5.526588065939548,
                    1.0702294634130383,
                    1.1426141080535075,
                    3.9243110167793334,
                    1.6918377111729992,
                    1.3254160072302854,
                    1.9233049929046688,
                    2.494203094136844,
                    0.2993534456317707
                  ],
                  "yaxis": "y"
                },
                {
                  "alignmentgroup": "True",
                  "hovertemplate": "FAIXA_ETARIA=Idoso<br>Sintoma=%{x}<br>Porcentagem=%{text}<extra></extra>",
                  "legendgroup": "Idoso",
                  "marker": {
                    "color": "#EF553B",
                    "pattern": {
                      "shape": ""
                    }
                  },
                  "name": "Idoso",
                  "offsetgroup": "Idoso",
                  "orientation": "v",
                  "showlegend": true,
                  "text": [
                    1.51578530227643,
                    3.5428867068821277,
                    1.7843776143718904,
                    1.3104883096296949,
                    3.5599489234291752,
                    1.0000660472898595,
                    0.8090793007793581,
                    2.9853375016511823,
                    1.7034696842939543,
                    1.1024393465721456,
                    1.0826251596142837,
                    3.361256659768394,
                    0.26308837127383206
                  ],
                  "textposition": "outside",
                  "texttemplate": "%{text:.2f}%",
                  "type": "bar",
                  "x": [
                    "FEBRE",
                    "TOSSE",
                    "DOR_GARGANTA",
                    "FALTA_AR",
                    "DOR_CABECA",
                    "DOR_PEITO",
                    "NAUSEA",
                    "NARIZ_ENTUPIDO",
                    "FADIGA",
                    "DOR_OLHOS",
                    "PERDA_PALADAR",
                    "DOR_MUSCULAR",
                    "DIARREIA"
                  ],
                  "xaxis": "x",
                  "y": [
                    1.51578530227643,
                    3.5428867068821277,
                    1.7843776143718904,
                    1.3104883096296949,
                    3.5599489234291752,
                    1.0000660472898595,
                    0.8090793007793581,
                    2.9853375016511823,
                    1.7034696842939543,
                    1.1024393465721456,
                    1.0826251596142837,
                    3.361256659768394,
                    0.26308837127383206
                  ],
                  "yaxis": "y"
                },
                {
                  "alignmentgroup": "True",
                  "hovertemplate": "FAIXA_ETARIA=Adolescente<br>Sintoma=%{x}<br>Porcentagem=%{text}<extra></extra>",
                  "legendgroup": "Adolescente",
                  "marker": {
                    "color": "#00cc96",
                    "pattern": {
                      "shape": ""
                    }
                  },
                  "name": "Adolescente",
                  "offsetgroup": "Adolescente",
                  "orientation": "v",
                  "showlegend": true,
                  "text": [
                    2.1755072109508675,
                    2.3116946607535707,
                    2.0515417117714847,
                    0.8293466494395363,
                    2.889618325941963,
                    0.6128435241121626,
                    0.7176031008834725,
                    3.011837832175158,
                    0.8520445577399868,
                    0.7437929950762999,
                    1.1314034291301462,
                    1.2152110905471942,
                    0.22348709711212766
                  ],
                  "textposition": "outside",
                  "texttemplate": "%{text:.2f}%",
                  "type": "bar",
                  "x": [
                    "FEBRE",
                    "TOSSE",
                    "DOR_GARGANTA",
                    "FALTA_AR",
                    "DOR_CABECA",
                    "DOR_PEITO",
                    "NAUSEA",
                    "NARIZ_ENTUPIDO",
                    "FADIGA",
                    "DOR_OLHOS",
                    "PERDA_PALADAR",
                    "DOR_MUSCULAR",
                    "DIARREIA"
                  ],
                  "xaxis": "x",
                  "y": [
                    2.1755072109508675,
                    2.3116946607535707,
                    2.0515417117714847,
                    0.8293466494395363,
                    2.889618325941963,
                    0.6128435241121626,
                    0.7176031008834725,
                    3.011837832175158,
                    0.8520445577399868,
                    0.7437929950762999,
                    1.1314034291301462,
                    1.2152110905471942,
                    0.22348709711212766
                  ],
                  "yaxis": "y"
                },
                {
                  "alignmentgroup": "True",
                  "hovertemplate": "FAIXA_ETARIA=Adulto<br>Sintoma=%{x}<br>Porcentagem=%{text}<extra></extra>",
                  "legendgroup": "Adulto",
                  "marker": {
                    "color": "#ab63fa",
                    "pattern": {
                      "shape": ""
                    }
                  },
                  "name": "Adulto",
                  "offsetgroup": "Adulto",
                  "orientation": "v",
                  "showlegend": true,
                  "text": [
                    2.5038344140559747,
                    3.5234089079892486,
                    2.8780124827261546,
                    1.5507737164204036,
                    6.00112374906987,
                    1.37735190050265,
                    1.2285310777361012,
                    3.7366175152996917,
                    2.0919955657469136,
                    1.5656557986970587,
                    1.8648160240543044,
                    3.586885544638654,
                    0.37114090902188274
                  ],
                  "textposition": "outside",
                  "texttemplate": "%{text:.2f}%",
                  "type": "bar",
                  "x": [
                    "FEBRE",
                    "TOSSE",
                    "DOR_GARGANTA",
                    "FALTA_AR",
                    "DOR_CABECA",
                    "DOR_PEITO",
                    "NAUSEA",
                    "NARIZ_ENTUPIDO",
                    "FADIGA",
                    "DOR_OLHOS",
                    "PERDA_PALADAR",
                    "DOR_MUSCULAR",
                    "DIARREIA"
                  ],
                  "xaxis": "x",
                  "y": [
                    2.5038344140559747,
                    3.5234089079892486,
                    2.8780124827261546,
                    1.5507737164204036,
                    6.00112374906987,
                    1.37735190050265,
                    1.2285310777361012,
                    3.7366175152996917,
                    2.0919955657469136,
                    1.5656557986970587,
                    1.8648160240543044,
                    3.586885544638654,
                    0.37114090902188274
                  ],
                  "yaxis": "y"
                },
                {
                  "alignmentgroup": "True",
                  "hovertemplate": "FAIXA_ETARIA=Criança<br>Sintoma=%{x}<br>Porcentagem=%{text}<extra></extra>",
                  "legendgroup": "Criança",
                  "marker": {
                    "color": "#FFA15A",
                    "pattern": {
                      "shape": ""
                    }
                  },
                  "name": "Criança",
                  "offsetgroup": "Criança",
                  "orientation": "v",
                  "showlegend": true,
                  "text": [
                    2.256725709627214,
                    2.4744311865411697,
                    1.662899281108723,
                    0.4882161120581042,
                    1.3618172385681464,
                    0.2742162602831098,
                    0.5169347068850515,
                    3.2294523086044613,
                    0.4187356407025865,
                    0.3455495442081079,
                    0.4446750166753132,
                    0.5456533017119988,
                    0.25198250944934414
                  ],
                  "textposition": "outside",
                  "texttemplate": "%{text:.2f}%",
                  "type": "bar",
                  "x": [
                    "FEBRE",
                    "TOSSE",
                    "DOR_GARGANTA",
                    "FALTA_AR",
                    "DOR_CABECA",
                    "DOR_PEITO",
                    "NAUSEA",
                    "NARIZ_ENTUPIDO",
                    "FADIGA",
                    "DOR_OLHOS",
                    "PERDA_PALADAR",
                    "DOR_MUSCULAR",
                    "DIARREIA"
                  ],
                  "xaxis": "x",
                  "y": [
                    2.256725709627214,
                    2.4744311865411697,
                    1.662899281108723,
                    0.4882161120581042,
                    1.3618172385681464,
                    0.2742162602831098,
                    0.5169347068850515,
                    3.2294523086044613,
                    0.4187356407025865,
                    0.3455495442081079,
                    0.4446750166753132,
                    0.5456533017119988,
                    0.25198250944934414
                  ],
                  "yaxis": "y"
                }
              ],
              "layout": {
                "barmode": "group",
                "legend": {
                  "title": {
                    "text": "FAIXA_ETARIA"
                  },
                  "tracegroupgap": 0
                },
                "template": {
                  "data": {
                    "bar": [
                      {
                        "error_x": {
                          "color": "#2a3f5f"
                        },
                        "error_y": {
                          "color": "#2a3f5f"
                        },
                        "marker": {
                          "line": {
                            "color": "#E5ECF6",
                            "width": 0.5
                          },
                          "pattern": {
                            "fillmode": "overlay",
                            "size": 10,
                            "solidity": 0.2
                          }
                        },
                        "type": "bar"
                      }
                    ],
                    "barpolar": [
                      {
                        "marker": {
                          "line": {
                            "color": "#E5ECF6",
                            "width": 0.5
                          },
                          "pattern": {
                            "fillmode": "overlay",
                            "size": 10,
                            "solidity": 0.2
                          }
                        },
                        "type": "barpolar"
                      }
                    ],
                    "carpet": [
                      {
                        "aaxis": {
                          "endlinecolor": "#2a3f5f",
                          "gridcolor": "white",
                          "linecolor": "white",
                          "minorgridcolor": "white",
                          "startlinecolor": "#2a3f5f"
                        },
                        "baxis": {
                          "endlinecolor": "#2a3f5f",
                          "gridcolor": "white",
                          "linecolor": "white",
                          "minorgridcolor": "white",
                          "startlinecolor": "#2a3f5f"
                        },
                        "type": "carpet"
                      }
                    ],
                    "choropleth": [
                      {
                        "colorbar": {
                          "outlinewidth": 0,
                          "ticks": ""
                        },
                        "type": "choropleth"
                      }
                    ],
                    "contour": [
                      {
                        "colorbar": {
                          "outlinewidth": 0,
                          "ticks": ""
                        },
                        "colorscale": [
                          [
                            0,
                            "#0d0887"
                          ],
                          [
                            0.1111111111111111,
                            "#46039f"
                          ],
                          [
                            0.2222222222222222,
                            "#7201a8"
                          ],
                          [
                            0.3333333333333333,
                            "#9c179e"
                          ],
                          [
                            0.4444444444444444,
                            "#bd3786"
                          ],
                          [
                            0.5555555555555556,
                            "#d8576b"
                          ],
                          [
                            0.6666666666666666,
                            "#ed7953"
                          ],
                          [
                            0.7777777777777778,
                            "#fb9f3a"
                          ],
                          [
                            0.8888888888888888,
                            "#fdca26"
                          ],
                          [
                            1,
                            "#f0f921"
                          ]
                        ],
                        "type": "contour"
                      }
                    ],
                    "contourcarpet": [
                      {
                        "colorbar": {
                          "outlinewidth": 0,
                          "ticks": ""
                        },
                        "type": "contourcarpet"
                      }
                    ],
                    "heatmap": [
                      {
                        "colorbar": {
                          "outlinewidth": 0,
                          "ticks": ""
                        },
                        "colorscale": [
                          [
                            0,
                            "#0d0887"
                          ],
                          [
                            0.1111111111111111,
                            "#46039f"
                          ],
                          [
                            0.2222222222222222,
                            "#7201a8"
                          ],
                          [
                            0.3333333333333333,
                            "#9c179e"
                          ],
                          [
                            0.4444444444444444,
                            "#bd3786"
                          ],
                          [
                            0.5555555555555556,
                            "#d8576b"
                          ],
                          [
                            0.6666666666666666,
                            "#ed7953"
                          ],
                          [
                            0.7777777777777778,
                            "#fb9f3a"
                          ],
                          [
                            0.8888888888888888,
                            "#fdca26"
                          ],
                          [
                            1,
                            "#f0f921"
                          ]
                        ],
                        "type": "heatmap"
                      }
                    ],
                    "heatmapgl": [
                      {
                        "colorbar": {
                          "outlinewidth": 0,
                          "ticks": ""
                        },
                        "colorscale": [
                          [
                            0,
                            "#0d0887"
                          ],
                          [
                            0.1111111111111111,
                            "#46039f"
                          ],
                          [
                            0.2222222222222222,
                            "#7201a8"
                          ],
                          [
                            0.3333333333333333,
                            "#9c179e"
                          ],
                          [
                            0.4444444444444444,
                            "#bd3786"
                          ],
                          [
                            0.5555555555555556,
                            "#d8576b"
                          ],
                          [
                            0.6666666666666666,
                            "#ed7953"
                          ],
                          [
                            0.7777777777777778,
                            "#fb9f3a"
                          ],
                          [
                            0.8888888888888888,
                            "#fdca26"
                          ],
                          [
                            1,
                            "#f0f921"
                          ]
                        ],
                        "type": "heatmapgl"
                      }
                    ],
                    "histogram": [
                      {
                        "marker": {
                          "pattern": {
                            "fillmode": "overlay",
                            "size": 10,
                            "solidity": 0.2
                          }
                        },
                        "type": "histogram"
                      }
                    ],
                    "histogram2d": [
                      {
                        "colorbar": {
                          "outlinewidth": 0,
                          "ticks": ""
                        },
                        "colorscale": [
                          [
                            0,
                            "#0d0887"
                          ],
                          [
                            0.1111111111111111,
                            "#46039f"
                          ],
                          [
                            0.2222222222222222,
                            "#7201a8"
                          ],
                          [
                            0.3333333333333333,
                            "#9c179e"
                          ],
                          [
                            0.4444444444444444,
                            "#bd3786"
                          ],
                          [
                            0.5555555555555556,
                            "#d8576b"
                          ],
                          [
                            0.6666666666666666,
                            "#ed7953"
                          ],
                          [
                            0.7777777777777778,
                            "#fb9f3a"
                          ],
                          [
                            0.8888888888888888,
                            "#fdca26"
                          ],
                          [
                            1,
                            "#f0f921"
                          ]
                        ],
                        "type": "histogram2d"
                      }
                    ],
                    "histogram2dcontour": [
                      {
                        "colorbar": {
                          "outlinewidth": 0,
                          "ticks": ""
                        },
                        "colorscale": [
                          [
                            0,
                            "#0d0887"
                          ],
                          [
                            0.1111111111111111,
                            "#46039f"
                          ],
                          [
                            0.2222222222222222,
                            "#7201a8"
                          ],
                          [
                            0.3333333333333333,
                            "#9c179e"
                          ],
                          [
                            0.4444444444444444,
                            "#bd3786"
                          ],
                          [
                            0.5555555555555556,
                            "#d8576b"
                          ],
                          [
                            0.6666666666666666,
                            "#ed7953"
                          ],
                          [
                            0.7777777777777778,
                            "#fb9f3a"
                          ],
                          [
                            0.8888888888888888,
                            "#fdca26"
                          ],
                          [
                            1,
                            "#f0f921"
                          ]
                        ],
                        "type": "histogram2dcontour"
                      }
                    ],
                    "mesh3d": [
                      {
                        "colorbar": {
                          "outlinewidth": 0,
                          "ticks": ""
                        },
                        "type": "mesh3d"
                      }
                    ],
                    "parcoords": [
                      {
                        "line": {
                          "colorbar": {
                            "outlinewidth": 0,
                            "ticks": ""
                          }
                        },
                        "type": "parcoords"
                      }
                    ],
                    "pie": [
                      {
                        "automargin": true,
                        "type": "pie"
                      }
                    ],
                    "scatter": [
                      {
                        "fillpattern": {
                          "fillmode": "overlay",
                          "size": 10,
                          "solidity": 0.2
                        },
                        "type": "scatter"
                      }
                    ],
                    "scatter3d": [
                      {
                        "line": {
                          "colorbar": {
                            "outlinewidth": 0,
                            "ticks": ""
                          }
                        },
                        "marker": {
                          "colorbar": {
                            "outlinewidth": 0,
                            "ticks": ""
                          }
                        },
                        "type": "scatter3d"
                      }
                    ],
                    "scattercarpet": [
                      {
                        "marker": {
                          "colorbar": {
                            "outlinewidth": 0,
                            "ticks": ""
                          }
                        },
                        "type": "scattercarpet"
                      }
                    ],
                    "scattergeo": [
                      {
                        "marker": {
                          "colorbar": {
                            "outlinewidth": 0,
                            "ticks": ""
                          }
                        },
                        "type": "scattergeo"
                      }
                    ],
                    "scattergl": [
                      {
                        "marker": {
                          "colorbar": {
                            "outlinewidth": 0,
                            "ticks": ""
                          }
                        },
                        "type": "scattergl"
                      }
                    ],
                    "scattermapbox": [
                      {
                        "marker": {
                          "colorbar": {
                            "outlinewidth": 0,
                            "ticks": ""
                          }
                        },
                        "type": "scattermapbox"
                      }
                    ],
                    "scatterpolar": [
                      {
                        "marker": {
                          "colorbar": {
                            "outlinewidth": 0,
                            "ticks": ""
                          }
                        },
                        "type": "scatterpolar"
                      }
                    ],
                    "scatterpolargl": [
                      {
                        "marker": {
                          "colorbar": {
                            "outlinewidth": 0,
                            "ticks": ""
                          }
                        },
                        "type": "scatterpolargl"
                      }
                    ],
                    "scatterternary": [
                      {
                        "marker": {
                          "colorbar": {
                            "outlinewidth": 0,
                            "ticks": ""
                          }
                        },
                        "type": "scatterternary"
                      }
                    ],
                    "surface": [
                      {
                        "colorbar": {
                          "outlinewidth": 0,
                          "ticks": ""
                        },
                        "colorscale": [
                          [
                            0,
                            "#0d0887"
                          ],
                          [
                            0.1111111111111111,
                            "#46039f"
                          ],
                          [
                            0.2222222222222222,
                            "#7201a8"
                          ],
                          [
                            0.3333333333333333,
                            "#9c179e"
                          ],
                          [
                            0.4444444444444444,
                            "#bd3786"
                          ],
                          [
                            0.5555555555555556,
                            "#d8576b"
                          ],
                          [
                            0.6666666666666666,
                            "#ed7953"
                          ],
                          [
                            0.7777777777777778,
                            "#fb9f3a"
                          ],
                          [
                            0.8888888888888888,
                            "#fdca26"
                          ],
                          [
                            1,
                            "#f0f921"
                          ]
                        ],
                        "type": "surface"
                      }
                    ],
                    "table": [
                      {
                        "cells": {
                          "fill": {
                            "color": "#EBF0F8"
                          },
                          "line": {
                            "color": "white"
                          }
                        },
                        "header": {
                          "fill": {
                            "color": "#C8D4E3"
                          },
                          "line": {
                            "color": "white"
                          }
                        },
                        "type": "table"
                      }
                    ]
                  },
                  "layout": {
                    "annotationdefaults": {
                      "arrowcolor": "#2a3f5f",
                      "arrowhead": 0,
                      "arrowwidth": 1
                    },
                    "autotypenumbers": "strict",
                    "coloraxis": {
                      "colorbar": {
                        "outlinewidth": 0,
                        "ticks": ""
                      }
                    },
                    "colorscale": {
                      "diverging": [
                        [
                          0,
                          "#8e0152"
                        ],
                        [
                          0.1,
                          "#c51b7d"
                        ],
                        [
                          0.2,
                          "#de77ae"
                        ],
                        [
                          0.3,
                          "#f1b6da"
                        ],
                        [
                          0.4,
                          "#fde0ef"
                        ],
                        [
                          0.5,
                          "#f7f7f7"
                        ],
                        [
                          0.6,
                          "#e6f5d0"
                        ],
                        [
                          0.7,
                          "#b8e186"
                        ],
                        [
                          0.8,
                          "#7fbc41"
                        ],
                        [
                          0.9,
                          "#4d9221"
                        ],
                        [
                          1,
                          "#276419"
                        ]
                      ],
                      "sequential": [
                        [
                          0,
                          "#0d0887"
                        ],
                        [
                          0.1111111111111111,
                          "#46039f"
                        ],
                        [
                          0.2222222222222222,
                          "#7201a8"
                        ],
                        [
                          0.3333333333333333,
                          "#9c179e"
                        ],
                        [
                          0.4444444444444444,
                          "#bd3786"
                        ],
                        [
                          0.5555555555555556,
                          "#d8576b"
                        ],
                        [
                          0.6666666666666666,
                          "#ed7953"
                        ],
                        [
                          0.7777777777777778,
                          "#fb9f3a"
                        ],
                        [
                          0.8888888888888888,
                          "#fdca26"
                        ],
                        [
                          1,
                          "#f0f921"
                        ]
                      ],
                      "sequentialminus": [
                        [
                          0,
                          "#0d0887"
                        ],
                        [
                          0.1111111111111111,
                          "#46039f"
                        ],
                        [
                          0.2222222222222222,
                          "#7201a8"
                        ],
                        [
                          0.3333333333333333,
                          "#9c179e"
                        ],
                        [
                          0.4444444444444444,
                          "#bd3786"
                        ],
                        [
                          0.5555555555555556,
                          "#d8576b"
                        ],
                        [
                          0.6666666666666666,
                          "#ed7953"
                        ],
                        [
                          0.7777777777777778,
                          "#fb9f3a"
                        ],
                        [
                          0.8888888888888888,
                          "#fdca26"
                        ],
                        [
                          1,
                          "#f0f921"
                        ]
                      ]
                    },
                    "colorway": [
                      "#636efa",
                      "#EF553B",
                      "#00cc96",
                      "#ab63fa",
                      "#FFA15A",
                      "#19d3f3",
                      "#FF6692",
                      "#B6E880",
                      "#FF97FF",
                      "#FECB52"
                    ],
                    "font": {
                      "color": "#2a3f5f"
                    },
                    "geo": {
                      "bgcolor": "white",
                      "lakecolor": "white",
                      "landcolor": "#E5ECF6",
                      "showlakes": true,
                      "showland": true,
                      "subunitcolor": "white"
                    },
                    "hoverlabel": {
                      "align": "left"
                    },
                    "hovermode": "closest",
                    "mapbox": {
                      "style": "light"
                    },
                    "paper_bgcolor": "white",
                    "plot_bgcolor": "#E5ECF6",
                    "polar": {
                      "angularaxis": {
                        "gridcolor": "white",
                        "linecolor": "white",
                        "ticks": ""
                      },
                      "bgcolor": "#E5ECF6",
                      "radialaxis": {
                        "gridcolor": "white",
                        "linecolor": "white",
                        "ticks": ""
                      }
                    },
                    "scene": {
                      "xaxis": {
                        "backgroundcolor": "#E5ECF6",
                        "gridcolor": "white",
                        "gridwidth": 2,
                        "linecolor": "white",
                        "showbackground": true,
                        "ticks": "",
                        "zerolinecolor": "white"
                      },
                      "yaxis": {
                        "backgroundcolor": "#E5ECF6",
                        "gridcolor": "white",
                        "gridwidth": 2,
                        "linecolor": "white",
                        "showbackground": true,
                        "ticks": "",
                        "zerolinecolor": "white"
                      },
                      "zaxis": {
                        "backgroundcolor": "#E5ECF6",
                        "gridcolor": "white",
                        "gridwidth": 2,
                        "linecolor": "white",
                        "showbackground": true,
                        "ticks": "",
                        "zerolinecolor": "white"
                      }
                    },
                    "shapedefaults": {
                      "line": {
                        "color": "#2a3f5f"
                      }
                    },
                    "ternary": {
                      "aaxis": {
                        "gridcolor": "white",
                        "linecolor": "white",
                        "ticks": ""
                      },
                      "baxis": {
                        "gridcolor": "white",
                        "linecolor": "white",
                        "ticks": ""
                      },
                      "bgcolor": "#E5ECF6",
                      "caxis": {
                        "gridcolor": "white",
                        "linecolor": "white",
                        "ticks": ""
                      }
                    },
                    "title": {
                      "x": 0.05
                    },
                    "xaxis": {
                      "automargin": true,
                      "gridcolor": "white",
                      "linecolor": "white",
                      "ticks": "",
                      "title": {
                        "standoff": 15
                      },
                      "zerolinecolor": "white",
                      "zerolinewidth": 2
                    },
                    "yaxis": {
                      "automargin": true,
                      "gridcolor": "white",
                      "linecolor": "white",
                      "ticks": "",
                      "title": {
                        "standoff": 15
                      },
                      "zerolinecolor": "white",
                      "zerolinewidth": 2
                    }
                  }
                },
                "title": {
                  "text": "Porcentagem de casos positivos para cada sintoma separados por FAIXA_ETARIA"
                },
                "xaxis": {
                  "anchor": "y",
                  "domain": [
                    0,
                    1
                  ],
                  "title": {
                    "text": "Sintoma"
                  }
                },
                "yaxis": {
                  "anchor": "x",
                  "domain": [
                    0,
                    1
                  ],
                  "title": {
                    "text": "Porcentagem"
                  }
                }
              }
            }
          },
          "metadata": {},
          "output_type": "display_data"
        }
      ],
      "source": [
        "plot_mult_bar(df, 'FAIXA_ETARIA', sintomas)"
      ]
    },
    {
      "cell_type": "code",
      "execution_count": 28,
      "metadata": {
        "colab": {
          "base_uri": "https://localhost:8080/",
          "height": 542
        },
        "id": "-LdVdh51z9R9",
        "outputId": "138aab35-b0d0-4010-a35d-22e54314f688"
      },
      "outputs": [
        {
          "data": {
            "application/vnd.plotly.v1+json": {
              "config": {
                "plotlyServerURL": "https://plot.ly"
              },
              "data": [
                {
                  "alignmentgroup": "True",
                  "hovertemplate": "REGIAO=Sul<br>Sintoma=%{x}<br>Porcentagem=%{text}<extra></extra>",
                  "legendgroup": "Sul",
                  "marker": {
                    "color": "#636efa",
                    "pattern": {
                      "shape": ""
                    }
                  },
                  "name": "Sul",
                  "offsetgroup": "Sul",
                  "orientation": "v",
                  "showlegend": true,
                  "text": [
                    0.88478294537105,
                    2.6550221869087136,
                    1.9284766784951957,
                    0.9992525806169239,
                    3.9646894842806257,
                    0.7575196450094606,
                    0.691531267044192,
                    3.3088458094013236,
                    1.15142986041438,
                    0.7952272895610426,
                    0.5656146682737306,
                    2.4543636498306522,
                    0.2518331975409229
                  ],
                  "textposition": "outside",
                  "texttemplate": "%{text:.2f}%",
                  "type": "bar",
                  "x": [
                    "FEBRE",
                    "TOSSE",
                    "DOR_GARGANTA",
                    "FALTA_AR",
                    "DOR_CABECA",
                    "DOR_PEITO",
                    "NAUSEA",
                    "NARIZ_ENTUPIDO",
                    "FADIGA",
                    "DOR_OLHOS",
                    "PERDA_PALADAR",
                    "DOR_MUSCULAR",
                    "DIARREIA"
                  ],
                  "xaxis": "x",
                  "y": [
                    0.88478294537105,
                    2.6550221869087136,
                    1.9284766784951957,
                    0.9992525806169239,
                    3.9646894842806257,
                    0.7575196450094606,
                    0.691531267044192,
                    3.3088458094013236,
                    1.15142986041438,
                    0.7952272895610426,
                    0.5656146682737306,
                    2.4543636498306522,
                    0.2518331975409229
                  ],
                  "yaxis": "y"
                },
                {
                  "alignmentgroup": "True",
                  "hovertemplate": "REGIAO=Sudeste<br>Sintoma=%{x}<br>Porcentagem=%{text}<extra></extra>",
                  "legendgroup": "Sudeste",
                  "marker": {
                    "color": "#EF553B",
                    "pattern": {
                      "shape": ""
                    }
                  },
                  "name": "Sudeste",
                  "offsetgroup": "Sudeste",
                  "orientation": "v",
                  "showlegend": true,
                  "text": [
                    1.296086341951823,
                    2.9657959832734555,
                    1.9027180634901937,
                    1.186760115436716,
                    4.051696212968961,
                    0.785897284881324,
                    0.7829524706990989,
                    3.6997909181930617,
                    1.3218534660462924,
                    0.916941515990341,
                    0.8897019848047588,
                    2.347016903233406,
                    0.24736439130690854
                  ],
                  "textposition": "outside",
                  "texttemplate": "%{text:.2f}%",
                  "type": "bar",
                  "x": [
                    "FEBRE",
                    "TOSSE",
                    "DOR_GARGANTA",
                    "FALTA_AR",
                    "DOR_CABECA",
                    "DOR_PEITO",
                    "NAUSEA",
                    "NARIZ_ENTUPIDO",
                    "FADIGA",
                    "DOR_OLHOS",
                    "PERDA_PALADAR",
                    "DOR_MUSCULAR",
                    "DIARREIA"
                  ],
                  "xaxis": "x",
                  "y": [
                    1.296086341951823,
                    2.9657959832734555,
                    1.9027180634901937,
                    1.186760115436716,
                    4.051696212968961,
                    0.785897284881324,
                    0.7829524706990989,
                    3.6997909181930617,
                    1.3218534660462924,
                    0.916941515990341,
                    0.8897019848047588,
                    2.347016903233406,
                    0.24736439130690854
                  ],
                  "yaxis": "y"
                },
                {
                  "alignmentgroup": "True",
                  "hovertemplate": "REGIAO=Nordeste<br>Sintoma=%{x}<br>Porcentagem=%{text}<extra></extra>",
                  "legendgroup": "Nordeste",
                  "marker": {
                    "color": "#00cc96",
                    "pattern": {
                      "shape": ""
                    }
                  },
                  "name": "Nordeste",
                  "offsetgroup": "Nordeste",
                  "orientation": "v",
                  "showlegend": true,
                  "text": [
                    3.0459701449306844,
                    3.305201646626913,
                    2.705276229991926,
                    1.161110930083526,
                    5.035825359068215,
                    0.9225165730754051,
                    1.0919583926198673,
                    3.570588086212577,
                    1.724830829721833,
                    1.311363825619748,
                    1.9884069934576631,
                    2.9351812629208442,
                    0.33960774942885796
                  ],
                  "textposition": "outside",
                  "texttemplate": "%{text:.2f}%",
                  "type": "bar",
                  "x": [
                    "FEBRE",
                    "TOSSE",
                    "DOR_GARGANTA",
                    "FALTA_AR",
                    "DOR_CABECA",
                    "DOR_PEITO",
                    "NAUSEA",
                    "NARIZ_ENTUPIDO",
                    "FADIGA",
                    "DOR_OLHOS",
                    "PERDA_PALADAR",
                    "DOR_MUSCULAR",
                    "DIARREIA"
                  ],
                  "xaxis": "x",
                  "y": [
                    3.0459701449306844,
                    3.305201646626913,
                    2.705276229991926,
                    1.161110930083526,
                    5.035825359068215,
                    0.9225165730754051,
                    1.0919583926198673,
                    3.570588086212577,
                    1.724830829721833,
                    1.311363825619748,
                    1.9884069934576631,
                    2.9351812629208442,
                    0.33960774942885796
                  ],
                  "yaxis": "y"
                },
                {
                  "alignmentgroup": "True",
                  "hovertemplate": "REGIAO=Norte<br>Sintoma=%{x}<br>Porcentagem=%{text}<extra></extra>",
                  "legendgroup": "Norte",
                  "marker": {
                    "color": "#ab63fa",
                    "pattern": {
                      "shape": ""
                    }
                  },
                  "name": "Norte",
                  "offsetgroup": "Norte",
                  "orientation": "v",
                  "showlegend": true,
                  "text": [
                    4.906947418309227,
                    4.836703086519012,
                    4.3365295914826625,
                    2.4873263991739942,
                    6.873788708435244,
                    2.4907116681759325,
                    2.010003469900727,
                    4.0885586370907,
                    3.22108345534407,
                    2.4771705921681804,
                    3.653551570341658,
                    4.228200983420645,
                    0.38592066622093957
                  ],
                  "textposition": "outside",
                  "texttemplate": "%{text:.2f}%",
                  "type": "bar",
                  "x": [
                    "FEBRE",
                    "TOSSE",
                    "DOR_GARGANTA",
                    "FALTA_AR",
                    "DOR_CABECA",
                    "DOR_PEITO",
                    "NAUSEA",
                    "NARIZ_ENTUPIDO",
                    "FADIGA",
                    "DOR_OLHOS",
                    "PERDA_PALADAR",
                    "DOR_MUSCULAR",
                    "DIARREIA"
                  ],
                  "xaxis": "x",
                  "y": [
                    4.906947418309227,
                    4.836703086519012,
                    4.3365295914826625,
                    2.4873263991739942,
                    6.873788708435244,
                    2.4907116681759325,
                    2.010003469900727,
                    4.0885586370907,
                    3.22108345534407,
                    2.4771705921681804,
                    3.653551570341658,
                    4.228200983420645,
                    0.38592066622093957
                  ],
                  "yaxis": "y"
                },
                {
                  "alignmentgroup": "True",
                  "hovertemplate": "REGIAO=Centro-Oeste<br>Sintoma=%{x}<br>Porcentagem=%{text}<extra></extra>",
                  "legendgroup": "Centro-Oeste",
                  "marker": {
                    "color": "#FFA15A",
                    "pattern": {
                      "shape": ""
                    }
                  },
                  "name": "Centro-Oeste",
                  "offsetgroup": "Centro-Oeste",
                  "orientation": "v",
                  "showlegend": true,
                  "text": [
                    1.655158120825601,
                    2.530310024210338,
                    2.001827550799318,
                    0.9373263120213277,
                    3.711623788305559,
                    0.8148615677371341,
                    0.690512750463953,
                    2.7092969581641593,
                    1.1200813919531243,
                    0.9203696551204393,
                    0.8214558231985907,
                    2.0508134485129954,
                    0.3692783058415683
                  ],
                  "textposition": "outside",
                  "texttemplate": "%{text:.2f}%",
                  "type": "bar",
                  "x": [
                    "FEBRE",
                    "TOSSE",
                    "DOR_GARGANTA",
                    "FALTA_AR",
                    "DOR_CABECA",
                    "DOR_PEITO",
                    "NAUSEA",
                    "NARIZ_ENTUPIDO",
                    "FADIGA",
                    "DOR_OLHOS",
                    "PERDA_PALADAR",
                    "DOR_MUSCULAR",
                    "DIARREIA"
                  ],
                  "xaxis": "x",
                  "y": [
                    1.655158120825601,
                    2.530310024210338,
                    2.001827550799318,
                    0.9373263120213277,
                    3.711623788305559,
                    0.8148615677371341,
                    0.690512750463953,
                    2.7092969581641593,
                    1.1200813919531243,
                    0.9203696551204393,
                    0.8214558231985907,
                    2.0508134485129954,
                    0.3692783058415683
                  ],
                  "yaxis": "y"
                }
              ],
              "layout": {
                "barmode": "group",
                "legend": {
                  "title": {
                    "text": "REGIAO"
                  },
                  "tracegroupgap": 0
                },
                "template": {
                  "data": {
                    "bar": [
                      {
                        "error_x": {
                          "color": "#2a3f5f"
                        },
                        "error_y": {
                          "color": "#2a3f5f"
                        },
                        "marker": {
                          "line": {
                            "color": "#E5ECF6",
                            "width": 0.5
                          },
                          "pattern": {
                            "fillmode": "overlay",
                            "size": 10,
                            "solidity": 0.2
                          }
                        },
                        "type": "bar"
                      }
                    ],
                    "barpolar": [
                      {
                        "marker": {
                          "line": {
                            "color": "#E5ECF6",
                            "width": 0.5
                          },
                          "pattern": {
                            "fillmode": "overlay",
                            "size": 10,
                            "solidity": 0.2
                          }
                        },
                        "type": "barpolar"
                      }
                    ],
                    "carpet": [
                      {
                        "aaxis": {
                          "endlinecolor": "#2a3f5f",
                          "gridcolor": "white",
                          "linecolor": "white",
                          "minorgridcolor": "white",
                          "startlinecolor": "#2a3f5f"
                        },
                        "baxis": {
                          "endlinecolor": "#2a3f5f",
                          "gridcolor": "white",
                          "linecolor": "white",
                          "minorgridcolor": "white",
                          "startlinecolor": "#2a3f5f"
                        },
                        "type": "carpet"
                      }
                    ],
                    "choropleth": [
                      {
                        "colorbar": {
                          "outlinewidth": 0,
                          "ticks": ""
                        },
                        "type": "choropleth"
                      }
                    ],
                    "contour": [
                      {
                        "colorbar": {
                          "outlinewidth": 0,
                          "ticks": ""
                        },
                        "colorscale": [
                          [
                            0,
                            "#0d0887"
                          ],
                          [
                            0.1111111111111111,
                            "#46039f"
                          ],
                          [
                            0.2222222222222222,
                            "#7201a8"
                          ],
                          [
                            0.3333333333333333,
                            "#9c179e"
                          ],
                          [
                            0.4444444444444444,
                            "#bd3786"
                          ],
                          [
                            0.5555555555555556,
                            "#d8576b"
                          ],
                          [
                            0.6666666666666666,
                            "#ed7953"
                          ],
                          [
                            0.7777777777777778,
                            "#fb9f3a"
                          ],
                          [
                            0.8888888888888888,
                            "#fdca26"
                          ],
                          [
                            1,
                            "#f0f921"
                          ]
                        ],
                        "type": "contour"
                      }
                    ],
                    "contourcarpet": [
                      {
                        "colorbar": {
                          "outlinewidth": 0,
                          "ticks": ""
                        },
                        "type": "contourcarpet"
                      }
                    ],
                    "heatmap": [
                      {
                        "colorbar": {
                          "outlinewidth": 0,
                          "ticks": ""
                        },
                        "colorscale": [
                          [
                            0,
                            "#0d0887"
                          ],
                          [
                            0.1111111111111111,
                            "#46039f"
                          ],
                          [
                            0.2222222222222222,
                            "#7201a8"
                          ],
                          [
                            0.3333333333333333,
                            "#9c179e"
                          ],
                          [
                            0.4444444444444444,
                            "#bd3786"
                          ],
                          [
                            0.5555555555555556,
                            "#d8576b"
                          ],
                          [
                            0.6666666666666666,
                            "#ed7953"
                          ],
                          [
                            0.7777777777777778,
                            "#fb9f3a"
                          ],
                          [
                            0.8888888888888888,
                            "#fdca26"
                          ],
                          [
                            1,
                            "#f0f921"
                          ]
                        ],
                        "type": "heatmap"
                      }
                    ],
                    "heatmapgl": [
                      {
                        "colorbar": {
                          "outlinewidth": 0,
                          "ticks": ""
                        },
                        "colorscale": [
                          [
                            0,
                            "#0d0887"
                          ],
                          [
                            0.1111111111111111,
                            "#46039f"
                          ],
                          [
                            0.2222222222222222,
                            "#7201a8"
                          ],
                          [
                            0.3333333333333333,
                            "#9c179e"
                          ],
                          [
                            0.4444444444444444,
                            "#bd3786"
                          ],
                          [
                            0.5555555555555556,
                            "#d8576b"
                          ],
                          [
                            0.6666666666666666,
                            "#ed7953"
                          ],
                          [
                            0.7777777777777778,
                            "#fb9f3a"
                          ],
                          [
                            0.8888888888888888,
                            "#fdca26"
                          ],
                          [
                            1,
                            "#f0f921"
                          ]
                        ],
                        "type": "heatmapgl"
                      }
                    ],
                    "histogram": [
                      {
                        "marker": {
                          "pattern": {
                            "fillmode": "overlay",
                            "size": 10,
                            "solidity": 0.2
                          }
                        },
                        "type": "histogram"
                      }
                    ],
                    "histogram2d": [
                      {
                        "colorbar": {
                          "outlinewidth": 0,
                          "ticks": ""
                        },
                        "colorscale": [
                          [
                            0,
                            "#0d0887"
                          ],
                          [
                            0.1111111111111111,
                            "#46039f"
                          ],
                          [
                            0.2222222222222222,
                            "#7201a8"
                          ],
                          [
                            0.3333333333333333,
                            "#9c179e"
                          ],
                          [
                            0.4444444444444444,
                            "#bd3786"
                          ],
                          [
                            0.5555555555555556,
                            "#d8576b"
                          ],
                          [
                            0.6666666666666666,
                            "#ed7953"
                          ],
                          [
                            0.7777777777777778,
                            "#fb9f3a"
                          ],
                          [
                            0.8888888888888888,
                            "#fdca26"
                          ],
                          [
                            1,
                            "#f0f921"
                          ]
                        ],
                        "type": "histogram2d"
                      }
                    ],
                    "histogram2dcontour": [
                      {
                        "colorbar": {
                          "outlinewidth": 0,
                          "ticks": ""
                        },
                        "colorscale": [
                          [
                            0,
                            "#0d0887"
                          ],
                          [
                            0.1111111111111111,
                            "#46039f"
                          ],
                          [
                            0.2222222222222222,
                            "#7201a8"
                          ],
                          [
                            0.3333333333333333,
                            "#9c179e"
                          ],
                          [
                            0.4444444444444444,
                            "#bd3786"
                          ],
                          [
                            0.5555555555555556,
                            "#d8576b"
                          ],
                          [
                            0.6666666666666666,
                            "#ed7953"
                          ],
                          [
                            0.7777777777777778,
                            "#fb9f3a"
                          ],
                          [
                            0.8888888888888888,
                            "#fdca26"
                          ],
                          [
                            1,
                            "#f0f921"
                          ]
                        ],
                        "type": "histogram2dcontour"
                      }
                    ],
                    "mesh3d": [
                      {
                        "colorbar": {
                          "outlinewidth": 0,
                          "ticks": ""
                        },
                        "type": "mesh3d"
                      }
                    ],
                    "parcoords": [
                      {
                        "line": {
                          "colorbar": {
                            "outlinewidth": 0,
                            "ticks": ""
                          }
                        },
                        "type": "parcoords"
                      }
                    ],
                    "pie": [
                      {
                        "automargin": true,
                        "type": "pie"
                      }
                    ],
                    "scatter": [
                      {
                        "fillpattern": {
                          "fillmode": "overlay",
                          "size": 10,
                          "solidity": 0.2
                        },
                        "type": "scatter"
                      }
                    ],
                    "scatter3d": [
                      {
                        "line": {
                          "colorbar": {
                            "outlinewidth": 0,
                            "ticks": ""
                          }
                        },
                        "marker": {
                          "colorbar": {
                            "outlinewidth": 0,
                            "ticks": ""
                          }
                        },
                        "type": "scatter3d"
                      }
                    ],
                    "scattercarpet": [
                      {
                        "marker": {
                          "colorbar": {
                            "outlinewidth": 0,
                            "ticks": ""
                          }
                        },
                        "type": "scattercarpet"
                      }
                    ],
                    "scattergeo": [
                      {
                        "marker": {
                          "colorbar": {
                            "outlinewidth": 0,
                            "ticks": ""
                          }
                        },
                        "type": "scattergeo"
                      }
                    ],
                    "scattergl": [
                      {
                        "marker": {
                          "colorbar": {
                            "outlinewidth": 0,
                            "ticks": ""
                          }
                        },
                        "type": "scattergl"
                      }
                    ],
                    "scattermapbox": [
                      {
                        "marker": {
                          "colorbar": {
                            "outlinewidth": 0,
                            "ticks": ""
                          }
                        },
                        "type": "scattermapbox"
                      }
                    ],
                    "scatterpolar": [
                      {
                        "marker": {
                          "colorbar": {
                            "outlinewidth": 0,
                            "ticks": ""
                          }
                        },
                        "type": "scatterpolar"
                      }
                    ],
                    "scatterpolargl": [
                      {
                        "marker": {
                          "colorbar": {
                            "outlinewidth": 0,
                            "ticks": ""
                          }
                        },
                        "type": "scatterpolargl"
                      }
                    ],
                    "scatterternary": [
                      {
                        "marker": {
                          "colorbar": {
                            "outlinewidth": 0,
                            "ticks": ""
                          }
                        },
                        "type": "scatterternary"
                      }
                    ],
                    "surface": [
                      {
                        "colorbar": {
                          "outlinewidth": 0,
                          "ticks": ""
                        },
                        "colorscale": [
                          [
                            0,
                            "#0d0887"
                          ],
                          [
                            0.1111111111111111,
                            "#46039f"
                          ],
                          [
                            0.2222222222222222,
                            "#7201a8"
                          ],
                          [
                            0.3333333333333333,
                            "#9c179e"
                          ],
                          [
                            0.4444444444444444,
                            "#bd3786"
                          ],
                          [
                            0.5555555555555556,
                            "#d8576b"
                          ],
                          [
                            0.6666666666666666,
                            "#ed7953"
                          ],
                          [
                            0.7777777777777778,
                            "#fb9f3a"
                          ],
                          [
                            0.8888888888888888,
                            "#fdca26"
                          ],
                          [
                            1,
                            "#f0f921"
                          ]
                        ],
                        "type": "surface"
                      }
                    ],
                    "table": [
                      {
                        "cells": {
                          "fill": {
                            "color": "#EBF0F8"
                          },
                          "line": {
                            "color": "white"
                          }
                        },
                        "header": {
                          "fill": {
                            "color": "#C8D4E3"
                          },
                          "line": {
                            "color": "white"
                          }
                        },
                        "type": "table"
                      }
                    ]
                  },
                  "layout": {
                    "annotationdefaults": {
                      "arrowcolor": "#2a3f5f",
                      "arrowhead": 0,
                      "arrowwidth": 1
                    },
                    "autotypenumbers": "strict",
                    "coloraxis": {
                      "colorbar": {
                        "outlinewidth": 0,
                        "ticks": ""
                      }
                    },
                    "colorscale": {
                      "diverging": [
                        [
                          0,
                          "#8e0152"
                        ],
                        [
                          0.1,
                          "#c51b7d"
                        ],
                        [
                          0.2,
                          "#de77ae"
                        ],
                        [
                          0.3,
                          "#f1b6da"
                        ],
                        [
                          0.4,
                          "#fde0ef"
                        ],
                        [
                          0.5,
                          "#f7f7f7"
                        ],
                        [
                          0.6,
                          "#e6f5d0"
                        ],
                        [
                          0.7,
                          "#b8e186"
                        ],
                        [
                          0.8,
                          "#7fbc41"
                        ],
                        [
                          0.9,
                          "#4d9221"
                        ],
                        [
                          1,
                          "#276419"
                        ]
                      ],
                      "sequential": [
                        [
                          0,
                          "#0d0887"
                        ],
                        [
                          0.1111111111111111,
                          "#46039f"
                        ],
                        [
                          0.2222222222222222,
                          "#7201a8"
                        ],
                        [
                          0.3333333333333333,
                          "#9c179e"
                        ],
                        [
                          0.4444444444444444,
                          "#bd3786"
                        ],
                        [
                          0.5555555555555556,
                          "#d8576b"
                        ],
                        [
                          0.6666666666666666,
                          "#ed7953"
                        ],
                        [
                          0.7777777777777778,
                          "#fb9f3a"
                        ],
                        [
                          0.8888888888888888,
                          "#fdca26"
                        ],
                        [
                          1,
                          "#f0f921"
                        ]
                      ],
                      "sequentialminus": [
                        [
                          0,
                          "#0d0887"
                        ],
                        [
                          0.1111111111111111,
                          "#46039f"
                        ],
                        [
                          0.2222222222222222,
                          "#7201a8"
                        ],
                        [
                          0.3333333333333333,
                          "#9c179e"
                        ],
                        [
                          0.4444444444444444,
                          "#bd3786"
                        ],
                        [
                          0.5555555555555556,
                          "#d8576b"
                        ],
                        [
                          0.6666666666666666,
                          "#ed7953"
                        ],
                        [
                          0.7777777777777778,
                          "#fb9f3a"
                        ],
                        [
                          0.8888888888888888,
                          "#fdca26"
                        ],
                        [
                          1,
                          "#f0f921"
                        ]
                      ]
                    },
                    "colorway": [
                      "#636efa",
                      "#EF553B",
                      "#00cc96",
                      "#ab63fa",
                      "#FFA15A",
                      "#19d3f3",
                      "#FF6692",
                      "#B6E880",
                      "#FF97FF",
                      "#FECB52"
                    ],
                    "font": {
                      "color": "#2a3f5f"
                    },
                    "geo": {
                      "bgcolor": "white",
                      "lakecolor": "white",
                      "landcolor": "#E5ECF6",
                      "showlakes": true,
                      "showland": true,
                      "subunitcolor": "white"
                    },
                    "hoverlabel": {
                      "align": "left"
                    },
                    "hovermode": "closest",
                    "mapbox": {
                      "style": "light"
                    },
                    "paper_bgcolor": "white",
                    "plot_bgcolor": "#E5ECF6",
                    "polar": {
                      "angularaxis": {
                        "gridcolor": "white",
                        "linecolor": "white",
                        "ticks": ""
                      },
                      "bgcolor": "#E5ECF6",
                      "radialaxis": {
                        "gridcolor": "white",
                        "linecolor": "white",
                        "ticks": ""
                      }
                    },
                    "scene": {
                      "xaxis": {
                        "backgroundcolor": "#E5ECF6",
                        "gridcolor": "white",
                        "gridwidth": 2,
                        "linecolor": "white",
                        "showbackground": true,
                        "ticks": "",
                        "zerolinecolor": "white"
                      },
                      "yaxis": {
                        "backgroundcolor": "#E5ECF6",
                        "gridcolor": "white",
                        "gridwidth": 2,
                        "linecolor": "white",
                        "showbackground": true,
                        "ticks": "",
                        "zerolinecolor": "white"
                      },
                      "zaxis": {
                        "backgroundcolor": "#E5ECF6",
                        "gridcolor": "white",
                        "gridwidth": 2,
                        "linecolor": "white",
                        "showbackground": true,
                        "ticks": "",
                        "zerolinecolor": "white"
                      }
                    },
                    "shapedefaults": {
                      "line": {
                        "color": "#2a3f5f"
                      }
                    },
                    "ternary": {
                      "aaxis": {
                        "gridcolor": "white",
                        "linecolor": "white",
                        "ticks": ""
                      },
                      "baxis": {
                        "gridcolor": "white",
                        "linecolor": "white",
                        "ticks": ""
                      },
                      "bgcolor": "#E5ECF6",
                      "caxis": {
                        "gridcolor": "white",
                        "linecolor": "white",
                        "ticks": ""
                      }
                    },
                    "title": {
                      "x": 0.05
                    },
                    "xaxis": {
                      "automargin": true,
                      "gridcolor": "white",
                      "linecolor": "white",
                      "ticks": "",
                      "title": {
                        "standoff": 15
                      },
                      "zerolinecolor": "white",
                      "zerolinewidth": 2
                    },
                    "yaxis": {
                      "automargin": true,
                      "gridcolor": "white",
                      "linecolor": "white",
                      "ticks": "",
                      "title": {
                        "standoff": 15
                      },
                      "zerolinecolor": "white",
                      "zerolinewidth": 2
                    }
                  }
                },
                "title": {
                  "text": "Porcentagem de casos positivos para cada sintoma separados por REGIAO"
                },
                "xaxis": {
                  "anchor": "y",
                  "domain": [
                    0,
                    1
                  ],
                  "title": {
                    "text": "Sintoma"
                  }
                },
                "yaxis": {
                  "anchor": "x",
                  "domain": [
                    0,
                    1
                  ],
                  "title": {
                    "text": "Porcentagem"
                  }
                }
              }
            }
          },
          "metadata": {},
          "output_type": "display_data"
        }
      ],
      "source": [
        "plot_mult_bar(df, 'REGIAO', sintomas)"
      ]
    },
    {
      "cell_type": "code",
      "execution_count": 29,
      "metadata": {
        "colab": {
          "base_uri": "https://localhost:8080/",
          "height": 542
        },
        "id": "vFXRLY7z0ALi",
        "outputId": "ab9f0eda-9f30-43c6-bee4-27c920595459"
      },
      "outputs": [
        {
          "data": {
            "application/vnd.plotly.v1+json": {
              "config": {
                "plotlyServerURL": "https://plot.ly"
              },
              "data": [
                {
                  "alignmentgroup": "True",
                  "hovertemplate": "SITU_DOMICILIO=Urbana<br>Sintoma=%{x}<br>Porcentagem=%{text}<extra></extra>",
                  "legendgroup": "Urbana",
                  "marker": {
                    "color": "#636efa",
                    "pattern": {
                      "shape": ""
                    }
                  },
                  "name": "Urbana",
                  "offsetgroup": "Urbana",
                  "orientation": "v",
                  "showlegend": true,
                  "text": [
                    2.3910798686997867,
                    3.4085725719114923,
                    2.642514740491788,
                    1.4253572837758046,
                    4.933832192058744,
                    1.1389426023299352,
                    1.1134773009019194,
                    3.764527114949251,
                    1.818670263523894,
                    1.3267142205518974,
                    1.6573433814002558,
                    2.9273903103128873,
                    0.3282505337918953
                  ],
                  "textposition": "outside",
                  "texttemplate": "%{text:.2f}%",
                  "type": "bar",
                  "x": [
                    "FEBRE",
                    "TOSSE",
                    "DOR_GARGANTA",
                    "FALTA_AR",
                    "DOR_CABECA",
                    "DOR_PEITO",
                    "NAUSEA",
                    "NARIZ_ENTUPIDO",
                    "FADIGA",
                    "DOR_OLHOS",
                    "PERDA_PALADAR",
                    "DOR_MUSCULAR",
                    "DIARREIA"
                  ],
                  "xaxis": "x",
                  "y": [
                    2.3910798686997867,
                    3.4085725719114923,
                    2.642514740491788,
                    1.4253572837758046,
                    4.933832192058744,
                    1.1389426023299352,
                    1.1134773009019194,
                    3.764527114949251,
                    1.818670263523894,
                    1.3267142205518974,
                    1.6573433814002558,
                    2.9273903103128873,
                    0.3282505337918953
                  ],
                  "yaxis": "y"
                },
                {
                  "alignmentgroup": "True",
                  "hovertemplate": "SITU_DOMICILIO=Rural<br>Sintoma=%{x}<br>Porcentagem=%{text}<extra></extra>",
                  "legendgroup": "Rural",
                  "marker": {
                    "color": "#EF553B",
                    "pattern": {
                      "shape": ""
                    }
                  },
                  "name": "Rural",
                  "offsetgroup": "Rural",
                  "orientation": "v",
                  "showlegend": true,
                  "text": [
                    1.8030001456381377,
                    2.5093451138404776,
                    1.8777610563619591,
                    0.8068352832661779,
                    3.6914413321035005,
                    0.7165396378464974,
                    0.6408078062041846,
                    2.732656925093451,
                    1.0010194669644157,
                    0.8330501480654401,
                    1.0160687412010292,
                    2.125831351036458,
                    0.2359337831933589
                  ],
                  "textposition": "outside",
                  "texttemplate": "%{text:.2f}%",
                  "type": "bar",
                  "x": [
                    "FEBRE",
                    "TOSSE",
                    "DOR_GARGANTA",
                    "FALTA_AR",
                    "DOR_CABECA",
                    "DOR_PEITO",
                    "NAUSEA",
                    "NARIZ_ENTUPIDO",
                    "FADIGA",
                    "DOR_OLHOS",
                    "PERDA_PALADAR",
                    "DOR_MUSCULAR",
                    "DIARREIA"
                  ],
                  "xaxis": "x",
                  "y": [
                    1.8030001456381377,
                    2.5093451138404776,
                    1.8777610563619591,
                    0.8068352832661779,
                    3.6914413321035005,
                    0.7165396378464974,
                    0.6408078062041846,
                    2.732656925093451,
                    1.0010194669644157,
                    0.8330501480654401,
                    1.0160687412010292,
                    2.125831351036458,
                    0.2359337831933589
                  ],
                  "yaxis": "y"
                }
              ],
              "layout": {
                "barmode": "group",
                "legend": {
                  "title": {
                    "text": "SITU_DOMICILIO"
                  },
                  "tracegroupgap": 0
                },
                "template": {
                  "data": {
                    "bar": [
                      {
                        "error_x": {
                          "color": "#2a3f5f"
                        },
                        "error_y": {
                          "color": "#2a3f5f"
                        },
                        "marker": {
                          "line": {
                            "color": "#E5ECF6",
                            "width": 0.5
                          },
                          "pattern": {
                            "fillmode": "overlay",
                            "size": 10,
                            "solidity": 0.2
                          }
                        },
                        "type": "bar"
                      }
                    ],
                    "barpolar": [
                      {
                        "marker": {
                          "line": {
                            "color": "#E5ECF6",
                            "width": 0.5
                          },
                          "pattern": {
                            "fillmode": "overlay",
                            "size": 10,
                            "solidity": 0.2
                          }
                        },
                        "type": "barpolar"
                      }
                    ],
                    "carpet": [
                      {
                        "aaxis": {
                          "endlinecolor": "#2a3f5f",
                          "gridcolor": "white",
                          "linecolor": "white",
                          "minorgridcolor": "white",
                          "startlinecolor": "#2a3f5f"
                        },
                        "baxis": {
                          "endlinecolor": "#2a3f5f",
                          "gridcolor": "white",
                          "linecolor": "white",
                          "minorgridcolor": "white",
                          "startlinecolor": "#2a3f5f"
                        },
                        "type": "carpet"
                      }
                    ],
                    "choropleth": [
                      {
                        "colorbar": {
                          "outlinewidth": 0,
                          "ticks": ""
                        },
                        "type": "choropleth"
                      }
                    ],
                    "contour": [
                      {
                        "colorbar": {
                          "outlinewidth": 0,
                          "ticks": ""
                        },
                        "colorscale": [
                          [
                            0,
                            "#0d0887"
                          ],
                          [
                            0.1111111111111111,
                            "#46039f"
                          ],
                          [
                            0.2222222222222222,
                            "#7201a8"
                          ],
                          [
                            0.3333333333333333,
                            "#9c179e"
                          ],
                          [
                            0.4444444444444444,
                            "#bd3786"
                          ],
                          [
                            0.5555555555555556,
                            "#d8576b"
                          ],
                          [
                            0.6666666666666666,
                            "#ed7953"
                          ],
                          [
                            0.7777777777777778,
                            "#fb9f3a"
                          ],
                          [
                            0.8888888888888888,
                            "#fdca26"
                          ],
                          [
                            1,
                            "#f0f921"
                          ]
                        ],
                        "type": "contour"
                      }
                    ],
                    "contourcarpet": [
                      {
                        "colorbar": {
                          "outlinewidth": 0,
                          "ticks": ""
                        },
                        "type": "contourcarpet"
                      }
                    ],
                    "heatmap": [
                      {
                        "colorbar": {
                          "outlinewidth": 0,
                          "ticks": ""
                        },
                        "colorscale": [
                          [
                            0,
                            "#0d0887"
                          ],
                          [
                            0.1111111111111111,
                            "#46039f"
                          ],
                          [
                            0.2222222222222222,
                            "#7201a8"
                          ],
                          [
                            0.3333333333333333,
                            "#9c179e"
                          ],
                          [
                            0.4444444444444444,
                            "#bd3786"
                          ],
                          [
                            0.5555555555555556,
                            "#d8576b"
                          ],
                          [
                            0.6666666666666666,
                            "#ed7953"
                          ],
                          [
                            0.7777777777777778,
                            "#fb9f3a"
                          ],
                          [
                            0.8888888888888888,
                            "#fdca26"
                          ],
                          [
                            1,
                            "#f0f921"
                          ]
                        ],
                        "type": "heatmap"
                      }
                    ],
                    "heatmapgl": [
                      {
                        "colorbar": {
                          "outlinewidth": 0,
                          "ticks": ""
                        },
                        "colorscale": [
                          [
                            0,
                            "#0d0887"
                          ],
                          [
                            0.1111111111111111,
                            "#46039f"
                          ],
                          [
                            0.2222222222222222,
                            "#7201a8"
                          ],
                          [
                            0.3333333333333333,
                            "#9c179e"
                          ],
                          [
                            0.4444444444444444,
                            "#bd3786"
                          ],
                          [
                            0.5555555555555556,
                            "#d8576b"
                          ],
                          [
                            0.6666666666666666,
                            "#ed7953"
                          ],
                          [
                            0.7777777777777778,
                            "#fb9f3a"
                          ],
                          [
                            0.8888888888888888,
                            "#fdca26"
                          ],
                          [
                            1,
                            "#f0f921"
                          ]
                        ],
                        "type": "heatmapgl"
                      }
                    ],
                    "histogram": [
                      {
                        "marker": {
                          "pattern": {
                            "fillmode": "overlay",
                            "size": 10,
                            "solidity": 0.2
                          }
                        },
                        "type": "histogram"
                      }
                    ],
                    "histogram2d": [
                      {
                        "colorbar": {
                          "outlinewidth": 0,
                          "ticks": ""
                        },
                        "colorscale": [
                          [
                            0,
                            "#0d0887"
                          ],
                          [
                            0.1111111111111111,
                            "#46039f"
                          ],
                          [
                            0.2222222222222222,
                            "#7201a8"
                          ],
                          [
                            0.3333333333333333,
                            "#9c179e"
                          ],
                          [
                            0.4444444444444444,
                            "#bd3786"
                          ],
                          [
                            0.5555555555555556,
                            "#d8576b"
                          ],
                          [
                            0.6666666666666666,
                            "#ed7953"
                          ],
                          [
                            0.7777777777777778,
                            "#fb9f3a"
                          ],
                          [
                            0.8888888888888888,
                            "#fdca26"
                          ],
                          [
                            1,
                            "#f0f921"
                          ]
                        ],
                        "type": "histogram2d"
                      }
                    ],
                    "histogram2dcontour": [
                      {
                        "colorbar": {
                          "outlinewidth": 0,
                          "ticks": ""
                        },
                        "colorscale": [
                          [
                            0,
                            "#0d0887"
                          ],
                          [
                            0.1111111111111111,
                            "#46039f"
                          ],
                          [
                            0.2222222222222222,
                            "#7201a8"
                          ],
                          [
                            0.3333333333333333,
                            "#9c179e"
                          ],
                          [
                            0.4444444444444444,
                            "#bd3786"
                          ],
                          [
                            0.5555555555555556,
                            "#d8576b"
                          ],
                          [
                            0.6666666666666666,
                            "#ed7953"
                          ],
                          [
                            0.7777777777777778,
                            "#fb9f3a"
                          ],
                          [
                            0.8888888888888888,
                            "#fdca26"
                          ],
                          [
                            1,
                            "#f0f921"
                          ]
                        ],
                        "type": "histogram2dcontour"
                      }
                    ],
                    "mesh3d": [
                      {
                        "colorbar": {
                          "outlinewidth": 0,
                          "ticks": ""
                        },
                        "type": "mesh3d"
                      }
                    ],
                    "parcoords": [
                      {
                        "line": {
                          "colorbar": {
                            "outlinewidth": 0,
                            "ticks": ""
                          }
                        },
                        "type": "parcoords"
                      }
                    ],
                    "pie": [
                      {
                        "automargin": true,
                        "type": "pie"
                      }
                    ],
                    "scatter": [
                      {
                        "fillpattern": {
                          "fillmode": "overlay",
                          "size": 10,
                          "solidity": 0.2
                        },
                        "type": "scatter"
                      }
                    ],
                    "scatter3d": [
                      {
                        "line": {
                          "colorbar": {
                            "outlinewidth": 0,
                            "ticks": ""
                          }
                        },
                        "marker": {
                          "colorbar": {
                            "outlinewidth": 0,
                            "ticks": ""
                          }
                        },
                        "type": "scatter3d"
                      }
                    ],
                    "scattercarpet": [
                      {
                        "marker": {
                          "colorbar": {
                            "outlinewidth": 0,
                            "ticks": ""
                          }
                        },
                        "type": "scattercarpet"
                      }
                    ],
                    "scattergeo": [
                      {
                        "marker": {
                          "colorbar": {
                            "outlinewidth": 0,
                            "ticks": ""
                          }
                        },
                        "type": "scattergeo"
                      }
                    ],
                    "scattergl": [
                      {
                        "marker": {
                          "colorbar": {
                            "outlinewidth": 0,
                            "ticks": ""
                          }
                        },
                        "type": "scattergl"
                      }
                    ],
                    "scattermapbox": [
                      {
                        "marker": {
                          "colorbar": {
                            "outlinewidth": 0,
                            "ticks": ""
                          }
                        },
                        "type": "scattermapbox"
                      }
                    ],
                    "scatterpolar": [
                      {
                        "marker": {
                          "colorbar": {
                            "outlinewidth": 0,
                            "ticks": ""
                          }
                        },
                        "type": "scatterpolar"
                      }
                    ],
                    "scatterpolargl": [
                      {
                        "marker": {
                          "colorbar": {
                            "outlinewidth": 0,
                            "ticks": ""
                          }
                        },
                        "type": "scatterpolargl"
                      }
                    ],
                    "scatterternary": [
                      {
                        "marker": {
                          "colorbar": {
                            "outlinewidth": 0,
                            "ticks": ""
                          }
                        },
                        "type": "scatterternary"
                      }
                    ],
                    "surface": [
                      {
                        "colorbar": {
                          "outlinewidth": 0,
                          "ticks": ""
                        },
                        "colorscale": [
                          [
                            0,
                            "#0d0887"
                          ],
                          [
                            0.1111111111111111,
                            "#46039f"
                          ],
                          [
                            0.2222222222222222,
                            "#7201a8"
                          ],
                          [
                            0.3333333333333333,
                            "#9c179e"
                          ],
                          [
                            0.4444444444444444,
                            "#bd3786"
                          ],
                          [
                            0.5555555555555556,
                            "#d8576b"
                          ],
                          [
                            0.6666666666666666,
                            "#ed7953"
                          ],
                          [
                            0.7777777777777778,
                            "#fb9f3a"
                          ],
                          [
                            0.8888888888888888,
                            "#fdca26"
                          ],
                          [
                            1,
                            "#f0f921"
                          ]
                        ],
                        "type": "surface"
                      }
                    ],
                    "table": [
                      {
                        "cells": {
                          "fill": {
                            "color": "#EBF0F8"
                          },
                          "line": {
                            "color": "white"
                          }
                        },
                        "header": {
                          "fill": {
                            "color": "#C8D4E3"
                          },
                          "line": {
                            "color": "white"
                          }
                        },
                        "type": "table"
                      }
                    ]
                  },
                  "layout": {
                    "annotationdefaults": {
                      "arrowcolor": "#2a3f5f",
                      "arrowhead": 0,
                      "arrowwidth": 1
                    },
                    "autotypenumbers": "strict",
                    "coloraxis": {
                      "colorbar": {
                        "outlinewidth": 0,
                        "ticks": ""
                      }
                    },
                    "colorscale": {
                      "diverging": [
                        [
                          0,
                          "#8e0152"
                        ],
                        [
                          0.1,
                          "#c51b7d"
                        ],
                        [
                          0.2,
                          "#de77ae"
                        ],
                        [
                          0.3,
                          "#f1b6da"
                        ],
                        [
                          0.4,
                          "#fde0ef"
                        ],
                        [
                          0.5,
                          "#f7f7f7"
                        ],
                        [
                          0.6,
                          "#e6f5d0"
                        ],
                        [
                          0.7,
                          "#b8e186"
                        ],
                        [
                          0.8,
                          "#7fbc41"
                        ],
                        [
                          0.9,
                          "#4d9221"
                        ],
                        [
                          1,
                          "#276419"
                        ]
                      ],
                      "sequential": [
                        [
                          0,
                          "#0d0887"
                        ],
                        [
                          0.1111111111111111,
                          "#46039f"
                        ],
                        [
                          0.2222222222222222,
                          "#7201a8"
                        ],
                        [
                          0.3333333333333333,
                          "#9c179e"
                        ],
                        [
                          0.4444444444444444,
                          "#bd3786"
                        ],
                        [
                          0.5555555555555556,
                          "#d8576b"
                        ],
                        [
                          0.6666666666666666,
                          "#ed7953"
                        ],
                        [
                          0.7777777777777778,
                          "#fb9f3a"
                        ],
                        [
                          0.8888888888888888,
                          "#fdca26"
                        ],
                        [
                          1,
                          "#f0f921"
                        ]
                      ],
                      "sequentialminus": [
                        [
                          0,
                          "#0d0887"
                        ],
                        [
                          0.1111111111111111,
                          "#46039f"
                        ],
                        [
                          0.2222222222222222,
                          "#7201a8"
                        ],
                        [
                          0.3333333333333333,
                          "#9c179e"
                        ],
                        [
                          0.4444444444444444,
                          "#bd3786"
                        ],
                        [
                          0.5555555555555556,
                          "#d8576b"
                        ],
                        [
                          0.6666666666666666,
                          "#ed7953"
                        ],
                        [
                          0.7777777777777778,
                          "#fb9f3a"
                        ],
                        [
                          0.8888888888888888,
                          "#fdca26"
                        ],
                        [
                          1,
                          "#f0f921"
                        ]
                      ]
                    },
                    "colorway": [
                      "#636efa",
                      "#EF553B",
                      "#00cc96",
                      "#ab63fa",
                      "#FFA15A",
                      "#19d3f3",
                      "#FF6692",
                      "#B6E880",
                      "#FF97FF",
                      "#FECB52"
                    ],
                    "font": {
                      "color": "#2a3f5f"
                    },
                    "geo": {
                      "bgcolor": "white",
                      "lakecolor": "white",
                      "landcolor": "#E5ECF6",
                      "showlakes": true,
                      "showland": true,
                      "subunitcolor": "white"
                    },
                    "hoverlabel": {
                      "align": "left"
                    },
                    "hovermode": "closest",
                    "mapbox": {
                      "style": "light"
                    },
                    "paper_bgcolor": "white",
                    "plot_bgcolor": "#E5ECF6",
                    "polar": {
                      "angularaxis": {
                        "gridcolor": "white",
                        "linecolor": "white",
                        "ticks": ""
                      },
                      "bgcolor": "#E5ECF6",
                      "radialaxis": {
                        "gridcolor": "white",
                        "linecolor": "white",
                        "ticks": ""
                      }
                    },
                    "scene": {
                      "xaxis": {
                        "backgroundcolor": "#E5ECF6",
                        "gridcolor": "white",
                        "gridwidth": 2,
                        "linecolor": "white",
                        "showbackground": true,
                        "ticks": "",
                        "zerolinecolor": "white"
                      },
                      "yaxis": {
                        "backgroundcolor": "#E5ECF6",
                        "gridcolor": "white",
                        "gridwidth": 2,
                        "linecolor": "white",
                        "showbackground": true,
                        "ticks": "",
                        "zerolinecolor": "white"
                      },
                      "zaxis": {
                        "backgroundcolor": "#E5ECF6",
                        "gridcolor": "white",
                        "gridwidth": 2,
                        "linecolor": "white",
                        "showbackground": true,
                        "ticks": "",
                        "zerolinecolor": "white"
                      }
                    },
                    "shapedefaults": {
                      "line": {
                        "color": "#2a3f5f"
                      }
                    },
                    "ternary": {
                      "aaxis": {
                        "gridcolor": "white",
                        "linecolor": "white",
                        "ticks": ""
                      },
                      "baxis": {
                        "gridcolor": "white",
                        "linecolor": "white",
                        "ticks": ""
                      },
                      "bgcolor": "#E5ECF6",
                      "caxis": {
                        "gridcolor": "white",
                        "linecolor": "white",
                        "ticks": ""
                      }
                    },
                    "title": {
                      "x": 0.05
                    },
                    "xaxis": {
                      "automargin": true,
                      "gridcolor": "white",
                      "linecolor": "white",
                      "ticks": "",
                      "title": {
                        "standoff": 15
                      },
                      "zerolinecolor": "white",
                      "zerolinewidth": 2
                    },
                    "yaxis": {
                      "automargin": true,
                      "gridcolor": "white",
                      "linecolor": "white",
                      "ticks": "",
                      "title": {
                        "standoff": 15
                      },
                      "zerolinecolor": "white",
                      "zerolinewidth": 2
                    }
                  }
                },
                "title": {
                  "text": "Porcentagem de casos positivos para cada sintoma separados por SITU_DOMICILIO"
                },
                "xaxis": {
                  "anchor": "y",
                  "domain": [
                    0,
                    1
                  ],
                  "title": {
                    "text": "Sintoma"
                  }
                },
                "yaxis": {
                  "anchor": "x",
                  "domain": [
                    0,
                    1
                  ],
                  "title": {
                    "text": "Porcentagem"
                  }
                }
              }
            }
          },
          "metadata": {},
          "output_type": "display_data"
        }
      ],
      "source": [
        "plot_mult_bar(df, 'SITU_DOMICILIO', sintomas)"
      ]
    },
    {
      "cell_type": "code",
      "execution_count": 30,
      "metadata": {
        "colab": {
          "base_uri": "https://localhost:8080/",
          "height": 542
        },
        "id": "QNLvSILn0EiZ",
        "outputId": "de1e7f1e-1682-4c9f-ce03-99bf87bd5367"
      },
      "outputs": [
        {
          "data": {
            "application/vnd.plotly.v1+json": {
              "config": {
                "plotlyServerURL": "https://plot.ly"
              },
              "data": [
                {
                  "alignmentgroup": "True",
                  "hovertemplate": "MEDIDA_RESTRICAO=Ignorado<br>Sintoma=%{x}<br>Porcentagem=%{text}<extra></extra>",
                  "legendgroup": "Ignorado",
                  "marker": {
                    "color": "#636efa",
                    "pattern": {
                      "shape": ""
                    }
                  },
                  "name": "Ignorado",
                  "offsetgroup": "Ignorado",
                  "orientation": "v",
                  "showlegend": true,
                  "text": [
                    2.1679509377602137,
                    2.970565299567798,
                    2.3229225868700354,
                    1.2384514730567415,
                    4.48723879512021,
                    1.0028549148151575,
                    0.9569251510064896,
                    3.3254470717297346,
                    1.5146909158196644,
                    1.2004520281790667,
                    1.4591786833027134,
                    2.611718367940364,
                    0.004626019376412588
                  ],
                  "textposition": "outside",
                  "texttemplate": "%{text:.2f}%",
                  "type": "bar",
                  "x": [
                    "FEBRE",
                    "TOSSE",
                    "DOR_GARGANTA",
                    "FALTA_AR",
                    "DOR_CABECA",
                    "DOR_PEITO",
                    "NAUSEA",
                    "NARIZ_ENTUPIDO",
                    "FADIGA",
                    "DOR_OLHOS",
                    "PERDA_PALADAR",
                    "DOR_MUSCULAR",
                    "DIARREIA"
                  ],
                  "xaxis": "x",
                  "y": [
                    2.1679509377602137,
                    2.970565299567798,
                    2.3229225868700354,
                    1.2384514730567415,
                    4.48723879512021,
                    1.0028549148151575,
                    0.9569251510064896,
                    3.3254470717297346,
                    1.5146909158196644,
                    1.2004520281790667,
                    1.4591786833027134,
                    2.611718367940364,
                    0.004626019376412588
                  ],
                  "yaxis": "y"
                },
                {
                  "alignmentgroup": "True",
                  "hovertemplate": "MEDIDA_RESTRICAO=Não aplicável<br>Sintoma=%{x}<br>Porcentagem=%{text}<extra></extra>",
                  "legendgroup": "Não aplicável",
                  "marker": {
                    "color": "#EF553B",
                    "pattern": {
                      "shape": ""
                    }
                  },
                  "name": "Não aplicável",
                  "offsetgroup": "Não aplicável",
                  "orientation": "v",
                  "showlegend": true,
                  "text": [
                    2.9762135733964534,
                    4.263072304669449,
                    3.1691718316218727,
                    1.7909489524871154,
                    6.264970139092214,
                    1.4717035709624278,
                    1.3567046821480098,
                    4.722362345271818,
                    2.098200584871649,
                    1.7080509804889923,
                    2.1673410210913606,
                    3.7501631502640387,
                    0
                  ],
                  "textposition": "outside",
                  "texttemplate": "%{text:.2f}%",
                  "type": "bar",
                  "x": [
                    "FEBRE",
                    "TOSSE",
                    "DOR_GARGANTA",
                    "FALTA_AR",
                    "DOR_CABECA",
                    "DOR_PEITO",
                    "NAUSEA",
                    "NARIZ_ENTUPIDO",
                    "FADIGA",
                    "DOR_OLHOS",
                    "PERDA_PALADAR",
                    "DOR_MUSCULAR",
                    "DIARREIA"
                  ],
                  "xaxis": "x",
                  "y": [
                    2.9762135733964534,
                    4.263072304669449,
                    3.1691718316218727,
                    1.7909489524871154,
                    6.264970139092214,
                    1.4717035709624278,
                    1.3567046821480098,
                    4.722362345271818,
                    2.098200584871649,
                    1.7080509804889923,
                    2.1673410210913606,
                    3.7501631502640387,
                    0
                  ],
                  "yaxis": "y"
                },
                {
                  "alignmentgroup": "True",
                  "hovertemplate": "MEDIDA_RESTRICAO=Ficou rigorosamente em casa<br>Sintoma=%{x}<br>Porcentagem=%{text}<extra></extra>",
                  "legendgroup": "Ficou rigorosamente em casa",
                  "marker": {
                    "color": "#00cc96",
                    "pattern": {
                      "shape": ""
                    }
                  },
                  "name": "Ficou rigorosamente em casa",
                  "offsetgroup": "Ficou rigorosamente em casa",
                  "orientation": "v",
                  "showlegend": true,
                  "text": [
                    2.606014697869739,
                    3.2558572206939624,
                    2.4066765006843944,
                    1.3236056293106886,
                    3.347552791399221,
                    1.0139669630161199,
                    1.0538346024531888,
                    3.1801087057635318,
                    1.829924650161464,
                    1.0897154779465508,
                    1.5109835346649125,
                    2.388071602280429,
                    1.2212786880888782
                  ],
                  "textposition": "outside",
                  "texttemplate": "%{text:.2f}%",
                  "type": "bar",
                  "x": [
                    "FEBRE",
                    "TOSSE",
                    "DOR_GARGANTA",
                    "FALTA_AR",
                    "DOR_CABECA",
                    "DOR_PEITO",
                    "NAUSEA",
                    "NARIZ_ENTUPIDO",
                    "FADIGA",
                    "DOR_OLHOS",
                    "PERDA_PALADAR",
                    "DOR_MUSCULAR",
                    "DIARREIA"
                  ],
                  "xaxis": "x",
                  "y": [
                    2.606014697869739,
                    3.2558572206939624,
                    2.4066765006843944,
                    1.3236056293106886,
                    3.347552791399221,
                    1.0139669630161199,
                    1.0538346024531888,
                    3.1801087057635318,
                    1.829924650161464,
                    1.0897154779465508,
                    1.5109835346649125,
                    2.388071602280429,
                    1.2212786880888782
                  ],
                  "yaxis": "y"
                },
                {
                  "alignmentgroup": "True",
                  "hovertemplate": "MEDIDA_RESTRICAO=Ficou em casa e só saiu em caso de necessidade básica<br>Sintoma=%{x}<br>Porcentagem=%{text}<extra></extra>",
                  "legendgroup": "Ficou em casa e só saiu em caso de necessidade básica",
                  "marker": {
                    "color": "#ab63fa",
                    "pattern": {
                      "shape": ""
                    }
                  },
                  "name": "Ficou em casa e só saiu em caso de necessidade básica",
                  "offsetgroup": "Ficou em casa e só saiu em caso de necessidade básica",
                  "orientation": "v",
                  "showlegend": true,
                  "text": [
                    1.5640130089553437,
                    2.4194787068510712,
                    1.946668625578491,
                    0.8394382375136067,
                    3.5053391477397944,
                    0.6711499035013323,
                    0.7399344209746032,
                    2.645866584748536,
                    1.2688406135846084,
                    0.7940270997642628,
                    0.9022124573435821,
                    2.024802494941333,
                    0.8033764516538335
                  ],
                  "textposition": "outside",
                  "texttemplate": "%{text:.2f}%",
                  "type": "bar",
                  "x": [
                    "FEBRE",
                    "TOSSE",
                    "DOR_GARGANTA",
                    "FALTA_AR",
                    "DOR_CABECA",
                    "DOR_PEITO",
                    "NAUSEA",
                    "NARIZ_ENTUPIDO",
                    "FADIGA",
                    "DOR_OLHOS",
                    "PERDA_PALADAR",
                    "DOR_MUSCULAR",
                    "DIARREIA"
                  ],
                  "xaxis": "x",
                  "y": [
                    1.5640130089553437,
                    2.4194787068510712,
                    1.946668625578491,
                    0.8394382375136067,
                    3.5053391477397944,
                    0.6711499035013323,
                    0.7399344209746032,
                    2.645866584748536,
                    1.2688406135846084,
                    0.7940270997642628,
                    0.9022124573435821,
                    2.024802494941333,
                    0.8033764516538335
                  ],
                  "yaxis": "y"
                },
                {
                  "alignmentgroup": "True",
                  "hovertemplate": "MEDIDA_RESTRICAO=Não fez restrição, levou vida normal como antes da pandemia<br>Sintoma=%{x}<br>Porcentagem=%{text}<extra></extra>",
                  "legendgroup": "Não fez restrição, levou vida normal como antes da pandemia",
                  "marker": {
                    "color": "#FFA15A",
                    "pattern": {
                      "shape": ""
                    }
                  },
                  "name": "Não fez restrição, levou vida normal como antes da pandemia",
                  "offsetgroup": "Não fez restrição, levou vida normal como antes da pandemia",
                  "orientation": "v",
                  "showlegend": true,
                  "text": [
                    1.8881217415809497,
                    2.550373397210089,
                    1.789488516274482,
                    0.9017894885162745,
                    3.226715513597295,
                    0.7890658024517402,
                    0.7045230379033395,
                    2.5785543187262223,
                    1.3245033112582782,
                    0.8172467239678738,
                    1.2540510074679443,
                    1.8881217415809497,
                    0.7186134986614062
                  ],
                  "textposition": "outside",
                  "texttemplate": "%{text:.2f}%",
                  "type": "bar",
                  "x": [
                    "FEBRE",
                    "TOSSE",
                    "DOR_GARGANTA",
                    "FALTA_AR",
                    "DOR_CABECA",
                    "DOR_PEITO",
                    "NAUSEA",
                    "NARIZ_ENTUPIDO",
                    "FADIGA",
                    "DOR_OLHOS",
                    "PERDA_PALADAR",
                    "DOR_MUSCULAR",
                    "DIARREIA"
                  ],
                  "xaxis": "x",
                  "y": [
                    1.8881217415809497,
                    2.550373397210089,
                    1.789488516274482,
                    0.9017894885162745,
                    3.226715513597295,
                    0.7890658024517402,
                    0.7045230379033395,
                    2.5785543187262223,
                    1.3245033112582782,
                    0.8172467239678738,
                    1.2540510074679443,
                    1.8881217415809497,
                    0.7186134986614062
                  ],
                  "yaxis": "y"
                },
                {
                  "alignmentgroup": "True",
                  "hovertemplate": "MEDIDA_RESTRICAO=Reduziu o contato com as pessoas, mas continuou saindo de casa para trabalho ou atividades não essenciais e/ou recebendo visitas<br>Sintoma=%{x}<br>Porcentagem=%{text}<extra></extra>",
                  "legendgroup": "Reduziu o contato com as pessoas, mas continuou saindo de casa para trabalho ou atividades não essenciais e/ou recebendo visitas",
                  "marker": {
                    "color": "#19d3f3",
                    "pattern": {
                      "shape": ""
                    }
                  },
                  "name": "Reduziu o contato com as pessoas, mas continuou saindo de casa para trabalho ou atividades não essenciais e/ou recebendo visitas",
                  "offsetgroup": "Reduziu o contato com as pessoas, mas continuou saindo de casa para trabalho ou atividades não essenciais e/ou recebendo visitas",
                  "orientation": "v",
                  "showlegend": true,
                  "text": [
                    1.3348685622841086,
                    2.147694229230499,
                    1.841298959817334,
                    0.6898772467360123,
                    3.4435315470033765,
                    0.5708319509767569,
                    0.5708319509767569,
                    2.4833629320270876,
                    1.1289787474873636,
                    0.6401124099841923,
                    0.7816006713374056,
                    1.7593333463437482,
                    0.6293788177436038
                  ],
                  "textposition": "outside",
                  "texttemplate": "%{text:.2f}%",
                  "type": "bar",
                  "x": [
                    "FEBRE",
                    "TOSSE",
                    "DOR_GARGANTA",
                    "FALTA_AR",
                    "DOR_CABECA",
                    "DOR_PEITO",
                    "NAUSEA",
                    "NARIZ_ENTUPIDO",
                    "FADIGA",
                    "DOR_OLHOS",
                    "PERDA_PALADAR",
                    "DOR_MUSCULAR",
                    "DIARREIA"
                  ],
                  "xaxis": "x",
                  "y": [
                    1.3348685622841086,
                    2.147694229230499,
                    1.841298959817334,
                    0.6898772467360123,
                    3.4435315470033765,
                    0.5708319509767569,
                    0.5708319509767569,
                    2.4833629320270876,
                    1.1289787474873636,
                    0.6401124099841923,
                    0.7816006713374056,
                    1.7593333463437482,
                    0.6293788177436038
                  ],
                  "yaxis": "y"
                }
              ],
              "layout": {
                "barmode": "group",
                "legend": {
                  "title": {
                    "text": "MEDIDA_RESTRICAO"
                  },
                  "tracegroupgap": 0
                },
                "template": {
                  "data": {
                    "bar": [
                      {
                        "error_x": {
                          "color": "#2a3f5f"
                        },
                        "error_y": {
                          "color": "#2a3f5f"
                        },
                        "marker": {
                          "line": {
                            "color": "#E5ECF6",
                            "width": 0.5
                          },
                          "pattern": {
                            "fillmode": "overlay",
                            "size": 10,
                            "solidity": 0.2
                          }
                        },
                        "type": "bar"
                      }
                    ],
                    "barpolar": [
                      {
                        "marker": {
                          "line": {
                            "color": "#E5ECF6",
                            "width": 0.5
                          },
                          "pattern": {
                            "fillmode": "overlay",
                            "size": 10,
                            "solidity": 0.2
                          }
                        },
                        "type": "barpolar"
                      }
                    ],
                    "carpet": [
                      {
                        "aaxis": {
                          "endlinecolor": "#2a3f5f",
                          "gridcolor": "white",
                          "linecolor": "white",
                          "minorgridcolor": "white",
                          "startlinecolor": "#2a3f5f"
                        },
                        "baxis": {
                          "endlinecolor": "#2a3f5f",
                          "gridcolor": "white",
                          "linecolor": "white",
                          "minorgridcolor": "white",
                          "startlinecolor": "#2a3f5f"
                        },
                        "type": "carpet"
                      }
                    ],
                    "choropleth": [
                      {
                        "colorbar": {
                          "outlinewidth": 0,
                          "ticks": ""
                        },
                        "type": "choropleth"
                      }
                    ],
                    "contour": [
                      {
                        "colorbar": {
                          "outlinewidth": 0,
                          "ticks": ""
                        },
                        "colorscale": [
                          [
                            0,
                            "#0d0887"
                          ],
                          [
                            0.1111111111111111,
                            "#46039f"
                          ],
                          [
                            0.2222222222222222,
                            "#7201a8"
                          ],
                          [
                            0.3333333333333333,
                            "#9c179e"
                          ],
                          [
                            0.4444444444444444,
                            "#bd3786"
                          ],
                          [
                            0.5555555555555556,
                            "#d8576b"
                          ],
                          [
                            0.6666666666666666,
                            "#ed7953"
                          ],
                          [
                            0.7777777777777778,
                            "#fb9f3a"
                          ],
                          [
                            0.8888888888888888,
                            "#fdca26"
                          ],
                          [
                            1,
                            "#f0f921"
                          ]
                        ],
                        "type": "contour"
                      }
                    ],
                    "contourcarpet": [
                      {
                        "colorbar": {
                          "outlinewidth": 0,
                          "ticks": ""
                        },
                        "type": "contourcarpet"
                      }
                    ],
                    "heatmap": [
                      {
                        "colorbar": {
                          "outlinewidth": 0,
                          "ticks": ""
                        },
                        "colorscale": [
                          [
                            0,
                            "#0d0887"
                          ],
                          [
                            0.1111111111111111,
                            "#46039f"
                          ],
                          [
                            0.2222222222222222,
                            "#7201a8"
                          ],
                          [
                            0.3333333333333333,
                            "#9c179e"
                          ],
                          [
                            0.4444444444444444,
                            "#bd3786"
                          ],
                          [
                            0.5555555555555556,
                            "#d8576b"
                          ],
                          [
                            0.6666666666666666,
                            "#ed7953"
                          ],
                          [
                            0.7777777777777778,
                            "#fb9f3a"
                          ],
                          [
                            0.8888888888888888,
                            "#fdca26"
                          ],
                          [
                            1,
                            "#f0f921"
                          ]
                        ],
                        "type": "heatmap"
                      }
                    ],
                    "heatmapgl": [
                      {
                        "colorbar": {
                          "outlinewidth": 0,
                          "ticks": ""
                        },
                        "colorscale": [
                          [
                            0,
                            "#0d0887"
                          ],
                          [
                            0.1111111111111111,
                            "#46039f"
                          ],
                          [
                            0.2222222222222222,
                            "#7201a8"
                          ],
                          [
                            0.3333333333333333,
                            "#9c179e"
                          ],
                          [
                            0.4444444444444444,
                            "#bd3786"
                          ],
                          [
                            0.5555555555555556,
                            "#d8576b"
                          ],
                          [
                            0.6666666666666666,
                            "#ed7953"
                          ],
                          [
                            0.7777777777777778,
                            "#fb9f3a"
                          ],
                          [
                            0.8888888888888888,
                            "#fdca26"
                          ],
                          [
                            1,
                            "#f0f921"
                          ]
                        ],
                        "type": "heatmapgl"
                      }
                    ],
                    "histogram": [
                      {
                        "marker": {
                          "pattern": {
                            "fillmode": "overlay",
                            "size": 10,
                            "solidity": 0.2
                          }
                        },
                        "type": "histogram"
                      }
                    ],
                    "histogram2d": [
                      {
                        "colorbar": {
                          "outlinewidth": 0,
                          "ticks": ""
                        },
                        "colorscale": [
                          [
                            0,
                            "#0d0887"
                          ],
                          [
                            0.1111111111111111,
                            "#46039f"
                          ],
                          [
                            0.2222222222222222,
                            "#7201a8"
                          ],
                          [
                            0.3333333333333333,
                            "#9c179e"
                          ],
                          [
                            0.4444444444444444,
                            "#bd3786"
                          ],
                          [
                            0.5555555555555556,
                            "#d8576b"
                          ],
                          [
                            0.6666666666666666,
                            "#ed7953"
                          ],
                          [
                            0.7777777777777778,
                            "#fb9f3a"
                          ],
                          [
                            0.8888888888888888,
                            "#fdca26"
                          ],
                          [
                            1,
                            "#f0f921"
                          ]
                        ],
                        "type": "histogram2d"
                      }
                    ],
                    "histogram2dcontour": [
                      {
                        "colorbar": {
                          "outlinewidth": 0,
                          "ticks": ""
                        },
                        "colorscale": [
                          [
                            0,
                            "#0d0887"
                          ],
                          [
                            0.1111111111111111,
                            "#46039f"
                          ],
                          [
                            0.2222222222222222,
                            "#7201a8"
                          ],
                          [
                            0.3333333333333333,
                            "#9c179e"
                          ],
                          [
                            0.4444444444444444,
                            "#bd3786"
                          ],
                          [
                            0.5555555555555556,
                            "#d8576b"
                          ],
                          [
                            0.6666666666666666,
                            "#ed7953"
                          ],
                          [
                            0.7777777777777778,
                            "#fb9f3a"
                          ],
                          [
                            0.8888888888888888,
                            "#fdca26"
                          ],
                          [
                            1,
                            "#f0f921"
                          ]
                        ],
                        "type": "histogram2dcontour"
                      }
                    ],
                    "mesh3d": [
                      {
                        "colorbar": {
                          "outlinewidth": 0,
                          "ticks": ""
                        },
                        "type": "mesh3d"
                      }
                    ],
                    "parcoords": [
                      {
                        "line": {
                          "colorbar": {
                            "outlinewidth": 0,
                            "ticks": ""
                          }
                        },
                        "type": "parcoords"
                      }
                    ],
                    "pie": [
                      {
                        "automargin": true,
                        "type": "pie"
                      }
                    ],
                    "scatter": [
                      {
                        "fillpattern": {
                          "fillmode": "overlay",
                          "size": 10,
                          "solidity": 0.2
                        },
                        "type": "scatter"
                      }
                    ],
                    "scatter3d": [
                      {
                        "line": {
                          "colorbar": {
                            "outlinewidth": 0,
                            "ticks": ""
                          }
                        },
                        "marker": {
                          "colorbar": {
                            "outlinewidth": 0,
                            "ticks": ""
                          }
                        },
                        "type": "scatter3d"
                      }
                    ],
                    "scattercarpet": [
                      {
                        "marker": {
                          "colorbar": {
                            "outlinewidth": 0,
                            "ticks": ""
                          }
                        },
                        "type": "scattercarpet"
                      }
                    ],
                    "scattergeo": [
                      {
                        "marker": {
                          "colorbar": {
                            "outlinewidth": 0,
                            "ticks": ""
                          }
                        },
                        "type": "scattergeo"
                      }
                    ],
                    "scattergl": [
                      {
                        "marker": {
                          "colorbar": {
                            "outlinewidth": 0,
                            "ticks": ""
                          }
                        },
                        "type": "scattergl"
                      }
                    ],
                    "scattermapbox": [
                      {
                        "marker": {
                          "colorbar": {
                            "outlinewidth": 0,
                            "ticks": ""
                          }
                        },
                        "type": "scattermapbox"
                      }
                    ],
                    "scatterpolar": [
                      {
                        "marker": {
                          "colorbar": {
                            "outlinewidth": 0,
                            "ticks": ""
                          }
                        },
                        "type": "scatterpolar"
                      }
                    ],
                    "scatterpolargl": [
                      {
                        "marker": {
                          "colorbar": {
                            "outlinewidth": 0,
                            "ticks": ""
                          }
                        },
                        "type": "scatterpolargl"
                      }
                    ],
                    "scatterternary": [
                      {
                        "marker": {
                          "colorbar": {
                            "outlinewidth": 0,
                            "ticks": ""
                          }
                        },
                        "type": "scatterternary"
                      }
                    ],
                    "surface": [
                      {
                        "colorbar": {
                          "outlinewidth": 0,
                          "ticks": ""
                        },
                        "colorscale": [
                          [
                            0,
                            "#0d0887"
                          ],
                          [
                            0.1111111111111111,
                            "#46039f"
                          ],
                          [
                            0.2222222222222222,
                            "#7201a8"
                          ],
                          [
                            0.3333333333333333,
                            "#9c179e"
                          ],
                          [
                            0.4444444444444444,
                            "#bd3786"
                          ],
                          [
                            0.5555555555555556,
                            "#d8576b"
                          ],
                          [
                            0.6666666666666666,
                            "#ed7953"
                          ],
                          [
                            0.7777777777777778,
                            "#fb9f3a"
                          ],
                          [
                            0.8888888888888888,
                            "#fdca26"
                          ],
                          [
                            1,
                            "#f0f921"
                          ]
                        ],
                        "type": "surface"
                      }
                    ],
                    "table": [
                      {
                        "cells": {
                          "fill": {
                            "color": "#EBF0F8"
                          },
                          "line": {
                            "color": "white"
                          }
                        },
                        "header": {
                          "fill": {
                            "color": "#C8D4E3"
                          },
                          "line": {
                            "color": "white"
                          }
                        },
                        "type": "table"
                      }
                    ]
                  },
                  "layout": {
                    "annotationdefaults": {
                      "arrowcolor": "#2a3f5f",
                      "arrowhead": 0,
                      "arrowwidth": 1
                    },
                    "autotypenumbers": "strict",
                    "coloraxis": {
                      "colorbar": {
                        "outlinewidth": 0,
                        "ticks": ""
                      }
                    },
                    "colorscale": {
                      "diverging": [
                        [
                          0,
                          "#8e0152"
                        ],
                        [
                          0.1,
                          "#c51b7d"
                        ],
                        [
                          0.2,
                          "#de77ae"
                        ],
                        [
                          0.3,
                          "#f1b6da"
                        ],
                        [
                          0.4,
                          "#fde0ef"
                        ],
                        [
                          0.5,
                          "#f7f7f7"
                        ],
                        [
                          0.6,
                          "#e6f5d0"
                        ],
                        [
                          0.7,
                          "#b8e186"
                        ],
                        [
                          0.8,
                          "#7fbc41"
                        ],
                        [
                          0.9,
                          "#4d9221"
                        ],
                        [
                          1,
                          "#276419"
                        ]
                      ],
                      "sequential": [
                        [
                          0,
                          "#0d0887"
                        ],
                        [
                          0.1111111111111111,
                          "#46039f"
                        ],
                        [
                          0.2222222222222222,
                          "#7201a8"
                        ],
                        [
                          0.3333333333333333,
                          "#9c179e"
                        ],
                        [
                          0.4444444444444444,
                          "#bd3786"
                        ],
                        [
                          0.5555555555555556,
                          "#d8576b"
                        ],
                        [
                          0.6666666666666666,
                          "#ed7953"
                        ],
                        [
                          0.7777777777777778,
                          "#fb9f3a"
                        ],
                        [
                          0.8888888888888888,
                          "#fdca26"
                        ],
                        [
                          1,
                          "#f0f921"
                        ]
                      ],
                      "sequentialminus": [
                        [
                          0,
                          "#0d0887"
                        ],
                        [
                          0.1111111111111111,
                          "#46039f"
                        ],
                        [
                          0.2222222222222222,
                          "#7201a8"
                        ],
                        [
                          0.3333333333333333,
                          "#9c179e"
                        ],
                        [
                          0.4444444444444444,
                          "#bd3786"
                        ],
                        [
                          0.5555555555555556,
                          "#d8576b"
                        ],
                        [
                          0.6666666666666666,
                          "#ed7953"
                        ],
                        [
                          0.7777777777777778,
                          "#fb9f3a"
                        ],
                        [
                          0.8888888888888888,
                          "#fdca26"
                        ],
                        [
                          1,
                          "#f0f921"
                        ]
                      ]
                    },
                    "colorway": [
                      "#636efa",
                      "#EF553B",
                      "#00cc96",
                      "#ab63fa",
                      "#FFA15A",
                      "#19d3f3",
                      "#FF6692",
                      "#B6E880",
                      "#FF97FF",
                      "#FECB52"
                    ],
                    "font": {
                      "color": "#2a3f5f"
                    },
                    "geo": {
                      "bgcolor": "white",
                      "lakecolor": "white",
                      "landcolor": "#E5ECF6",
                      "showlakes": true,
                      "showland": true,
                      "subunitcolor": "white"
                    },
                    "hoverlabel": {
                      "align": "left"
                    },
                    "hovermode": "closest",
                    "mapbox": {
                      "style": "light"
                    },
                    "paper_bgcolor": "white",
                    "plot_bgcolor": "#E5ECF6",
                    "polar": {
                      "angularaxis": {
                        "gridcolor": "white",
                        "linecolor": "white",
                        "ticks": ""
                      },
                      "bgcolor": "#E5ECF6",
                      "radialaxis": {
                        "gridcolor": "white",
                        "linecolor": "white",
                        "ticks": ""
                      }
                    },
                    "scene": {
                      "xaxis": {
                        "backgroundcolor": "#E5ECF6",
                        "gridcolor": "white",
                        "gridwidth": 2,
                        "linecolor": "white",
                        "showbackground": true,
                        "ticks": "",
                        "zerolinecolor": "white"
                      },
                      "yaxis": {
                        "backgroundcolor": "#E5ECF6",
                        "gridcolor": "white",
                        "gridwidth": 2,
                        "linecolor": "white",
                        "showbackground": true,
                        "ticks": "",
                        "zerolinecolor": "white"
                      },
                      "zaxis": {
                        "backgroundcolor": "#E5ECF6",
                        "gridcolor": "white",
                        "gridwidth": 2,
                        "linecolor": "white",
                        "showbackground": true,
                        "ticks": "",
                        "zerolinecolor": "white"
                      }
                    },
                    "shapedefaults": {
                      "line": {
                        "color": "#2a3f5f"
                      }
                    },
                    "ternary": {
                      "aaxis": {
                        "gridcolor": "white",
                        "linecolor": "white",
                        "ticks": ""
                      },
                      "baxis": {
                        "gridcolor": "white",
                        "linecolor": "white",
                        "ticks": ""
                      },
                      "bgcolor": "#E5ECF6",
                      "caxis": {
                        "gridcolor": "white",
                        "linecolor": "white",
                        "ticks": ""
                      }
                    },
                    "title": {
                      "x": 0.05
                    },
                    "xaxis": {
                      "automargin": true,
                      "gridcolor": "white",
                      "linecolor": "white",
                      "ticks": "",
                      "title": {
                        "standoff": 15
                      },
                      "zerolinecolor": "white",
                      "zerolinewidth": 2
                    },
                    "yaxis": {
                      "automargin": true,
                      "gridcolor": "white",
                      "linecolor": "white",
                      "ticks": "",
                      "title": {
                        "standoff": 15
                      },
                      "zerolinecolor": "white",
                      "zerolinewidth": 2
                    }
                  }
                },
                "title": {
                  "text": "Porcentagem de casos positivos para cada sintoma separados por MEDIDA_RESTRICAO"
                },
                "xaxis": {
                  "anchor": "y",
                  "domain": [
                    0,
                    1
                  ],
                  "title": {
                    "text": "Sintoma"
                  }
                },
                "yaxis": {
                  "anchor": "x",
                  "domain": [
                    0,
                    1
                  ],
                  "title": {
                    "text": "Porcentagem"
                  }
                }
              }
            }
          },
          "metadata": {},
          "output_type": "display_data"
        }
      ],
      "source": [
        "plot_mult_bar(df, 'MEDIDA_RESTRICAO', sintomas)\n"
      ]
    },
    {
      "cell_type": "code",
      "execution_count": 31,
      "metadata": {
        "colab": {
          "base_uri": "https://localhost:8080/",
          "height": 542
        },
        "id": "zydww65T0KbM",
        "outputId": "5d074331-d2ae-4173-bf91-a690799a8346"
      },
      "outputs": [
        {
          "data": {
            "application/vnd.plotly.v1+json": {
              "config": {
                "plotlyServerURL": "https://plot.ly"
              },
              "data": [
                {
                  "alignmentgroup": "True",
                  "hovertemplate": "QUAL_RESULTADO=Não aplicável<br>Sintoma=%{x}<br>Porcentagem=%{text}<extra></extra>",
                  "legendgroup": "Não aplicável",
                  "marker": {
                    "color": "#636efa",
                    "pattern": {
                      "shape": ""
                    }
                  },
                  "name": "Não aplicável",
                  "offsetgroup": "Não aplicável",
                  "orientation": "v",
                  "showlegend": true,
                  "text": [
                    2.19194825363691,
                    3.136564706500823,
                    2.4124135196792356,
                    1.2439366575800952,
                    4.582238582188203,
                    1.011424109240375,
                    0.9767060320742463,
                    3.4888929533255424,
                    1.5781939809587229,
                    1.185124015819177,
                    1.4608972596813603,
                    2.6877486805487867,
                    0.2710638516913837
                  ],
                  "textposition": "outside",
                  "texttemplate": "%{text:.2f}%",
                  "type": "bar",
                  "x": [
                    "FEBRE",
                    "TOSSE",
                    "DOR_GARGANTA",
                    "FALTA_AR",
                    "DOR_CABECA",
                    "DOR_PEITO",
                    "NAUSEA",
                    "NARIZ_ENTUPIDO",
                    "FADIGA",
                    "DOR_OLHOS",
                    "PERDA_PALADAR",
                    "DOR_MUSCULAR",
                    "DIARREIA"
                  ],
                  "xaxis": "x",
                  "y": [
                    2.19194825363691,
                    3.136564706500823,
                    2.4124135196792356,
                    1.2439366575800952,
                    4.582238582188203,
                    1.011424109240375,
                    0.9767060320742463,
                    3.4888929533255424,
                    1.5781939809587229,
                    1.185124015819177,
                    1.4608972596813603,
                    2.6877486805487867,
                    0.2710638516913837
                  ],
                  "yaxis": "y"
                },
                {
                  "alignmentgroup": "True",
                  "hovertemplate": "QUAL_RESULTADO=Negativo<br>Sintoma=%{x}<br>Porcentagem=%{text}<extra></extra>",
                  "legendgroup": "Negativo",
                  "marker": {
                    "color": "#EF553B",
                    "pattern": {
                      "shape": ""
                    }
                  },
                  "name": "Negativo",
                  "offsetgroup": "Negativo",
                  "orientation": "v",
                  "showlegend": true,
                  "text": [
                    4.0548718983256,
                    5.204760944119427,
                    4.639903167238249,
                    2.340125075650595,
                    6.677425862416785,
                    1.775267298769417,
                    1.5331853943917693,
                    4.700423643332661,
                    3.0058503126891267,
                    1.5130119023602986,
                    1.5735323784547106,
                    3.792616501916482,
                    1.5735323784547106
                  ],
                  "textposition": "outside",
                  "texttemplate": "%{text:.2f}%",
                  "type": "bar",
                  "x": [
                    "FEBRE",
                    "TOSSE",
                    "DOR_GARGANTA",
                    "FALTA_AR",
                    "DOR_CABECA",
                    "DOR_PEITO",
                    "NAUSEA",
                    "NARIZ_ENTUPIDO",
                    "FADIGA",
                    "DOR_OLHOS",
                    "PERDA_PALADAR",
                    "DOR_MUSCULAR",
                    "DIARREIA"
                  ],
                  "xaxis": "x",
                  "y": [
                    4.0548718983256,
                    5.204760944119427,
                    4.639903167238249,
                    2.340125075650595,
                    6.677425862416785,
                    1.775267298769417,
                    1.5331853943917693,
                    4.700423643332661,
                    3.0058503126891267,
                    1.5130119023602986,
                    1.5735323784547106,
                    3.792616501916482,
                    1.5735323784547106
                  ],
                  "yaxis": "y"
                },
                {
                  "alignmentgroup": "True",
                  "hovertemplate": "QUAL_RESULTADO=Positivo<br>Sintoma=%{x}<br>Porcentagem=%{text}<extra></extra>",
                  "legendgroup": "Positivo",
                  "marker": {
                    "color": "#00cc96",
                    "pattern": {
                      "shape": ""
                    }
                  },
                  "name": "Positivo",
                  "offsetgroup": "Positivo",
                  "orientation": "v",
                  "showlegend": true,
                  "text": [
                    20.30258662762323,
                    21.864324060517326,
                    16.739873108833578,
                    14.202049780380674,
                    23.670082967301123,
                    10.492923377257199,
                    10.346510492923377,
                    15.519765739385067,
                    18.448023426061493,
                    10.639336261591021,
                    20.497803806734993,
                    20.20497803806735,
                    10.297706198145438
                  ],
                  "textposition": "outside",
                  "texttemplate": "%{text:.2f}%",
                  "type": "bar",
                  "x": [
                    "FEBRE",
                    "TOSSE",
                    "DOR_GARGANTA",
                    "FALTA_AR",
                    "DOR_CABECA",
                    "DOR_PEITO",
                    "NAUSEA",
                    "NARIZ_ENTUPIDO",
                    "FADIGA",
                    "DOR_OLHOS",
                    "PERDA_PALADAR",
                    "DOR_MUSCULAR",
                    "DIARREIA"
                  ],
                  "xaxis": "x",
                  "y": [
                    20.30258662762323,
                    21.864324060517326,
                    16.739873108833578,
                    14.202049780380674,
                    23.670082967301123,
                    10.492923377257199,
                    10.346510492923377,
                    15.519765739385067,
                    18.448023426061493,
                    10.639336261591021,
                    20.497803806734993,
                    20.20497803806735,
                    10.297706198145438
                  ],
                  "yaxis": "y"
                },
                {
                  "alignmentgroup": "True",
                  "hovertemplate": "QUAL_RESULTADO=Ainda não recebeu o resultado<br>Sintoma=%{x}<br>Porcentagem=%{text}<extra></extra>",
                  "legendgroup": "Ainda não recebeu o resultado",
                  "marker": {
                    "color": "#ab63fa",
                    "pattern": {
                      "shape": ""
                    }
                  },
                  "name": "Ainda não recebeu o resultado",
                  "offsetgroup": "Ainda não recebeu o resultado",
                  "orientation": "v",
                  "showlegend": true,
                  "text": [
                    29.432624113475175,
                    31.382978723404253,
                    26.24113475177305,
                    14.00709219858156,
                    35.638297872340424,
                    12.76595744680851,
                    12.588652482269502,
                    21.45390070921986,
                    20.921985815602838,
                    13.652482269503546,
                    16.843971631205672,
                    26.595744680851062,
                    11.702127659574469
                  ],
                  "textposition": "outside",
                  "texttemplate": "%{text:.2f}%",
                  "type": "bar",
                  "x": [
                    "FEBRE",
                    "TOSSE",
                    "DOR_GARGANTA",
                    "FALTA_AR",
                    "DOR_CABECA",
                    "DOR_PEITO",
                    "NAUSEA",
                    "NARIZ_ENTUPIDO",
                    "FADIGA",
                    "DOR_OLHOS",
                    "PERDA_PALADAR",
                    "DOR_MUSCULAR",
                    "DIARREIA"
                  ],
                  "xaxis": "x",
                  "y": [
                    29.432624113475175,
                    31.382978723404253,
                    26.24113475177305,
                    14.00709219858156,
                    35.638297872340424,
                    12.76595744680851,
                    12.588652482269502,
                    21.45390070921986,
                    20.921985815602838,
                    13.652482269503546,
                    16.843971631205672,
                    26.595744680851062,
                    11.702127659574469
                  ],
                  "yaxis": "y"
                },
                {
                  "alignmentgroup": "True",
                  "hovertemplate": "QUAL_RESULTADO=Inconclusivo<br>Sintoma=%{x}<br>Porcentagem=%{text}<extra></extra>",
                  "legendgroup": "Inconclusivo",
                  "marker": {
                    "color": "#FFA15A",
                    "pattern": {
                      "shape": ""
                    }
                  },
                  "name": "Inconclusivo",
                  "offsetgroup": "Inconclusivo",
                  "orientation": "v",
                  "showlegend": true,
                  "text": [
                    12.244897959183673,
                    16.3265306122449,
                    12.244897959183673,
                    10.204081632653061,
                    20.408163265306122,
                    12.244897959183673,
                    2.0408163265306123,
                    12.244897959183673,
                    10.204081632653061,
                    14.285714285714285,
                    12.244897959183673,
                    16.3265306122449,
                    4.081632653061225
                  ],
                  "textposition": "outside",
                  "texttemplate": "%{text:.2f}%",
                  "type": "bar",
                  "x": [
                    "FEBRE",
                    "TOSSE",
                    "DOR_GARGANTA",
                    "FALTA_AR",
                    "DOR_CABECA",
                    "DOR_PEITO",
                    "NAUSEA",
                    "NARIZ_ENTUPIDO",
                    "FADIGA",
                    "DOR_OLHOS",
                    "PERDA_PALADAR",
                    "DOR_MUSCULAR",
                    "DIARREIA"
                  ],
                  "xaxis": "x",
                  "y": [
                    12.244897959183673,
                    16.3265306122449,
                    12.244897959183673,
                    10.204081632653061,
                    20.408163265306122,
                    12.244897959183673,
                    2.0408163265306123,
                    12.244897959183673,
                    10.204081632653061,
                    14.285714285714285,
                    12.244897959183673,
                    16.3265306122449,
                    4.081632653061225
                  ],
                  "yaxis": "y"
                }
              ],
              "layout": {
                "barmode": "group",
                "legend": {
                  "title": {
                    "text": "QUAL_RESULTADO"
                  },
                  "tracegroupgap": 0
                },
                "template": {
                  "data": {
                    "bar": [
                      {
                        "error_x": {
                          "color": "#2a3f5f"
                        },
                        "error_y": {
                          "color": "#2a3f5f"
                        },
                        "marker": {
                          "line": {
                            "color": "#E5ECF6",
                            "width": 0.5
                          },
                          "pattern": {
                            "fillmode": "overlay",
                            "size": 10,
                            "solidity": 0.2
                          }
                        },
                        "type": "bar"
                      }
                    ],
                    "barpolar": [
                      {
                        "marker": {
                          "line": {
                            "color": "#E5ECF6",
                            "width": 0.5
                          },
                          "pattern": {
                            "fillmode": "overlay",
                            "size": 10,
                            "solidity": 0.2
                          }
                        },
                        "type": "barpolar"
                      }
                    ],
                    "carpet": [
                      {
                        "aaxis": {
                          "endlinecolor": "#2a3f5f",
                          "gridcolor": "white",
                          "linecolor": "white",
                          "minorgridcolor": "white",
                          "startlinecolor": "#2a3f5f"
                        },
                        "baxis": {
                          "endlinecolor": "#2a3f5f",
                          "gridcolor": "white",
                          "linecolor": "white",
                          "minorgridcolor": "white",
                          "startlinecolor": "#2a3f5f"
                        },
                        "type": "carpet"
                      }
                    ],
                    "choropleth": [
                      {
                        "colorbar": {
                          "outlinewidth": 0,
                          "ticks": ""
                        },
                        "type": "choropleth"
                      }
                    ],
                    "contour": [
                      {
                        "colorbar": {
                          "outlinewidth": 0,
                          "ticks": ""
                        },
                        "colorscale": [
                          [
                            0,
                            "#0d0887"
                          ],
                          [
                            0.1111111111111111,
                            "#46039f"
                          ],
                          [
                            0.2222222222222222,
                            "#7201a8"
                          ],
                          [
                            0.3333333333333333,
                            "#9c179e"
                          ],
                          [
                            0.4444444444444444,
                            "#bd3786"
                          ],
                          [
                            0.5555555555555556,
                            "#d8576b"
                          ],
                          [
                            0.6666666666666666,
                            "#ed7953"
                          ],
                          [
                            0.7777777777777778,
                            "#fb9f3a"
                          ],
                          [
                            0.8888888888888888,
                            "#fdca26"
                          ],
                          [
                            1,
                            "#f0f921"
                          ]
                        ],
                        "type": "contour"
                      }
                    ],
                    "contourcarpet": [
                      {
                        "colorbar": {
                          "outlinewidth": 0,
                          "ticks": ""
                        },
                        "type": "contourcarpet"
                      }
                    ],
                    "heatmap": [
                      {
                        "colorbar": {
                          "outlinewidth": 0,
                          "ticks": ""
                        },
                        "colorscale": [
                          [
                            0,
                            "#0d0887"
                          ],
                          [
                            0.1111111111111111,
                            "#46039f"
                          ],
                          [
                            0.2222222222222222,
                            "#7201a8"
                          ],
                          [
                            0.3333333333333333,
                            "#9c179e"
                          ],
                          [
                            0.4444444444444444,
                            "#bd3786"
                          ],
                          [
                            0.5555555555555556,
                            "#d8576b"
                          ],
                          [
                            0.6666666666666666,
                            "#ed7953"
                          ],
                          [
                            0.7777777777777778,
                            "#fb9f3a"
                          ],
                          [
                            0.8888888888888888,
                            "#fdca26"
                          ],
                          [
                            1,
                            "#f0f921"
                          ]
                        ],
                        "type": "heatmap"
                      }
                    ],
                    "heatmapgl": [
                      {
                        "colorbar": {
                          "outlinewidth": 0,
                          "ticks": ""
                        },
                        "colorscale": [
                          [
                            0,
                            "#0d0887"
                          ],
                          [
                            0.1111111111111111,
                            "#46039f"
                          ],
                          [
                            0.2222222222222222,
                            "#7201a8"
                          ],
                          [
                            0.3333333333333333,
                            "#9c179e"
                          ],
                          [
                            0.4444444444444444,
                            "#bd3786"
                          ],
                          [
                            0.5555555555555556,
                            "#d8576b"
                          ],
                          [
                            0.6666666666666666,
                            "#ed7953"
                          ],
                          [
                            0.7777777777777778,
                            "#fb9f3a"
                          ],
                          [
                            0.8888888888888888,
                            "#fdca26"
                          ],
                          [
                            1,
                            "#f0f921"
                          ]
                        ],
                        "type": "heatmapgl"
                      }
                    ],
                    "histogram": [
                      {
                        "marker": {
                          "pattern": {
                            "fillmode": "overlay",
                            "size": 10,
                            "solidity": 0.2
                          }
                        },
                        "type": "histogram"
                      }
                    ],
                    "histogram2d": [
                      {
                        "colorbar": {
                          "outlinewidth": 0,
                          "ticks": ""
                        },
                        "colorscale": [
                          [
                            0,
                            "#0d0887"
                          ],
                          [
                            0.1111111111111111,
                            "#46039f"
                          ],
                          [
                            0.2222222222222222,
                            "#7201a8"
                          ],
                          [
                            0.3333333333333333,
                            "#9c179e"
                          ],
                          [
                            0.4444444444444444,
                            "#bd3786"
                          ],
                          [
                            0.5555555555555556,
                            "#d8576b"
                          ],
                          [
                            0.6666666666666666,
                            "#ed7953"
                          ],
                          [
                            0.7777777777777778,
                            "#fb9f3a"
                          ],
                          [
                            0.8888888888888888,
                            "#fdca26"
                          ],
                          [
                            1,
                            "#f0f921"
                          ]
                        ],
                        "type": "histogram2d"
                      }
                    ],
                    "histogram2dcontour": [
                      {
                        "colorbar": {
                          "outlinewidth": 0,
                          "ticks": ""
                        },
                        "colorscale": [
                          [
                            0,
                            "#0d0887"
                          ],
                          [
                            0.1111111111111111,
                            "#46039f"
                          ],
                          [
                            0.2222222222222222,
                            "#7201a8"
                          ],
                          [
                            0.3333333333333333,
                            "#9c179e"
                          ],
                          [
                            0.4444444444444444,
                            "#bd3786"
                          ],
                          [
                            0.5555555555555556,
                            "#d8576b"
                          ],
                          [
                            0.6666666666666666,
                            "#ed7953"
                          ],
                          [
                            0.7777777777777778,
                            "#fb9f3a"
                          ],
                          [
                            0.8888888888888888,
                            "#fdca26"
                          ],
                          [
                            1,
                            "#f0f921"
                          ]
                        ],
                        "type": "histogram2dcontour"
                      }
                    ],
                    "mesh3d": [
                      {
                        "colorbar": {
                          "outlinewidth": 0,
                          "ticks": ""
                        },
                        "type": "mesh3d"
                      }
                    ],
                    "parcoords": [
                      {
                        "line": {
                          "colorbar": {
                            "outlinewidth": 0,
                            "ticks": ""
                          }
                        },
                        "type": "parcoords"
                      }
                    ],
                    "pie": [
                      {
                        "automargin": true,
                        "type": "pie"
                      }
                    ],
                    "scatter": [
                      {
                        "fillpattern": {
                          "fillmode": "overlay",
                          "size": 10,
                          "solidity": 0.2
                        },
                        "type": "scatter"
                      }
                    ],
                    "scatter3d": [
                      {
                        "line": {
                          "colorbar": {
                            "outlinewidth": 0,
                            "ticks": ""
                          }
                        },
                        "marker": {
                          "colorbar": {
                            "outlinewidth": 0,
                            "ticks": ""
                          }
                        },
                        "type": "scatter3d"
                      }
                    ],
                    "scattercarpet": [
                      {
                        "marker": {
                          "colorbar": {
                            "outlinewidth": 0,
                            "ticks": ""
                          }
                        },
                        "type": "scattercarpet"
                      }
                    ],
                    "scattergeo": [
                      {
                        "marker": {
                          "colorbar": {
                            "outlinewidth": 0,
                            "ticks": ""
                          }
                        },
                        "type": "scattergeo"
                      }
                    ],
                    "scattergl": [
                      {
                        "marker": {
                          "colorbar": {
                            "outlinewidth": 0,
                            "ticks": ""
                          }
                        },
                        "type": "scattergl"
                      }
                    ],
                    "scattermapbox": [
                      {
                        "marker": {
                          "colorbar": {
                            "outlinewidth": 0,
                            "ticks": ""
                          }
                        },
                        "type": "scattermapbox"
                      }
                    ],
                    "scatterpolar": [
                      {
                        "marker": {
                          "colorbar": {
                            "outlinewidth": 0,
                            "ticks": ""
                          }
                        },
                        "type": "scatterpolar"
                      }
                    ],
                    "scatterpolargl": [
                      {
                        "marker": {
                          "colorbar": {
                            "outlinewidth": 0,
                            "ticks": ""
                          }
                        },
                        "type": "scatterpolargl"
                      }
                    ],
                    "scatterternary": [
                      {
                        "marker": {
                          "colorbar": {
                            "outlinewidth": 0,
                            "ticks": ""
                          }
                        },
                        "type": "scatterternary"
                      }
                    ],
                    "surface": [
                      {
                        "colorbar": {
                          "outlinewidth": 0,
                          "ticks": ""
                        },
                        "colorscale": [
                          [
                            0,
                            "#0d0887"
                          ],
                          [
                            0.1111111111111111,
                            "#46039f"
                          ],
                          [
                            0.2222222222222222,
                            "#7201a8"
                          ],
                          [
                            0.3333333333333333,
                            "#9c179e"
                          ],
                          [
                            0.4444444444444444,
                            "#bd3786"
                          ],
                          [
                            0.5555555555555556,
                            "#d8576b"
                          ],
                          [
                            0.6666666666666666,
                            "#ed7953"
                          ],
                          [
                            0.7777777777777778,
                            "#fb9f3a"
                          ],
                          [
                            0.8888888888888888,
                            "#fdca26"
                          ],
                          [
                            1,
                            "#f0f921"
                          ]
                        ],
                        "type": "surface"
                      }
                    ],
                    "table": [
                      {
                        "cells": {
                          "fill": {
                            "color": "#EBF0F8"
                          },
                          "line": {
                            "color": "white"
                          }
                        },
                        "header": {
                          "fill": {
                            "color": "#C8D4E3"
                          },
                          "line": {
                            "color": "white"
                          }
                        },
                        "type": "table"
                      }
                    ]
                  },
                  "layout": {
                    "annotationdefaults": {
                      "arrowcolor": "#2a3f5f",
                      "arrowhead": 0,
                      "arrowwidth": 1
                    },
                    "autotypenumbers": "strict",
                    "coloraxis": {
                      "colorbar": {
                        "outlinewidth": 0,
                        "ticks": ""
                      }
                    },
                    "colorscale": {
                      "diverging": [
                        [
                          0,
                          "#8e0152"
                        ],
                        [
                          0.1,
                          "#c51b7d"
                        ],
                        [
                          0.2,
                          "#de77ae"
                        ],
                        [
                          0.3,
                          "#f1b6da"
                        ],
                        [
                          0.4,
                          "#fde0ef"
                        ],
                        [
                          0.5,
                          "#f7f7f7"
                        ],
                        [
                          0.6,
                          "#e6f5d0"
                        ],
                        [
                          0.7,
                          "#b8e186"
                        ],
                        [
                          0.8,
                          "#7fbc41"
                        ],
                        [
                          0.9,
                          "#4d9221"
                        ],
                        [
                          1,
                          "#276419"
                        ]
                      ],
                      "sequential": [
                        [
                          0,
                          "#0d0887"
                        ],
                        [
                          0.1111111111111111,
                          "#46039f"
                        ],
                        [
                          0.2222222222222222,
                          "#7201a8"
                        ],
                        [
                          0.3333333333333333,
                          "#9c179e"
                        ],
                        [
                          0.4444444444444444,
                          "#bd3786"
                        ],
                        [
                          0.5555555555555556,
                          "#d8576b"
                        ],
                        [
                          0.6666666666666666,
                          "#ed7953"
                        ],
                        [
                          0.7777777777777778,
                          "#fb9f3a"
                        ],
                        [
                          0.8888888888888888,
                          "#fdca26"
                        ],
                        [
                          1,
                          "#f0f921"
                        ]
                      ],
                      "sequentialminus": [
                        [
                          0,
                          "#0d0887"
                        ],
                        [
                          0.1111111111111111,
                          "#46039f"
                        ],
                        [
                          0.2222222222222222,
                          "#7201a8"
                        ],
                        [
                          0.3333333333333333,
                          "#9c179e"
                        ],
                        [
                          0.4444444444444444,
                          "#bd3786"
                        ],
                        [
                          0.5555555555555556,
                          "#d8576b"
                        ],
                        [
                          0.6666666666666666,
                          "#ed7953"
                        ],
                        [
                          0.7777777777777778,
                          "#fb9f3a"
                        ],
                        [
                          0.8888888888888888,
                          "#fdca26"
                        ],
                        [
                          1,
                          "#f0f921"
                        ]
                      ]
                    },
                    "colorway": [
                      "#636efa",
                      "#EF553B",
                      "#00cc96",
                      "#ab63fa",
                      "#FFA15A",
                      "#19d3f3",
                      "#FF6692",
                      "#B6E880",
                      "#FF97FF",
                      "#FECB52"
                    ],
                    "font": {
                      "color": "#2a3f5f"
                    },
                    "geo": {
                      "bgcolor": "white",
                      "lakecolor": "white",
                      "landcolor": "#E5ECF6",
                      "showlakes": true,
                      "showland": true,
                      "subunitcolor": "white"
                    },
                    "hoverlabel": {
                      "align": "left"
                    },
                    "hovermode": "closest",
                    "mapbox": {
                      "style": "light"
                    },
                    "paper_bgcolor": "white",
                    "plot_bgcolor": "#E5ECF6",
                    "polar": {
                      "angularaxis": {
                        "gridcolor": "white",
                        "linecolor": "white",
                        "ticks": ""
                      },
                      "bgcolor": "#E5ECF6",
                      "radialaxis": {
                        "gridcolor": "white",
                        "linecolor": "white",
                        "ticks": ""
                      }
                    },
                    "scene": {
                      "xaxis": {
                        "backgroundcolor": "#E5ECF6",
                        "gridcolor": "white",
                        "gridwidth": 2,
                        "linecolor": "white",
                        "showbackground": true,
                        "ticks": "",
                        "zerolinecolor": "white"
                      },
                      "yaxis": {
                        "backgroundcolor": "#E5ECF6",
                        "gridcolor": "white",
                        "gridwidth": 2,
                        "linecolor": "white",
                        "showbackground": true,
                        "ticks": "",
                        "zerolinecolor": "white"
                      },
                      "zaxis": {
                        "backgroundcolor": "#E5ECF6",
                        "gridcolor": "white",
                        "gridwidth": 2,
                        "linecolor": "white",
                        "showbackground": true,
                        "ticks": "",
                        "zerolinecolor": "white"
                      }
                    },
                    "shapedefaults": {
                      "line": {
                        "color": "#2a3f5f"
                      }
                    },
                    "ternary": {
                      "aaxis": {
                        "gridcolor": "white",
                        "linecolor": "white",
                        "ticks": ""
                      },
                      "baxis": {
                        "gridcolor": "white",
                        "linecolor": "white",
                        "ticks": ""
                      },
                      "bgcolor": "#E5ECF6",
                      "caxis": {
                        "gridcolor": "white",
                        "linecolor": "white",
                        "ticks": ""
                      }
                    },
                    "title": {
                      "x": 0.05
                    },
                    "xaxis": {
                      "automargin": true,
                      "gridcolor": "white",
                      "linecolor": "white",
                      "ticks": "",
                      "title": {
                        "standoff": 15
                      },
                      "zerolinecolor": "white",
                      "zerolinewidth": 2
                    },
                    "yaxis": {
                      "automargin": true,
                      "gridcolor": "white",
                      "linecolor": "white",
                      "ticks": "",
                      "title": {
                        "standoff": 15
                      },
                      "zerolinecolor": "white",
                      "zerolinewidth": 2
                    }
                  }
                },
                "title": {
                  "text": "Porcentagem de casos positivos para cada sintoma separados por QUAL_RESULTADO"
                },
                "xaxis": {
                  "anchor": "y",
                  "domain": [
                    0,
                    1
                  ],
                  "title": {
                    "text": "Sintoma"
                  }
                },
                "yaxis": {
                  "anchor": "x",
                  "domain": [
                    0,
                    1
                  ],
                  "title": {
                    "text": "Porcentagem"
                  }
                }
              }
            }
          },
          "metadata": {},
          "output_type": "display_data"
        }
      ],
      "source": [
        "plot_mult_bar(df, 'QUAL_RESULTADO', sintomas)"
      ]
    },
    {
      "cell_type": "code",
      "execution_count": 32,
      "metadata": {
        "colab": {
          "base_uri": "https://localhost:8080/",
          "height": 542
        },
        "id": "STpIV-Ik2Hiz",
        "outputId": "10bd77cc-0a8f-4e72-c6e2-0ff0018744c5"
      },
      "outputs": [
        {
          "data": {
            "application/vnd.plotly.v1+json": {
              "config": {
                "plotlyServerURL": "https://plot.ly"
              },
              "data": [
                {
                  "alignmentgroup": "True",
                  "hovertemplate": "REGIAO=Centro-Oeste<br>Resultado do Teste=%{x}<br>Porcentagem (%)=%{y}<extra></extra>",
                  "legendgroup": "Centro-Oeste",
                  "marker": {
                    "color": "#636efa",
                    "pattern": {
                      "shape": ""
                    }
                  },
                  "name": "Centro-Oeste",
                  "offsetgroup": "Centro-Oeste",
                  "orientation": "v",
                  "showlegend": true,
                  "textposition": "auto",
                  "type": "bar",
                  "x": [
                    "Ainda não recebeu o resultado",
                    "Inconclusivo",
                    "Negativo",
                    "Positivo"
                  ],
                  "xaxis": "x",
                  "y": [
                    8.58433734939759,
                    0.37650602409638556,
                    65.28614457831326,
                    25.75301204819277
                  ],
                  "yaxis": "y"
                },
                {
                  "alignmentgroup": "True",
                  "hovertemplate": "REGIAO=Nordeste<br>Resultado do Teste=%{x}<br>Porcentagem (%)=%{y}<extra></extra>",
                  "legendgroup": "Nordeste",
                  "marker": {
                    "color": "#EF553B",
                    "pattern": {
                      "shape": ""
                    }
                  },
                  "name": "Nordeste",
                  "offsetgroup": "Nordeste",
                  "orientation": "v",
                  "showlegend": true,
                  "textposition": "auto",
                  "type": "bar",
                  "x": [
                    "Ainda não recebeu o resultado",
                    "Inconclusivo",
                    "Negativo",
                    "Positivo"
                  ],
                  "xaxis": "x",
                  "y": [
                    5.419580419580419,
                    0.4079254079254079,
                    62.354312354312356,
                    31.818181818181817
                  ],
                  "yaxis": "y"
                },
                {
                  "alignmentgroup": "True",
                  "hovertemplate": "REGIAO=Norte<br>Resultado do Teste=%{x}<br>Porcentagem (%)=%{y}<extra></extra>",
                  "legendgroup": "Norte",
                  "marker": {
                    "color": "#00cc96",
                    "pattern": {
                      "shape": ""
                    }
                  },
                  "name": "Norte",
                  "offsetgroup": "Norte",
                  "orientation": "v",
                  "showlegend": true,
                  "textposition": "auto",
                  "type": "bar",
                  "x": [
                    "Ainda não recebeu o resultado",
                    "Inconclusivo",
                    "Negativo",
                    "Positivo"
                  ],
                  "xaxis": "x",
                  "y": [
                    7.760532150776053,
                    0.7760532150776054,
                    52.4390243902439,
                    39.02439024390244
                  ],
                  "yaxis": "y"
                },
                {
                  "alignmentgroup": "True",
                  "hovertemplate": "REGIAO=Sudeste<br>Resultado do Teste=%{x}<br>Porcentagem (%)=%{y}<extra></extra>",
                  "legendgroup": "Sudeste",
                  "marker": {
                    "color": "#ab63fa",
                    "pattern": {
                      "shape": ""
                    }
                  },
                  "name": "Sudeste",
                  "offsetgroup": "Sudeste",
                  "orientation": "v",
                  "showlegend": true,
                  "textposition": "auto",
                  "type": "bar",
                  "x": [
                    "Ainda não recebeu o resultado",
                    "Inconclusivo",
                    "Negativo",
                    "Positivo"
                  ],
                  "xaxis": "x",
                  "y": [
                    7.446808510638298,
                    0.8592471358428805,
                    67.59410801963993,
                    24.099836333878887
                  ],
                  "yaxis": "y"
                },
                {
                  "alignmentgroup": "True",
                  "hovertemplate": "REGIAO=Sul<br>Resultado do Teste=%{x}<br>Porcentagem (%)=%{y}<extra></extra>",
                  "legendgroup": "Sul",
                  "marker": {
                    "color": "#FFA15A",
                    "pattern": {
                      "shape": ""
                    }
                  },
                  "name": "Sul",
                  "offsetgroup": "Sul",
                  "orientation": "v",
                  "showlegend": true,
                  "textposition": "auto",
                  "type": "bar",
                  "x": [
                    "Ainda não recebeu o resultado",
                    "Inconclusivo",
                    "Negativo",
                    "Positivo"
                  ],
                  "xaxis": "x",
                  "y": [
                    8.54353132628153,
                    0.7323026851098454,
                    72.8234336859235,
                    17.90073230268511
                  ],
                  "yaxis": "y"
                }
              ],
              "layout": {
                "barmode": "group",
                "legend": {
                  "title": {
                    "text": "REGIAO"
                  },
                  "tracegroupgap": 0
                },
                "template": {
                  "data": {
                    "bar": [
                      {
                        "error_x": {
                          "color": "#2a3f5f"
                        },
                        "error_y": {
                          "color": "#2a3f5f"
                        },
                        "marker": {
                          "line": {
                            "color": "#E5ECF6",
                            "width": 0.5
                          },
                          "pattern": {
                            "fillmode": "overlay",
                            "size": 10,
                            "solidity": 0.2
                          }
                        },
                        "type": "bar"
                      }
                    ],
                    "barpolar": [
                      {
                        "marker": {
                          "line": {
                            "color": "#E5ECF6",
                            "width": 0.5
                          },
                          "pattern": {
                            "fillmode": "overlay",
                            "size": 10,
                            "solidity": 0.2
                          }
                        },
                        "type": "barpolar"
                      }
                    ],
                    "carpet": [
                      {
                        "aaxis": {
                          "endlinecolor": "#2a3f5f",
                          "gridcolor": "white",
                          "linecolor": "white",
                          "minorgridcolor": "white",
                          "startlinecolor": "#2a3f5f"
                        },
                        "baxis": {
                          "endlinecolor": "#2a3f5f",
                          "gridcolor": "white",
                          "linecolor": "white",
                          "minorgridcolor": "white",
                          "startlinecolor": "#2a3f5f"
                        },
                        "type": "carpet"
                      }
                    ],
                    "choropleth": [
                      {
                        "colorbar": {
                          "outlinewidth": 0,
                          "ticks": ""
                        },
                        "type": "choropleth"
                      }
                    ],
                    "contour": [
                      {
                        "colorbar": {
                          "outlinewidth": 0,
                          "ticks": ""
                        },
                        "colorscale": [
                          [
                            0,
                            "#0d0887"
                          ],
                          [
                            0.1111111111111111,
                            "#46039f"
                          ],
                          [
                            0.2222222222222222,
                            "#7201a8"
                          ],
                          [
                            0.3333333333333333,
                            "#9c179e"
                          ],
                          [
                            0.4444444444444444,
                            "#bd3786"
                          ],
                          [
                            0.5555555555555556,
                            "#d8576b"
                          ],
                          [
                            0.6666666666666666,
                            "#ed7953"
                          ],
                          [
                            0.7777777777777778,
                            "#fb9f3a"
                          ],
                          [
                            0.8888888888888888,
                            "#fdca26"
                          ],
                          [
                            1,
                            "#f0f921"
                          ]
                        ],
                        "type": "contour"
                      }
                    ],
                    "contourcarpet": [
                      {
                        "colorbar": {
                          "outlinewidth": 0,
                          "ticks": ""
                        },
                        "type": "contourcarpet"
                      }
                    ],
                    "heatmap": [
                      {
                        "colorbar": {
                          "outlinewidth": 0,
                          "ticks": ""
                        },
                        "colorscale": [
                          [
                            0,
                            "#0d0887"
                          ],
                          [
                            0.1111111111111111,
                            "#46039f"
                          ],
                          [
                            0.2222222222222222,
                            "#7201a8"
                          ],
                          [
                            0.3333333333333333,
                            "#9c179e"
                          ],
                          [
                            0.4444444444444444,
                            "#bd3786"
                          ],
                          [
                            0.5555555555555556,
                            "#d8576b"
                          ],
                          [
                            0.6666666666666666,
                            "#ed7953"
                          ],
                          [
                            0.7777777777777778,
                            "#fb9f3a"
                          ],
                          [
                            0.8888888888888888,
                            "#fdca26"
                          ],
                          [
                            1,
                            "#f0f921"
                          ]
                        ],
                        "type": "heatmap"
                      }
                    ],
                    "heatmapgl": [
                      {
                        "colorbar": {
                          "outlinewidth": 0,
                          "ticks": ""
                        },
                        "colorscale": [
                          [
                            0,
                            "#0d0887"
                          ],
                          [
                            0.1111111111111111,
                            "#46039f"
                          ],
                          [
                            0.2222222222222222,
                            "#7201a8"
                          ],
                          [
                            0.3333333333333333,
                            "#9c179e"
                          ],
                          [
                            0.4444444444444444,
                            "#bd3786"
                          ],
                          [
                            0.5555555555555556,
                            "#d8576b"
                          ],
                          [
                            0.6666666666666666,
                            "#ed7953"
                          ],
                          [
                            0.7777777777777778,
                            "#fb9f3a"
                          ],
                          [
                            0.8888888888888888,
                            "#fdca26"
                          ],
                          [
                            1,
                            "#f0f921"
                          ]
                        ],
                        "type": "heatmapgl"
                      }
                    ],
                    "histogram": [
                      {
                        "marker": {
                          "pattern": {
                            "fillmode": "overlay",
                            "size": 10,
                            "solidity": 0.2
                          }
                        },
                        "type": "histogram"
                      }
                    ],
                    "histogram2d": [
                      {
                        "colorbar": {
                          "outlinewidth": 0,
                          "ticks": ""
                        },
                        "colorscale": [
                          [
                            0,
                            "#0d0887"
                          ],
                          [
                            0.1111111111111111,
                            "#46039f"
                          ],
                          [
                            0.2222222222222222,
                            "#7201a8"
                          ],
                          [
                            0.3333333333333333,
                            "#9c179e"
                          ],
                          [
                            0.4444444444444444,
                            "#bd3786"
                          ],
                          [
                            0.5555555555555556,
                            "#d8576b"
                          ],
                          [
                            0.6666666666666666,
                            "#ed7953"
                          ],
                          [
                            0.7777777777777778,
                            "#fb9f3a"
                          ],
                          [
                            0.8888888888888888,
                            "#fdca26"
                          ],
                          [
                            1,
                            "#f0f921"
                          ]
                        ],
                        "type": "histogram2d"
                      }
                    ],
                    "histogram2dcontour": [
                      {
                        "colorbar": {
                          "outlinewidth": 0,
                          "ticks": ""
                        },
                        "colorscale": [
                          [
                            0,
                            "#0d0887"
                          ],
                          [
                            0.1111111111111111,
                            "#46039f"
                          ],
                          [
                            0.2222222222222222,
                            "#7201a8"
                          ],
                          [
                            0.3333333333333333,
                            "#9c179e"
                          ],
                          [
                            0.4444444444444444,
                            "#bd3786"
                          ],
                          [
                            0.5555555555555556,
                            "#d8576b"
                          ],
                          [
                            0.6666666666666666,
                            "#ed7953"
                          ],
                          [
                            0.7777777777777778,
                            "#fb9f3a"
                          ],
                          [
                            0.8888888888888888,
                            "#fdca26"
                          ],
                          [
                            1,
                            "#f0f921"
                          ]
                        ],
                        "type": "histogram2dcontour"
                      }
                    ],
                    "mesh3d": [
                      {
                        "colorbar": {
                          "outlinewidth": 0,
                          "ticks": ""
                        },
                        "type": "mesh3d"
                      }
                    ],
                    "parcoords": [
                      {
                        "line": {
                          "colorbar": {
                            "outlinewidth": 0,
                            "ticks": ""
                          }
                        },
                        "type": "parcoords"
                      }
                    ],
                    "pie": [
                      {
                        "automargin": true,
                        "type": "pie"
                      }
                    ],
                    "scatter": [
                      {
                        "fillpattern": {
                          "fillmode": "overlay",
                          "size": 10,
                          "solidity": 0.2
                        },
                        "type": "scatter"
                      }
                    ],
                    "scatter3d": [
                      {
                        "line": {
                          "colorbar": {
                            "outlinewidth": 0,
                            "ticks": ""
                          }
                        },
                        "marker": {
                          "colorbar": {
                            "outlinewidth": 0,
                            "ticks": ""
                          }
                        },
                        "type": "scatter3d"
                      }
                    ],
                    "scattercarpet": [
                      {
                        "marker": {
                          "colorbar": {
                            "outlinewidth": 0,
                            "ticks": ""
                          }
                        },
                        "type": "scattercarpet"
                      }
                    ],
                    "scattergeo": [
                      {
                        "marker": {
                          "colorbar": {
                            "outlinewidth": 0,
                            "ticks": ""
                          }
                        },
                        "type": "scattergeo"
                      }
                    ],
                    "scattergl": [
                      {
                        "marker": {
                          "colorbar": {
                            "outlinewidth": 0,
                            "ticks": ""
                          }
                        },
                        "type": "scattergl"
                      }
                    ],
                    "scattermapbox": [
                      {
                        "marker": {
                          "colorbar": {
                            "outlinewidth": 0,
                            "ticks": ""
                          }
                        },
                        "type": "scattermapbox"
                      }
                    ],
                    "scatterpolar": [
                      {
                        "marker": {
                          "colorbar": {
                            "outlinewidth": 0,
                            "ticks": ""
                          }
                        },
                        "type": "scatterpolar"
                      }
                    ],
                    "scatterpolargl": [
                      {
                        "marker": {
                          "colorbar": {
                            "outlinewidth": 0,
                            "ticks": ""
                          }
                        },
                        "type": "scatterpolargl"
                      }
                    ],
                    "scatterternary": [
                      {
                        "marker": {
                          "colorbar": {
                            "outlinewidth": 0,
                            "ticks": ""
                          }
                        },
                        "type": "scatterternary"
                      }
                    ],
                    "surface": [
                      {
                        "colorbar": {
                          "outlinewidth": 0,
                          "ticks": ""
                        },
                        "colorscale": [
                          [
                            0,
                            "#0d0887"
                          ],
                          [
                            0.1111111111111111,
                            "#46039f"
                          ],
                          [
                            0.2222222222222222,
                            "#7201a8"
                          ],
                          [
                            0.3333333333333333,
                            "#9c179e"
                          ],
                          [
                            0.4444444444444444,
                            "#bd3786"
                          ],
                          [
                            0.5555555555555556,
                            "#d8576b"
                          ],
                          [
                            0.6666666666666666,
                            "#ed7953"
                          ],
                          [
                            0.7777777777777778,
                            "#fb9f3a"
                          ],
                          [
                            0.8888888888888888,
                            "#fdca26"
                          ],
                          [
                            1,
                            "#f0f921"
                          ]
                        ],
                        "type": "surface"
                      }
                    ],
                    "table": [
                      {
                        "cells": {
                          "fill": {
                            "color": "#EBF0F8"
                          },
                          "line": {
                            "color": "white"
                          }
                        },
                        "header": {
                          "fill": {
                            "color": "#C8D4E3"
                          },
                          "line": {
                            "color": "white"
                          }
                        },
                        "type": "table"
                      }
                    ]
                  },
                  "layout": {
                    "annotationdefaults": {
                      "arrowcolor": "#2a3f5f",
                      "arrowhead": 0,
                      "arrowwidth": 1
                    },
                    "autotypenumbers": "strict",
                    "coloraxis": {
                      "colorbar": {
                        "outlinewidth": 0,
                        "ticks": ""
                      }
                    },
                    "colorscale": {
                      "diverging": [
                        [
                          0,
                          "#8e0152"
                        ],
                        [
                          0.1,
                          "#c51b7d"
                        ],
                        [
                          0.2,
                          "#de77ae"
                        ],
                        [
                          0.3,
                          "#f1b6da"
                        ],
                        [
                          0.4,
                          "#fde0ef"
                        ],
                        [
                          0.5,
                          "#f7f7f7"
                        ],
                        [
                          0.6,
                          "#e6f5d0"
                        ],
                        [
                          0.7,
                          "#b8e186"
                        ],
                        [
                          0.8,
                          "#7fbc41"
                        ],
                        [
                          0.9,
                          "#4d9221"
                        ],
                        [
                          1,
                          "#276419"
                        ]
                      ],
                      "sequential": [
                        [
                          0,
                          "#0d0887"
                        ],
                        [
                          0.1111111111111111,
                          "#46039f"
                        ],
                        [
                          0.2222222222222222,
                          "#7201a8"
                        ],
                        [
                          0.3333333333333333,
                          "#9c179e"
                        ],
                        [
                          0.4444444444444444,
                          "#bd3786"
                        ],
                        [
                          0.5555555555555556,
                          "#d8576b"
                        ],
                        [
                          0.6666666666666666,
                          "#ed7953"
                        ],
                        [
                          0.7777777777777778,
                          "#fb9f3a"
                        ],
                        [
                          0.8888888888888888,
                          "#fdca26"
                        ],
                        [
                          1,
                          "#f0f921"
                        ]
                      ],
                      "sequentialminus": [
                        [
                          0,
                          "#0d0887"
                        ],
                        [
                          0.1111111111111111,
                          "#46039f"
                        ],
                        [
                          0.2222222222222222,
                          "#7201a8"
                        ],
                        [
                          0.3333333333333333,
                          "#9c179e"
                        ],
                        [
                          0.4444444444444444,
                          "#bd3786"
                        ],
                        [
                          0.5555555555555556,
                          "#d8576b"
                        ],
                        [
                          0.6666666666666666,
                          "#ed7953"
                        ],
                        [
                          0.7777777777777778,
                          "#fb9f3a"
                        ],
                        [
                          0.8888888888888888,
                          "#fdca26"
                        ],
                        [
                          1,
                          "#f0f921"
                        ]
                      ]
                    },
                    "colorway": [
                      "#636efa",
                      "#EF553B",
                      "#00cc96",
                      "#ab63fa",
                      "#FFA15A",
                      "#19d3f3",
                      "#FF6692",
                      "#B6E880",
                      "#FF97FF",
                      "#FECB52"
                    ],
                    "font": {
                      "color": "#2a3f5f"
                    },
                    "geo": {
                      "bgcolor": "white",
                      "lakecolor": "white",
                      "landcolor": "#E5ECF6",
                      "showlakes": true,
                      "showland": true,
                      "subunitcolor": "white"
                    },
                    "hoverlabel": {
                      "align": "left"
                    },
                    "hovermode": "closest",
                    "mapbox": {
                      "style": "light"
                    },
                    "paper_bgcolor": "white",
                    "plot_bgcolor": "#E5ECF6",
                    "polar": {
                      "angularaxis": {
                        "gridcolor": "white",
                        "linecolor": "white",
                        "ticks": ""
                      },
                      "bgcolor": "#E5ECF6",
                      "radialaxis": {
                        "gridcolor": "white",
                        "linecolor": "white",
                        "ticks": ""
                      }
                    },
                    "scene": {
                      "xaxis": {
                        "backgroundcolor": "#E5ECF6",
                        "gridcolor": "white",
                        "gridwidth": 2,
                        "linecolor": "white",
                        "showbackground": true,
                        "ticks": "",
                        "zerolinecolor": "white"
                      },
                      "yaxis": {
                        "backgroundcolor": "#E5ECF6",
                        "gridcolor": "white",
                        "gridwidth": 2,
                        "linecolor": "white",
                        "showbackground": true,
                        "ticks": "",
                        "zerolinecolor": "white"
                      },
                      "zaxis": {
                        "backgroundcolor": "#E5ECF6",
                        "gridcolor": "white",
                        "gridwidth": 2,
                        "linecolor": "white",
                        "showbackground": true,
                        "ticks": "",
                        "zerolinecolor": "white"
                      }
                    },
                    "shapedefaults": {
                      "line": {
                        "color": "#2a3f5f"
                      }
                    },
                    "ternary": {
                      "aaxis": {
                        "gridcolor": "white",
                        "linecolor": "white",
                        "ticks": ""
                      },
                      "baxis": {
                        "gridcolor": "white",
                        "linecolor": "white",
                        "ticks": ""
                      },
                      "bgcolor": "#E5ECF6",
                      "caxis": {
                        "gridcolor": "white",
                        "linecolor": "white",
                        "ticks": ""
                      }
                    },
                    "title": {
                      "x": 0.05
                    },
                    "xaxis": {
                      "automargin": true,
                      "gridcolor": "white",
                      "linecolor": "white",
                      "ticks": "",
                      "title": {
                        "standoff": 15
                      },
                      "zerolinecolor": "white",
                      "zerolinewidth": 2
                    },
                    "yaxis": {
                      "automargin": true,
                      "gridcolor": "white",
                      "linecolor": "white",
                      "ticks": "",
                      "title": {
                        "standoff": 15
                      },
                      "zerolinecolor": "white",
                      "zerolinewidth": 2
                    }
                  }
                },
                "title": {
                  "text": "Porcentagem de Casos por Resultado do Teste e Região"
                },
                "xaxis": {
                  "anchor": "y",
                  "domain": [
                    0,
                    1
                  ],
                  "title": {
                    "text": "Resultado do Teste"
                  }
                },
                "yaxis": {
                  "anchor": "x",
                  "domain": [
                    0,
                    1
                  ],
                  "title": {
                    "text": "Porcentagem (%)"
                  }
                }
              }
            }
          },
          "metadata": {},
          "output_type": "display_data"
        }
      ],
      "source": [
        "def plot_qual_resultado_regiao_percentual(df, title=None):\n",
        "    # Filtrando o DataFrame para excluir a categoria \"Não aplicável\"\n",
        "    df_filtered = df[df['QUAL_RESULTADO'] != 'Não aplicável']\n",
        "\n",
        "    # Contagem total de casos por região\n",
        "    df_total_regiao = df_filtered.groupby('REGIAO').size().reset_index(name='total_regiao')\n",
        "\n",
        "    # Contagem dos casos por resultado do teste e região\n",
        "    df_counts = df_filtered.groupby(['QUAL_RESULTADO', 'REGIAO']).size().reset_index(name='count')\n",
        "\n",
        "    # Mesclando as contagens com a contagem total por região para calcular percentuais\n",
        "    df_counts = pd.merge(df_counts, df_total_regiao, on='REGIAO')\n",
        "\n",
        "    # Calculando percentuais\n",
        "    df_counts['percent'] = (df_counts['count'] / df_counts['total_regiao']) * 100\n",
        "\n",
        "    # Plot do gráfico de barras\n",
        "    fig = px.bar(df_counts, x='QUAL_RESULTADO', y='percent', color='REGIAO', barmode='group',\n",
        "                 labels={'QUAL_RESULTADO': 'Resultado do Teste', 'percent': 'Porcentagem (%)'},\n",
        "                 title=title if title else 'Porcentagem de Casos por Resultado do Teste e Região')\n",
        "\n",
        "    fig.show()\n",
        "\n",
        "# Exemplo de uso\n",
        "plot_qual_resultado_regiao_percentual(df)\n",
        "\n"
      ]
    },
    {
      "cell_type": "code",
      "execution_count": 42,
      "metadata": {},
      "outputs": [
        {
          "data": {
            "text/html": [
              "<div>\n",
              "<style scoped>\n",
              "    .dataframe tbody tr th:only-of-type {\n",
              "        vertical-align: middle;\n",
              "    }\n",
              "\n",
              "    .dataframe tbody tr th {\n",
              "        vertical-align: top;\n",
              "    }\n",
              "\n",
              "    .dataframe thead th {\n",
              "        text-align: right;\n",
              "    }\n",
              "</style>\n",
              "<table border=\"1\" class=\"dataframe\">\n",
              "  <thead>\n",
              "    <tr style=\"text-align: right;\">\n",
              "      <th></th>\n",
              "      <th>ANOMES</th>\n",
              "      <th>ANO_PESQUISA</th>\n",
              "      <th>MES_PESQUISA</th>\n",
              "      <th>SEMANA_MES</th>\n",
              "      <th>UF</th>\n",
              "      <th>CAPITAL</th>\n",
              "      <th>REGIAO_METROPOLITANA</th>\n",
              "      <th>SITU_DOMICILIO</th>\n",
              "      <th>TIPO_AREA</th>\n",
              "      <th>IDADE_MORADOR</th>\n",
              "      <th>...</th>\n",
              "      <th>SE_TEVE_DIARREIA</th>\n",
              "      <th>FOI_AO_MEDICO</th>\n",
              "      <th>FOI_SEDADO_ENTUBADO</th>\n",
              "      <th>TEM_PLANO_SAUDE</th>\n",
              "      <th>QUAL_RESULTADO</th>\n",
              "      <th>MEDIDA_RESTRICAO</th>\n",
              "      <th>TRABALHO_REMOTO</th>\n",
              "      <th>AUXILIO_EMERGENCIAL_COVID</th>\n",
              "      <th>REGIAO</th>\n",
              "      <th>FAIXA_ETARIA</th>\n",
              "    </tr>\n",
              "  </thead>\n",
              "  <tbody>\n",
              "    <tr>\n",
              "      <th>0</th>\n",
              "      <td>202007</td>\n",
              "      <td>2020</td>\n",
              "      <td>7</td>\n",
              "      <td>3</td>\n",
              "      <td>Santa Catarina</td>\n",
              "      <td>Não Informado</td>\n",
              "      <td>Não Informado</td>\n",
              "      <td>Urbana</td>\n",
              "      <td>Resto da UF  (Unidade da Federação, excluindo ...</td>\n",
              "      <td>33</td>\n",
              "      <td>...</td>\n",
              "      <td>Não</td>\n",
              "      <td>Não aplicável</td>\n",
              "      <td>Não aplicável</td>\n",
              "      <td>Não</td>\n",
              "      <td>Não aplicável</td>\n",
              "      <td>Ignorado</td>\n",
              "      <td>Não aplicável</td>\n",
              "      <td>Não</td>\n",
              "      <td>Sul</td>\n",
              "      <td>Jovem</td>\n",
              "    </tr>\n",
              "    <tr>\n",
              "      <th>1</th>\n",
              "      <td>202007</td>\n",
              "      <td>2020</td>\n",
              "      <td>7</td>\n",
              "      <td>3</td>\n",
              "      <td>Santa Catarina</td>\n",
              "      <td>Não Informado</td>\n",
              "      <td>Não Informado</td>\n",
              "      <td>Urbana</td>\n",
              "      <td>Resto da UF  (Unidade da Federação, excluindo ...</td>\n",
              "      <td>70</td>\n",
              "      <td>...</td>\n",
              "      <td>Ignorado</td>\n",
              "      <td>Não aplicável</td>\n",
              "      <td>Não aplicável</td>\n",
              "      <td>Ignorado</td>\n",
              "      <td>Não aplicável</td>\n",
              "      <td>Ignorado</td>\n",
              "      <td>Não aplicável</td>\n",
              "      <td>Não</td>\n",
              "      <td>Sul</td>\n",
              "      <td>Idoso</td>\n",
              "    </tr>\n",
              "    <tr>\n",
              "      <th>2</th>\n",
              "      <td>202007</td>\n",
              "      <td>2020</td>\n",
              "      <td>7</td>\n",
              "      <td>2</td>\n",
              "      <td>Espírito Santo</td>\n",
              "      <td>Não Informado</td>\n",
              "      <td>Não Informado</td>\n",
              "      <td>Urbana</td>\n",
              "      <td>Resto da UF  (Unidade da Federação, excluindo ...</td>\n",
              "      <td>63</td>\n",
              "      <td>...</td>\n",
              "      <td>Não</td>\n",
              "      <td>Não aplicável</td>\n",
              "      <td>Não aplicável</td>\n",
              "      <td>Ignorado</td>\n",
              "      <td>Não aplicável</td>\n",
              "      <td>Ignorado</td>\n",
              "      <td>Não aplicável</td>\n",
              "      <td>Sim</td>\n",
              "      <td>Sudeste</td>\n",
              "      <td>Idoso</td>\n",
              "    </tr>\n",
              "  </tbody>\n",
              "</table>\n",
              "<p>3 rows × 35 columns</p>\n",
              "</div>"
            ],
            "text/plain": [
              "   ANOMES  ANO_PESQUISA  MES_PESQUISA  SEMANA_MES              UF  \\\n",
              "0  202007          2020             7           3  Santa Catarina   \n",
              "1  202007          2020             7           3  Santa Catarina   \n",
              "2  202007          2020             7           2  Espírito Santo   \n",
              "\n",
              "         CAPITAL REGIAO_METROPOLITANA SITU_DOMICILIO  \\\n",
              "0  Não Informado        Não Informado         Urbana   \n",
              "1  Não Informado        Não Informado         Urbana   \n",
              "2  Não Informado        Não Informado         Urbana   \n",
              "\n",
              "                                           TIPO_AREA  IDADE_MORADOR  ...  \\\n",
              "0  Resto da UF  (Unidade da Federação, excluindo ...             33  ...   \n",
              "1  Resto da UF  (Unidade da Federação, excluindo ...             70  ...   \n",
              "2  Resto da UF  (Unidade da Federação, excluindo ...             63  ...   \n",
              "\n",
              "  SE_TEVE_DIARREIA  FOI_AO_MEDICO FOI_SEDADO_ENTUBADO TEM_PLANO_SAUDE  \\\n",
              "0             Não   Não aplicável       Não aplicável            Não    \n",
              "1         Ignorado  Não aplicável       Não aplicável        Ignorado   \n",
              "2             Não   Não aplicável       Não aplicável        Ignorado   \n",
              "\n",
              "  QUAL_RESULTADO MEDIDA_RESTRICAO TRABALHO_REMOTO AUXILIO_EMERGENCIAL_COVID  \\\n",
              "0  Não aplicável         Ignorado   Não aplicável                       Não   \n",
              "1  Não aplicável         Ignorado   Não aplicável                       Não   \n",
              "2  Não aplicável         Ignorado   Não aplicável                       Sim   \n",
              "\n",
              "    REGIAO FAIXA_ETARIA  \n",
              "0      Sul        Jovem  \n",
              "1      Sul        Idoso  \n",
              "2  Sudeste        Idoso  \n",
              "\n",
              "[3 rows x 35 columns]"
            ]
          },
          "execution_count": 42,
          "metadata": {},
          "output_type": "execute_result"
        }
      ],
      "source": [
        "df.head(3)"
      ]
    },
    {
      "cell_type": "code",
      "execution_count": 60,
      "metadata": {},
      "outputs": [
        {
          "data": {
            "text/html": [
              "<div>\n",
              "<style scoped>\n",
              "    .dataframe tbody tr th:only-of-type {\n",
              "        vertical-align: middle;\n",
              "    }\n",
              "\n",
              "    .dataframe tbody tr th {\n",
              "        vertical-align: top;\n",
              "    }\n",
              "\n",
              "    .dataframe thead th {\n",
              "        text-align: right;\n",
              "    }\n",
              "</style>\n",
              "<table border=\"1\" class=\"dataframe\">\n",
              "  <thead>\n",
              "    <tr style=\"text-align: right;\">\n",
              "      <th></th>\n",
              "      <th>ANOMES</th>\n",
              "      <th>ANO_PESQUISA</th>\n",
              "      <th>MES_PESQUISA</th>\n",
              "      <th>SEMANA_MES</th>\n",
              "      <th>UF</th>\n",
              "      <th>CAPITAL</th>\n",
              "      <th>REGIAO_METROPOLITANA</th>\n",
              "      <th>SITU_DOMICILIO</th>\n",
              "      <th>TIPO_AREA</th>\n",
              "      <th>IDADE_MORADOR</th>\n",
              "      <th>...</th>\n",
              "      <th>SE_TEVE_DIARREIA</th>\n",
              "      <th>FOI_AO_MEDICO</th>\n",
              "      <th>FOI_SEDADO_ENTUBADO</th>\n",
              "      <th>TEM_PLANO_SAUDE</th>\n",
              "      <th>QUAL_RESULTADO</th>\n",
              "      <th>MEDIDA_RESTRICAO</th>\n",
              "      <th>TRABALHO_REMOTO</th>\n",
              "      <th>AUXILIO_EMERGENCIAL_COVID</th>\n",
              "      <th>REGIAO</th>\n",
              "      <th>FAIXA_ETARIA</th>\n",
              "    </tr>\n",
              "  </thead>\n",
              "  <tbody>\n",
              "    <tr>\n",
              "      <th>416</th>\n",
              "      <td>202007</td>\n",
              "      <td>2020</td>\n",
              "      <td>7</td>\n",
              "      <td>1</td>\n",
              "      <td>Rio Grande do Sul</td>\n",
              "      <td>Não Informado</td>\n",
              "      <td>Não Informado</td>\n",
              "      <td>Rural</td>\n",
              "      <td>Resto da UF  (Unidade da Federação, excluindo ...</td>\n",
              "      <td>50</td>\n",
              "      <td>...</td>\n",
              "      <td>Não</td>\n",
              "      <td>Não aplicável</td>\n",
              "      <td>Não aplicável</td>\n",
              "      <td>Não</td>\n",
              "      <td>Negativo</td>\n",
              "      <td>Ignorado</td>\n",
              "      <td>Não aplicável</td>\n",
              "      <td>Não</td>\n",
              "      <td>Sul</td>\n",
              "      <td>Adulto</td>\n",
              "    </tr>\n",
              "    <tr>\n",
              "      <th>443</th>\n",
              "      <td>202007</td>\n",
              "      <td>2020</td>\n",
              "      <td>7</td>\n",
              "      <td>4</td>\n",
              "      <td>Santa Catarina</td>\n",
              "      <td>Não Informado</td>\n",
              "      <td>Não Informado</td>\n",
              "      <td>Urbana</td>\n",
              "      <td>Resto da UF  (Unidade da Federação, excluindo ...</td>\n",
              "      <td>24</td>\n",
              "      <td>...</td>\n",
              "      <td>Sim</td>\n",
              "      <td>Sim</td>\n",
              "      <td>Sim</td>\n",
              "      <td>Não</td>\n",
              "      <td>Positivo</td>\n",
              "      <td>Ignorado</td>\n",
              "      <td>Não aplicável</td>\n",
              "      <td>Sim</td>\n",
              "      <td>Sul</td>\n",
              "      <td>Jovem</td>\n",
              "    </tr>\n",
              "    <tr>\n",
              "      <th>592</th>\n",
              "      <td>202007</td>\n",
              "      <td>2020</td>\n",
              "      <td>7</td>\n",
              "      <td>1</td>\n",
              "      <td>Santa Catarina</td>\n",
              "      <td>Não Informado</td>\n",
              "      <td>Não Informado</td>\n",
              "      <td>Urbana</td>\n",
              "      <td>Resto da UF  (Unidade da Federação, excluindo ...</td>\n",
              "      <td>39</td>\n",
              "      <td>...</td>\n",
              "      <td>Não</td>\n",
              "      <td>Sim</td>\n",
              "      <td>Não aplicável</td>\n",
              "      <td>Ignorado</td>\n",
              "      <td>Positivo</td>\n",
              "      <td>Ignorado</td>\n",
              "      <td>Não aplicável</td>\n",
              "      <td>Não</td>\n",
              "      <td>Sul</td>\n",
              "      <td>Adulto</td>\n",
              "    </tr>\n",
              "    <tr>\n",
              "      <th>836</th>\n",
              "      <td>202007</td>\n",
              "      <td>2020</td>\n",
              "      <td>7</td>\n",
              "      <td>3</td>\n",
              "      <td>Mato Grosso</td>\n",
              "      <td>Não Informado</td>\n",
              "      <td>Não Informado</td>\n",
              "      <td>Urbana</td>\n",
              "      <td>Resto da UF  (Unidade da Federação, excluindo ...</td>\n",
              "      <td>51</td>\n",
              "      <td>...</td>\n",
              "      <td>Sim</td>\n",
              "      <td>Sim</td>\n",
              "      <td>Sim</td>\n",
              "      <td>Não</td>\n",
              "      <td>Positivo</td>\n",
              "      <td>Ignorado</td>\n",
              "      <td>Não aplicável</td>\n",
              "      <td>Não</td>\n",
              "      <td>Centro-Oeste</td>\n",
              "      <td>Adulto</td>\n",
              "    </tr>\n",
              "    <tr>\n",
              "      <th>1142</th>\n",
              "      <td>202007</td>\n",
              "      <td>2020</td>\n",
              "      <td>7</td>\n",
              "      <td>4</td>\n",
              "      <td>Mato Grosso</td>\n",
              "      <td>Não Informado</td>\n",
              "      <td>Não Informado</td>\n",
              "      <td>Urbana</td>\n",
              "      <td>Resto da UF  (Unidade da Federação, excluindo ...</td>\n",
              "      <td>51</td>\n",
              "      <td>...</td>\n",
              "      <td>Sim</td>\n",
              "      <td>Sim</td>\n",
              "      <td>Sim</td>\n",
              "      <td>Não</td>\n",
              "      <td>Positivo</td>\n",
              "      <td>Ignorado</td>\n",
              "      <td>Não aplicável</td>\n",
              "      <td>Não</td>\n",
              "      <td>Centro-Oeste</td>\n",
              "      <td>Adulto</td>\n",
              "    </tr>\n",
              "  </tbody>\n",
              "</table>\n",
              "<p>5 rows × 35 columns</p>\n",
              "</div>"
            ],
            "text/plain": [
              "      ANOMES  ANO_PESQUISA  MES_PESQUISA  SEMANA_MES                 UF  \\\n",
              "416   202007          2020             7           1  Rio Grande do Sul   \n",
              "443   202007          2020             7           4     Santa Catarina   \n",
              "592   202007          2020             7           1     Santa Catarina   \n",
              "836   202007          2020             7           3        Mato Grosso   \n",
              "1142  202007          2020             7           4        Mato Grosso   \n",
              "\n",
              "            CAPITAL REGIAO_METROPOLITANA SITU_DOMICILIO  \\\n",
              "416   Não Informado        Não Informado          Rural   \n",
              "443   Não Informado        Não Informado         Urbana   \n",
              "592   Não Informado        Não Informado         Urbana   \n",
              "836   Não Informado        Não Informado         Urbana   \n",
              "1142  Não Informado        Não Informado         Urbana   \n",
              "\n",
              "                                              TIPO_AREA  IDADE_MORADOR  ...  \\\n",
              "416   Resto da UF  (Unidade da Federação, excluindo ...             50  ...   \n",
              "443   Resto da UF  (Unidade da Federação, excluindo ...             24  ...   \n",
              "592   Resto da UF  (Unidade da Federação, excluindo ...             39  ...   \n",
              "836   Resto da UF  (Unidade da Federação, excluindo ...             51  ...   \n",
              "1142  Resto da UF  (Unidade da Federação, excluindo ...             51  ...   \n",
              "\n",
              "     SE_TEVE_DIARREIA  FOI_AO_MEDICO FOI_SEDADO_ENTUBADO TEM_PLANO_SAUDE  \\\n",
              "416              Não   Não aplicável       Não aplicável            Não    \n",
              "443               Sim            Sim                 Sim            Não    \n",
              "592              Não             Sim       Não aplicável        Ignorado   \n",
              "836               Sim            Sim                 Sim            Não    \n",
              "1142              Sim            Sim                 Sim            Não    \n",
              "\n",
              "     QUAL_RESULTADO MEDIDA_RESTRICAO TRABALHO_REMOTO  \\\n",
              "416        Negativo         Ignorado   Não aplicável   \n",
              "443        Positivo         Ignorado   Não aplicável   \n",
              "592        Positivo         Ignorado   Não aplicável   \n",
              "836        Positivo         Ignorado   Não aplicável   \n",
              "1142       Positivo         Ignorado   Não aplicável   \n",
              "\n",
              "     AUXILIO_EMERGENCIAL_COVID        REGIAO FAIXA_ETARIA  \n",
              "416                        Não           Sul       Adulto  \n",
              "443                        Sim           Sul        Jovem  \n",
              "592                        Não           Sul       Adulto  \n",
              "836                        Não  Centro-Oeste       Adulto  \n",
              "1142                       Não  Centro-Oeste       Adulto  \n",
              "\n",
              "[5 rows x 35 columns]"
            ]
          },
          "execution_count": 60,
          "metadata": {},
          "output_type": "execute_result"
        }
      ],
      "source": [
        "# cria df para casos positivos\n",
        "entrevistados_testados = df[(df['QUAL_RESULTADO'] == 'Positivo') | (df['QUAL_RESULTADO'] == 'Negativo') | (df['QUAL_RESULTADO'] == 'Inconclusivo') | (df['QUAL_RESULTADO'] == 'Ainda não recebeu o resultado')]\n",
        "df_entrevistados_testados = pd.DataFrame(entrevistados_testados)\n",
        "df_entrevistados_testados.head()\n"
      ]
    },
    {
      "cell_type": "code",
      "execution_count": 62,
      "metadata": {},
      "outputs": [
        {
          "data": {
            "text/html": [
              "<div>\n",
              "<style scoped>\n",
              "    .dataframe tbody tr th:only-of-type {\n",
              "        vertical-align: middle;\n",
              "    }\n",
              "\n",
              "    .dataframe tbody tr th {\n",
              "        vertical-align: top;\n",
              "    }\n",
              "\n",
              "    .dataframe thead th {\n",
              "        text-align: right;\n",
              "    }\n",
              "</style>\n",
              "<table border=\"1\" class=\"dataframe\">\n",
              "  <thead>\n",
              "    <tr style=\"text-align: right;\">\n",
              "      <th></th>\n",
              "      <th>ANOMES</th>\n",
              "      <th>ANO_PESQUISA</th>\n",
              "      <th>MES_PESQUISA</th>\n",
              "      <th>SEMANA_MES</th>\n",
              "      <th>UF</th>\n",
              "      <th>CAPITAL</th>\n",
              "      <th>REGIAO_METROPOLITANA</th>\n",
              "      <th>SITU_DOMICILIO</th>\n",
              "      <th>TIPO_AREA</th>\n",
              "      <th>IDADE_MORADOR</th>\n",
              "      <th>...</th>\n",
              "      <th>SE_TEVE_DIARREIA</th>\n",
              "      <th>FOI_AO_MEDICO</th>\n",
              "      <th>FOI_SEDADO_ENTUBADO</th>\n",
              "      <th>TEM_PLANO_SAUDE</th>\n",
              "      <th>QUAL_RESULTADO</th>\n",
              "      <th>MEDIDA_RESTRICAO</th>\n",
              "      <th>TRABALHO_REMOTO</th>\n",
              "      <th>AUXILIO_EMERGENCIAL_COVID</th>\n",
              "      <th>REGIAO</th>\n",
              "      <th>FAIXA_ETARIA</th>\n",
              "    </tr>\n",
              "  </thead>\n",
              "  <tbody>\n",
              "    <tr>\n",
              "      <th>0</th>\n",
              "      <td>202007</td>\n",
              "      <td>2020</td>\n",
              "      <td>7</td>\n",
              "      <td>3</td>\n",
              "      <td>Santa Catarina</td>\n",
              "      <td>Não Informado</td>\n",
              "      <td>Não Informado</td>\n",
              "      <td>Urbana</td>\n",
              "      <td>Resto da UF  (Unidade da Federação, excluindo ...</td>\n",
              "      <td>33</td>\n",
              "      <td>...</td>\n",
              "      <td>Não</td>\n",
              "      <td>Não aplicável</td>\n",
              "      <td>Não aplicável</td>\n",
              "      <td>Não</td>\n",
              "      <td>Não aplicável</td>\n",
              "      <td>Ignorado</td>\n",
              "      <td>Não aplicável</td>\n",
              "      <td>Não</td>\n",
              "      <td>Sul</td>\n",
              "      <td>Jovem</td>\n",
              "    </tr>\n",
              "    <tr>\n",
              "      <th>1</th>\n",
              "      <td>202007</td>\n",
              "      <td>2020</td>\n",
              "      <td>7</td>\n",
              "      <td>3</td>\n",
              "      <td>Santa Catarina</td>\n",
              "      <td>Não Informado</td>\n",
              "      <td>Não Informado</td>\n",
              "      <td>Urbana</td>\n",
              "      <td>Resto da UF  (Unidade da Federação, excluindo ...</td>\n",
              "      <td>70</td>\n",
              "      <td>...</td>\n",
              "      <td>Ignorado</td>\n",
              "      <td>Não aplicável</td>\n",
              "      <td>Não aplicável</td>\n",
              "      <td>Ignorado</td>\n",
              "      <td>Não aplicável</td>\n",
              "      <td>Ignorado</td>\n",
              "      <td>Não aplicável</td>\n",
              "      <td>Não</td>\n",
              "      <td>Sul</td>\n",
              "      <td>Idoso</td>\n",
              "    </tr>\n",
              "    <tr>\n",
              "      <th>2</th>\n",
              "      <td>202007</td>\n",
              "      <td>2020</td>\n",
              "      <td>7</td>\n",
              "      <td>2</td>\n",
              "      <td>Espírito Santo</td>\n",
              "      <td>Não Informado</td>\n",
              "      <td>Não Informado</td>\n",
              "      <td>Urbana</td>\n",
              "      <td>Resto da UF  (Unidade da Federação, excluindo ...</td>\n",
              "      <td>63</td>\n",
              "      <td>...</td>\n",
              "      <td>Não</td>\n",
              "      <td>Não aplicável</td>\n",
              "      <td>Não aplicável</td>\n",
              "      <td>Ignorado</td>\n",
              "      <td>Não aplicável</td>\n",
              "      <td>Ignorado</td>\n",
              "      <td>Não aplicável</td>\n",
              "      <td>Sim</td>\n",
              "      <td>Sudeste</td>\n",
              "      <td>Idoso</td>\n",
              "    </tr>\n",
              "    <tr>\n",
              "      <th>3</th>\n",
              "      <td>202007</td>\n",
              "      <td>2020</td>\n",
              "      <td>7</td>\n",
              "      <td>3</td>\n",
              "      <td>Minas Gerais</td>\n",
              "      <td>Não Informado</td>\n",
              "      <td>Não Informado</td>\n",
              "      <td>Urbana</td>\n",
              "      <td>Resto da UF  (Unidade da Federação, excluindo ...</td>\n",
              "      <td>82</td>\n",
              "      <td>...</td>\n",
              "      <td>Ignorado</td>\n",
              "      <td>Não aplicável</td>\n",
              "      <td>Não aplicável</td>\n",
              "      <td>Ignorado</td>\n",
              "      <td>Não aplicável</td>\n",
              "      <td>Ignorado</td>\n",
              "      <td>Não aplicável</td>\n",
              "      <td>Não</td>\n",
              "      <td>Sudeste</td>\n",
              "      <td>Idoso</td>\n",
              "    </tr>\n",
              "    <tr>\n",
              "      <th>4</th>\n",
              "      <td>202007</td>\n",
              "      <td>2020</td>\n",
              "      <td>7</td>\n",
              "      <td>4</td>\n",
              "      <td>Ceará</td>\n",
              "      <td>Não Informado</td>\n",
              "      <td>Não Informado</td>\n",
              "      <td>Urbana</td>\n",
              "      <td>Resto da UF  (Unidade da Federação, excluindo ...</td>\n",
              "      <td>12</td>\n",
              "      <td>...</td>\n",
              "      <td>Ignorado</td>\n",
              "      <td>Não aplicável</td>\n",
              "      <td>Não aplicável</td>\n",
              "      <td>Ignorado</td>\n",
              "      <td>Não aplicável</td>\n",
              "      <td>Ignorado</td>\n",
              "      <td>Não aplicável</td>\n",
              "      <td>Sim</td>\n",
              "      <td>Nordeste</td>\n",
              "      <td>Adolescente</td>\n",
              "    </tr>\n",
              "  </tbody>\n",
              "</table>\n",
              "<p>5 rows × 35 columns</p>\n",
              "</div>"
            ],
            "text/plain": [
              "   ANOMES  ANO_PESQUISA  MES_PESQUISA  SEMANA_MES              UF  \\\n",
              "0  202007          2020             7           3  Santa Catarina   \n",
              "1  202007          2020             7           3  Santa Catarina   \n",
              "2  202007          2020             7           2  Espírito Santo   \n",
              "3  202007          2020             7           3    Minas Gerais   \n",
              "4  202007          2020             7           4           Ceará   \n",
              "\n",
              "         CAPITAL REGIAO_METROPOLITANA SITU_DOMICILIO  \\\n",
              "0  Não Informado        Não Informado         Urbana   \n",
              "1  Não Informado        Não Informado         Urbana   \n",
              "2  Não Informado        Não Informado         Urbana   \n",
              "3  Não Informado        Não Informado         Urbana   \n",
              "4  Não Informado        Não Informado         Urbana   \n",
              "\n",
              "                                           TIPO_AREA  IDADE_MORADOR  ...  \\\n",
              "0  Resto da UF  (Unidade da Federação, excluindo ...             33  ...   \n",
              "1  Resto da UF  (Unidade da Federação, excluindo ...             70  ...   \n",
              "2  Resto da UF  (Unidade da Federação, excluindo ...             63  ...   \n",
              "3  Resto da UF  (Unidade da Federação, excluindo ...             82  ...   \n",
              "4  Resto da UF  (Unidade da Federação, excluindo ...             12  ...   \n",
              "\n",
              "  SE_TEVE_DIARREIA  FOI_AO_MEDICO FOI_SEDADO_ENTUBADO TEM_PLANO_SAUDE  \\\n",
              "0             Não   Não aplicável       Não aplicável            Não    \n",
              "1         Ignorado  Não aplicável       Não aplicável        Ignorado   \n",
              "2             Não   Não aplicável       Não aplicável        Ignorado   \n",
              "3         Ignorado  Não aplicável       Não aplicável        Ignorado   \n",
              "4         Ignorado  Não aplicável       Não aplicável        Ignorado   \n",
              "\n",
              "  QUAL_RESULTADO MEDIDA_RESTRICAO TRABALHO_REMOTO AUXILIO_EMERGENCIAL_COVID  \\\n",
              "0  Não aplicável         Ignorado   Não aplicável                       Não   \n",
              "1  Não aplicável         Ignorado   Não aplicável                       Não   \n",
              "2  Não aplicável         Ignorado   Não aplicável                       Sim   \n",
              "3  Não aplicável         Ignorado   Não aplicável                       Não   \n",
              "4  Não aplicável         Ignorado   Não aplicável                       Sim   \n",
              "\n",
              "     REGIAO FAIXA_ETARIA  \n",
              "0       Sul        Jovem  \n",
              "1       Sul        Idoso  \n",
              "2   Sudeste        Idoso  \n",
              "3   Sudeste        Idoso  \n",
              "4  Nordeste  Adolescente  \n",
              "\n",
              "[5 rows x 35 columns]"
            ]
          },
          "execution_count": 62,
          "metadata": {},
          "output_type": "execute_result"
        }
      ],
      "source": [
        "# cria df para todos os outros casos (testados ou não)\n",
        "entrevistados_nao_testados = df[(df['QUAL_RESULTADO'] == 'Não aplicável')]\n",
        "df_entrevistados_nao_testados = pd.DataFrame(entrevistados_nao_testados)\n",
        "df_entrevistados_nao_testados.head()"
      ]
    },
    {
      "cell_type": "code",
      "execution_count": 70,
      "metadata": {},
      "outputs": [
        {
          "data": {
            "image/png": "[encoded data removed]",
            "text/plain": [
              "<Figure size 640x480 with 1 Axes>"
            ]
          },
          "metadata": {},
          "output_type": "display_data"
        }
      ],
      "source": [
        "# calcula o total de casos testados\n",
        "total_testado = df_entrevistados_testados.shape[0]\n",
        "\n",
        "# calcula o total de pessoas não testadas\n",
        "total_nao_testado = df_entrevistados_nao_testados.shape[0]\n",
        "\n",
        "# cria uma lista com os totais\n",
        "totais = [total_testado, total_nao_testado]\n",
        "\n",
        "# cria labels do gráfico\n",
        "labels = ['Testados', 'Não Testados']\n",
        "\n",
        "# cria o gráfico\n",
        "plt.bar(labels, totais, color=['blue', 'red'])\n",
        "\n",
        "# configura o gráfico\n",
        "plt.title('Relação entre pessoas testadas e não testadas') \n",
        "plt.xlabel('Tipo de Caso')\n",
        "plt.ylabel('Total')\n",
        "plt.show()"
      ]
    }
  ],
  "metadata": {
    "colab": {
      "provenance": []
    },
    "kernelspec": {
      "display_name": "Python 3",
      "name": "python3"
    },
    "language_info": {
      "codemirror_mode": {
        "name": "ipython",
        "version": 3
      },
      "file_extension": ".py",
      "mimetype": "text/x-python",
      "name": "python",
      "nbconvert_exporter": "python",
      "pygments_lexer": "ipython3",
      "version": "3.11.1"
    }
  },
  "nbformat": 4,
  "nbformat_minor": 0
}
